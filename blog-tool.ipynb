{
 "cells": [
  {
   "cell_type": "code",
   "execution_count": null,
   "id": "01e2322e",
   "metadata": {
    "input_tokens": 58
   },
   "outputs": [],
   "source": [
    "o = ip.run_cell('''\n",
    "import pandas as pd\n",
    "pd.DataFrame({'A': [1, 2], 'B': [3, 4]})''')\n",
    "o\n",
    "   "
   ]
  },
  {
   "cell_type": "code",
   "execution_count": null,
   "id": "dfda8668",
   "metadata": {
    "input_tokens": 1,
    "output_tokens": 175
   },
   "outputs": [
    {
     "data": {
      "text/markdown": [
       "```json\n",
       "{ 'display_objects': [ <IPython.utils.capture.RichOutput object at 0x7babe3aaa150>],\n",
       "  'exception': None,\n",
       "  'quiet': False,\n",
       "  'result': result: None; err: None; info: <cell: \n",
       "import pandas as pd\n",
       "pd.DataFrame({'A': [1, 2], 'B': [3, 4]}); id: None>,\n",
       "  'stderr': '',\n",
       "  'stdout': ''}\n",
       "```"
      ],
      "text/plain": [
       "{'result': result: None; err: None; info: <cell: \n",
       " import pandas as pd\n",
       " pd.DataFrame({'A': [1, 2], 'B': [3, 4]}); id: None>,\n",
       " 'stdout': '',\n",
       " 'stderr': '',\n",
       " 'display_objects': [<IPython.utils.capture.RichOutput at 0x7babe3aaa150>],\n",
       " 'exception': None,\n",
       " 'quiet': False}"
      ]
     },
     "execution_count": null,
     "metadata": {},
     "output_type": "execute_result"
    }
   ],
   "source": [
    "o"
   ]
  },
  {
   "cell_type": "code",
   "execution_count": null,
   "id": "08e449e3",
   "metadata": {
    "input_tokens": 1,
    "output_tokens": 43
   },
   "outputs": [
    {
     "data": {
      "text/plain": [
       "<execnb.shell.CaptureShell at 0x7babded51b90>"
      ]
     },
     "execution_count": null,
     "metadata": {},
     "output_type": "execute_result"
    }
   ],
   "source": [
    "ip"
   ]
  },
  {
   "cell_type": "code",
   "execution_count": null,
   "id": "e404500d",
   "metadata": {
    "input_tokens": 15,
    "output_tokens": 126
   },
   "outputs": [
    {
     "name": "stdout",
     "output_type": "stream",
     "text": [
      "\u001b[31m---------------------------------------------------------------------------\u001b[39m\n",
      "\u001b[31mAttributeError\u001b[39m                            Traceback (most recent call last)\n",
      "\u001b[36mCell\u001b[39m\u001b[36m \u001b[39m\u001b[32mIn[1]\u001b[39m\u001b[32m, line 1\u001b[39m\n",
      "\u001b[32m----> \u001b[39m\u001b[32m1\u001b[39m cells = \u001b[43mip\u001b[49m\u001b[43m.\u001b[49m\u001b[43mkernel\u001b[49m.shell.user_ns[\u001b[33m'\u001b[39m\u001b[33mIn\u001b[39m\u001b[33m'\u001b[39m]\n",
      "\n",
      "\u001b[31mAttributeError\u001b[39m: 'CaptureShell' object has no attribute 'kernel'\n"
     ]
    },
    {
     "ename": "AttributeError",
     "evalue": "'CaptureShell' object has no attribute 'kernel'",
     "output_type": "error",
     "traceback": [
      "Traceback (most recent call last):\n",
      "  File \"/usr/local/lib/python3.11/site-packages/IPython/core/interactiveshell.py\", line 3667, in run_code\n    exec(code_obj, self.user_global_ns, self.user_ns)\n",
      "  File \"<ipython-input-1-0d2fb1d49382>\", line 1, in <module>\n    cells = ip.kernel.shell.user_ns['In']\n            ^^^^^^^^^\n",
      "AttributeError: 'CaptureShell' object has no attribute 'kernel'\n"
     ]
    }
   ],
   "source": [
    "cells = ip.kernel.shell.user_ns['In']"
   ]
  },
  {
   "cell_type": "code",
   "execution_count": null,
   "id": "c42e2bbd",
   "metadata": {
    "input_tokens": 1,
    "output_tokens": 43
   },
   "outputs": [
    {
     "data": {
      "text/plain": [
       "<execnb.shell.CaptureShell at 0x7babded51b90>"
      ]
     },
     "execution_count": null,
     "metadata": {},
     "output_type": "execute_result"
    }
   ],
   "source": [
    "ip"
   ]
  },
  {
   "cell_type": "code",
   "execution_count": null,
   "id": "fe184d27",
   "metadata": {
    "input_tokens": 6,
    "output_tokens": 163
   },
   "outputs": [
    {
     "data": {
      "text/plain": [
       "['/app/data/.local/lib/python3.11/site-packages/wasabi/tests/test-data/wasabi-test-notebook.ipynb',\n",
       " '/app/data/static/samplenotebook.ipynb',\n",
       " '/app/data/static/Metrics_that_Matters.ipynb',\n",
       " '/app/data/static/collab-filtering-from_scratch.ipynb']"
      ]
     },
     "execution_count": null,
     "metadata": {},
     "output_type": "execute_result"
    }
   ],
   "source": [
    "ipynb_files"
   ]
  },
  {
   "cell_type": "code",
   "execution_count": null,
   "id": "d1a8730f",
   "metadata": {
    "input_tokens": 4,
    "output_tokens": 6078
   },
   "outputs": [
    {
     "data": {
      "text/plain": [
       "['Completer',\n",
       " 'CustomTB',\n",
       " 'InteractiveTB',\n",
       " 'SyntaxTB',\n",
       " '__annotations__',\n",
       " '__class__',\n",
       " '__delattr__',\n",
       " '__dict__',\n",
       " '__dir__',\n",
       " '__doc__',\n",
       " '__eq__',\n",
       " '__format__',\n",
       " '__ge__',\n",
       " '__getattribute__',\n",
       " '__getstate__',\n",
       " '__gt__',\n",
       " '__hash__',\n",
       " '__init__',\n",
       " '__init_subclass__',\n",
       " '__le__',\n",
       " '__lt__',\n",
       " '__module__',\n",
       " '__ne__',\n",
       " '__new__',\n",
       " '__reduce__',\n",
       " '__reduce_ex__',\n",
       " '__repr__',\n",
       " '__setattr__',\n",
       " '__setstate__',\n",
       " '__sizeof__',\n",
       " '__str__',\n",
       " '__subclasshook__',\n",
       " '__weakref__',\n",
       " '_add_notifiers',\n",
       " '_all_trait_default_generators',\n",
       " '_atexit_once',\n",
       " '_call_pdb',\n",
       " '_check_colors',\n",
       " '_clear_warning_registry',\n",
       " '_config_changed',\n",
       " '_cross_validation_lock',\n",
       " '_default_loop_runner',\n",
       " '_defining_class',\n",
       " '_descriptors',\n",
       " '_enable_html_pager_changed',\n",
       " '_exiter_default',\n",
       " '_find_my_config',\n",
       " '_find_parts',\n",
       " '_find_with_lazy_load',\n",
       " '_format_exception_for_storage',\n",
       " '_format_user_obj',\n",
       " '_get_call_pdb',\n",
       " '_get_exc_info',\n",
       " '_get_log_handler',\n",
       " '_get_trait_default_generator',\n",
       " '_getattr_property',\n",
       " '_import_runner',\n",
       " '_inspect',\n",
       " '_instance',\n",
       " '_instance_inits',\n",
       " '_ipython_dir_changed',\n",
       " '_last_input_line',\n",
       " '_load_config',\n",
       " '_log_default',\n",
       " '_main_mod_cache',\n",
       " '_notify_observers',\n",
       " '_notify_trait',\n",
       " '_object_find',\n",
       " '_ofind',\n",
       " '_orig_complete',\n",
       " '_orig_run_cell',\n",
       " '_orig_sys_module_state',\n",
       " '_orig_sys_modules_main_mod',\n",
       " '_orig_sys_modules_main_name',\n",
       " '_post_execute',\n",
       " '_register_validator',\n",
       " '_remove_notifiers',\n",
       " '_run',\n",
       " '_run_cell',\n",
       " '_saved_rcParams',\n",
       " '_set_call_pdb',\n",
       " '_showtraceback',\n",
       " '_sphinxify_docstring_changed',\n",
       " '_static_immutable_initial_values',\n",
       " '_tee',\n",
       " '_trait_default_generators',\n",
       " '_trait_notifiers',\n",
       " '_trait_validators',\n",
       " '_trait_values',\n",
       " '_traits',\n",
       " '_user_ns',\n",
       " '_user_obj_error',\n",
       " '_validate_log',\n",
       " '_walk_mro',\n",
       " 'active_eventloop',\n",
       " 'add_traits',\n",
       " 'alias_manager',\n",
       " 'all_ns_refs',\n",
       " 'ask_yes_no',\n",
       " 'ast_node_interactivity',\n",
       " 'ast_transformers',\n",
       " 'atexit_operations',\n",
       " 'auto_rewrite_input',\n",
       " 'autoawait',\n",
       " 'autocall',\n",
       " 'autoindent',\n",
       " 'automagic',\n",
       " 'banner',\n",
       " 'banner1',\n",
       " 'banner2',\n",
       " 'builtin_trap',\n",
       " 'cache_size',\n",
       " 'call_pdb',\n",
       " 'cell',\n",
       " 'check_complete',\n",
       " 'class_config_rst_doc',\n",
       " 'class_config_section',\n",
       " 'class_get_help',\n",
       " 'class_get_trait_help',\n",
       " 'class_own_trait_events',\n",
       " 'class_own_traits',\n",
       " 'class_print_help',\n",
       " 'class_trait_names',\n",
       " 'class_traits',\n",
       " 'cleanup',\n",
       " 'clear_instance',\n",
       " 'clear_main_mod_cache',\n",
       " 'colors',\n",
       " 'compile',\n",
       " 'compiler_class',\n",
       " 'complete',\n",
       " 'config',\n",
       " 'configurables',\n",
       " 'cross_validation_lock',\n",
       " 'custom_exceptions',\n",
       " 'data_pub',\n",
       " 'data_pub_class',\n",
       " 'db',\n",
       " 'debug',\n",
       " 'debugger',\n",
       " 'debugger_cls',\n",
       " 'default_user_namespaces',\n",
       " 'define_macro',\n",
       " 'del_var',\n",
       " 'dir_stack',\n",
       " 'display_formatter',\n",
       " 'display_page',\n",
       " 'display_pub',\n",
       " 'display_pub_class',\n",
       " 'display_trap',\n",
       " 'displayhook',\n",
       " 'displayhook_class',\n",
       " 'drop_by_id',\n",
       " 'enable_gui',\n",
       " 'enable_html_pager',\n",
       " 'enable_matplotlib',\n",
       " 'enable_pylab',\n",
       " 'enable_tip',\n",
       " 'ev',\n",
       " 'events',\n",
       " 'ex',\n",
       " 'exc',\n",
       " 'excepthook',\n",
       " 'execute',\n",
       " 'execution_count',\n",
       " 'exit_now',\n",
       " 'exiter',\n",
       " 'extension_manager',\n",
       " 'extract_input_lines',\n",
       " 'filename',\n",
       " 'find_cell_magic',\n",
       " 'find_line_magic',\n",
       " 'find_magic',\n",
       " 'find_user_code',\n",
       " 'get_exception_only',\n",
       " 'get_ipython',\n",
       " 'get_local_scope',\n",
       " 'get_path_links',\n",
       " 'getoutput',\n",
       " 'has_trait',\n",
       " 'history_length',\n",
       " 'history_load_length',\n",
       " 'history_manager',\n",
       " 'hold_trait_notifications',\n",
       " 'home_dir',\n",
       " 'hooks',\n",
       " 'indent_current_nsp',\n",
       " 'init_alias',\n",
       " 'init_builtins',\n",
       " 'init_completer',\n",
       " 'init_create_namespaces',\n",
       " 'init_data_pub',\n",
       " 'init_display_formatter',\n",
       " 'init_display_pub',\n",
       " 'init_displayhook',\n",
       " 'init_encoding',\n",
       " 'init_environment',\n",
       " 'init_events',\n",
       " 'init_extension_manager',\n",
       " 'init_history',\n",
       " 'init_hooks',\n",
       " 'init_instance_attrs',\n",
       " 'init_io',\n",
       " 'init_ipython_dir',\n",
       " 'init_logger',\n",
       " 'init_logstart',\n",
       " 'init_magics',\n",
       " 'init_payload',\n",
       " 'init_pdb',\n",
       " 'init_prefilter',\n",
       " 'init_profile_dir',\n",
       " 'init_prompts',\n",
       " 'init_pushd_popd_magic',\n",
       " 'init_syntax_highlighting',\n",
       " 'init_sys_modules',\n",
       " 'init_traceback_handlers',\n",
       " 'init_user_ns',\n",
       " 'init_virtualenv',\n",
       " 'initialized',\n",
       " 'input_transformer_manager',\n",
       " 'input_transformers_cleanup',\n",
       " 'input_transformers_post',\n",
       " 'inspector',\n",
       " 'inspector_class',\n",
       " 'instance',\n",
       " 'ipython_dir',\n",
       " 'last_execution_result',\n",
       " 'last_execution_succeeded',\n",
       " 'log',\n",
       " 'logappend',\n",
       " 'logfile',\n",
       " 'logger',\n",
       " 'logstart',\n",
       " 'loop_runner',\n",
       " 'loop_runner_map',\n",
       " 'magics_manager',\n",
       " 'meta',\n",
       " 'mktempfile',\n",
       " 'more',\n",
       " 'new_main_mod',\n",
       " 'notify_change',\n",
       " 'ns_table',\n",
       " 'object_info_string_level',\n",
       " 'object_inspect',\n",
       " 'object_inspect_mime',\n",
       " 'object_inspect_text',\n",
       " 'observe',\n",
       " 'on_trait_change',\n",
       " 'parent',\n",
       " 'payload_manager',\n",
       " 'pdb',\n",
       " 'prefilter',\n",
       " 'prefilter_manager',\n",
       " 'prepare_user_module',\n",
       " 'prettytb',\n",
       " 'profile',\n",
       " 'profile_dir',\n",
       " 'push',\n",
       " 'pycolorize',\n",
       " 'pylab_gui_select',\n",
       " 'quiet',\n",
       " 'raw_input_original',\n",
       " 'refresh_style',\n",
       " 'register_magic_function',\n",
       " 'register_magics',\n",
       " 'reset',\n",
       " 'reset_selective',\n",
       " 'restore_sys_module_state',\n",
       " 'result',\n",
       " 'run',\n",
       " 'run_all',\n",
       " 'run_ast_nodes',\n",
       " 'run_async',\n",
       " 'run_cell',\n",
       " 'run_cell_async',\n",
       " 'run_cell_magic',\n",
       " 'run_code',\n",
       " 'run_line_magic',\n",
       " 'runcode',\n",
       " 'safe_execfile',\n",
       " 'safe_execfile_ipy',\n",
       " 'safe_run_module',\n",
       " 'save_sys_module_state',\n",
       " 'section_names',\n",
       " 'separate_in',\n",
       " 'separate_out',\n",
       " 'separate_out2',\n",
       " 'set_autoindent',\n",
       " 'set_completer_frame',\n",
       " 'set_custom_completer',\n",
       " 'set_custom_exc',\n",
       " 'set_hook',\n",
       " 'set_next_input',\n",
       " 'set_path',\n",
       " 'set_trait',\n",
       " 'set_trio_runner',\n",
       " 'setup_instance',\n",
       " 'should_run_async',\n",
       " 'show_banner',\n",
       " 'show_rewritten_input',\n",
       " 'show_usage',\n",
       " 'show_usage_error',\n",
       " 'showindentationerror',\n",
       " 'showing_traceback',\n",
       " 'showsyntaxerror',\n",
       " 'showtraceback',\n",
       " 'sphinxify_docstring',\n",
       " 'starting_dir',\n",
       " 'stdin_encoding',\n",
       " 'strdispatchers',\n",
       " 'switch_doctest_mode',\n",
       " 'sys_excepthook',\n",
       " 'system',\n",
       " 'system_piped',\n",
       " 'system_raw',\n",
       " 'tempdirs',\n",
       " 'tempfiles',\n",
       " 'timeout',\n",
       " 'trait_defaults',\n",
       " 'trait_events',\n",
       " 'trait_has_value',\n",
       " 'trait_metadata',\n",
       " 'trait_names',\n",
       " 'trait_values',\n",
       " 'traits',\n",
       " 'transform_ast',\n",
       " 'transform_cell',\n",
       " 'trio_runner',\n",
       " 'unobserve',\n",
       " 'unobserve_all',\n",
       " 'update_config',\n",
       " 'user_expressions',\n",
       " 'user_global_ns',\n",
       " 'user_module',\n",
       " 'user_ns',\n",
       " 'user_ns_hidden',\n",
       " 'var_expand',\n",
       " 'warn_venv',\n",
       " 'wildcards_case_sensitive',\n",
       " 'xmode']"
      ]
     },
     "execution_count": null,
     "metadata": {},
     "output_type": "execute_result"
    }
   ],
   "source": [
    "dir(ip)"
   ]
  },
  {
   "cell_type": "code",
   "execution_count": null,
   "id": "c5c601ee",
   "metadata": {
    "input_tokens": 3,
    "output_tokens": 61
   },
   "outputs": [
    {
     "data": {
      "text/plain": [
       "<bound method CaptureShell.cell of <execnb.shell.CaptureShell object at 0x7babded51b90>>"
      ]
     },
     "execution_count": null,
     "metadata": {},
     "output_type": "execute_result"
    }
   ],
   "source": [
    "ip.cell"
   ]
  },
  {
   "cell_type": "code",
   "execution_count": null,
   "id": "1ea411e7",
   "metadata": {
    "input_tokens": 6,
    "output_tokens": 513
   },
   "outputs": [
    {
     "data": {
      "text/plain": [
       "['__call__',\n",
       " '__class__',\n",
       " '__delattr__',\n",
       " '__dir__',\n",
       " '__doc__',\n",
       " '__eq__',\n",
       " '__format__',\n",
       " '__func__',\n",
       " '__ge__',\n",
       " '__getattribute__',\n",
       " '__getstate__',\n",
       " '__gt__',\n",
       " '__hash__',\n",
       " '__init__',\n",
       " '__init_subclass__',\n",
       " '__le__',\n",
       " '__lt__',\n",
       " '__ne__',\n",
       " '__new__',\n",
       " '__reduce__',\n",
       " '__reduce_ex__',\n",
       " '__repr__',\n",
       " '__self__',\n",
       " '__setattr__',\n",
       " '__sizeof__',\n",
       " '__str__',\n",
       " '__subclasshook__']"
      ]
     },
     "execution_count": null,
     "metadata": {},
     "output_type": "execute_result"
    }
   ],
   "source": [
    "dir(ip.cell)"
   ]
  },
  {
   "cell_type": "code",
   "execution_count": null,
   "id": "add0bf2e",
   "metadata": {
    "input_tokens": 16
   },
   "outputs": [],
   "source": [
    "import nbformat\n",
    "from IPython import get_ipython"
   ]
  },
  {
   "cell_type": "code",
   "execution_count": null,
   "id": "dec44af9",
   "metadata": {
    "input_tokens": 4,
    "output_tokens": 604
   },
   "outputs": [
    {
     "name": "stdout",
     "output_type": "stream",
     "text": [
      "total 4\r\n",
      "drwxr-xr-x 2 solveit solveit   48 May  4 10:46 asciidoc/\r\n",
      "drwxr-xr-x 2 solveit solveit   56 May  4 10:46 basic/\r\n",
      "drwxr-xr-x 2 solveit solveit  174 May  4 10:46 base/\r\n",
      "drwxr-xr-x 3 solveit solveit   98 May  4 10:46 classic/\r\n",
      "drwxr-xr-x 2 solveit solveit   62 May  4 10:46 compatibility/\r\n",
      "drwxr-xr-x 3 solveit solveit  127 May  4 10:46 lab/\r\n",
      "drwxr-xr-x 2 solveit solveit   54 May  4 10:46 python/\r\n",
      "drwxr-xr-x 2 solveit solveit   54 May  4 10:46 markdown/\r\n",
      "drwxr-xr-x 2 solveit solveit 4096 May  4 10:46 latex/\r\n",
      "drwxr-xr-x 2 solveit solveit   55 May  4 10:46 webpdf/\r\n",
      "drwxr-xr-x 2 solveit solveit   52 May  4 10:46 script/\r\n",
      "drwxr-xr-x 2 solveit solveit   55 May  4 10:46 rst/\r\n",
      "drwxr-xr-x 3 solveit solveit  126 May  4 10:46 reveal/\r\n"
     ]
    },
    {
     "name": "stderr",
     "output_type": "stream",
     "text": [
      "/usr/local/lib/python3.11/site-packages/lancedb/__init__.py:220: UserWarning: lance is not fork-safe. If you are using multiprocessing, use spawn instead.\n",
      "  warnings.warn(\n"
     ]
    }
   ],
   "source": [
    "ls -ltr"
   ]
  }
 ],
 "metadata": {
  "solveit_dialog_mode": "concise",
  "solveit_ver": 2
 },
 "nbformat": 4,
 "nbformat_minor": 5
}
