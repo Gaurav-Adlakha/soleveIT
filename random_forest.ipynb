{
 "cells": [
  {
   "cell_type": "code",
   "execution_count": null,
   "id": "6deabd94",
   "metadata": {
    "input_tokens": 4,
    "output_tokens": 1044,
    "time_run": "3:48:22a"
   },
   "outputs": [
    {
     "name": "stdout",
     "output_type": "stream",
     "text": [
      "total 13132\r\n",
      "-rw-r--r-- 1 solveit solveit    34877 Dec 11  2019 titanic.zip\r\n",
      "-rw-r--r-- 1 solveit solveit   698368 Feb 25  2022 us-patent-phrase-to-phrase-matching.zip\r\n",
      "-rw-r--r-- 1 solveit solveit     1034 Dec 19 06:43 Lesson1b.py\r\n",
      "-rw-r--r-- 1 solveit solveit      188 Dec 19 07:07 Lesson2.py\r\n",
      "-rw-r--r-- 1 solveit solveit       45 Dec 26 08:25 lesson5.py\r\n",
      "-rw-r--r-- 1 solveit solveit     3029 Feb 23 08:44 powerbuddy_test.html\r\n",
      "drwxr-xr-x 2 solveit solveit       75 Mar 26 12:21 data/\r\n",
      "drwxr-xr-x 2 solveit solveit       32 Mar 31 06:33 posts/\r\n",
      "-rw-r--r-- 1 solveit solveit   173489 Apr  4 10:23 bird.jpg\r\n",
      "-rw-r--r-- 1 solveit solveit   929362 Apr  4 10:23 forest.jpg\r\n",
      "drwxr-xr-x 2 solveit solveit       10 Apr  7 10:30 models/\r\n",
      "drwxr-xr-x 3 solveit solveit       59 Apr 14 04:34 scikit_learn_data/\r\n",
      "-rw-r--r-- 1 solveit solveit     3258 Apr 15 13:42 gender_submission.csv\r\n",
      "-rw-r--r-- 1 solveit solveit    28629 Apr 15 13:42 test.csv\r\n",
      "-rw-r--r-- 1 solveit solveit    61194 Apr 15 13:42 train.csv\r\n",
      "drwxr-xr-x 2 solveit solveit       84 Apr 21 11:42 us-patent-data/\r\n",
      "drwxr-xr-x 2 solveit solveit       84 Apr 22 07:26 titanic_data/\r\n",
      "-rw-r--r-- 1 solveit solveit     3669 Apr 22 07:37 utils.py\r\n",
      "drwxr-xr-x 2 solveit solveit       43 Apr 26 08:02 __pycache__/\r\n",
      "drwxr-xr-x 7 solveit solveit     4096 Apr 30 13:51 static/\r\n",
      "-rw-r--r-- 1 root    root    11354112 May  2 03:47 data.db\r\n",
      "-rw-r--r-- 1 root    root       32768 May  2 03:48 data.db-shm\r\n",
      "-rw-r--r-- 1 root    root       53592 May  2 03:48 data.db-wal\r\n"
     ]
    },
    {
     "name": "stderr",
     "output_type": "stream",
     "text": [
      "/usr/local/lib/python3.11/site-packages/lancedb/__init__.py:220: UserWarning: lance is not fork-safe. If you are using multiprocessing, use spawn instead.\n",
      "  warnings.warn(\n"
     ]
    }
   ],
   "source": [
    "ls -ltr"
   ]
  },
  {
   "cell_type": "code",
   "execution_count": null,
   "id": "62534cde",
   "metadata": {
    "input_tokens": 9,
    "output_tokens": 363,
    "time_run": "3:49:03a"
   },
   "outputs": [
    {
     "name": "stdout",
     "output_type": "stream",
     "text": [
      "4.0K\tLesson1b.py\r\n",
      "4.0K\tLesson2.py\r\n",
      "8.0K\t__pycache__\r\n",
      "172K\tbird.jpg\r\n",
      "44K\tdata\r\n",
      "11M\tdata.db\r\n",
      "64K\tdata.db-shm\r\n",
      "384K\tdata.db-wal\r\n",
      "908K\tforest.jpg\r\n",
      "4.0K\tgender_submission.csv\r\n",
      "4.0K\tlesson5.py\r\n",
      "0\tmodels\r\n",
      "4.0K\tposts\r\n",
      "4.0K\tpowerbuddy_test.html\r\n",
      "360K\tscikit_learn_data\r\n",
      "58M\tstatic\r\n",
      "28K\ttest.csv\r\n",
      "36K\ttitanic.zip\r\n",
      "92K\ttitanic_data\r\n",
      "60K\ttrain.csv\r\n",
      "2.1M\tus-patent-data\r\n",
      "684K\tus-patent-phrase-to-phrase-matching.zip\r\n",
      "4.0K\tutils.py\r\n"
     ]
    },
    {
     "name": "stderr",
     "output_type": "stream",
     "text": [
      "/usr/local/lib/python3.11/site-packages/lancedb/__init__.py:220: UserWarning: lance is not fork-safe. If you are using multiprocessing, use spawn instead.\n",
      "  warnings.warn(\n"
     ]
    }
   ],
   "source": [
    "!du -sh *  \n"
   ]
  }
 ],
 "metadata": {
  "solveit_dialog_mode": "learning",
  "solveit_ver": 2
 },
 "nbformat": 4,
 "nbformat_minor": 5
}
