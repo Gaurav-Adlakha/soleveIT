{
 "cells": [
  {
   "cell_type": "code",
   "execution_count": null,
   "id": "0f668f9a",
   "metadata": {
    "input_tokens": 1,
    "output_tokens": 19,
    "time_run": "7:41:54a"
   },
   "outputs": [
    {
     "data": {
      "text/plain": [
       "1"
      ]
     },
     "execution_count": 7,
     "metadata": {},
     "output_type": "execute_result"
    }
   ],
   "source": [
    "1"
   ]
  },
  {
   "cell_type": "code",
   "execution_count": null,
   "id": "006ed03a",
   "metadata": {
    "input_tokens": 1,
    "output_tokens": 19,
    "time_run": "7:41:54a"
   },
   "outputs": [
    {
     "data": {
      "text/plain": [
       "2"
      ]
     },
     "execution_count": 8,
     "metadata": {},
     "output_type": "execute_result"
    }
   ],
   "source": [
    "2"
   ]
  },
  {
   "cell_type": "code",
   "execution_count": null,
   "id": "ec86d26d",
   "metadata": {
    "input_tokens": 1,
    "output_tokens": 19,
    "time_run": "7:41:54a"
   },
   "outputs": [
    {
     "data": {
      "text/plain": [
       "3"
      ]
     },
     "execution_count": 9,
     "metadata": {},
     "output_type": "execute_result"
    }
   ],
   "source": [
    "3"
   ]
  },
  {
   "cell_type": "code",
   "execution_count": null,
   "id": "5acde9a4",
   "metadata": {
    "input_tokens": 3,
    "output_tokens": 19,
    "time_run": "7:41:54a"
   },
   "outputs": [
    {
     "data": {
      "text/plain": [
       "4"
      ]
     },
     "execution_count": 10,
     "metadata": {},
     "output_type": "execute_result"
    }
   ],
   "source": [
    "4\n"
   ]
  }
 ],
 "metadata": {
  "solveit_dialog_mode": "learning",
  "solveit_ver": 2
 },
 "nbformat": 4,
 "nbformat_minor": 5
}
