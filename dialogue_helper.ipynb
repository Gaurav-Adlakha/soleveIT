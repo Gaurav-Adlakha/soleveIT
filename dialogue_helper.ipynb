{
 "cells": [
  {
   "cell_type": "markdown",
   "id": "30fe0cd3",
   "metadata": {
    "input_tokens": 4
   },
   "source": [
    "# Hi "
   ]
  },
  {
   "cell_type": "code",
   "execution_count": null,
   "id": "80856463",
   "metadata": {
    "input_tokens": 7
   },
   "outputs": [],
   "source": [
    "from dialoghelper import *"
   ]
  },
  {
   "cell_type": "markdown",
   "id": "51678ee8",
   "metadata": {
    "input_tokens": 21,
    "output_tokens": 180,
    "solveit_ai": true
   },
   "source": [
    "Try using &`add_msg` to add a short note. \n",
    "\n",
    "##### 🤖Reply🤖<!-- SOLVEIT_SEPARATOR_7f3a9b2c -->\n",
    "\n",
    "\n",
    "<details class='tool-usage-details'>\n",
    "\n",
    "- `add_msg({'msg_type': 'note', 'content': 'This is a short note added using the add_msg function!'})`\n",
    "  - `&#x27;_090a91e4&#x27;`\n",
    "\n",
    "</details>\n",
    "\n",
    "I've added a short note using the add_msg function. The function returned a message ID '_090a91e4' which indicates the note was successfully created.\n",
    "\n",
    "Would you like me to try adding a different type of message, or would you like to explore other features of the add_msg function?"
   ]
  },
  {
   "cell_type": "markdown",
   "id": "090a91e4",
   "metadata": {
    "input_tokens": 24
   },
   "source": [
    "This note has been updated using the update_msg tool! 😊😄😃"
   ]
  },
  {
   "cell_type": "markdown",
   "id": "d93e0a7b",
   "metadata": {
    "input_tokens": 24
   },
   "source": [
    "This note has been updated using the update_msg tool! 😊😄😃"
   ]
  },
  {
   "cell_type": "markdown",
   "id": "295ff453",
   "metadata": {
    "input_tokens": 24
   },
   "source": [
    "This note has been updated using the update_msg tool! 😊😄😃"
   ]
  },
  {
   "cell_type": "markdown",
   "id": "03257085",
   "metadata": {
    "input_tokens": 27,
    "output_tokens": 249,
    "solveit_ai": true
   },
   "source": [
    "Try updating the added message with &`update_msg` and & `find_msgs`. \n",
    "\n",
    "##### 🤖Reply🤖<!-- SOLVEIT_SEPARATOR_7f3a9b2c -->\n",
    "\n",
    "\n",
    "<details class='tool-usage-details'>\n",
    "\n",
    "- `update_msg({'msgid': '_090a91e4', 'content': 'This note has been updated using the update_msg tool! 😊'})`\n",
    "  - `&#x27;_090a91e4&#x27;`\n",
    "\n",
    "</details>\n",
    "\n",
    "Perfect! I've successfully updated the message with ID '_090a91e4' using the update_msg function. The note now contains new content with an emoji.\n",
    "\n",
    "I notice you also mentioned `find_msgs`, but I don't see that function available in my current toolset. The available functions I have are `add_msg`, `update_msg`, `read_url`, and `web_search`.\n",
    "\n",
    "Would you like me to try other parameters of the update_msg function, such as changing the message type or other properties?"
   ]
  },
  {
   "cell_type": "markdown",
   "id": "793651d9",
   "metadata": {
    "input_tokens": 48,
    "output_tokens": 252,
    "solveit_ai": true
   },
   "source": [
    "Try updating the added message with &`update_msg` and & `find_msgs`. Please add three smileys so that I know you have done it. \n",
    "\n",
    "\n",
    "##### 🤖Reply🤖<!-- SOLVEIT_SEPARATOR_7f3a9b2c -->\n",
    "\n",
    "\n",
    "<details class='tool-usage-details'>\n",
    "\n",
    "- `update_msg({'msgid': '_090a91e4', 'content': 'This note has been updated using the update_msg tool! 😊😄😃'})`\n",
    "  - `&#x27;_090a91e4&#x27;`\n",
    "\n",
    "</details>\n",
    "\n",
    "I've updated the message with three smileys as requested! The message with ID '_090a91e4' now contains the three emoji: 😊😄😃\n",
    "\n",
    "I should mention that I don't have access to a `find_msgs` function - the available tools I can use are `add_msg`, `update_msg`, `read_url`, and `web_search`. \n",
    "\n",
    "Would you like me to try any other features of the `update_msg` function, or explore the other available tools?"
   ]
  },
  {
   "cell_type": "markdown",
   "id": "46c8a6be",
   "metadata": {
    "input_tokens": 24
   },
   "source": [
    "# mummy - updated using update_msg and find_msg! 😊😄😃"
   ]
  },
  {
   "cell_type": "markdown",
   "id": "9b76ac12",
   "metadata": {
    "input_tokens": 34,
    "solveit_ai": true
   },
   "source": [
    "Try updating the added message with &`update_msg` and & `find_msgs`. for message has mummy in it"
   ]
  },
  {
   "cell_type": "code",
   "execution_count": null,
   "id": "803ea24f",
   "metadata": {
    "input_tokens": 9
   },
   "outputs": [],
   "source": [
    "from dialoghelper.core import *"
   ]
  },
  {
   "cell_type": "code",
   "execution_count": null,
   "id": "def95e8f",
   "metadata": {
    "input_tokens": 6
   },
   "outputs": [],
   "source": [
    "import dialoghelper.core"
   ]
  }
 ],
 "metadata": {
  "solveit_dialog_mode": "learning",
  "solveit_ver": 2
 },
 "nbformat": 4,
 "nbformat_minor": 5
}
