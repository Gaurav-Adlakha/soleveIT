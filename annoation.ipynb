{
 "cells": [
  {
   "cell_type": "markdown",
   "id": "f6659ee7",
   "metadata": {
    "hide_input": true,
    "input_tokens": 1798,
    "pinned": true
   },
   "source": [
    "# Complete Code\n",
    "```\n",
    "import fasthtml.common as ft\n",
    "import monsterui.all as mui\n",
    "import os\n",
    "import json\n",
    "import glob\n",
    "\n",
    "DATASET_DIR = os.path.join(os.path.dirname(__file__), \"golden_dataset\")\n",
    "\n",
    "app, rt = mui.fast_app(hdrs=mui.Theme.blue.headers())\n",
    "\n",
    "def list_traces():\n",
    "    files = [f for f in os.listdir(DATASET_DIR) if f.endswith('.json')]\n",
    "    files.sort()  # Changed to sort in ascending order\n",
    "    items = []\n",
    "    for fname in files:\n",
    "        path = os.path.join(DATASET_DIR, fname)\n",
    "        with open(path) as f:\n",
    "            data = json.load(f)\n",
    "        msg = data[\"request\"][\"messages\"][0][\"content\"]\n",
    "        dt = fname.split('_')[1] + ' ' + fname.split('_')[2]\n",
    "        has_open_coding = bool(data.get(\"open_coding\", \"\"))\n",
    "        has_axial_coding = bool(data.get(\"axial_coding_code\", \"\"))\n",
    "        check_mark = \"✅ \" if has_open_coding else \"\"\n",
    "        check_mark += \"✅ \" if has_axial_coding else \"\"\n",
    "        items.append(\n",
    "            ft.Li(ft.A(f\"{check_mark}{dt}: {msg[:60]}...\", href=annotate.to(fname=fname), cls=mui.AT.classic))\n",
    "        )\n",
    "    return ft.Ul(*items, cls=mui.ListT.bullet)\n",
    "\n",
    "@rt\n",
    "def index():\n",
    "    return mui.Container(\n",
    "        mui.H2(\"Golden Dataset Traces\"),\n",
    "        list_traces()\n",
    "    )\n",
    "\n",
    "def chat_bubble(m):\n",
    "    is_user = m[\"role\"] == \"user\"\n",
    "    if m[\"role\"] == \"system\":\n",
    "        return ft.Details(\n",
    "            ft.Summary(\"System Prompt\"),\n",
    "            ft.Div(\n",
    "                mui.render_md(m[\"content\"]),\n",
    "                cls=\"chat-bubble chat-bubble-secondary\"\n",
    "            ),\n",
    "            cls=\"chat chat-start\"\n",
    "        )\n",
    "    return ft.Div(\n",
    "        ft.Div(\n",
    "            mui.render_md(m[\"content\"]),\n",
    "            cls=f\"chat-bubble {'chat-bubble-primary' if is_user else 'chat-bubble-secondary'}\"\n",
    "        ),\n",
    "        cls=f\"chat {'chat-end' if is_user else 'chat-start'}\"\n",
    "    )\n",
    "\n",
    "def get_unique_open_coding_codes():\n",
    "    codes = set()\n",
    "    for fname in glob.glob(os.path.join(DATASET_DIR, '*.json')):\n",
    "        with open(fname) as f:\n",
    "            data = json.load(f)\n",
    "        note = data.get('open_coding', '')\n",
    "        if note and note.strip().lower() != 'n/a':\n",
    "            # Split on double space or newlines for multiple codes, else treat as one code\n",
    "            for code in note.split('\\n'):\n",
    "                code = code.strip()\n",
    "                if code:\n",
    "                    codes.add(code)\n",
    "    return sorted(codes)\n",
    "\n",
    "def get_unique_axial_coding_codes():\n",
    "    codes = set()\n",
    "    for fname in glob.glob(os.path.join(DATASET_DIR, '*.json')):\n",
    "        with open(fname) as f:\n",
    "            data = json.load(f)\n",
    "        code = data.get('axial_coding_code', '')\n",
    "        if code and code.strip():\n",
    "            codes.add(code.strip())\n",
    "    return sorted(codes)\n",
    "\n",
    "@rt\n",
    "def annotate(fname:str):\n",
    "    path = os.path.join(DATASET_DIR, fname)\n",
    "    with open(path) as f:\n",
    "        data = json.load(f)\n",
    "    chat =  data[\"response\"][\"messages\"]\n",
    "    bubbles = [chat_bubble(m) for m in chat]\n",
    "    notes = data.get(\"open_coding\", \"\")\n",
    "    axial_code = data.get(\"axial_coding_code\", \"\")\n",
    "    axial_code_options = get_unique_axial_coding_codes()\n",
    "    # Get next and previous files\n",
    "    files = [f for f in os.listdir(DATASET_DIR) if f.endswith('.json')]\n",
    "    files.sort()  # Changed to sort in ascending order\n",
    "    current_idx = files.index(fname)\n",
    "    next_file = files[current_idx + 1] if current_idx < len(files) - 1 else files[0]\n",
    "    prev_file = files[current_idx - 1] if current_idx > 0 else files[-1]\n",
    "    return mui.Container(\n",
    "        mui.DivFullySpaced(\n",
    "            ft.A(\"Previous\", href=annotate.to(fname=prev_file), cls=mui.AT.classic),\n",
    "            ft.A(\"Home\", href=index.to(), cls=mui.AT.classic),\n",
    "            ft.A(\"Next\", href=annotate.to(fname=next_file), cls=mui.AT.classic),\n",
    "            cls=\"my-4\"\n",
    "        ),\n",
    "        mui.Grid(\n",
    "            ft.Div(*bubbles),\n",
    "            mui.Form(\n",
    "                mui.Select(\n",
    "                    *[ft.Option(code, value=code) for code in axial_code_options],\n",
    "                    id=\"axial_coding_code\", icon=True, insertable=True, multiple=False,\n",
    "                    value=axial_code, placeholder=\"Select or add axial coding (failure mode)...\"\n",
    "                ),\n",
    "                mui.TextArea(notes, name=\"notes\", value=notes, rows=20),\n",
    "                mui.Button(\"Save\", type=\"submit\"),\n",
    "                action=save_annotation.to(fname=fname), method=\"post\",\n",
    "                cls='w-full flex flex-col gap-2'\n",
    "            ),\n",
    "        ),\n",
    "    )\n",
    "\n",
    "@rt\n",
    "def save_annotation(fname:str, notes:str, axial_coding_code:str=None):\n",
    "    path = os.path.join(DATASET_DIR, fname)\n",
    "    with open(path) as f:\n",
    "        data = json.load(f)\n",
    "    data[\"open_coding\"] = notes\n",
    "    if axial_coding_code is not None:\n",
    "        data[\"axial_coding_code\"] = axial_coding_code\n",
    "    with open(path, \"w\") as f:\n",
    "        json.dump(data, f)\n",
    "    return ft.Redirect(annotate.to(fname=fname))\n",
    "\n",
    "@rt\n",
    "def theme():\n",
    "    return mui.ThemePicker()\n",
    "\n",
    "ft.serve()"
   ]
  },
  {
   "cell_type": "markdown",
   "id": "c19b2d52",
   "metadata": {
    "input_tokens": 4
   },
   "source": [
    "# Imports\n"
   ]
  },
  {
   "cell_type": "code",
   "execution_count": null,
   "id": "ff9c5d14",
   "metadata": {
    "input_tokens": 73
   },
   "outputs": [],
   "source": [
    "import fasthtml.common as ft, json\n",
    "import monsterui.all as mui\n",
    "from fastcore.all import *\n",
    "from fasthtml.common import *\n",
    "from monsterui.all import *\n",
    "\n",
    "from fasthtml.jupyter import render_ft\n",
    "render_ft()"
   ]
  },
  {
   "cell_type": "markdown",
   "id": "759983ec",
   "metadata": {
    "input_tokens": 9
   },
   "source": [
    "# make some dummy data\n"
   ]
  },
  {
   "cell_type": "code",
   "execution_count": null,
   "id": "9f421566",
   "metadata": {
    "input_tokens": 25
   },
   "outputs": [],
   "source": [
    "dataset_dir = Path(\"Golden_Data_Set\")\n",
    "dataset_dir.mkdir(exist_ok=True)"
   ]
  },
  {
   "cell_type": "code",
   "execution_count": null,
   "id": "64c49411",
   "metadata": {
    "input_tokens": 333
   },
   "outputs": [],
   "source": [
    "trace_example = {\n",
    "    \"request\": {\"messages\": [{\"role\": \"user\", \"content\": \"Hey! Need help with a pasta dish for tonight's potluck dinner - something that takes about an hour to make and NO seafood please (allergies in the group). Any ideas?\"}]},\n",
    "    \"response\": {\"messages\": [\n",
    "        {\"role\": \"system\", \"content\": \"You are an expert chef recommending delicious and useful recipes. Present only one recipe at a time. If the user doesn't specify what ingredients they have available, assume only basic ingredients are available.\"},\n",
    "        {\"role\": \"user\", \"content\": \"Hey! Need help with a pasta dish for tonight's potluck dinner - something that takes about an hour to make and NO seafood please (allergies in the group). Any ideas?\"},\n",
    "        {\"role\": \"assistant\", \"content\": \"Absolutely! I recommend making a creamy mushroom and spinach tortellini bake – flavorful, comforting, and perfect for sharing at a potluck. It should take about an hour from start to finish.\"}\n",
    "    ]}\n",
    "}"
   ]
  },
  {
   "cell_type": "code",
   "execution_count": null,
   "id": "c68c39e2",
   "metadata": {
    "input_tokens": 60
   },
   "outputs": [],
   "source": [
    "for i in range(3): (dataset_dir / f\"trace_{20241201}_{120000 + i*1000}.json\").write_text(json.dumps(trace_example, indent=2))"
   ]
  },
  {
   "cell_type": "code",
   "execution_count": null,
   "id": "26af1184",
   "metadata": {
    "input_tokens": 3,
    "output_tokens": 37
   },
   "outputs": [
    {
     "data": {
      "text/plain": [
       "Path('Golden_Data_Set')"
      ]
     },
     "execution_count": 41,
     "metadata": {},
     "output_type": "execute_result"
    }
   ],
   "source": [
    "dataset_dir"
   ]
  },
  {
   "cell_type": "code",
   "execution_count": null,
   "id": "01074d6c",
   "metadata": {
    "input_tokens": 7,
    "output_tokens": 132
   },
   "outputs": [
    {
     "data": {
      "text/plain": [
       "(#3) [Path('Golden_Data_Set/trace_20241201_120000.json'),Path('Golden_Data_Set/trace_20241201_121000.json'),Path('Golden_Data_Set/trace_20241201_122000.json')]"
      ]
     },
     "execution_count": 47,
     "metadata": {},
     "output_type": "execute_result"
    }
   ],
   "source": [
    "dataset_dir.ls()"
   ]
  },
  {
   "cell_type": "code",
   "execution_count": null,
   "id": "f1c6767d",
   "metadata": {
    "input_tokens": 18,
    "output_tokens": 132
   },
   "outputs": [
    {
     "data": {
      "text/plain": [
       "(#3) [Path('Golden_Data_Set/trace_20241201_120000.json'),Path('Golden_Data_Set/trace_20241201_121000.json'),Path('Golden_Data_Set/trace_20241201_122000.json')]"
      ]
     },
     "execution_count": 36,
     "metadata": {},
     "output_type": "execute_result"
    }
   ],
   "source": [
    "files = L(dataset_dir.glob(\"*.json\"))\n",
    "files\n"
   ]
  },
  {
   "cell_type": "markdown",
   "id": "fe388f49",
   "metadata": {
    "input_tokens": 9
   },
   "source": [
    "# list the dummy data\n",
    "\n"
   ]
  },
  {
   "cell_type": "code",
   "execution_count": null,
   "id": "2f227689",
   "metadata": {
    "input_tokens": 102,
    "output_tokens": 286
   },
   "outputs": [
    {
     "data": {
      "text/markdown": [
       "<div>\n",
       "  <ul>\n",
       "    <li>\n",
       "<a href=\"/annotate/trace_20241201_120000.json\">trace_20241201_120000: Hey! Need help with a pasta dish for tonight&#x27;s potluck dinne...</a>    </li>\n",
       "    <li>\n",
       "<a href=\"/annotate/trace_20241201_121000.json\">trace_20241201_121000: Hey! Need help with a pasta dish for tonight&#x27;s potluck dinne...</a>    </li>\n",
       "    <li>\n",
       "<a href=\"/annotate/trace_20241201_122000.json\">trace_20241201_122000: Hey! Need help with a pasta dish for tonight&#x27;s potluck dinne...</a>    </li>\n",
       "  </ul>\n",
       "<script>if (window.htmx) htmx.process(document.body)</script></div>\n"
      ],
      "text/plain": [
       "ul((li((a((\"trace_20241201_120000: Hey! Need help with a pasta dish for tonight's potluck dinne...\",),{'href': '/annotate/trace_20241201_120000.json'}),),{}), li((a((\"trace_20241201_121000: Hey! Need help with a pasta dish for tonight's potluck dinne...\",),{'href': '/annotate/trace_20241201_121000.json'}),),{}), li((a((\"trace_20241201_122000: Hey! Need help with a pasta dish for tonight's potluck dinne...\",),{'href': '/annotate/trace_20241201_122000.json'}),),{})),{})"
      ]
     },
     "execution_count": 39,
     "metadata": {},
     "output_type": "execute_result"
    }
   ],
   "source": [
    "def list_traces():\n",
    "    files = L(dataset_dir.glob(\"*.json\")).sorted()\n",
    "    return Ul(*[Li(A(f\"{f.stem}: {dict2obj(f.read_json()).request.messages[0].content[:60]}...\", href=f\"/annotate/{f.name}\")) for f in files])\n",
    "list_traces()\n"
   ]
  },
  {
   "cell_type": "code",
   "execution_count": null,
   "id": "6346acf9",
   "metadata": {
    "input_tokens": 18,
    "output_tokens": 87
   },
   "outputs": [
    {
     "data": {
      "text/markdown": [
       "<div>\n",
       "<details class=\"border border-secondary rounded-lg \"><summary class=\"font-medium  p-3 hover:bg-secondary cursor-pointer \">Click to expand</summary>Hidden content</details><script>if (window.htmx) htmx.process(document.body)</script></div>\n"
      ],
      "text/plain": [
       "details((summary(('Click to expand',),{'class': 'font-medium  p-3 hover:bg-secondary cursor-pointer '}), 'Hidden content'),{'class': 'border border-secondary rounded-lg '})"
      ]
     },
     "execution_count": 42,
     "metadata": {},
     "output_type": "execute_result"
    }
   ],
   "source": [
    "Details(Summary(\"Click to expand\"), (\"Hidden content\"))"
   ]
  },
  {
   "cell_type": "code",
   "execution_count": null,
   "id": "050288d0",
   "metadata": {
    "input_tokens": 19,
    "output_tokens": 43
   },
   "outputs": [
    {
     "data": {
      "text/html": [
       "<p class=\"text-lg leading-relaxed mb-6\"><strong>Bold text</strong> and <em>italic</em></p>\n"
      ],
      "text/plain": [
       "<IPython.core.display.HTML object>"
      ]
     },
     "metadata": {},
     "output_type": "display_data"
    }
   ],
   "source": [
    "show(render_md(\"**Bold text** and *italic*\"))"
   ]
  },
  {
   "cell_type": "markdown",
   "id": "fd0dc2ba",
   "metadata": {
    "input_tokens": 7
   },
   "source": [
    "# Apply HTML styling\n"
   ]
  },
  {
   "cell_type": "code",
   "execution_count": null,
   "id": "5d528f94",
   "metadata": {
    "input_tokens": 195,
    "output_tokens": 177
   },
   "outputs": [
    {
     "data": {
      "text/html": [
       "<style>\n",
       ".chat-bubble { padding: 12px 16px; border-radius: 18px; margin: 4px 0; max-width: 70%; display: inline-block;}\n",
       ".chat-bubble-primary { background-color: #007bff; color: white; }\n",
       ".chat-bubble-secondary { background-color: #f1f3f4; color: black; }\n",
       ".chat { display: flex; margin: 8px 0; }\n",
       ".chat-start { justify-content: flex-start; }\n",
       ".chat-end { justify-content: flex-end; }\n",
       "</style>"
      ],
      "text/plain": [
       "<IPython.core.display.HTML object>"
      ]
     },
     "execution_count": 46,
     "metadata": {},
     "output_type": "execute_result"
    }
   ],
   "source": [
    "from IPython.display import HTML\n",
    "HTML(\"\"\"<style>\n",
    ".chat-bubble { padding: 12px 16px; border-radius: 18px; margin: 4px 0; max-width: 70%; display: inline-block;}\n",
    ".chat-bubble-primary { background-color: #007bff; color: white; }\n",
    ".chat-bubble-secondary { background-color: #f1f3f4; color: black; }\n",
    ".chat { display: flex; margin: 8px 0; }\n",
    ".chat-start { justify-content: flex-start; }\n",
    ".chat-end { justify-content: flex-end; }\n",
    "</style>\"\"\")"
   ]
  },
  {
   "cell_type": "markdown",
   "id": "1c656274",
   "metadata": {
    "input_tokens": 6
   },
   "source": [
    "# Final form\n"
   ]
  },
  {
   "cell_type": "code",
   "execution_count": null,
   "id": "317b4ade",
   "metadata": {
    "input_tokens": 64,
    "output_tokens": 102
   },
   "outputs": [
    {
     "data": {
      "text/markdown": [
       "<div>\n",
       "  <div class=\"flex justify-between items-center my-4\">\n",
       "<a href=\"/prev\">← Previous</a><a href=\"/\">🏠 Home</a><a href=\"/next\">Next →</a>  </div>\n",
       "<script>if (window.htmx) htmx.process(document.body)</script></div>\n"
      ],
      "text/plain": [
       "div((a(('← Previous',),{'href': '/prev'}), a(('🏠 Home',),{'href': '/'}), a(('Next →',),{'href': '/next'})),{'class': 'flex justify-between items-center my-4'})"
      ]
     },
     "execution_count": 38,
     "metadata": {},
     "output_type": "execute_result"
    }
   ],
   "source": [
    "DivFullySpaced(\n",
    "    A(\"← Previous\", href=\"/prev\"),\n",
    "    A(\"🏠 Home\", href=\"/\"),\n",
    "    A(\"Next →\", href=\"/next\"),\n",
    "    cls=\"my-4\"\n",
    ")\n",
    "\n"
   ]
  },
  {
   "cell_type": "markdown",
   "id": "ef3c7b9a",
   "metadata": {
    "input_tokens": 4
   },
   "source": [
    "# Chat\n"
   ]
  },
  {
   "cell_type": "code",
   "execution_count": null,
   "id": "3ab2da1c",
   "metadata": {
    "input_tokens": 34,
    "output_tokens": 78
   },
   "outputs": [
    {
     "data": {
      "text/markdown": [
       "<div>\n",
       "  <div class=\"chat chat-end\">\n",
       "    <div class=\"chat-bubble chat-bubble-primary\">User message</div>\n",
       "  </div>\n",
       "<script>if (window.htmx) htmx.process(document.body)</script></div>\n"
      ],
      "text/plain": [
       "div((div(('User message',),{'class': 'chat-bubble chat-bubble-primary'}),),{'class': 'chat chat-end'})"
      ]
     },
     "execution_count": 37,
     "metadata": {},
     "output_type": "execute_result"
    }
   ],
   "source": [
    "Div(Div(\"User message\", cls=\"chat-bubble chat-bubble-primary\"), cls=\"chat chat-end\")"
   ]
  },
  {
   "cell_type": "code",
   "execution_count": null,
   "id": "ae91b205",
   "metadata": {
    "input_tokens": 36,
    "output_tokens": 79
   },
   "outputs": [
    {
     "data": {
      "text/markdown": [
       "<div>\n",
       "  <div class=\"chat chat-start\">\n",
       "    <div class=\"chat-bubble chat-bubble-primary\">Assistant  message</div>\n",
       "  </div>\n",
       "<script>if (window.htmx) htmx.process(document.body)</script></div>\n"
      ],
      "text/plain": [
       "div((div(('Assistant  message',),{'class': 'chat-bubble chat-bubble-primary'}),),{'class': 'chat chat-start'})"
      ]
     },
     "execution_count": 43,
     "metadata": {},
     "output_type": "execute_result"
    }
   ],
   "source": [
    "Div(Div(\"Assistant  message\", cls=\"chat-bubble chat-bubble-primary\"), cls=\"chat chat-start\")"
   ]
  },
  {
   "cell_type": "code",
   "execution_count": null,
   "id": "40d2b766",
   "metadata": {
    "input_tokens": 216,
    "output_tokens": 457
   },
   "outputs": [
    {
     "data": {
      "text/markdown": [
       "<div>\n",
       "  <div class=\"uk-container mt-5 uk-container-xl\">\n",
       "<details class=\"border border-secondary rounded-lg chat chat-start\"><summary class=\"font-medium  p-3 hover:bg-secondary cursor-pointer \">System Prompt</summary>      <div class=\"chat-bubble chat-bubble-secondary\"><p class=\"text-lg leading-relaxed mb-6\">You are an expert chef recommending delicious and useful recipes. Present only one recipe at a time. If the user doesn't specify what ingredients they have available, assume only basic ingredients are available.</p>\n",
       "</div>\n",
       "</details>    <div class=\"chat chat-end\">\n",
       "      <div class=\"chat-bubble chat-bubble-primary\"><p class=\"text-lg leading-relaxed mb-6\">Hey! Need help with a pasta dish for tonight's potluck dinner - something that takes about an hour to make and NO seafood please (allergies in the group). Any ideas?</p>\n",
       "</div>\n",
       "    </div>\n",
       "    <div class=\"chat chat-start\">\n",
       "      <div class=\"chat-bubble chat-bubble-secondary\"><p class=\"text-lg leading-relaxed mb-6\">Absolutely! I recommend making a creamy mushroom and spinach tortellini bake – flavorful, comforting, and perfect for sharing at a potluck. It should take about an hour from start to finish.</p>\n",
       "</div>\n",
       "    </div>\n",
       "  </div>\n",
       "<script>if (window.htmx) htmx.process(document.body)</script></div>\n"
      ],
      "text/plain": [
       "div((details((summary(('System Prompt',),{'class': 'font-medium  p-3 hover:bg-secondary cursor-pointer '}), div(('<p class=\"text-lg leading-relaxed mb-6\">You are an expert chef recommending delicious and useful recipes. Present only one recipe at a time. If the user doesn\\'t specify what ingredients they have available, assume only basic ingredients are available.</p>\\n',),{'class': 'chat-bubble chat-bubble-secondary'})),{'class': 'border border-secondary rounded-lg chat chat-start'}), div((div(('<p class=\"text-lg leading-relaxed mb-6\">Hey! Need help with a pasta dish for tonight\\'s potluck dinner - something that takes about an hour to make and NO seafood please (allergies in the group). Any ideas?</p>\\n',),{'class': 'chat-bubble chat-bubble-primary'}),),{'class': 'chat chat-end'}), div((div(('<p class=\"text-lg leading-relaxed mb-6\">Absolutely! I recommend making a creamy mushroom and spinach tortellini bake – flavorful, comforting, and perfect for sharing at a potluck. It should take about an hour from start to finish.</p>\\n',),{'class': 'chat-bubble chat-bubble-secondary'}),),{'class': 'chat chat-start'})),{'class': 'uk-container mt-5 uk-container-xl'})"
      ]
     },
     "execution_count": 45,
     "metadata": {},
     "output_type": "execute_result"
    }
   ],
   "source": [
    "def chat_bubble(m):\n",
    "    is_user = m[\"role\"] == \"user\"\n",
    "    if m[\"role\"] == \"system\":\n",
    "        return Details(\n",
    "            Summary(\"System Prompt\"),\n",
    "            Div(render_md(m[\"content\"]), cls=\"chat-bubble chat-bubble-secondary\"),\n",
    "            cls=\"chat chat-start\"\n",
    "        )\n",
    "    return Div(\n",
    "        Div(render_md(m[\"content\"]), cls=f\"chat-bubble {'chat-bubble-primary' if is_user else 'chat-bubble-secondary'}\"),\n",
    "        cls=f\"chat {'chat-end' if is_user else 'chat-start'}\"\n",
    "    )\n",
    "data = dict2obj(trace_example)\n",
    "bubbles = data.response.messages.map(chat_bubble)\n",
    "Container(*bubbles)\n"
   ]
  },
  {
   "cell_type": "markdown",
   "id": "0d1f446a",
   "metadata": {
    "input_tokens": 6
   },
   "source": [
    "# drop down\n"
   ]
  },
  {
   "cell_type": "code",
   "execution_count": null,
   "id": "4fe6a6b0",
   "metadata": {
    "input_tokens": 51,
    "output_tokens": 157
   },
   "outputs": [
    {
     "data": {
      "text/markdown": [
       "<div>\n",
       "  <div class=\"h-10\">\n",
       "<uk-select cls-custom=\"button: uk-input-fake dropdown: w-full\" placeholder=\"Select option...\" hx-trigger=\" delay:100ms\" hx-include=\"this\"><select hidden><option value=\"bug\">bug</option><option value=\"feature\">feature</option><option value=\"error\">error</option></select></uk-select>  </div>\n",
       "<script>if (window.htmx) htmx.process(document.body)</script></div>\n"
      ],
      "text/plain": [
       "div((uk-select((select((option(('bug',),{'value': 'bug'}), option(('feature',),{'value': 'feature'}), option(('error',),{'value': 'error'})),{'hidden': True}),),{'cls-custom': 'button: uk-input-fake dropdown: w-full', 'searchable': False, 'placeholder': 'Select option...', 'insertable': False, 'name': '', 'hx-trigger': ' delay:100ms', 'hx-include': 'this', 'id': '', 'class': ''}),),{'class': 'h-10'})"
      ]
     },
     "execution_count": 48,
     "metadata": {},
     "output_type": "execute_result"
    }
   ],
   "source": [
    "sample_codes = ['bug', 'feature', 'error']\n",
    "Select(*[Option(code, value=code) for code in sample_codes], placeholder=\"Select option...\")"
   ]
  },
  {
   "cell_type": "markdown",
   "id": "6efebb4e",
   "metadata": {
    "input_tokens": 4
   },
   "source": [
    "# Form\n"
   ]
  },
  {
   "cell_type": "code",
   "execution_count": null,
   "id": "efb4c66e",
   "metadata": {
    "input_tokens": 73,
    "output_tokens": 235
   },
   "outputs": [
    {
     "data": {
      "text/markdown": [
       "<div>\n",
       "<form enctype=\"multipart/form-data\" class=\"space-y-3\">    <div class=\"h-10\">\n",
       "<uk-select cls-custom=\"button: uk-input-fake dropdown: w-full\" placeholder=\"Select issue type...\" hx-trigger=\" delay:100ms\" hx-include=\"this\"><select hidden><option value=\"bug\">bug</option><option value=\"feature\">feature</option><option value=\"error\">error</option></select></uk-select>    </div>\n",
       "<textarea rows=\"5\" class=\"uk-textarea \">Sample annotation</textarea><button type=\"submit\" class=\"uk-btn uk-btn-default\">💾 Save</button></form><script>if (window.htmx) htmx.process(document.body)</script></div>\n"
      ],
      "text/plain": [
       "form((div((uk-select((select((option(('bug',),{'value': 'bug'}), option(('feature',),{'value': 'feature'}), option(('error',),{'value': 'error'})),{'hidden': True}),),{'cls-custom': 'button: uk-input-fake dropdown: w-full', 'searchable': False, 'placeholder': 'Select issue type...', 'insertable': False, 'name': '', 'hx-trigger': ' delay:100ms', 'hx-include': 'this', 'id': '', 'class': ''}),),{'class': 'h-10'}), textarea(('Sample annotation',),{'rows': 5, 'class': 'uk-textarea '}), button(('💾 Save',),{'type': 'submit', 'class': 'uk-btn uk-btn-default'})),{'enctype': 'multipart/form-data', 'class': 'space-y-3'})"
      ]
     },
     "execution_count": 49,
     "metadata": {},
     "output_type": "execute_result"
    }
   ],
   "source": [
    "Form(\n",
    "    Select(*[Option(code, value=code) for code in sample_codes], placeholder=\"Select issue type...\"),\n",
    "    TextArea(\"Sample annotation\", rows=5),\n",
    "    Button(\"💾 Save\", type=\"submit\")\n",
    ")"
   ]
  },
  {
   "cell_type": "code",
   "execution_count": null,
   "id": "376b5a3c",
   "metadata": {
    "input_tokens": 252,
    "output_tokens": 499
   },
   "outputs": [
    {
     "data": {
      "text/markdown": [
       "<div>\n",
       "  <div class=\"uk-container mt-5 uk-container-xl\">\n",
       "    <div class=\"flex justify-between items-center my-4\">\n",
       "<a href=\"/prev\">← Previous</a><a href=\"/\">🏠 Home</a><a href=\"/next\">Next →</a>    </div>\n",
       "    <div class=\"grid grid-cols-1 sm:grid-cols-1 md:grid-cols-2 lg:grid-cols-2 xl:grid-cols-2 gap-4\">\n",
       "      <div>\n",
       "        <div class=\"chat chat-end\">\n",
       "          <div class=\"chat-bubble chat-bubble-primary\">User: Hello!</div>\n",
       "        </div>\n",
       "        <div class=\"chat chat-start\">\n",
       "          <div class=\"chat-bubble chat-bubble-secondary\">Assistant: Hi there!</div>\n",
       "        </div>\n",
       "      </div>\n",
       "<form enctype=\"multipart/form-data\" class=\"space-y-3\">        <div class=\"h-10\">\n",
       "<uk-select cls-custom=\"button: uk-input-fake dropdown: w-full\" placeholder=\"Select issue type...\" hx-trigger=\" delay:100ms\" hx-include=\"this\"><select hidden><option value=\"bug\">bug</option><option value=\"feature\">feature</option><option value=\"error\">error</option></select></uk-select>        </div>\n",
       "<textarea rows=\"5\" class=\"uk-textarea \">Sample annotation</textarea><button type=\"submit\" class=\"uk-btn uk-btn-default\">💾 Save</button></form>    </div>\n",
       "  </div>\n",
       "<script>if (window.htmx) htmx.process(document.body)</script></div>\n"
      ],
      "text/plain": [
       "div((div((a(('← Previous',),{'href': '/prev'}), a(('🏠 Home',),{'href': '/'}), a(('Next →',),{'href': '/next'})),{'class': 'flex justify-between items-center my-4'}), div((div((div((div(('User: Hello!',),{'class': 'chat-bubble chat-bubble-primary'}),),{'class': 'chat chat-end'}), div((div(('Assistant: Hi there!',),{'class': 'chat-bubble chat-bubble-secondary'}),),{'class': 'chat chat-start'})),{}), form((div((uk-select((select((option(('bug',),{'value': 'bug'}), option(('feature',),{'value': 'feature'}), option(('error',),{'value': 'error'})),{'hidden': True}),),{'cls-custom': 'button: uk-input-fake dropdown: w-full', 'searchable': False, 'placeholder': 'Select issue type...', 'insertable': False, 'name': '', 'hx-trigger': ' delay:100ms', 'hx-include': 'this', 'id': '', 'class': ''}),),{'class': 'h-10'}), textarea(('Sample annotation',),{'rows': 5, 'class': 'uk-textarea '}), button(('💾 Save',),{'type': 'submit', 'class': 'uk-btn uk-btn-default'})),{'enctype': 'multipart/form-data', 'class': 'space-y-3'})),{'class': 'grid grid-cols-1 sm:grid-cols-1 md:grid-cols-2 lg:grid-cols-2 xl:grid-cols-2 gap-4'})),{'class': 'uk-container mt-5 uk-container-xl'})"
      ]
     },
     "execution_count": 50,
     "metadata": {},
     "output_type": "execute_result"
    }
   ],
   "source": [
    "sample_bubbles = [\n",
    "    Div(Div(\"User: Hello!\", cls=\"chat-bubble chat-bubble-primary\"), cls=\"chat chat-end\"),\n",
    "    Div(Div(\"Assistant: Hi there!\", cls=\"chat-bubble chat-bubble-secondary\"), cls=\"chat chat-start\")\n",
    "]\n",
    "\n",
    "Container(\n",
    "    DivFullySpaced(\n",
    "        A(\"← Previous\", href=\"/prev\"),\n",
    "        A(\"🏠 Home\", href=\"/\"),\n",
    "        A(\"Next →\", href=\"/next\"),\n",
    "        cls=\"my-4\"\n",
    "    ),\n",
    "    Grid(\n",
    "        Div(*sample_bubbles),\n",
    "        Form(\n",
    "            Select(*[Option(code, value=code) for code in sample_codes], placeholder=\"Select issue type...\"),\n",
    "            TextArea(\"Sample annotation\", rows=5),\n",
    "            Button(\"💾 Save\", type=\"submit\")\n",
    "        )\n",
    "    )\n",
    ")"
   ]
  },
  {
   "cell_type": "code",
   "execution_count": null,
   "id": "9d8c7407",
   "metadata": {
    "input_tokens": 165,
    "output_tokens": 61
   },
   "outputs": [
    {
     "name": "stdout",
     "output_type": "stream",
     "text": [
      "Current: 0, Next: trace_20241201_121000.json, Prev: trace_20241201_122000.json\n"
     ]
    }
   ],
   "source": [
    "files = L(globtastic(dataset_dir, file_glob='*.json')).map(lambda x: Path(x).name).sorted()\n",
    "current_idx = files.index('trace_20241201_120000.json')\n",
    "next_file = files[current_idx + 1] if current_idx < len(files) - 1 else files[0]\n",
    "prev_file = files[current_idx - 1] if current_idx > 0 else files[-1]\n",
    "print(f\"Current: {current_idx}, Next: {next_file}, Prev: {prev_file}\")"
   ]
  },
  {
   "cell_type": "code",
   "execution_count": null,
   "id": "9a4b247e",
   "metadata": {
    "input_tokens": 109,
    "output_tokens": 19
   },
   "outputs": [
    {
     "data": {
      "text/plain": [
       "[]"
      ]
     },
     "execution_count": 51,
     "metadata": {},
     "output_type": "execute_result"
    }
   ],
   "source": [
    "def get_unique_codes():\n",
    "    codes = set()\n",
    "    for f in dataset_dir.glob('*.json'):\n",
    "        data = f.read_json()\n",
    "        if 'axial_coding_code' in data and data['axial_coding_code'].strip():\n",
    "            codes.add(data['axial_coding_code'].strip())\n",
    "    return sorted(codes)\n",
    "\n",
    "get_unique_codes()"
   ]
  },
  {
   "cell_type": "code",
   "execution_count": null,
   "id": "03005cfb",
   "metadata": {
    "input_tokens": 151,
    "output_tokens": 46
   },
   "outputs": [
    {
     "data": {
      "text/plain": [
       "'Saved annotations for trace_20241201_120000.json'"
      ]
     },
     "execution_count": 54,
     "metadata": {},
     "output_type": "execute_result"
    }
   ],
   "source": [
    "def save_annotation(fname, notes, axial_coding_code=None):\n",
    "    path = dataset_dir / fname\n",
    "    data = path.read_json()\n",
    "    data[\"open_coding\"] = notes\n",
    "    if axial_coding_code: data[\"axial_coding_code\"] = axial_coding_code\n",
    "    path.write_text(json.dumps(data, indent=2))\n",
    "    return f\"Saved annotations for {fname}\"\n",
    "\n",
    "save_annotation('trace_20241201_120000.json', 'Test annotation', 'bug')"
   ]
  },
  {
   "cell_type": "code",
   "execution_count": null,
   "id": "4c509a70",
   "metadata": {
    "input_tokens": 195,
    "output_tokens": 768
   },
   "outputs": [
    {
     "data": {
      "text/markdown": [
       "<div>\n",
       "  <div class=\"uk-container mt-5 uk-container-xl\">\n",
       "    <div class=\"flex justify-between items-center w-full\">\n",
       "<a href=\"/prev\">← Previous</a><a href=\"/\">🏠 Home</a><a href=\"/next\">Next →</a>    </div>\n",
       "    <div class=\"grid grid-cols-1 sm:grid-cols-1 md:grid-cols-2 lg:grid-cols-2 xl:grid-cols-2 gap-4\">\n",
       "      <div>\n",
       "<details class=\"border border-secondary rounded-lg chat chat-start\"><summary class=\"font-medium  p-3 hover:bg-secondary cursor-pointer \">System Prompt</summary>          <div class=\"chat-bubble chat-bubble-secondary\"><p class=\"text-lg leading-relaxed mb-6\">You are an expert chef recommending delicious and useful recipes. Present only one recipe at a time. If the user doesn't specify what ingredients they have available, assume only basic ingredients are available.</p>\n",
       "</div>\n",
       "</details>        <div class=\"chat chat-end\">\n",
       "          <div class=\"chat-bubble chat-bubble-primary\"><p class=\"text-lg leading-relaxed mb-6\">Hey! Need help with a pasta dish for tonight's potluck dinner - something that takes about an hour to make and NO seafood please (allergies in the group). Any ideas?</p>\n",
       "</div>\n",
       "        </div>\n",
       "        <div class=\"chat chat-start\">\n",
       "          <div class=\"chat-bubble chat-bubble-secondary\"><p class=\"text-lg leading-relaxed mb-6\">Absolutely! I recommend making a creamy mushroom and spinach tortellini bake – flavorful, comforting, and perfect for sharing at a potluck. It should take about an hour from start to finish.</p>\n",
       "</div>\n",
       "        </div>\n",
       "      </div>\n",
       "<form enctype=\"multipart/form-data\" class=\"space-y-3\">        <div class=\"h-10\">\n",
       "<uk-select cls-custom=\"button: uk-input-fake dropdown: w-full\" placeholder=\"Select code...\" hx-trigger=\" delay:100ms\" hx-include=\"this\"><select hidden><option value=\"bug\">bug</option></select></uk-select>        </div>\n",
       "<textarea rows=\"10\" class=\"uk-textarea \"></textarea><button type=\"submit\" class=\"uk-btn uk-btn-default\">💾 Save</button></form>    </div>\n",
       "  </div>\n",
       "<script>if (window.htmx) htmx.process(document.body)</script></div>\n"
      ],
      "text/plain": [
       "div((div((a(('← Previous',),{'href': '/prev'}), a(('🏠 Home',),{'href': '/'}), a(('Next →',),{'href': '/next'})),{'class': 'flex justify-between items-center w-full'}), div((div((details((summary(('System Prompt',),{'class': 'font-medium  p-3 hover:bg-secondary cursor-pointer '}), div(('<p class=\"text-lg leading-relaxed mb-6\">You are an expert chef recommending delicious and useful recipes. Present only one recipe at a time. If the user doesn\\'t specify what ingredients they have available, assume only basic ingredients are available.</p>\\n',),{'class': 'chat-bubble chat-bubble-secondary'})),{'class': 'border border-secondary rounded-lg chat chat-start'}), div((div(('<p class=\"text-lg leading-relaxed mb-6\">Hey! Need help with a pasta dish for tonight\\'s potluck dinner - something that takes about an hour to make and NO seafood please (allergies in the group). Any ideas?</p>\\n',),{'class': 'chat-bubble chat-bubble-primary'}),),{'class': 'chat chat-end'}), div((div(('<p class=\"text-lg leading-relaxed mb-6\">Absolutely! I recommend making a creamy mushroom and spinach tortellini bake – flavorful, comforting, and perfect for sharing at a potluck. It should take about an hour from start to finish.</p>\\n',),{'class': 'chat-bubble chat-bubble-secondary'}),),{'class': 'chat chat-start'})),{}), form((div((uk-select((select((option(('bug',),{'value': 'bug'}),),{'hidden': True}),),{'cls-custom': 'button: uk-input-fake dropdown: w-full', 'searchable': False, 'placeholder': 'Select code...', 'insertable': False, 'name': '', 'hx-trigger': ' delay:100ms', 'hx-include': 'this', 'id': '', 'class': ''}),),{'class': 'h-10'}), textarea(('',),{'rows': 10, 'class': 'uk-textarea '}), button(('💾 Save',),{'type': 'submit', 'class': 'uk-btn uk-btn-default'})),{'enctype': 'multipart/form-data', 'class': 'space-y-3'})),{'class': 'grid grid-cols-1 sm:grid-cols-1 md:grid-cols-2 lg:grid-cols-2 xl:grid-cols-2 gap-4'})),{'class': 'uk-container mt-5 uk-container-xl'})"
      ]
     },
     "execution_count": 59,
     "metadata": {},
     "output_type": "execute_result"
    }
   ],
   "source": [
    "def create_annotation_page(fname):\n",
    "    data = (dataset_dir / fname).read_json()\n",
    "    bubbles = L(data['response']['messages']).map(chat_bubble)\n",
    "    return Container(\n",
    "        DivFullySpaced(A(\"← Previous\", href=\"/prev\"), A(\"🏠 Home\", href=\"/\"), A(\"Next →\", href=\"/next\")),\n",
    "        Grid(Div(*bubbles), Form(Select(*[Option(c, value=c) for c in get_unique_codes()], placeholder=\"Select code...\"), TextArea(\"\", rows=10), Button(\"💾 Save\")))\n",
    "    )\n",
    "\n",
    "create_annotation_page('trace_20241201_120000.json')"
   ]
  },
  {
   "cell_type": "code",
   "execution_count": null,
   "id": "da58517a",
   "metadata": {
    "input_tokens": 108,
    "output_tokens": 22
   },
   "outputs": [
    {
     "data": {
      "text/plain": [
       "(True, True)"
      ]
     },
     "execution_count": 58,
     "metadata": {},
     "output_type": "execute_result"
    }
   ],
   "source": [
    "def has_annotations(fname):\n",
    "    data = (dataset_dir / fname).read_json()\n",
    "    has_open = bool(data.get(\"open_coding\", \"\").strip())\n",
    "    has_axial = bool(data.get(\"axial_coding_code\", \"\").strip())\n",
    "    return has_open, has_axial\n",
    "\n",
    "has_annotations('trace_20241201_120000.json')"
   ]
  },
  {
   "cell_type": "code",
   "execution_count": null,
   "id": "39c5e658",
   "metadata": {
    "input_tokens": 190,
    "output_tokens": 289
   },
   "outputs": [
    {
     "data": {
      "text/markdown": [
       "<div>\n",
       "  <ul>\n",
       "    <li>\n",
       "<a href=\"/annotate/trace_20241201_120000.json\">✅ ✅ trace_20241201_120000: Hey! Need help with a pasta dish for tonight&#x27;s potluck dinne...</a>    </li>\n",
       "    <li>\n",
       "<a href=\"/annotate/trace_20241201_121000.json\">trace_20241201_121000: Hey! Need help with a pasta dish for tonight&#x27;s potluck dinne...</a>    </li>\n",
       "    <li>\n",
       "<a href=\"/annotate/trace_20241201_122000.json\">trace_20241201_122000: Hey! Need help with a pasta dish for tonight&#x27;s potluck dinne...</a>    </li>\n",
       "  </ul>\n",
       "<script>if (window.htmx) htmx.process(document.body)</script></div>\n"
      ],
      "text/plain": [
       "ul((li((a((\"✅ ✅ trace_20241201_120000: Hey! Need help with a pasta dish for tonight's potluck dinne...\",),{'href': '/annotate/trace_20241201_120000.json'}),),{}), li((a((\"trace_20241201_121000: Hey! Need help with a pasta dish for tonight's potluck dinne...\",),{'href': '/annotate/trace_20241201_121000.json'}),),{}), li((a((\"trace_20241201_122000: Hey! Need help with a pasta dish for tonight's potluck dinne...\",),{'href': '/annotate/trace_20241201_122000.json'}),),{})),{})"
      ]
     },
     "execution_count": 57,
     "metadata": {},
     "output_type": "execute_result"
    }
   ],
   "source": [
    "def enhanced_list_traces():\n",
    "    files = L(dataset_dir.glob(\"*.json\")).sorted()\n",
    "    items = []\n",
    "    for f in files:\n",
    "        data = f.read_json()\n",
    "        msg = data[\"request\"][\"messages\"][0][\"content\"]\n",
    "        has_open, has_axial = has_annotations(f.name)\n",
    "        check_mark = (\"✅ \" if has_open else \"\") + (\"✅ \" if has_axial else \"\")\n",
    "        items.append(Li(A(f\"{check_mark}{f.stem}: {msg[:60]}...\", href=f\"/annotate/{f.name}\")))\n",
    "    return Ul(*items)\n",
    "\n",
    "enhanced_list_traces()"
   ]
  },
  {
   "cell_type": "code",
   "execution_count": null,
   "id": "e3795000",
   "metadata": {
    "input_tokens": 253,
    "output_tokens": 748
   },
   "outputs": [
    {
     "data": {
      "text/markdown": [
       "<div>\n",
       "  <div class=\"uk-container mt-5 uk-container-xl\">\n",
       "    <div class=\"flex justify-between items-center w-full\">\n",
       "<a href=\"#\">← Previous</a><a href=\"#\">🏠 Home</a><a href=\"#\">Next →</a>    </div>\n",
       "    <div class=\"grid grid-cols-1 sm:grid-cols-1 md:grid-cols-2 lg:grid-cols-2 xl:grid-cols-2 gap-4\">\n",
       "      <div>\n",
       "<details class=\"border border-secondary rounded-lg chat chat-start\"><summary class=\"font-medium  p-3 hover:bg-secondary cursor-pointer \">System Prompt</summary>          <div class=\"chat-bubble chat-bubble-secondary\"><p class=\"text-lg leading-relaxed mb-6\">You are an expert chef recommending delicious and useful recipes. Present only one recipe at a time. If the user doesn't specify what ingredients they have available, assume only basic ingredients are available.</p>\n",
       "</div>\n",
       "</details>        <div class=\"chat chat-end\">\n",
       "          <div class=\"chat-bubble chat-bubble-primary\"><p class=\"text-lg leading-relaxed mb-6\">Hey! Need help with a pasta dish for tonight's potluck dinner - something that takes about an hour to make and NO seafood please (allergies in the group). Any ideas?</p>\n",
       "</div>\n",
       "        </div>\n",
       "        <div class=\"chat chat-start\">\n",
       "          <div class=\"chat-bubble chat-bubble-secondary\"><p class=\"text-lg leading-relaxed mb-6\">Absolutely! I recommend making a creamy mushroom and spinach tortellini bake – flavorful, comforting, and perfect for sharing at a potluck. It should take about an hour from start to finish.</p>\n",
       "</div>\n",
       "        </div>\n",
       "      </div>\n",
       "<form enctype=\"multipart/form-data\" class=\"space-y-3\">        <div class=\"h-10\">\n",
       "<uk-select cls-custom=\"button: uk-input-fake dropdown: w-full\" placeholder=\"Select code...\" hx-trigger=\" delay:100ms\" hx-include=\"this\"><select hidden></select></uk-select>        </div>\n",
       "<textarea rows=\"10\" class=\"uk-textarea \"></textarea><button type=\"submit\" class=\"uk-btn uk-btn-default\">💾 Save</button></form>    </div>\n",
       "  </div>\n",
       "<script>if (window.htmx) htmx.process(document.body)</script></div>\n"
      ],
      "text/plain": [
       "div((div((a(('← Previous',),{'href': '#'}), a(('🏠 Home',),{'href': '#'}), a(('Next →',),{'href': '#'})),{'class': 'flex justify-between items-center w-full'}), div((div((details((summary(('System Prompt',),{'class': 'font-medium  p-3 hover:bg-secondary cursor-pointer '}), div(('<p class=\"text-lg leading-relaxed mb-6\">You are an expert chef recommending delicious and useful recipes. Present only one recipe at a time. If the user doesn\\'t specify what ingredients they have available, assume only basic ingredients are available.</p>\\n',),{'class': 'chat-bubble chat-bubble-secondary'})),{'class': 'border border-secondary rounded-lg chat chat-start'}), div((div(('<p class=\"text-lg leading-relaxed mb-6\">Hey! Need help with a pasta dish for tonight\\'s potluck dinner - something that takes about an hour to make and NO seafood please (allergies in the group). Any ideas?</p>\\n',),{'class': 'chat-bubble chat-bubble-primary'}),),{'class': 'chat chat-end'}), div((div(('<p class=\"text-lg leading-relaxed mb-6\">Absolutely! I recommend making a creamy mushroom and spinach tortellini bake – flavorful, comforting, and perfect for sharing at a potluck. It should take about an hour from start to finish.</p>\\n',),{'class': 'chat-bubble chat-bubble-secondary'}),),{'class': 'chat chat-start'})),{}), form((div((uk-select((select((),{'hidden': True}),),{'cls-custom': 'button: uk-input-fake dropdown: w-full', 'searchable': False, 'placeholder': 'Select code...', 'insertable': False, 'name': '', 'hx-trigger': ' delay:100ms', 'hx-include': 'this', 'id': '', 'class': ''}),),{'class': 'h-10'}), textarea(('',),{'rows': 10, 'class': 'uk-textarea '}), button(('💾 Save',),{'type': 'submit', 'class': 'uk-btn uk-btn-default'})),{'enctype': 'multipart/form-data', 'class': 'space-y-3'})),{'class': 'grid grid-cols-1 sm:grid-cols-1 md:grid-cols-2 lg:grid-cols-2 xl:grid-cols-2 gap-4'})),{'class': 'uk-container mt-5 uk-container-xl'})"
      ]
     },
     "execution_count": 52,
     "metadata": {},
     "output_type": "execute_result"
    }
   ],
   "source": [
    "def create_full_annotation_page(fname):\n",
    "    data = (dataset_dir / fname).read_json()\n",
    "    bubbles = L(data['response']['messages']).map(chat_bubble)\n",
    "    existing_notes = data.get(\"open_coding\", \"\")\n",
    "    existing_code = data.get(\"axial_coding_code\", \"\")\n",
    "    codes = get_unique_codes()\n",
    "    return Container(\n",
    "        DivFullySpaced(A(\"← Previous\"), A(\"🏠 Home\"), A(\"Next →\")),\n",
    "        Grid(\n",
    "            Div(*bubbles),\n",
    "            Form(\n",
    "                Select(*[Option(c, value=c, selected=c==existing_code) for c in codes], placeholder=\"Select code...\"),\n",
    "                TextArea(existing_notes, rows=10),\n",
    "                Button(\"💾 Save\")\n",
    "            )\n",
    "        )\n",
    "    )\n",
    "\n",
    "create_full_annotation_page('trace_20241201_120000.json')"
   ]
  }
 ],
 "metadata": {
  "solveit_dialog_mode": "concise",
  "solveit_ver": 2
 },
 "nbformat": 4,
 "nbformat_minor": 5
}
