{
 "cells": [
  {
   "cell_type": "code",
   "execution_count": null,
   "id": "a6252ec4",
   "metadata": {
    "input_tokens": 43
   },
   "outputs": [],
   "source": [
    "\n",
    "from fastai.collab import *\n",
    "from fastai.tabular.all import *\n",
    "path = untar_data(URLs.ML_100k)"
   ]
  },
  {
   "cell_type": "code",
   "execution_count": null,
   "id": "c9e362af",
   "metadata": {
    "input_tokens": 28
   },
   "outputs": [],
   "source": [
    "class T(Module):\n",
    "    def __init__(self): self.x = torch.ones(3)"
   ]
  },
  {
   "cell_type": "code",
   "execution_count": null,
   "id": "4db09958",
   "metadata": {
    "input_tokens": 7,
    "output_tokens": 21
   },
   "outputs": [
    {
     "data": {
      "text/plain": [
       "(#0) []"
      ]
     },
     "execution_count": null,
     "metadata": {},
     "output_type": "execute_result"
    }
   ],
   "source": [
    "L(T().parameters())"
   ]
  },
  {
   "cell_type": "code",
   "execution_count": null,
   "id": "d67a8023",
   "metadata": {
    "input_tokens": 31
   },
   "outputs": [],
   "source": [
    "class T(Module):\n",
    "    def __init__(self): self.x = nn.Parameter(torch.ones(3))"
   ]
  },
  {
   "cell_type": "code",
   "execution_count": null,
   "id": "54a6070f",
   "metadata": {
    "input_tokens": 7,
    "output_tokens": 48
   },
   "outputs": [
    {
     "data": {
      "text/plain": [
       "(#1) [Parameter containing:\n",
       "tensor([1., 1., 1.], requires_grad=True)]"
      ]
     },
     "execution_count": null,
     "metadata": {},
     "output_type": "execute_result"
    }
   ],
   "source": [
    "L(T().parameters())"
   ]
  },
  {
   "cell_type": "code",
   "execution_count": null,
   "id": "3fa72d1c",
   "metadata": {
    "input_tokens": 36
   },
   "outputs": [],
   "source": [
    "class T(Module):\n",
    "    def __init__(self): self.x = nn.Linear(1,3,bias=False)"
   ]
  },
  {
   "cell_type": "code",
   "execution_count": null,
   "id": "c13629fd",
   "metadata": {
    "input_tokens": 7,
    "output_tokens": 66
   },
   "outputs": [
    {
     "data": {
      "text/plain": [
       "(#1) [Parameter containing:\n",
       "tensor([[-0.8660],\n",
       "        [-0.4537],\n",
       "        [ 0.8831]], requires_grad=True)]"
      ]
     },
     "execution_count": null,
     "metadata": {},
     "output_type": "execute_result"
    }
   ],
   "source": [
    "L(T().parameters())"
   ]
  },
  {
   "cell_type": "code",
   "execution_count": null,
   "id": "b6bfee68",
   "metadata": {
    "input_tokens": 6
   },
   "outputs": [],
   "source": [
    "t =T()"
   ]
  },
  {
   "cell_type": "code",
   "execution_count": null,
   "id": "da6cbd65",
   "metadata": {
    "input_tokens": 4,
    "output_tokens": 58
   },
   "outputs": [
    {
     "data": {
      "text/plain": [
       "Parameter containing:\n",
       "tensor([[-0.7270],\n",
       "        [ 0.4527],\n",
       "        [-0.7421]], requires_grad=True)"
      ]
     },
     "execution_count": null,
     "metadata": {},
     "output_type": "execute_result"
    }
   ],
   "source": [
    "t.x.weight"
   ]
  },
  {
   "cell_type": "code",
   "execution_count": null,
   "id": "4d5e926d",
   "metadata": {
    "input_tokens": 15
   },
   "outputs": [],
   "source": [
    "emb = nn.Embedding(100,20)"
   ]
  },
  {
   "cell_type": "code",
   "execution_count": null,
   "id": "c03a888c",
   "metadata": {
    "input_tokens": 7,
    "output_tokens": 226
   },
   "outputs": [
    {
     "data": {
      "text/plain": [
       "tensor([-1.1954,  0.9443,  0.3535,  0.8715,  1.0091, -1.8764,  1.4262, -0.3604,\n",
       "        -0.0248, -1.0068,  0.0698, -2.1337, -0.9069, -0.7962,  2.2426, -0.9588,\n",
       "        -1.5924, -0.6236, -1.2655,  0.7000], grad_fn=<SelectBackward0>)"
      ]
     },
     "execution_count": null,
     "metadata": {},
     "output_type": "execute_result"
    }
   ],
   "source": [
    "emb.weight[10]"
   ]
  },
  {
   "cell_type": "code",
   "execution_count": null,
   "id": "e1f8cc7a",
   "metadata": {
    "input_tokens": 13,
    "output_tokens": 907
   },
   "outputs": [
    {
     "data": {
      "text/plain": [
       "tensor([[-3.4270e-01,  6.5162e-01,  1.0454e+00, -1.1925e+00,  4.5353e-02,\n",
       "          1.9328e-01,  9.1166e-01,  1.2053e+00, -1.5770e-01,  5.4330e-01,\n",
       "          1.1138e+00, -2.8420e-01,  2.2472e+00, -4.3706e-01,  1.0094e+00,\n",
       "         -3.0744e+00,  2.8832e-02,  6.7263e-01,  3.4886e-01, -7.1864e-01],\n",
       "        [-1.5175e-01,  9.4877e-01,  5.1240e-01, -1.0960e+00,  3.2397e-01,\n",
       "          6.4362e-04, -1.2044e+00,  1.3355e+00,  1.1899e+00,  1.8298e-01,\n",
       "          1.0810e-01, -1.1111e+00, -6.3136e-01, -3.9756e-02, -4.6154e-01,\n",
       "          6.4018e-01, -5.2047e-01,  8.9511e-02,  2.5918e-01, -5.5907e-01],\n",
       "        [-4.3536e-01,  1.0073e+00, -2.8394e-01,  5.2880e-02,  1.9095e+00,\n",
       "          5.9261e-01,  2.2083e-01, -8.1232e-01,  1.7705e-01,  2.1331e-01,\n",
       "          2.2464e+00,  1.7635e+00,  1.1908e+00,  6.9740e-01,  6.1847e-02,\n",
       "          6.4433e-01,  8.0468e-01, -1.9007e-01,  3.5147e-01, -7.9033e-01]],\n",
       "       grad_fn=<IndexBackward0>)"
      ]
     },
     "execution_count": null,
     "metadata": {},
     "output_type": "execute_result"
    }
   ],
   "source": [
    "emb.weight[[1,2,33]]"
   ]
  },
  {
   "cell_type": "code",
   "execution_count": null,
   "id": "e3889c64",
   "metadata": {
    "input_tokens": 144,
    "output_tokens": 1282
   },
   "outputs": [
    {
     "data": {
      "text/html": [
       "<div>\n",
       "<style scoped>\n",
       "    .dataframe tbody tr th:only-of-type {\n",
       "        vertical-align: middle;\n",
       "    }\n",
       "\n",
       "    .dataframe tbody tr th {\n",
       "        vertical-align: top;\n",
       "    }\n",
       "\n",
       "    .dataframe thead th {\n",
       "        text-align: right;\n",
       "    }\n",
       "</style>\n",
       "<table border=\"1\" class=\"dataframe\">\n",
       "  <thead>\n",
       "    <tr style=\"text-align: right;\">\n",
       "      <th></th>\n",
       "      <th>user</th>\n",
       "      <th>movie</th>\n",
       "      <th>rating</th>\n",
       "      <th>timestamp</th>\n",
       "      <th>title</th>\n",
       "    </tr>\n",
       "  </thead>\n",
       "  <tbody>\n",
       "    <tr>\n",
       "      <th>0</th>\n",
       "      <td>196</td>\n",
       "      <td>242</td>\n",
       "      <td>3</td>\n",
       "      <td>881250949</td>\n",
       "      <td>Kolya (1996)</td>\n",
       "    </tr>\n",
       "    <tr>\n",
       "      <th>1</th>\n",
       "      <td>186</td>\n",
       "      <td>302</td>\n",
       "      <td>3</td>\n",
       "      <td>891717742</td>\n",
       "      <td>L.A. Confidential (1997)</td>\n",
       "    </tr>\n",
       "    <tr>\n",
       "      <th>2</th>\n",
       "      <td>22</td>\n",
       "      <td>377</td>\n",
       "      <td>1</td>\n",
       "      <td>878887116</td>\n",
       "      <td>Heavyweights (1994)</td>\n",
       "    </tr>\n",
       "    <tr>\n",
       "      <th>3</th>\n",
       "      <td>244</td>\n",
       "      <td>51</td>\n",
       "      <td>2</td>\n",
       "      <td>880606923</td>\n",
       "      <td>Legends of the Fall (1994)</td>\n",
       "    </tr>\n",
       "    <tr>\n",
       "      <th>4</th>\n",
       "      <td>166</td>\n",
       "      <td>346</td>\n",
       "      <td>1</td>\n",
       "      <td>886397596</td>\n",
       "      <td>Jackie Brown (1997)</td>\n",
       "    </tr>\n",
       "    <tr>\n",
       "      <th>...</th>\n",
       "      <td>...</td>\n",
       "      <td>...</td>\n",
       "      <td>...</td>\n",
       "      <td>...</td>\n",
       "      <td>...</td>\n",
       "    </tr>\n",
       "    <tr>\n",
       "      <th>99995</th>\n",
       "      <td>880</td>\n",
       "      <td>476</td>\n",
       "      <td>3</td>\n",
       "      <td>880175444</td>\n",
       "      <td>First Wives Club, The (1996)</td>\n",
       "    </tr>\n",
       "    <tr>\n",
       "      <th>99996</th>\n",
       "      <td>716</td>\n",
       "      <td>204</td>\n",
       "      <td>5</td>\n",
       "      <td>879795543</td>\n",
       "      <td>Back to the Future (1985)</td>\n",
       "    </tr>\n",
       "    <tr>\n",
       "      <th>99997</th>\n",
       "      <td>276</td>\n",
       "      <td>1090</td>\n",
       "      <td>1</td>\n",
       "      <td>874795795</td>\n",
       "      <td>Sliver (1993)</td>\n",
       "    </tr>\n",
       "    <tr>\n",
       "      <th>99998</th>\n",
       "      <td>13</td>\n",
       "      <td>225</td>\n",
       "      <td>2</td>\n",
       "      <td>882399156</td>\n",
       "      <td>101 Dalmatians (1996)</td>\n",
       "    </tr>\n",
       "    <tr>\n",
       "      <th>99999</th>\n",
       "      <td>12</td>\n",
       "      <td>203</td>\n",
       "      <td>3</td>\n",
       "      <td>879959583</td>\n",
       "      <td>Unforgiven (1992)</td>\n",
       "    </tr>\n",
       "  </tbody>\n",
       "</table>\n",
       "<p>100000 rows × 5 columns</p>\n",
       "</div>"
      ],
      "text/plain": [
       "       user  movie  rating  timestamp                         title\n",
       "0       196    242       3  881250949                  Kolya (1996)\n",
       "1       186    302       3  891717742      L.A. Confidential (1997)\n",
       "2        22    377       1  878887116           Heavyweights (1994)\n",
       "3       244     51       2  880606923    Legends of the Fall (1994)\n",
       "4       166    346       1  886397596           Jackie Brown (1997)\n",
       "...     ...    ...     ...        ...                           ...\n",
       "99995   880    476       3  880175444  First Wives Club, The (1996)\n",
       "99996   716    204       5  879795543     Back to the Future (1985)\n",
       "99997   276   1090       1  874795795                 Sliver (1993)\n",
       "99998    13    225       2  882399156         101 Dalmatians (1996)\n",
       "99999    12    203       3  879959583             Unforgiven (1992)\n",
       "\n",
       "[100000 rows x 5 columns]"
      ]
     },
     "execution_count": null,
     "metadata": {},
     "output_type": "execute_result"
    }
   ],
   "source": [
    "path = untar_data(URLs.ML_100k)\n",
    "path.ls()\n",
    "\n",
    "ratings = pd.read_csv(path/'u.data', delimiter='\\t', header=None,\n",
    "                  names=['user','movie','rating','timestamp'])\n",
    "ratings.head()\n",
    "\n",
    "movies = pd.read_csv(path/'u.item', delimiter='|', header=None, encoding='latin1', \n",
    "                    usecols=[0,1], names=['movie','title'])\n",
    "movies.head()\n",
    "\n",
    "ratings= ratings.merge(movies)\n",
    "ratings"
   ]
  },
  {
   "cell_type": "code",
   "execution_count": null,
   "id": "f8cee508",
   "metadata": {
    "input_tokens": 1,
    "output_tokens": 1282
   },
   "outputs": [
    {
     "data": {
      "text/html": [
       "<div>\n",
       "<style scoped>\n",
       "    .dataframe tbody tr th:only-of-type {\n",
       "        vertical-align: middle;\n",
       "    }\n",
       "\n",
       "    .dataframe tbody tr th {\n",
       "        vertical-align: top;\n",
       "    }\n",
       "\n",
       "    .dataframe thead th {\n",
       "        text-align: right;\n",
       "    }\n",
       "</style>\n",
       "<table border=\"1\" class=\"dataframe\">\n",
       "  <thead>\n",
       "    <tr style=\"text-align: right;\">\n",
       "      <th></th>\n",
       "      <th>user</th>\n",
       "      <th>movie</th>\n",
       "      <th>rating</th>\n",
       "      <th>timestamp</th>\n",
       "      <th>title</th>\n",
       "    </tr>\n",
       "  </thead>\n",
       "  <tbody>\n",
       "    <tr>\n",
       "      <th>0</th>\n",
       "      <td>196</td>\n",
       "      <td>242</td>\n",
       "      <td>3</td>\n",
       "      <td>881250949</td>\n",
       "      <td>Kolya (1996)</td>\n",
       "    </tr>\n",
       "    <tr>\n",
       "      <th>1</th>\n",
       "      <td>186</td>\n",
       "      <td>302</td>\n",
       "      <td>3</td>\n",
       "      <td>891717742</td>\n",
       "      <td>L.A. Confidential (1997)</td>\n",
       "    </tr>\n",
       "    <tr>\n",
       "      <th>2</th>\n",
       "      <td>22</td>\n",
       "      <td>377</td>\n",
       "      <td>1</td>\n",
       "      <td>878887116</td>\n",
       "      <td>Heavyweights (1994)</td>\n",
       "    </tr>\n",
       "    <tr>\n",
       "      <th>3</th>\n",
       "      <td>244</td>\n",
       "      <td>51</td>\n",
       "      <td>2</td>\n",
       "      <td>880606923</td>\n",
       "      <td>Legends of the Fall (1994)</td>\n",
       "    </tr>\n",
       "    <tr>\n",
       "      <th>4</th>\n",
       "      <td>166</td>\n",
       "      <td>346</td>\n",
       "      <td>1</td>\n",
       "      <td>886397596</td>\n",
       "      <td>Jackie Brown (1997)</td>\n",
       "    </tr>\n",
       "    <tr>\n",
       "      <th>...</th>\n",
       "      <td>...</td>\n",
       "      <td>...</td>\n",
       "      <td>...</td>\n",
       "      <td>...</td>\n",
       "      <td>...</td>\n",
       "    </tr>\n",
       "    <tr>\n",
       "      <th>99995</th>\n",
       "      <td>880</td>\n",
       "      <td>476</td>\n",
       "      <td>3</td>\n",
       "      <td>880175444</td>\n",
       "      <td>First Wives Club, The (1996)</td>\n",
       "    </tr>\n",
       "    <tr>\n",
       "      <th>99996</th>\n",
       "      <td>716</td>\n",
       "      <td>204</td>\n",
       "      <td>5</td>\n",
       "      <td>879795543</td>\n",
       "      <td>Back to the Future (1985)</td>\n",
       "    </tr>\n",
       "    <tr>\n",
       "      <th>99997</th>\n",
       "      <td>276</td>\n",
       "      <td>1090</td>\n",
       "      <td>1</td>\n",
       "      <td>874795795</td>\n",
       "      <td>Sliver (1993)</td>\n",
       "    </tr>\n",
       "    <tr>\n",
       "      <th>99998</th>\n",
       "      <td>13</td>\n",
       "      <td>225</td>\n",
       "      <td>2</td>\n",
       "      <td>882399156</td>\n",
       "      <td>101 Dalmatians (1996)</td>\n",
       "    </tr>\n",
       "    <tr>\n",
       "      <th>99999</th>\n",
       "      <td>12</td>\n",
       "      <td>203</td>\n",
       "      <td>3</td>\n",
       "      <td>879959583</td>\n",
       "      <td>Unforgiven (1992)</td>\n",
       "    </tr>\n",
       "  </tbody>\n",
       "</table>\n",
       "<p>100000 rows × 5 columns</p>\n",
       "</div>"
      ],
      "text/plain": [
       "       user  movie  rating  timestamp                         title\n",
       "0       196    242       3  881250949                  Kolya (1996)\n",
       "1       186    302       3  891717742      L.A. Confidential (1997)\n",
       "2        22    377       1  878887116           Heavyweights (1994)\n",
       "3       244     51       2  880606923    Legends of the Fall (1994)\n",
       "4       166    346       1  886397596           Jackie Brown (1997)\n",
       "...     ...    ...     ...        ...                           ...\n",
       "99995   880    476       3  880175444  First Wives Club, The (1996)\n",
       "99996   716    204       5  879795543     Back to the Future (1985)\n",
       "99997   276   1090       1  874795795                 Sliver (1993)\n",
       "99998    13    225       2  882399156         101 Dalmatians (1996)\n",
       "99999    12    203       3  879959583             Unforgiven (1992)\n",
       "\n",
       "[100000 rows x 5 columns]"
      ]
     },
     "execution_count": null,
     "metadata": {},
     "output_type": "execute_result"
    }
   ],
   "source": [
    "ratings"
   ]
  },
  {
   "cell_type": "code",
   "execution_count": null,
   "id": "9f52c91c",
   "metadata": {
    "input_tokens": 12,
    "output_tokens": 526
   },
   "outputs": [
    {
     "name": "stdout",
     "output_type": "stream",
     "text": [
      "\u001b[31mSignature:\u001b[39m\n",
      "CollabDataLoaders.from_df(\n",
      "    ratings,\n",
      "    valid_pct=\u001b[32m0.2\u001b[39m,\n",
      "    user_name=\u001b[38;5;28;01mNone\u001b[39;00m,\n",
      "    item_name=\u001b[38;5;28;01mNone\u001b[39;00m,\n",
      "    rating_name=\u001b[38;5;28;01mNone\u001b[39;00m,\n",
      "    seed=\u001b[38;5;28;01mNone\u001b[39;00m,\n",
      "    path=\u001b[33m'.'\u001b[39m,\n",
      "    *,\n",
      "    bs: \u001b[33m'int'\u001b[39m = \u001b[32m64\u001b[39m,\n",
      "    val_bs: \u001b[33m'int'\u001b[39m = \u001b[38;5;28;01mNone\u001b[39;00m,\n",
      "    shuffle: \u001b[33m'bool'\u001b[39m = \u001b[38;5;28;01mTrue\u001b[39;00m,\n",
      "    device=\u001b[38;5;28;01mNone\u001b[39;00m,\n",
      ")\n",
      "\u001b[31mSource:\u001b[39m   \n",
      "    @delegates(DataLoaders.from_dblock)\n",
      "    @classmethod\n",
      "    \u001b[38;5;28;01mdef\u001b[39;00m from_df(cls, ratings, valid_pct=\u001b[32m0.2\u001b[39m, user_name=\u001b[38;5;28;01mNone\u001b[39;00m, item_name=\u001b[38;5;28;01mNone\u001b[39;00m, rating_name=\u001b[38;5;28;01mNone\u001b[39;00m, seed=\u001b[38;5;28;01mNone\u001b[39;00m, path=\u001b[33m'.'\u001b[39m, **kwargs):\n",
      "        \u001b[33m\"Create a `DataLoaders` suitable for collaborative filtering from `ratings`.\"\u001b[39m\n",
      "        user_name   = ifnone(user_name,   ratings.columns[\u001b[32m0\u001b[39m])\n",
      "        item_name   = ifnone(item_name,   ratings.columns[\u001b[32m1\u001b[39m])\n",
      "        rating_name = ifnone(rating_name, ratings.columns[\u001b[32m2\u001b[39m])\n",
      "        cat_names = [user_name,item_name]\n",
      "        splits = RandomSplitter(valid_pct=valid_pct, seed=seed)(range_of(ratings))\n",
      "        to = TabularCollab(ratings, [Categorify], cat_names, y_names=[rating_name], y_block=TransformBlock(), splits=splits)\n",
      "        \u001b[38;5;28;01mreturn\u001b[39;00m to.dataloaders(path=path, **kwargs)\n",
      "\u001b[31mFile:\u001b[39m      ~/.local/lib/python3.11/site-packages/fastai/collab.py\n",
      "\u001b[31mType:\u001b[39m      method\n"
     ]
    }
   ],
   "source": [
    "CollabDataLoaders.from_df??"
   ]
  },
  {
   "cell_type": "code",
   "execution_count": null,
   "id": "e3996c57",
   "metadata": {
    "input_tokens": 25
   },
   "outputs": [],
   "source": [
    "dls= CollabDataLoaders.from_df(ratings,item_name='title')"
   ]
  },
  {
   "cell_type": "code",
   "execution_count": null,
   "id": "9968842d",
   "metadata": {
    "input_tokens": 6,
    "output_tokens": 723
   },
   "outputs": [
    {
     "data": {
      "text/html": [
       "<table border=\"1\" class=\"dataframe\">\n",
       "  <thead>\n",
       "    <tr style=\"text-align: right;\">\n",
       "      <th></th>\n",
       "      <th>user</th>\n",
       "      <th>movie</th>\n",
       "      <th>rating</th>\n",
       "    </tr>\n",
       "  </thead>\n",
       "  <tbody>\n",
       "    <tr>\n",
       "      <th>95125</th>\n",
       "      <td>543</td>\n",
       "      <td>14</td>\n",
       "      <td>4</td>\n",
       "    </tr>\n",
       "    <tr>\n",
       "      <th>54806</th>\n",
       "      <td>571</td>\n",
       "      <td>462</td>\n",
       "      <td>4</td>\n",
       "    </tr>\n",
       "    <tr>\n",
       "      <th>79221</th>\n",
       "      <td>792</td>\n",
       "      <td>121</td>\n",
       "      <td>4</td>\n",
       "    </tr>\n",
       "    <tr>\n",
       "      <th>41820</th>\n",
       "      <td>393</td>\n",
       "      <td>841</td>\n",
       "      <td>3</td>\n",
       "    </tr>\n",
       "    <tr>\n",
       "      <th>81969</th>\n",
       "      <td>897</td>\n",
       "      <td>479</td>\n",
       "      <td>4</td>\n",
       "    </tr>\n",
       "    <tr>\n",
       "      <th>48317</th>\n",
       "      <td>441</td>\n",
       "      <td>121</td>\n",
       "      <td>4</td>\n",
       "    </tr>\n",
       "    <tr>\n",
       "      <th>92843</th>\n",
       "      <td>901</td>\n",
       "      <td>117</td>\n",
       "      <td>4</td>\n",
       "    </tr>\n",
       "    <tr>\n",
       "      <th>33426</th>\n",
       "      <td>262</td>\n",
       "      <td>420</td>\n",
       "      <td>3</td>\n",
       "    </tr>\n",
       "    <tr>\n",
       "      <th>24707</th>\n",
       "      <td>417</td>\n",
       "      <td>764</td>\n",
       "      <td>3</td>\n",
       "    </tr>\n",
       "    <tr>\n",
       "      <th>705</th>\n",
       "      <td>22</td>\n",
       "      <td>80</td>\n",
       "      <td>4</td>\n",
       "    </tr>\n",
       "  </tbody>\n",
       "</table>"
      ],
      "text/plain": [
       "<IPython.core.display.HTML object>"
      ]
     },
     "metadata": {},
     "output_type": "display_data"
    }
   ],
   "source": [
    "dls.show()"
   ]
  },
  {
   "cell_type": "code",
   "execution_count": null,
   "id": "b32c8f50",
   "metadata": {
    "input_tokens": 34,
    "output_tokens": 145
   },
   "outputs": [
    {
     "name": "stdout",
     "output_type": "stream",
     "text": [
      "\u001b[31m---------------------------------------------------------------------------\u001b[39m\n",
      "\u001b[31mKeyError\u001b[39m                                  Traceback (most recent call last)\n",
      "\u001b[36mCell\u001b[39m\u001b[36m \u001b[39m\u001b[32mIn[1]\u001b[39m\u001b[32m, line 2\u001b[39m\n",
      "\u001b[32m      1\u001b[39m n_users= \u001b[38;5;28mlen\u001b[39m(dls.classes[\u001b[33m'\u001b[39m\u001b[33muser\u001b[39m\u001b[33m'\u001b[39m])\n",
      "\u001b[32m----> \u001b[39m\u001b[32m2\u001b[39m n_movies = \u001b[38;5;28mlen\u001b[39m(\u001b[43mdls\u001b[49m\u001b[43m.\u001b[49m\u001b[43mclasses\u001b[49m\u001b[43m[\u001b[49m\u001b[33;43m'\u001b[39;49m\u001b[33;43mtitle\u001b[39;49m\u001b[33;43m'\u001b[39;49m\u001b[43m]\u001b[49m)\n",
      "\u001b[32m      3\u001b[39m n_movies\n",
      "\n",
      "\u001b[31mKeyError\u001b[39m: 'title'\n"
     ]
    },
    {
     "ename": "KeyError",
     "evalue": "'title'",
     "output_type": "error",
     "traceback": [
      "Traceback (most recent call last):\n",
      "  File \"/usr/local/lib/python3.11/site-packages/IPython/core/interactiveshell.py\", line 3667, in run_code\n    exec(code_obj, self.user_global_ns, self.user_ns)\n",
      "  File \"<ipython-input-1-ff655824d360>\", line 2, in <module>\n    n_movies = len(dls.classes['title'])\n                   ~~~~~~~~~~~^^^^^^^^^\n",
      "KeyError: 'title'\n"
     ]
    }
   ],
   "source": [
    "n_users= len(dls.classes['user'])\n",
    "n_movies = len(dls.classes['title'])\n",
    "n_movies\n"
   ]
  }
 ],
 "metadata": {
  "solveit_dialog_mode": "learning",
  "solveit_ver": 2
 },
 "nbformat": 4,
 "nbformat_minor": 5
}
