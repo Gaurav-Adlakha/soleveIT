{
 "cells": [
  {
   "cell_type": "code",
   "execution_count": null,
   "id": "ca4ff995",
   "metadata": {
    "input_tokens": 3,
    "output_tokens": 25,
    "time_run": "9:52:51a"
   },
   "outputs": [
    {
     "name": "stdout",
     "output_type": "stream",
     "text": [
      "/app/data/static\n"
     ]
    }
   ],
   "source": [
    "cd static"
   ]
  },
  {
   "cell_type": "code",
   "execution_count": null,
   "id": "f3e7f5c2",
   "metadata": {
    "input_tokens": 4,
    "output_tokens": 765,
    "time_run": "9:52:55a"
   },
   "outputs": [
    {
     "name": "stdout",
     "output_type": "stream",
     "text": [
      "total 936\r\n",
      "-rw-r--r-- 1 solveit solveit 448677 May  4 12:04  samplenotebook.ipynb\r\n",
      "drwxr-xr-x 2 solveit solveit    113 May  5 07:08  samplenotebook_files/\r\n",
      "-rw-r--r-- 1 solveit solveit  87864 May  6 10:57  Aurora_west.zip\r\n",
      "drwxr-xr-x 2 solveit solveit   4096 May  6 10:57  Aurora_west/\r\n",
      "-rw-r--r-- 1 solveit solveit  58342 May  7 06:52  samplenotebook.qmd\r\n",
      "-rw-r--r-- 1 solveit solveit   5984 May  7 12:01  final_df.csv\r\n",
      "-rw-r--r-- 1 solveit solveit   2897 May  7 12:01  source_table_names.csv\r\n",
      "-rw-r--r-- 1 solveit solveit  73852 May  8 05:19  Metrics_that_Matters.ipynb\r\n",
      "-rw-r--r-- 1 solveit solveit  46375 May  8 12:00 'Copy of eSchoolPlus to PowerSchool - Field mapping - 20180706.xlsx'\r\n",
      "-rw-r--r-- 1 solveit solveit  37295 May  8 12:45  stacked_df.csv\r\n",
      "-rw-r--r-- 1 solveit solveit  72062 May  9 08:17  esp_data_mod.xlsx\r\n",
      "-rw-r--r-- 1 solveit solveit  91166 May 12 09:52  Houston.zip\r\n",
      "drwxr-xr-x 4 solveit solveit     98 May 12 09:52  __MACOSX/\r\n",
      "drwxr-xr-x 2 solveit solveit   4096 May 12 09:52  Houston/\r\n"
     ]
    },
    {
     "name": "stderr",
     "output_type": "stream",
     "text": [
      "/usr/local/lib/python3.11/site-packages/lancedb/__init__.py:220: UserWarning: lance is not fork-safe. If you are using multiprocessing, use spawn instead.\n",
      "  warnings.warn(\n"
     ]
    }
   ],
   "source": [
    "ls -ltr"
   ]
  },
  {
   "cell_type": "code",
   "execution_count": null,
   "id": "fad5b7de",
   "metadata": {
    "input_tokens": 7,
    "time_run": "9:56:05a"
   },
   "outputs": [],
   "source": [
    "from utils import * \n",
    "\n"
   ]
  },
  {
   "cell_type": "code",
   "execution_count": null,
   "id": "592f98f1",
   "metadata": {
    "input_tokens": 9,
    "time_run": "9:56:21a"
   },
   "outputs": [],
   "source": [
    "path = Path('Houston')"
   ]
  }
 ],
 "metadata": {
  "solveit_dialog_mode": "learning",
  "solveit_ver": 2
 },
 "nbformat": 4,
 "nbformat_minor": 5
}
