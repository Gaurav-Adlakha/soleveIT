{
 "cells": [
  {
   "cell_type": "code",
   "execution_count": null,
   "id": "d77ce2dd",
   "metadata": {
    "hide_input": true,
    "input_tokens": 240,
    "output_tokens": 139,
    "time_run": "7:25:15a"
   },
   "outputs": [
    {
     "name": "stdout",
     "output_type": "stream",
     "text": [
      "titanic.zip: Skipping, found more recently modified local copy (use --force to force download)\r\n"
     ]
    },
    {
     "name": "stderr",
     "output_type": "stream",
     "text": [
      "/usr/local/lib/python3.11/site-packages/lancedb/__init__.py:220: UserWarning: lance is not fork-safe. If you are using multiprocessing, use spawn instead.\n",
      "  warnings.warn(\n"
     ]
    }
   ],
   "source": [
    "import os\n",
    "from pathlib import Path\n",
    "\n",
    "kaggle_dir = Path.home() / '.kaggle'\n",
    "kaggle_dir.mkdir(exist_ok=True)\n",
    "\n",
    "\n",
    "kaggle_json = f'''{{\n",
    "  \"username\": \"{'gauravadlakha1509'}\",\n",
    "  \"key\": \"{'edd872adf89cbbd17cec3d1f6f05a462'}\"\n",
    "}}'''\n",
    "\n",
    "with open(kaggle_dir / 'kaggle.json', 'w') as f:\n",
    "    f.write(kaggle_json)\n",
    "\n",
    "os.chmod(kaggle_dir / 'kaggle.json', 0o600)\n",
    "\n",
    "!kaggle competitions download -c titanic\n",
    "# !unzip /content/us-patent-phrase-to-phrase-matching.zip"
   ]
  },
  {
   "cell_type": "code",
   "execution_count": null,
   "id": "6ab1f7b2",
   "metadata": {
    "input_tokens": 82,
    "time_run": "7:28:00a"
   },
   "outputs": [],
   "source": [
    "from pathlib import Path\n",
    "\n",
    "titanic_dir = Path('titanic_data')\n",
    "titanic_dir.mkdir(exist_ok=True)\n",
    "\n",
    "with zipfile.ZipFile('titanic.zip', 'r') as zip_ref:\n",
    "    zip_ref.extractall(titanic_dir)\n",
    "\n"
   ]
  },
  {
   "cell_type": "code",
   "execution_count": null,
   "id": "f4137539",
   "metadata": {
    "input_tokens": 10,
    "output_tokens": 96,
    "time_run": "7:28:14a"
   },
   "outputs": [
    {
     "data": {
      "text/plain": [
       "(#3) [Path('titanic_data/gender_submission.csv'),Path('titanic_data/test.csv'),Path('titanic_data/train.csv')]"
      ]
     },
     "execution_count": null,
     "metadata": {},
     "output_type": "execute_result"
    }
   ],
   "source": [
    "titanic_dir.ls()"
   ]
  },
  {
   "cell_type": "code",
   "execution_count": null,
   "id": "90eb3d61",
   "metadata": {
    "input_tokens": 6,
    "time_run": "7:38:05a"
   },
   "outputs": [],
   "source": [
    "from utils import *"
   ]
  },
  {
   "cell_type": "code",
   "execution_count": null,
   "id": "39836e9d",
   "metadata": {
    "input_tokens": 19,
    "time_run": "7:38:08a"
   },
   "outputs": [],
   "source": [
    "df = pd.read_csv('titanic_data/train.csv')\n"
   ]
  },
  {
   "cell_type": "code",
   "execution_count": null,
   "id": "58a5089d",
   "metadata": {
    "collapsed": true,
    "input_tokens": 1,
    "output_tokens": 6411,
    "time_run": "7:38:09a"
   },
   "outputs": [
    {
     "data": {
      "text/html": [
       "<style type=\"text/css\">\n",
       "#T_61613 th {\n",
       "  font-weight: bold;\n",
       "  background-color: #4CAF50;\n",
       "  color: white;\n",
       "  padding: 10px;\n",
       "  text-align: left;\n",
       "}\n",
       "#T_61613 td {\n",
       "  padding: 8px;\n",
       "  border-bottom: 1px solid #ddd;\n",
       "}\n",
       "#T_61613 tr:nth-child(even) {\n",
       "  background-color: #f2f2f2;\n",
       "}\n",
       "#T_61613 tr:hover {\n",
       "  background-color: #ddd;\n",
       "}\n",
       "</style>\n",
       "<table id=\"T_61613\" class=\"dataframe\" style=\"width:100%; border-collapse: collapse\">\n",
       "  <thead>\n",
       "    <tr>\n",
       "      <th class=\"blank level0\" >&nbsp;</th>\n",
       "      <th id=\"T_61613_level0_col0\" class=\"col_heading level0 col0\" >PassengerId</th>\n",
       "      <th id=\"T_61613_level0_col1\" class=\"col_heading level0 col1\" >Survived</th>\n",
       "      <th id=\"T_61613_level0_col2\" class=\"col_heading level0 col2\" >Pclass</th>\n",
       "      <th id=\"T_61613_level0_col3\" class=\"col_heading level0 col3\" >Name</th>\n",
       "      <th id=\"T_61613_level0_col4\" class=\"col_heading level0 col4\" >Sex</th>\n",
       "      <th id=\"T_61613_level0_col5\" class=\"col_heading level0 col5\" >Age</th>\n",
       "      <th id=\"T_61613_level0_col6\" class=\"col_heading level0 col6\" >SibSp</th>\n",
       "      <th id=\"T_61613_level0_col7\" class=\"col_heading level0 col7\" >Parch</th>\n",
       "      <th id=\"T_61613_level0_col8\" class=\"col_heading level0 col8\" >Ticket</th>\n",
       "      <th id=\"T_61613_level0_col9\" class=\"col_heading level0 col9\" >Fare</th>\n",
       "      <th id=\"T_61613_level0_col10\" class=\"col_heading level0 col10\" >Cabin</th>\n",
       "      <th id=\"T_61613_level0_col11\" class=\"col_heading level0 col11\" >Embarked</th>\n",
       "    </tr>\n",
       "  </thead>\n",
       "  <tbody>\n",
       "    <tr>\n",
       "      <th id=\"T_61613_level0_row0\" class=\"row_heading level0 row0\" >0</th>\n",
       "      <td id=\"T_61613_row0_col0\" class=\"data row0 col0\" >1</td>\n",
       "      <td id=\"T_61613_row0_col1\" class=\"data row0 col1\" >0</td>\n",
       "      <td id=\"T_61613_row0_col2\" class=\"data row0 col2\" >3</td>\n",
       "      <td id=\"T_61613_row0_col3\" class=\"data row0 col3\" >Braund, Mr. Owen Harris</td>\n",
       "      <td id=\"T_61613_row0_col4\" class=\"data row0 col4\" >male</td>\n",
       "      <td id=\"T_61613_row0_col5\" class=\"data row0 col5\" >22.000</td>\n",
       "      <td id=\"T_61613_row0_col6\" class=\"data row0 col6\" >1</td>\n",
       "      <td id=\"T_61613_row0_col7\" class=\"data row0 col7\" >0</td>\n",
       "      <td id=\"T_61613_row0_col8\" class=\"data row0 col8\" >A/5 21171</td>\n",
       "      <td id=\"T_61613_row0_col9\" class=\"data row0 col9\" >7.250</td>\n",
       "      <td id=\"T_61613_row0_col10\" class=\"data row0 col10\" >nan</td>\n",
       "      <td id=\"T_61613_row0_col11\" class=\"data row0 col11\" >S</td>\n",
       "    </tr>\n",
       "    <tr>\n",
       "      <th id=\"T_61613_level0_row1\" class=\"row_heading level0 row1\" >1</th>\n",
       "      <td id=\"T_61613_row1_col0\" class=\"data row1 col0\" >2</td>\n",
       "      <td id=\"T_61613_row1_col1\" class=\"data row1 col1\" >1</td>\n",
       "      <td id=\"T_61613_row1_col2\" class=\"data row1 col2\" >1</td>\n",
       "      <td id=\"T_61613_row1_col3\" class=\"data row1 col3\" >Cumings, Mrs. John Bradley (Florence Briggs Thayer)</td>\n",
       "      <td id=\"T_61613_row1_col4\" class=\"data row1 col4\" >female</td>\n",
       "      <td id=\"T_61613_row1_col5\" class=\"data row1 col5\" >38.000</td>\n",
       "      <td id=\"T_61613_row1_col6\" class=\"data row1 col6\" >1</td>\n",
       "      <td id=\"T_61613_row1_col7\" class=\"data row1 col7\" >0</td>\n",
       "      <td id=\"T_61613_row1_col8\" class=\"data row1 col8\" >PC 17599</td>\n",
       "      <td id=\"T_61613_row1_col9\" class=\"data row1 col9\" >71.283</td>\n",
       "      <td id=\"T_61613_row1_col10\" class=\"data row1 col10\" >C85</td>\n",
       "      <td id=\"T_61613_row1_col11\" class=\"data row1 col11\" >C</td>\n",
       "    </tr>\n",
       "    <tr>\n",
       "      <th id=\"T_61613_level0_row2\" class=\"row_heading level0 row2\" >2</th>\n",
       "      <td id=\"T_61613_row2_col0\" class=\"data row2 col0\" >3</td>\n",
       "      <td id=\"T_61613_row2_col1\" class=\"data row2 col1\" >1</td>\n",
       "      <td id=\"T_61613_row2_col2\" class=\"data row2 col2\" >3</td>\n",
       "      <td id=\"T_61613_row2_col3\" class=\"data row2 col3\" >Heikkinen, Miss. Laina</td>\n",
       "      <td id=\"T_61613_row2_col4\" class=\"data row2 col4\" >female</td>\n",
       "      <td id=\"T_61613_row2_col5\" class=\"data row2 col5\" >26.000</td>\n",
       "      <td id=\"T_61613_row2_col6\" class=\"data row2 col6\" >0</td>\n",
       "      <td id=\"T_61613_row2_col7\" class=\"data row2 col7\" >0</td>\n",
       "      <td id=\"T_61613_row2_col8\" class=\"data row2 col8\" >STON/O2. 3101282</td>\n",
       "      <td id=\"T_61613_row2_col9\" class=\"data row2 col9\" >7.925</td>\n",
       "      <td id=\"T_61613_row2_col10\" class=\"data row2 col10\" >nan</td>\n",
       "      <td id=\"T_61613_row2_col11\" class=\"data row2 col11\" >S</td>\n",
       "    </tr>\n",
       "    <tr>\n",
       "      <th id=\"T_61613_level0_row3\" class=\"row_heading level0 row3\" >3</th>\n",
       "      <td id=\"T_61613_row3_col0\" class=\"data row3 col0\" >4</td>\n",
       "      <td id=\"T_61613_row3_col1\" class=\"data row3 col1\" >1</td>\n",
       "      <td id=\"T_61613_row3_col2\" class=\"data row3 col2\" >1</td>\n",
       "      <td id=\"T_61613_row3_col3\" class=\"data row3 col3\" >Futrelle, Mrs. Jacques Heath (Lily May Peel)</td>\n",
       "      <td id=\"T_61613_row3_col4\" class=\"data row3 col4\" >female</td>\n",
       "      <td id=\"T_61613_row3_col5\" class=\"data row3 col5\" >35.000</td>\n",
       "      <td id=\"T_61613_row3_col6\" class=\"data row3 col6\" >1</td>\n",
       "      <td id=\"T_61613_row3_col7\" class=\"data row3 col7\" >0</td>\n",
       "      <td id=\"T_61613_row3_col8\" class=\"data row3 col8\" >113803</td>\n",
       "      <td id=\"T_61613_row3_col9\" class=\"data row3 col9\" >53.100</td>\n",
       "      <td id=\"T_61613_row3_col10\" class=\"data row3 col10\" >C123</td>\n",
       "      <td id=\"T_61613_row3_col11\" class=\"data row3 col11\" >S</td>\n",
       "    </tr>\n",
       "    <tr>\n",
       "      <th id=\"T_61613_level0_row4\" class=\"row_heading level0 row4\" >4</th>\n",
       "      <td id=\"T_61613_row4_col0\" class=\"data row4 col0\" >5</td>\n",
       "      <td id=\"T_61613_row4_col1\" class=\"data row4 col1\" >0</td>\n",
       "      <td id=\"T_61613_row4_col2\" class=\"data row4 col2\" >3</td>\n",
       "      <td id=\"T_61613_row4_col3\" class=\"data row4 col3\" >Allen, Mr. William Henry</td>\n",
       "      <td id=\"T_61613_row4_col4\" class=\"data row4 col4\" >male</td>\n",
       "      <td id=\"T_61613_row4_col5\" class=\"data row4 col5\" >35.000</td>\n",
       "      <td id=\"T_61613_row4_col6\" class=\"data row4 col6\" >0</td>\n",
       "      <td id=\"T_61613_row4_col7\" class=\"data row4 col7\" >0</td>\n",
       "      <td id=\"T_61613_row4_col8\" class=\"data row4 col8\" >373450</td>\n",
       "      <td id=\"T_61613_row4_col9\" class=\"data row4 col9\" >8.050</td>\n",
       "      <td id=\"T_61613_row4_col10\" class=\"data row4 col10\" >nan</td>\n",
       "      <td id=\"T_61613_row4_col11\" class=\"data row4 col11\" >S</td>\n",
       "    </tr>\n",
       "    <tr>\n",
       "      <th id=\"T_61613_level0_row5\" class=\"row_heading level0 row5\" >5</th>\n",
       "      <td id=\"T_61613_row5_col0\" class=\"data row5 col0\" >6</td>\n",
       "      <td id=\"T_61613_row5_col1\" class=\"data row5 col1\" >0</td>\n",
       "      <td id=\"T_61613_row5_col2\" class=\"data row5 col2\" >3</td>\n",
       "      <td id=\"T_61613_row5_col3\" class=\"data row5 col3\" >Moran, Mr. James</td>\n",
       "      <td id=\"T_61613_row5_col4\" class=\"data row5 col4\" >male</td>\n",
       "      <td id=\"T_61613_row5_col5\" class=\"data row5 col5\" >nan</td>\n",
       "      <td id=\"T_61613_row5_col6\" class=\"data row5 col6\" >0</td>\n",
       "      <td id=\"T_61613_row5_col7\" class=\"data row5 col7\" >0</td>\n",
       "      <td id=\"T_61613_row5_col8\" class=\"data row5 col8\" >330877</td>\n",
       "      <td id=\"T_61613_row5_col9\" class=\"data row5 col9\" >8.458</td>\n",
       "      <td id=\"T_61613_row5_col10\" class=\"data row5 col10\" >nan</td>\n",
       "      <td id=\"T_61613_row5_col11\" class=\"data row5 col11\" >Q</td>\n",
       "    </tr>\n",
       "    <tr>\n",
       "      <th id=\"T_61613_level0_row6\" class=\"row_heading level0 row6\" >6</th>\n",
       "      <td id=\"T_61613_row6_col0\" class=\"data row6 col0\" >7</td>\n",
       "      <td id=\"T_61613_row6_col1\" class=\"data row6 col1\" >0</td>\n",
       "      <td id=\"T_61613_row6_col2\" class=\"data row6 col2\" >1</td>\n",
       "      <td id=\"T_61613_row6_col3\" class=\"data row6 col3\" >McCarthy, Mr. Timothy J</td>\n",
       "      <td id=\"T_61613_row6_col4\" class=\"data row6 col4\" >male</td>\n",
       "      <td id=\"T_61613_row6_col5\" class=\"data row6 col5\" >54.000</td>\n",
       "      <td id=\"T_61613_row6_col6\" class=\"data row6 col6\" >0</td>\n",
       "      <td id=\"T_61613_row6_col7\" class=\"data row6 col7\" >0</td>\n",
       "      <td id=\"T_61613_row6_col8\" class=\"data row6 col8\" >17463</td>\n",
       "      <td id=\"T_61613_row6_col9\" class=\"data row6 col9\" >51.862</td>\n",
       "      <td id=\"T_61613_row6_col10\" class=\"data row6 col10\" >E46</td>\n",
       "      <td id=\"T_61613_row6_col11\" class=\"data row6 col11\" >S</td>\n",
       "    </tr>\n",
       "    <tr>\n",
       "      <th id=\"T_61613_level0_row7\" class=\"row_heading level0 row7\" >7</th>\n",
       "      <td id=\"T_61613_row7_col0\" class=\"data row7 col0\" >8</td>\n",
       "      <td id=\"T_61613_row7_col1\" class=\"data row7 col1\" >0</td>\n",
       "      <td id=\"T_61613_row7_col2\" class=\"data row7 col2\" >3</td>\n",
       "      <td id=\"T_61613_row7_col3\" class=\"data row7 col3\" >Palsson, Master. Gosta Leonard</td>\n",
       "      <td id=\"T_61613_row7_col4\" class=\"data row7 col4\" >male</td>\n",
       "      <td id=\"T_61613_row7_col5\" class=\"data row7 col5\" >2.000</td>\n",
       "      <td id=\"T_61613_row7_col6\" class=\"data row7 col6\" >3</td>\n",
       "      <td id=\"T_61613_row7_col7\" class=\"data row7 col7\" >1</td>\n",
       "      <td id=\"T_61613_row7_col8\" class=\"data row7 col8\" >349909</td>\n",
       "      <td id=\"T_61613_row7_col9\" class=\"data row7 col9\" >21.075</td>\n",
       "      <td id=\"T_61613_row7_col10\" class=\"data row7 col10\" >nan</td>\n",
       "      <td id=\"T_61613_row7_col11\" class=\"data row7 col11\" >S</td>\n",
       "    </tr>\n",
       "    <tr>\n",
       "      <th id=\"T_61613_level0_row8\" class=\"row_heading level0 row8\" >8</th>\n",
       "      <td id=\"T_61613_row8_col0\" class=\"data row8 col0\" >9</td>\n",
       "      <td id=\"T_61613_row8_col1\" class=\"data row8 col1\" >1</td>\n",
       "      <td id=\"T_61613_row8_col2\" class=\"data row8 col2\" >3</td>\n",
       "      <td id=\"T_61613_row8_col3\" class=\"data row8 col3\" >Johnson, Mrs. Oscar W (Elisabeth Vilhelmina Berg)</td>\n",
       "      <td id=\"T_61613_row8_col4\" class=\"data row8 col4\" >female</td>\n",
       "      <td id=\"T_61613_row8_col5\" class=\"data row8 col5\" >27.000</td>\n",
       "      <td id=\"T_61613_row8_col6\" class=\"data row8 col6\" >0</td>\n",
       "      <td id=\"T_61613_row8_col7\" class=\"data row8 col7\" >2</td>\n",
       "      <td id=\"T_61613_row8_col8\" class=\"data row8 col8\" >347742</td>\n",
       "      <td id=\"T_61613_row8_col9\" class=\"data row8 col9\" >11.133</td>\n",
       "      <td id=\"T_61613_row8_col10\" class=\"data row8 col10\" >nan</td>\n",
       "      <td id=\"T_61613_row8_col11\" class=\"data row8 col11\" >S</td>\n",
       "    </tr>\n",
       "    <tr>\n",
       "      <th id=\"T_61613_level0_row9\" class=\"row_heading level0 row9\" >9</th>\n",
       "      <td id=\"T_61613_row9_col0\" class=\"data row9 col0\" >10</td>\n",
       "      <td id=\"T_61613_row9_col1\" class=\"data row9 col1\" >1</td>\n",
       "      <td id=\"T_61613_row9_col2\" class=\"data row9 col2\" >2</td>\n",
       "      <td id=\"T_61613_row9_col3\" class=\"data row9 col3\" >Nasser, Mrs. Nicholas (Adele Achem)</td>\n",
       "      <td id=\"T_61613_row9_col4\" class=\"data row9 col4\" >female</td>\n",
       "      <td id=\"T_61613_row9_col5\" class=\"data row9 col5\" >14.000</td>\n",
       "      <td id=\"T_61613_row9_col6\" class=\"data row9 col6\" >1</td>\n",
       "      <td id=\"T_61613_row9_col7\" class=\"data row9 col7\" >0</td>\n",
       "      <td id=\"T_61613_row9_col8\" class=\"data row9 col8\" >237736</td>\n",
       "      <td id=\"T_61613_row9_col9\" class=\"data row9 col9\" >30.071</td>\n",
       "      <td id=\"T_61613_row9_col10\" class=\"data row9 col10\" >nan</td>\n",
       "      <td id=\"T_61613_row9_col11\" class=\"data row9 col11\" >C</td>\n",
       "    </tr>\n",
       "  </tbody>\n",
       "</table>\n"
      ],
      "text/plain": [
       "     PassengerId  Survived  Pclass  ...     Fare Cabin  Embarked\n",
       "0              1         0       3  ...   7.2500   NaN         S\n",
       "1              2         1       1  ...  71.2833   C85         C\n",
       "2              3         1       3  ...   7.9250   NaN         S\n",
       "3              4         1       1  ...  53.1000  C123         S\n",
       "4              5         0       3  ...   8.0500   NaN         S\n",
       "..           ...       ...     ...  ...      ...   ...       ...\n",
       "886          887         0       2  ...  13.0000   NaN         S\n",
       "887          888         1       1  ...  30.0000   B42         S\n",
       "888          889         0       3  ...  23.4500   NaN         S\n",
       "889          890         1       1  ...  30.0000  C148         C\n",
       "890          891         0       3  ...   7.7500   NaN         Q\n",
       "\n",
       "[891 rows x 12 columns]"
      ]
     },
     "execution_count": null,
     "metadata": {},
     "output_type": "execute_result"
    }
   ],
   "source": [
    "df"
   ]
  },
  {
   "cell_type": "code",
   "execution_count": null,
   "id": "938ea428",
   "metadata": {
    "collapsed": true,
    "input_tokens": 9,
    "output_tokens": 1624,
    "time_run": "7:35:16a"
   },
   "outputs": [
    {
     "data": {
      "text/html": [
       "<style type=\"text/css\">\n",
       "#T_4cb0b th {\n",
       "  font-weight: bold;\n",
       "  background-color: #4CAF50;\n",
       "  color: white;\n",
       "  padding: 10px;\n",
       "  text-align: left;\n",
       "}\n",
       "#T_4cb0b td {\n",
       "  padding: 8px;\n",
       "  border-bottom: 1px solid #ddd;\n",
       "}\n",
       "#T_4cb0b tr:nth-child(even) {\n",
       "  background-color: #f2f2f2;\n",
       "}\n",
       "#T_4cb0b tr:hover {\n",
       "  background-color: #ddd;\n",
       "}\n",
       "</style>\n",
       "<table id=\"T_4cb0b\" class=\"dataframe\" style=\"width:100%; border-collapse: collapse\">\n",
       "  <thead>\n",
       "    <tr>\n",
       "      <th class=\"blank level0\" >&nbsp;</th>\n",
       "      <th id=\"T_4cb0b_level0_col0\" class=\"col_heading level0 col0\" >Name</th>\n",
       "      <th id=\"T_4cb0b_level0_col1\" class=\"col_heading level0 col1\" >Sex</th>\n",
       "      <th id=\"T_4cb0b_level0_col2\" class=\"col_heading level0 col2\" >Ticket</th>\n",
       "      <th id=\"T_4cb0b_level0_col3\" class=\"col_heading level0 col3\" >Cabin</th>\n",
       "      <th id=\"T_4cb0b_level0_col4\" class=\"col_heading level0 col4\" >Embarked</th>\n",
       "    </tr>\n",
       "  </thead>\n",
       "  <tbody>\n",
       "    <tr>\n",
       "      <th id=\"T_4cb0b_level0_row0\" class=\"row_heading level0 row0\" >count</th>\n",
       "      <td id=\"T_4cb0b_row0_col0\" class=\"data row0 col0\" >891</td>\n",
       "      <td id=\"T_4cb0b_row0_col1\" class=\"data row0 col1\" >891</td>\n",
       "      <td id=\"T_4cb0b_row0_col2\" class=\"data row0 col2\" >891</td>\n",
       "      <td id=\"T_4cb0b_row0_col3\" class=\"data row0 col3\" >204</td>\n",
       "      <td id=\"T_4cb0b_row0_col4\" class=\"data row0 col4\" >889</td>\n",
       "    </tr>\n",
       "    <tr>\n",
       "      <th id=\"T_4cb0b_level0_row1\" class=\"row_heading level0 row1\" >unique</th>\n",
       "      <td id=\"T_4cb0b_row1_col0\" class=\"data row1 col0\" >891</td>\n",
       "      <td id=\"T_4cb0b_row1_col1\" class=\"data row1 col1\" >2</td>\n",
       "      <td id=\"T_4cb0b_row1_col2\" class=\"data row1 col2\" >681</td>\n",
       "      <td id=\"T_4cb0b_row1_col3\" class=\"data row1 col3\" >147</td>\n",
       "      <td id=\"T_4cb0b_row1_col4\" class=\"data row1 col4\" >3</td>\n",
       "    </tr>\n",
       "    <tr>\n",
       "      <th id=\"T_4cb0b_level0_row2\" class=\"row_heading level0 row2\" >top</th>\n",
       "      <td id=\"T_4cb0b_row2_col0\" class=\"data row2 col0\" >Dooley, Mr. Patrick</td>\n",
       "      <td id=\"T_4cb0b_row2_col1\" class=\"data row2 col1\" >male</td>\n",
       "      <td id=\"T_4cb0b_row2_col2\" class=\"data row2 col2\" >1601</td>\n",
       "      <td id=\"T_4cb0b_row2_col3\" class=\"data row2 col3\" >G6</td>\n",
       "      <td id=\"T_4cb0b_row2_col4\" class=\"data row2 col4\" >S</td>\n",
       "    </tr>\n",
       "    <tr>\n",
       "      <th id=\"T_4cb0b_level0_row3\" class=\"row_heading level0 row3\" >freq</th>\n",
       "      <td id=\"T_4cb0b_row3_col0\" class=\"data row3 col0\" >1</td>\n",
       "      <td id=\"T_4cb0b_row3_col1\" class=\"data row3 col1\" >577</td>\n",
       "      <td id=\"T_4cb0b_row3_col2\" class=\"data row3 col2\" >7</td>\n",
       "      <td id=\"T_4cb0b_row3_col3\" class=\"data row3 col3\" >4</td>\n",
       "      <td id=\"T_4cb0b_row3_col4\" class=\"data row3 col4\" >644</td>\n",
       "    </tr>\n",
       "  </tbody>\n",
       "</table>\n"
      ],
      "text/plain": [
       "                       Name   Sex Ticket Cabin Embarked\n",
       "count                   891   891    891   204      889\n",
       "unique                  891     2    681   147        3\n",
       "top     Dooley, Mr. Patrick  male   1601    G6        S\n",
       "freq                      1   577      7     4      644"
      ]
     },
     "execution_count": null,
     "metadata": {},
     "output_type": "execute_result"
    }
   ],
   "source": [
    "df.describe(include='object')"
   ]
  },
  {
   "cell_type": "code",
   "execution_count": null,
   "id": "8c650f49",
   "metadata": {
    "collapsed": true,
    "input_tokens": 9,
    "output_tokens": 124,
    "time_run": "7:39:43a"
   },
   "outputs": [
    {
     "data": {
      "text/plain": [
       "PassengerId      0\n",
       "Survived         0\n",
       "Pclass           0\n",
       "Name             0\n",
       "Sex              0\n",
       "Age            177\n",
       "SibSp            0\n",
       "Parch            0\n",
       "Ticket           0\n",
       "Fare             0\n",
       "Cabin          687\n",
       "Embarked         2\n",
       "dtype: int64"
      ]
     },
     "execution_count": null,
     "metadata": {},
     "output_type": "execute_result"
    }
   ],
   "source": [
    "df.isna().sum()"
   ]
  },
  {
   "cell_type": "code",
   "execution_count": null,
   "id": "fc17d0ac",
   "metadata": {
    "input_tokens": 3,
    "output_tokens": 21,
    "time_run": "7:39:49a"
   },
   "outputs": [
    {
     "data": {
      "text/plain": [
       "(891, 12)"
      ]
     },
     "execution_count": null,
     "metadata": {},
     "output_type": "execute_result"
    }
   ],
   "source": [
    "df.shape"
   ]
  },
  {
   "cell_type": "code",
   "execution_count": null,
   "id": "8690703f",
   "metadata": {
    "collapsed": true,
    "input_tokens": 10,
    "output_tokens": 178,
    "time_run": "7:40:07a"
   },
   "outputs": [
    {
     "data": {
      "text/plain": [
       "PassengerId    0.000000\n",
       "Survived       0.000000\n",
       "Pclass         0.000000\n",
       "Name           0.000000\n",
       "Sex            0.000000\n",
       "Age            0.198653\n",
       "SibSp          0.000000\n",
       "Parch          0.000000\n",
       "Ticket         0.000000\n",
       "Fare           0.000000\n",
       "Cabin          0.771044\n",
       "Embarked       0.002245\n",
       "dtype: float64"
      ]
     },
     "execution_count": null,
     "metadata": {},
     "output_type": "execute_result"
    }
   ],
   "source": [
    "df.isna().sum()/891"
   ]
  },
  {
   "cell_type": "code",
   "execution_count": null,
   "id": "53349e07",
   "metadata": {
    "input_tokens": 15,
    "time_run": "7:46:37a"
   },
   "outputs": [],
   "source": [
    "modes= df.mode().iloc[0]"
   ]
  },
  {
   "cell_type": "code",
   "execution_count": null,
   "id": "32de1e01",
   "metadata": {
    "collapsed": true,
    "input_tokens": 4,
    "output_tokens": 6358,
    "time_run": "7:42:10a"
   },
   "outputs": [
    {
     "data": {
      "text/html": [
       "<style type=\"text/css\">\n",
       "#T_74daf th {\n",
       "  font-weight: bold;\n",
       "  background-color: #4CAF50;\n",
       "  color: white;\n",
       "  padding: 10px;\n",
       "  text-align: left;\n",
       "}\n",
       "#T_74daf td {\n",
       "  padding: 8px;\n",
       "  border-bottom: 1px solid #ddd;\n",
       "}\n",
       "#T_74daf tr:nth-child(even) {\n",
       "  background-color: #f2f2f2;\n",
       "}\n",
       "#T_74daf tr:hover {\n",
       "  background-color: #ddd;\n",
       "}\n",
       "</style>\n",
       "<table id=\"T_74daf\" class=\"dataframe\" style=\"width:100%; border-collapse: collapse\">\n",
       "  <thead>\n",
       "    <tr>\n",
       "      <th class=\"blank level0\" >&nbsp;</th>\n",
       "      <th id=\"T_74daf_level0_col0\" class=\"col_heading level0 col0\" >PassengerId</th>\n",
       "      <th id=\"T_74daf_level0_col1\" class=\"col_heading level0 col1\" >Survived</th>\n",
       "      <th id=\"T_74daf_level0_col2\" class=\"col_heading level0 col2\" >Pclass</th>\n",
       "      <th id=\"T_74daf_level0_col3\" class=\"col_heading level0 col3\" >Name</th>\n",
       "      <th id=\"T_74daf_level0_col4\" class=\"col_heading level0 col4\" >Sex</th>\n",
       "      <th id=\"T_74daf_level0_col5\" class=\"col_heading level0 col5\" >Age</th>\n",
       "      <th id=\"T_74daf_level0_col6\" class=\"col_heading level0 col6\" >SibSp</th>\n",
       "      <th id=\"T_74daf_level0_col7\" class=\"col_heading level0 col7\" >Parch</th>\n",
       "      <th id=\"T_74daf_level0_col8\" class=\"col_heading level0 col8\" >Ticket</th>\n",
       "      <th id=\"T_74daf_level0_col9\" class=\"col_heading level0 col9\" >Fare</th>\n",
       "      <th id=\"T_74daf_level0_col10\" class=\"col_heading level0 col10\" >Cabin</th>\n",
       "      <th id=\"T_74daf_level0_col11\" class=\"col_heading level0 col11\" >Embarked</th>\n",
       "    </tr>\n",
       "  </thead>\n",
       "  <tbody>\n",
       "    <tr>\n",
       "      <th id=\"T_74daf_level0_row0\" class=\"row_heading level0 row0\" >0</th>\n",
       "      <td id=\"T_74daf_row0_col0\" class=\"data row0 col0\" >1</td>\n",
       "      <td id=\"T_74daf_row0_col1\" class=\"data row0 col1\" >0.000</td>\n",
       "      <td id=\"T_74daf_row0_col2\" class=\"data row0 col2\" >3.000</td>\n",
       "      <td id=\"T_74daf_row0_col3\" class=\"data row0 col3\" >Abbing, Mr. Anthony</td>\n",
       "      <td id=\"T_74daf_row0_col4\" class=\"data row0 col4\" >male</td>\n",
       "      <td id=\"T_74daf_row0_col5\" class=\"data row0 col5\" >24.000</td>\n",
       "      <td id=\"T_74daf_row0_col6\" class=\"data row0 col6\" >0.000</td>\n",
       "      <td id=\"T_74daf_row0_col7\" class=\"data row0 col7\" >0.000</td>\n",
       "      <td id=\"T_74daf_row0_col8\" class=\"data row0 col8\" >1601</td>\n",
       "      <td id=\"T_74daf_row0_col9\" class=\"data row0 col9\" >8.050</td>\n",
       "      <td id=\"T_74daf_row0_col10\" class=\"data row0 col10\" >B96 B98</td>\n",
       "      <td id=\"T_74daf_row0_col11\" class=\"data row0 col11\" >S</td>\n",
       "    </tr>\n",
       "    <tr>\n",
       "      <th id=\"T_74daf_level0_row1\" class=\"row_heading level0 row1\" >1</th>\n",
       "      <td id=\"T_74daf_row1_col0\" class=\"data row1 col0\" >2</td>\n",
       "      <td id=\"T_74daf_row1_col1\" class=\"data row1 col1\" >nan</td>\n",
       "      <td id=\"T_74daf_row1_col2\" class=\"data row1 col2\" >nan</td>\n",
       "      <td id=\"T_74daf_row1_col3\" class=\"data row1 col3\" >Abbott, Mr. Rossmore Edward</td>\n",
       "      <td id=\"T_74daf_row1_col4\" class=\"data row1 col4\" >nan</td>\n",
       "      <td id=\"T_74daf_row1_col5\" class=\"data row1 col5\" >nan</td>\n",
       "      <td id=\"T_74daf_row1_col6\" class=\"data row1 col6\" >nan</td>\n",
       "      <td id=\"T_74daf_row1_col7\" class=\"data row1 col7\" >nan</td>\n",
       "      <td id=\"T_74daf_row1_col8\" class=\"data row1 col8\" >347082</td>\n",
       "      <td id=\"T_74daf_row1_col9\" class=\"data row1 col9\" >nan</td>\n",
       "      <td id=\"T_74daf_row1_col10\" class=\"data row1 col10\" >C23 C25 C27</td>\n",
       "      <td id=\"T_74daf_row1_col11\" class=\"data row1 col11\" >nan</td>\n",
       "    </tr>\n",
       "    <tr>\n",
       "      <th id=\"T_74daf_level0_row2\" class=\"row_heading level0 row2\" >2</th>\n",
       "      <td id=\"T_74daf_row2_col0\" class=\"data row2 col0\" >3</td>\n",
       "      <td id=\"T_74daf_row2_col1\" class=\"data row2 col1\" >nan</td>\n",
       "      <td id=\"T_74daf_row2_col2\" class=\"data row2 col2\" >nan</td>\n",
       "      <td id=\"T_74daf_row2_col3\" class=\"data row2 col3\" >Abbott, Mrs. Stanton (Rosa Hunt)</td>\n",
       "      <td id=\"T_74daf_row2_col4\" class=\"data row2 col4\" >nan</td>\n",
       "      <td id=\"T_74daf_row2_col5\" class=\"data row2 col5\" >nan</td>\n",
       "      <td id=\"T_74daf_row2_col6\" class=\"data row2 col6\" >nan</td>\n",
       "      <td id=\"T_74daf_row2_col7\" class=\"data row2 col7\" >nan</td>\n",
       "      <td id=\"T_74daf_row2_col8\" class=\"data row2 col8\" >CA. 2343</td>\n",
       "      <td id=\"T_74daf_row2_col9\" class=\"data row2 col9\" >nan</td>\n",
       "      <td id=\"T_74daf_row2_col10\" class=\"data row2 col10\" >G6</td>\n",
       "      <td id=\"T_74daf_row2_col11\" class=\"data row2 col11\" >nan</td>\n",
       "    </tr>\n",
       "    <tr>\n",
       "      <th id=\"T_74daf_level0_row3\" class=\"row_heading level0 row3\" >3</th>\n",
       "      <td id=\"T_74daf_row3_col0\" class=\"data row3 col0\" >4</td>\n",
       "      <td id=\"T_74daf_row3_col1\" class=\"data row3 col1\" >nan</td>\n",
       "      <td id=\"T_74daf_row3_col2\" class=\"data row3 col2\" >nan</td>\n",
       "      <td id=\"T_74daf_row3_col3\" class=\"data row3 col3\" >Abelson, Mr. Samuel</td>\n",
       "      <td id=\"T_74daf_row3_col4\" class=\"data row3 col4\" >nan</td>\n",
       "      <td id=\"T_74daf_row3_col5\" class=\"data row3 col5\" >nan</td>\n",
       "      <td id=\"T_74daf_row3_col6\" class=\"data row3 col6\" >nan</td>\n",
       "      <td id=\"T_74daf_row3_col7\" class=\"data row3 col7\" >nan</td>\n",
       "      <td id=\"T_74daf_row3_col8\" class=\"data row3 col8\" >nan</td>\n",
       "      <td id=\"T_74daf_row3_col9\" class=\"data row3 col9\" >nan</td>\n",
       "      <td id=\"T_74daf_row3_col10\" class=\"data row3 col10\" >nan</td>\n",
       "      <td id=\"T_74daf_row3_col11\" class=\"data row3 col11\" >nan</td>\n",
       "    </tr>\n",
       "    <tr>\n",
       "      <th id=\"T_74daf_level0_row4\" class=\"row_heading level0 row4\" >4</th>\n",
       "      <td id=\"T_74daf_row4_col0\" class=\"data row4 col0\" >5</td>\n",
       "      <td id=\"T_74daf_row4_col1\" class=\"data row4 col1\" >nan</td>\n",
       "      <td id=\"T_74daf_row4_col2\" class=\"data row4 col2\" >nan</td>\n",
       "      <td id=\"T_74daf_row4_col3\" class=\"data row4 col3\" >Abelson, Mrs. Samuel (Hannah Wizosky)</td>\n",
       "      <td id=\"T_74daf_row4_col4\" class=\"data row4 col4\" >nan</td>\n",
       "      <td id=\"T_74daf_row4_col5\" class=\"data row4 col5\" >nan</td>\n",
       "      <td id=\"T_74daf_row4_col6\" class=\"data row4 col6\" >nan</td>\n",
       "      <td id=\"T_74daf_row4_col7\" class=\"data row4 col7\" >nan</td>\n",
       "      <td id=\"T_74daf_row4_col8\" class=\"data row4 col8\" >nan</td>\n",
       "      <td id=\"T_74daf_row4_col9\" class=\"data row4 col9\" >nan</td>\n",
       "      <td id=\"T_74daf_row4_col10\" class=\"data row4 col10\" >nan</td>\n",
       "      <td id=\"T_74daf_row4_col11\" class=\"data row4 col11\" >nan</td>\n",
       "    </tr>\n",
       "    <tr>\n",
       "      <th id=\"T_74daf_level0_row5\" class=\"row_heading level0 row5\" >5</th>\n",
       "      <td id=\"T_74daf_row5_col0\" class=\"data row5 col0\" >6</td>\n",
       "      <td id=\"T_74daf_row5_col1\" class=\"data row5 col1\" >nan</td>\n",
       "      <td id=\"T_74daf_row5_col2\" class=\"data row5 col2\" >nan</td>\n",
       "      <td id=\"T_74daf_row5_col3\" class=\"data row5 col3\" >Adahl, Mr. Mauritz Nils Martin</td>\n",
       "      <td id=\"T_74daf_row5_col4\" class=\"data row5 col4\" >nan</td>\n",
       "      <td id=\"T_74daf_row5_col5\" class=\"data row5 col5\" >nan</td>\n",
       "      <td id=\"T_74daf_row5_col6\" class=\"data row5 col6\" >nan</td>\n",
       "      <td id=\"T_74daf_row5_col7\" class=\"data row5 col7\" >nan</td>\n",
       "      <td id=\"T_74daf_row5_col8\" class=\"data row5 col8\" >nan</td>\n",
       "      <td id=\"T_74daf_row5_col9\" class=\"data row5 col9\" >nan</td>\n",
       "      <td id=\"T_74daf_row5_col10\" class=\"data row5 col10\" >nan</td>\n",
       "      <td id=\"T_74daf_row5_col11\" class=\"data row5 col11\" >nan</td>\n",
       "    </tr>\n",
       "    <tr>\n",
       "      <th id=\"T_74daf_level0_row6\" class=\"row_heading level0 row6\" >6</th>\n",
       "      <td id=\"T_74daf_row6_col0\" class=\"data row6 col0\" >7</td>\n",
       "      <td id=\"T_74daf_row6_col1\" class=\"data row6 col1\" >nan</td>\n",
       "      <td id=\"T_74daf_row6_col2\" class=\"data row6 col2\" >nan</td>\n",
       "      <td id=\"T_74daf_row6_col3\" class=\"data row6 col3\" >Adams, Mr. John</td>\n",
       "      <td id=\"T_74daf_row6_col4\" class=\"data row6 col4\" >nan</td>\n",
       "      <td id=\"T_74daf_row6_col5\" class=\"data row6 col5\" >nan</td>\n",
       "      <td id=\"T_74daf_row6_col6\" class=\"data row6 col6\" >nan</td>\n",
       "      <td id=\"T_74daf_row6_col7\" class=\"data row6 col7\" >nan</td>\n",
       "      <td id=\"T_74daf_row6_col8\" class=\"data row6 col8\" >nan</td>\n",
       "      <td id=\"T_74daf_row6_col9\" class=\"data row6 col9\" >nan</td>\n",
       "      <td id=\"T_74daf_row6_col10\" class=\"data row6 col10\" >nan</td>\n",
       "      <td id=\"T_74daf_row6_col11\" class=\"data row6 col11\" >nan</td>\n",
       "    </tr>\n",
       "    <tr>\n",
       "      <th id=\"T_74daf_level0_row7\" class=\"row_heading level0 row7\" >7</th>\n",
       "      <td id=\"T_74daf_row7_col0\" class=\"data row7 col0\" >8</td>\n",
       "      <td id=\"T_74daf_row7_col1\" class=\"data row7 col1\" >nan</td>\n",
       "      <td id=\"T_74daf_row7_col2\" class=\"data row7 col2\" >nan</td>\n",
       "      <td id=\"T_74daf_row7_col3\" class=\"data row7 col3\" >Ahlin, Mrs. Johan (Johanna Persdotter Larsson)</td>\n",
       "      <td id=\"T_74daf_row7_col4\" class=\"data row7 col4\" >nan</td>\n",
       "      <td id=\"T_74daf_row7_col5\" class=\"data row7 col5\" >nan</td>\n",
       "      <td id=\"T_74daf_row7_col6\" class=\"data row7 col6\" >nan</td>\n",
       "      <td id=\"T_74daf_row7_col7\" class=\"data row7 col7\" >nan</td>\n",
       "      <td id=\"T_74daf_row7_col8\" class=\"data row7 col8\" >nan</td>\n",
       "      <td id=\"T_74daf_row7_col9\" class=\"data row7 col9\" >nan</td>\n",
       "      <td id=\"T_74daf_row7_col10\" class=\"data row7 col10\" >nan</td>\n",
       "      <td id=\"T_74daf_row7_col11\" class=\"data row7 col11\" >nan</td>\n",
       "    </tr>\n",
       "    <tr>\n",
       "      <th id=\"T_74daf_level0_row8\" class=\"row_heading level0 row8\" >8</th>\n",
       "      <td id=\"T_74daf_row8_col0\" class=\"data row8 col0\" >9</td>\n",
       "      <td id=\"T_74daf_row8_col1\" class=\"data row8 col1\" >nan</td>\n",
       "      <td id=\"T_74daf_row8_col2\" class=\"data row8 col2\" >nan</td>\n",
       "      <td id=\"T_74daf_row8_col3\" class=\"data row8 col3\" >Aks, Mrs. Sam (Leah Rosen)</td>\n",
       "      <td id=\"T_74daf_row8_col4\" class=\"data row8 col4\" >nan</td>\n",
       "      <td id=\"T_74daf_row8_col5\" class=\"data row8 col5\" >nan</td>\n",
       "      <td id=\"T_74daf_row8_col6\" class=\"data row8 col6\" >nan</td>\n",
       "      <td id=\"T_74daf_row8_col7\" class=\"data row8 col7\" >nan</td>\n",
       "      <td id=\"T_74daf_row8_col8\" class=\"data row8 col8\" >nan</td>\n",
       "      <td id=\"T_74daf_row8_col9\" class=\"data row8 col9\" >nan</td>\n",
       "      <td id=\"T_74daf_row8_col10\" class=\"data row8 col10\" >nan</td>\n",
       "      <td id=\"T_74daf_row8_col11\" class=\"data row8 col11\" >nan</td>\n",
       "    </tr>\n",
       "    <tr>\n",
       "      <th id=\"T_74daf_level0_row9\" class=\"row_heading level0 row9\" >9</th>\n",
       "      <td id=\"T_74daf_row9_col0\" class=\"data row9 col0\" >10</td>\n",
       "      <td id=\"T_74daf_row9_col1\" class=\"data row9 col1\" >nan</td>\n",
       "      <td id=\"T_74daf_row9_col2\" class=\"data row9 col2\" >nan</td>\n",
       "      <td id=\"T_74daf_row9_col3\" class=\"data row9 col3\" >Albimona, Mr. Nassef Cassem</td>\n",
       "      <td id=\"T_74daf_row9_col4\" class=\"data row9 col4\" >nan</td>\n",
       "      <td id=\"T_74daf_row9_col5\" class=\"data row9 col5\" >nan</td>\n",
       "      <td id=\"T_74daf_row9_col6\" class=\"data row9 col6\" >nan</td>\n",
       "      <td id=\"T_74daf_row9_col7\" class=\"data row9 col7\" >nan</td>\n",
       "      <td id=\"T_74daf_row9_col8\" class=\"data row9 col8\" >nan</td>\n",
       "      <td id=\"T_74daf_row9_col9\" class=\"data row9 col9\" >nan</td>\n",
       "      <td id=\"T_74daf_row9_col10\" class=\"data row9 col10\" >nan</td>\n",
       "      <td id=\"T_74daf_row9_col11\" class=\"data row9 col11\" >nan</td>\n",
       "    </tr>\n",
       "  </tbody>\n",
       "</table>\n"
      ],
      "text/plain": [
       "     PassengerId  Survived  Pclass  ...  Fare        Cabin  Embarked\n",
       "0              1       0.0     3.0  ...  8.05      B96 B98         S\n",
       "1              2       NaN     NaN  ...   NaN  C23 C25 C27       NaN\n",
       "2              3       NaN     NaN  ...   NaN           G6       NaN\n",
       "3              4       NaN     NaN  ...   NaN          NaN       NaN\n",
       "4              5       NaN     NaN  ...   NaN          NaN       NaN\n",
       "..           ...       ...     ...  ...   ...          ...       ...\n",
       "886          887       NaN     NaN  ...   NaN          NaN       NaN\n",
       "887          888       NaN     NaN  ...   NaN          NaN       NaN\n",
       "888          889       NaN     NaN  ...   NaN          NaN       NaN\n",
       "889          890       NaN     NaN  ...   NaN          NaN       NaN\n",
       "890          891       NaN     NaN  ...   NaN          NaN       NaN\n",
       "\n",
       "[891 rows x 12 columns]"
      ]
     },
     "execution_count": null,
     "metadata": {},
     "output_type": "execute_result"
    }
   ],
   "source": [
    "df.mode()"
   ]
  },
  {
   "cell_type": "code",
   "execution_count": null,
   "id": "8009823c",
   "metadata": {
    "collapsed": true,
    "input_tokens": 13,
    "output_tokens": 198,
    "time_run": "7:44:36a"
   },
   "outputs": [
    {
     "data": {
      "text/plain": [
       "Ticket\n",
       "1601         0.007856\n",
       "CA. 2343     0.007856\n",
       "347082       0.007856\n",
       "3101295      0.006734\n",
       "CA 2144      0.006734\n",
       "               ...   \n",
       "A/5 21172    0.001122\n",
       "349219       0.001122\n",
       "234818       0.001122\n",
       "345364       0.001122\n",
       "A/5 2466     0.001122\n",
       "Name: proportion, Length: 681, dtype: float64"
      ]
     },
     "execution_count": null,
     "metadata": {},
     "output_type": "execute_result"
    }
   ],
   "source": [
    "df.Ticket.value_counts(normalize=True)"
   ]
  },
  {
   "cell_type": "code",
   "execution_count": null,
   "id": "73eed451",
   "metadata": {
    "collapsed": true,
    "input_tokens": 3,
    "output_tokens": 156,
    "time_run": "7:46:43a"
   },
   "outputs": [
    {
     "data": {
      "text/plain": [
       "PassengerId                      1\n",
       "Survived                       0.0\n",
       "Pclass                         3.0\n",
       "Name           Abbing, Mr. Anthony\n",
       "Sex                           male\n",
       "Age                           24.0\n",
       "SibSp                          0.0\n",
       "Parch                          0.0\n",
       "Ticket                        1601\n",
       "Fare                          8.05\n",
       "Cabin                      B96 B98\n",
       "Embarked                         S\n",
       "Name: 0, dtype: object"
      ]
     },
     "execution_count": null,
     "metadata": {},
     "output_type": "execute_result"
    }
   ],
   "source": [
    "modes"
   ]
  },
  {
   "cell_type": "code",
   "execution_count": null,
   "id": "f9771fd8",
   "metadata": {
    "input_tokens": 13,
    "time_run": "7:47:10a"
   },
   "outputs": [],
   "source": [
    "df.fillna(modes,inplace=True)"
   ]
  },
  {
   "cell_type": "code",
   "execution_count": null,
   "id": "ae21a884",
   "metadata": {
    "collapsed": true,
    "input_tokens": 10,
    "output_tokens": 160,
    "time_run": "7:47:20a"
   },
   "outputs": [
    {
     "data": {
      "text/plain": [
       "PassengerId    0.0\n",
       "Survived       0.0\n",
       "Pclass         0.0\n",
       "Name           0.0\n",
       "Sex            0.0\n",
       "Age            0.0\n",
       "SibSp          0.0\n",
       "Parch          0.0\n",
       "Ticket         0.0\n",
       "Fare           0.0\n",
       "Cabin          0.0\n",
       "Embarked       0.0\n",
       "dtype: float64"
      ]
     },
     "execution_count": null,
     "metadata": {},
     "output_type": "execute_result"
    }
   ],
   "source": [
    "df.isna().sum()/891"
   ]
  },
  {
   "cell_type": "code",
   "execution_count": null,
   "id": "86a00e2b",
   "metadata": {
    "collapsed": true,
    "input_tokens": 10,
    "output_tokens": 3559,
    "time_run": "7:47:45a"
   },
   "outputs": [
    {
     "data": {
      "text/html": [
       "<style type=\"text/css\">\n",
       "#T_8d848 th {\n",
       "  font-weight: bold;\n",
       "  background-color: #4CAF50;\n",
       "  color: white;\n",
       "  padding: 10px;\n",
       "  text-align: left;\n",
       "}\n",
       "#T_8d848 td {\n",
       "  padding: 8px;\n",
       "  border-bottom: 1px solid #ddd;\n",
       "}\n",
       "#T_8d848 tr:nth-child(even) {\n",
       "  background-color: #f2f2f2;\n",
       "}\n",
       "#T_8d848 tr:hover {\n",
       "  background-color: #ddd;\n",
       "}\n",
       "</style>\n",
       "<table id=\"T_8d848\" class=\"dataframe\" style=\"width:100%; border-collapse: collapse\">\n",
       "  <thead>\n",
       "    <tr>\n",
       "      <th class=\"blank level0\" >&nbsp;</th>\n",
       "      <th id=\"T_8d848_level0_col0\" class=\"col_heading level0 col0\" >PassengerId</th>\n",
       "      <th id=\"T_8d848_level0_col1\" class=\"col_heading level0 col1\" >Survived</th>\n",
       "      <th id=\"T_8d848_level0_col2\" class=\"col_heading level0 col2\" >Pclass</th>\n",
       "      <th id=\"T_8d848_level0_col3\" class=\"col_heading level0 col3\" >Age</th>\n",
       "      <th id=\"T_8d848_level0_col4\" class=\"col_heading level0 col4\" >SibSp</th>\n",
       "      <th id=\"T_8d848_level0_col5\" class=\"col_heading level0 col5\" >Parch</th>\n",
       "      <th id=\"T_8d848_level0_col6\" class=\"col_heading level0 col6\" >Fare</th>\n",
       "    </tr>\n",
       "  </thead>\n",
       "  <tbody>\n",
       "    <tr>\n",
       "      <th id=\"T_8d848_level0_row0\" class=\"row_heading level0 row0\" >count</th>\n",
       "      <td id=\"T_8d848_row0_col0\" class=\"data row0 col0\" >891.000</td>\n",
       "      <td id=\"T_8d848_row0_col1\" class=\"data row0 col1\" >891.000</td>\n",
       "      <td id=\"T_8d848_row0_col2\" class=\"data row0 col2\" >891.000</td>\n",
       "      <td id=\"T_8d848_row0_col3\" class=\"data row0 col3\" >891.000</td>\n",
       "      <td id=\"T_8d848_row0_col4\" class=\"data row0 col4\" >891.000</td>\n",
       "      <td id=\"T_8d848_row0_col5\" class=\"data row0 col5\" >891.000</td>\n",
       "      <td id=\"T_8d848_row0_col6\" class=\"data row0 col6\" >891.000</td>\n",
       "    </tr>\n",
       "    <tr>\n",
       "      <th id=\"T_8d848_level0_row1\" class=\"row_heading level0 row1\" >mean</th>\n",
       "      <td id=\"T_8d848_row1_col0\" class=\"data row1 col0\" >446.000</td>\n",
       "      <td id=\"T_8d848_row1_col1\" class=\"data row1 col1\" >0.384</td>\n",
       "      <td id=\"T_8d848_row1_col2\" class=\"data row1 col2\" >2.309</td>\n",
       "      <td id=\"T_8d848_row1_col3\" class=\"data row1 col3\" >28.567</td>\n",
       "      <td id=\"T_8d848_row1_col4\" class=\"data row1 col4\" >0.523</td>\n",
       "      <td id=\"T_8d848_row1_col5\" class=\"data row1 col5\" >0.382</td>\n",
       "      <td id=\"T_8d848_row1_col6\" class=\"data row1 col6\" >32.204</td>\n",
       "    </tr>\n",
       "    <tr>\n",
       "      <th id=\"T_8d848_level0_row2\" class=\"row_heading level0 row2\" >std</th>\n",
       "      <td id=\"T_8d848_row2_col0\" class=\"data row2 col0\" >257.354</td>\n",
       "      <td id=\"T_8d848_row2_col1\" class=\"data row2 col1\" >0.487</td>\n",
       "      <td id=\"T_8d848_row2_col2\" class=\"data row2 col2\" >0.836</td>\n",
       "      <td id=\"T_8d848_row2_col3\" class=\"data row2 col3\" >13.200</td>\n",
       "      <td id=\"T_8d848_row2_col4\" class=\"data row2 col4\" >1.103</td>\n",
       "      <td id=\"T_8d848_row2_col5\" class=\"data row2 col5\" >0.806</td>\n",
       "      <td id=\"T_8d848_row2_col6\" class=\"data row2 col6\" >49.693</td>\n",
       "    </tr>\n",
       "    <tr>\n",
       "      <th id=\"T_8d848_level0_row3\" class=\"row_heading level0 row3\" >min</th>\n",
       "      <td id=\"T_8d848_row3_col0\" class=\"data row3 col0\" >1.000</td>\n",
       "      <td id=\"T_8d848_row3_col1\" class=\"data row3 col1\" >0.000</td>\n",
       "      <td id=\"T_8d848_row3_col2\" class=\"data row3 col2\" >1.000</td>\n",
       "      <td id=\"T_8d848_row3_col3\" class=\"data row3 col3\" >0.420</td>\n",
       "      <td id=\"T_8d848_row3_col4\" class=\"data row3 col4\" >0.000</td>\n",
       "      <td id=\"T_8d848_row3_col5\" class=\"data row3 col5\" >0.000</td>\n",
       "      <td id=\"T_8d848_row3_col6\" class=\"data row3 col6\" >0.000</td>\n",
       "    </tr>\n",
       "    <tr>\n",
       "      <th id=\"T_8d848_level0_row4\" class=\"row_heading level0 row4\" >25%</th>\n",
       "      <td id=\"T_8d848_row4_col0\" class=\"data row4 col0\" >223.500</td>\n",
       "      <td id=\"T_8d848_row4_col1\" class=\"data row4 col1\" >0.000</td>\n",
       "      <td id=\"T_8d848_row4_col2\" class=\"data row4 col2\" >2.000</td>\n",
       "      <td id=\"T_8d848_row4_col3\" class=\"data row4 col3\" >22.000</td>\n",
       "      <td id=\"T_8d848_row4_col4\" class=\"data row4 col4\" >0.000</td>\n",
       "      <td id=\"T_8d848_row4_col5\" class=\"data row4 col5\" >0.000</td>\n",
       "      <td id=\"T_8d848_row4_col6\" class=\"data row4 col6\" >7.910</td>\n",
       "    </tr>\n",
       "    <tr>\n",
       "      <th id=\"T_8d848_level0_row5\" class=\"row_heading level0 row5\" >50%</th>\n",
       "      <td id=\"T_8d848_row5_col0\" class=\"data row5 col0\" >446.000</td>\n",
       "      <td id=\"T_8d848_row5_col1\" class=\"data row5 col1\" >0.000</td>\n",
       "      <td id=\"T_8d848_row5_col2\" class=\"data row5 col2\" >3.000</td>\n",
       "      <td id=\"T_8d848_row5_col3\" class=\"data row5 col3\" >24.000</td>\n",
       "      <td id=\"T_8d848_row5_col4\" class=\"data row5 col4\" >0.000</td>\n",
       "      <td id=\"T_8d848_row5_col5\" class=\"data row5 col5\" >0.000</td>\n",
       "      <td id=\"T_8d848_row5_col6\" class=\"data row5 col6\" >14.454</td>\n",
       "    </tr>\n",
       "    <tr>\n",
       "      <th id=\"T_8d848_level0_row6\" class=\"row_heading level0 row6\" >75%</th>\n",
       "      <td id=\"T_8d848_row6_col0\" class=\"data row6 col0\" >668.500</td>\n",
       "      <td id=\"T_8d848_row6_col1\" class=\"data row6 col1\" >1.000</td>\n",
       "      <td id=\"T_8d848_row6_col2\" class=\"data row6 col2\" >3.000</td>\n",
       "      <td id=\"T_8d848_row6_col3\" class=\"data row6 col3\" >35.000</td>\n",
       "      <td id=\"T_8d848_row6_col4\" class=\"data row6 col4\" >1.000</td>\n",
       "      <td id=\"T_8d848_row6_col5\" class=\"data row6 col5\" >0.000</td>\n",
       "      <td id=\"T_8d848_row6_col6\" class=\"data row6 col6\" >31.000</td>\n",
       "    </tr>\n",
       "    <tr>\n",
       "      <th id=\"T_8d848_level0_row7\" class=\"row_heading level0 row7\" >max</th>\n",
       "      <td id=\"T_8d848_row7_col0\" class=\"data row7 col0\" >891.000</td>\n",
       "      <td id=\"T_8d848_row7_col1\" class=\"data row7 col1\" >1.000</td>\n",
       "      <td id=\"T_8d848_row7_col2\" class=\"data row7 col2\" >3.000</td>\n",
       "      <td id=\"T_8d848_row7_col3\" class=\"data row7 col3\" >80.000</td>\n",
       "      <td id=\"T_8d848_row7_col4\" class=\"data row7 col4\" >8.000</td>\n",
       "      <td id=\"T_8d848_row7_col5\" class=\"data row7 col5\" >6.000</td>\n",
       "      <td id=\"T_8d848_row7_col6\" class=\"data row7 col6\" >512.329</td>\n",
       "    </tr>\n",
       "  </tbody>\n",
       "</table>\n"
      ],
      "text/plain": [
       "       PassengerId    Survived      Pclass  ...       SibSp       Parch        Fare\n",
       "count   891.000000  891.000000  891.000000  ...  891.000000  891.000000  891.000000\n",
       "mean    446.000000    0.383838    2.308642  ...    0.523008    0.381594   32.204208\n",
       "std     257.353842    0.486592    0.836071  ...    1.102743    0.806057   49.693429\n",
       "min       1.000000    0.000000    1.000000  ...    0.000000    0.000000    0.000000\n",
       "25%     223.500000    0.000000    2.000000  ...    0.000000    0.000000    7.910400\n",
       "50%     446.000000    0.000000    3.000000  ...    0.000000    0.000000   14.454200\n",
       "75%     668.500000    1.000000    3.000000  ...    1.000000    0.000000   31.000000\n",
       "max     891.000000    1.000000    3.000000  ...    8.000000    6.000000  512.329200\n",
       "\n",
       "[8 rows x 7 columns]"
      ]
     },
     "execution_count": null,
     "metadata": {},
     "output_type": "execute_result"
    }
   ],
   "source": [
    "df.describe(include=(np.number))"
   ]
  },
  {
   "cell_type": "code",
   "execution_count": null,
   "id": "e8ed1842",
   "metadata": {
    "collapsed": true,
    "input_tokens": 9,
    "output_tokens": 124,
    "time_run": "7:53:33a"
   },
   "outputs": [
    {
     "data": {
      "text/plain": [
       "PassengerId    0\n",
       "Survived       0\n",
       "Pclass         0\n",
       "Name           0\n",
       "Sex            0\n",
       "Age            0\n",
       "SibSp          0\n",
       "Parch          0\n",
       "Ticket         0\n",
       "Fare           0\n",
       "Cabin          0\n",
       "Embarked       0\n",
       "dtype: int64"
      ]
     },
     "execution_count": null,
     "metadata": {},
     "output_type": "execute_result"
    }
   ],
   "source": [
    "df.isna().sum()"
   ]
  },
  {
   "cell_type": "code",
   "execution_count": null,
   "id": "8c0c3c6b",
   "metadata": {
    "collapsed": true,
    "input_tokens": 9,
    "output_tokens": 120,
    "time_run": "7:56:50a"
   },
   "outputs": [
    {
     "data": {
      "image/png": "[encoded data removed]",
      "text/plain": [
       "<Figure size 576x432 with 1 Axes>"
      ]
     },
     "metadata": {
      "image/png": {
       "height": 371,
       "width": 497
      }
     },
     "output_type": "display_data"
    },
    {
     "data": {
      "text/plain": [
       "<Axes: >"
      ]
     },
     "execution_count": null,
     "metadata": {},
     "output_type": "execute_result"
    }
   ],
   "source": [
    "df['Fare'].hist()"
   ]
  },
  {
   "cell_type": "code",
   "execution_count": null,
   "id": "1abf9b10",
   "metadata": {
    "input_tokens": 22,
    "time_run": "7:57:49a"
   },
   "outputs": [],
   "source": [
    "df['LogFare'] = np.log(df['Fare']+1)\n"
   ]
  },
  {
   "cell_type": "code",
   "execution_count": null,
   "id": "fade7437",
   "metadata": {
    "collapsed": true,
    "input_tokens": 10,
    "output_tokens": 120,
    "time_run": "7:58:16a"
   },
   "outputs": [
    {
     "data": {
      "image/png": "[encoded data removed]",
      "text/plain": [
       "<Figure size 576x432 with 1 Axes>"
      ]
     },
     "metadata": {
      "image/png": {
       "height": 371,
       "width": 497
      }
     },
     "output_type": "display_data"
    },
    {
     "data": {
      "text/plain": [
       "<Axes: >"
      ]
     },
     "execution_count": null,
     "metadata": {},
     "output_type": "execute_result"
    }
   ],
   "source": [
    "df['LogFare'].hist()"
   ]
  },
  {
   "cell_type": "code",
   "execution_count": null,
   "id": "b01831d2",
   "metadata": {
    "input_tokens": 27,
    "time_run": "8:00:54a"
   },
   "outputs": [],
   "source": [
    "df = pd.get_dummies(df, columns=['Sex','Pclass','Embarked'])\n"
   ]
  },
  {
   "cell_type": "code",
   "execution_count": null,
   "id": "80168a1a",
   "metadata": {
    "collapsed": true,
    "input_tokens": 1,
    "output_tokens": 9504,
    "time_run": "8:00:57a"
   },
   "outputs": [
    {
     "data": {
      "text/html": [
       "<style type=\"text/css\">\n",
       "#T_3369b th {\n",
       "  font-weight: bold;\n",
       "  background-color: #4CAF50;\n",
       "  color: white;\n",
       "  padding: 10px;\n",
       "  text-align: left;\n",
       "}\n",
       "#T_3369b td {\n",
       "  padding: 8px;\n",
       "  border-bottom: 1px solid #ddd;\n",
       "}\n",
       "#T_3369b tr:nth-child(even) {\n",
       "  background-color: #f2f2f2;\n",
       "}\n",
       "#T_3369b tr:hover {\n",
       "  background-color: #ddd;\n",
       "}\n",
       "</style>\n",
       "<table id=\"T_3369b\" class=\"dataframe\" style=\"width:100%; border-collapse: collapse\">\n",
       "  <thead>\n",
       "    <tr>\n",
       "      <th class=\"blank level0\" >&nbsp;</th>\n",
       "      <th id=\"T_3369b_level0_col0\" class=\"col_heading level0 col0\" >PassengerId</th>\n",
       "      <th id=\"T_3369b_level0_col1\" class=\"col_heading level0 col1\" >Survived</th>\n",
       "      <th id=\"T_3369b_level0_col2\" class=\"col_heading level0 col2\" >Name</th>\n",
       "      <th id=\"T_3369b_level0_col3\" class=\"col_heading level0 col3\" >Age</th>\n",
       "      <th id=\"T_3369b_level0_col4\" class=\"col_heading level0 col4\" >SibSp</th>\n",
       "      <th id=\"T_3369b_level0_col5\" class=\"col_heading level0 col5\" >Parch</th>\n",
       "      <th id=\"T_3369b_level0_col6\" class=\"col_heading level0 col6\" >Ticket</th>\n",
       "      <th id=\"T_3369b_level0_col7\" class=\"col_heading level0 col7\" >Fare</th>\n",
       "      <th id=\"T_3369b_level0_col8\" class=\"col_heading level0 col8\" >Cabin</th>\n",
       "      <th id=\"T_3369b_level0_col9\" class=\"col_heading level0 col9\" >LogFare</th>\n",
       "      <th id=\"T_3369b_level0_col10\" class=\"col_heading level0 col10\" >Sex_female</th>\n",
       "      <th id=\"T_3369b_level0_col11\" class=\"col_heading level0 col11\" >Sex_male</th>\n",
       "      <th id=\"T_3369b_level0_col12\" class=\"col_heading level0 col12\" >Pclass_1</th>\n",
       "      <th id=\"T_3369b_level0_col13\" class=\"col_heading level0 col13\" >Pclass_2</th>\n",
       "      <th id=\"T_3369b_level0_col14\" class=\"col_heading level0 col14\" >Pclass_3</th>\n",
       "      <th id=\"T_3369b_level0_col15\" class=\"col_heading level0 col15\" >Embarked_C</th>\n",
       "      <th id=\"T_3369b_level0_col16\" class=\"col_heading level0 col16\" >Embarked_Q</th>\n",
       "      <th id=\"T_3369b_level0_col17\" class=\"col_heading level0 col17\" >Embarked_S</th>\n",
       "    </tr>\n",
       "  </thead>\n",
       "  <tbody>\n",
       "    <tr>\n",
       "      <th id=\"T_3369b_level0_row0\" class=\"row_heading level0 row0\" >0</th>\n",
       "      <td id=\"T_3369b_row0_col0\" class=\"data row0 col0\" >1</td>\n",
       "      <td id=\"T_3369b_row0_col1\" class=\"data row0 col1\" >0</td>\n",
       "      <td id=\"T_3369b_row0_col2\" class=\"data row0 col2\" >Braund, Mr. Owen Harris</td>\n",
       "      <td id=\"T_3369b_row0_col3\" class=\"data row0 col3\" >22.000</td>\n",
       "      <td id=\"T_3369b_row0_col4\" class=\"data row0 col4\" >1</td>\n",
       "      <td id=\"T_3369b_row0_col5\" class=\"data row0 col5\" >0</td>\n",
       "      <td id=\"T_3369b_row0_col6\" class=\"data row0 col6\" >A/5 21171</td>\n",
       "      <td id=\"T_3369b_row0_col7\" class=\"data row0 col7\" >7.250</td>\n",
       "      <td id=\"T_3369b_row0_col8\" class=\"data row0 col8\" >B96 B98</td>\n",
       "      <td id=\"T_3369b_row0_col9\" class=\"data row0 col9\" >2.110</td>\n",
       "      <td id=\"T_3369b_row0_col10\" class=\"data row0 col10\" >False</td>\n",
       "      <td id=\"T_3369b_row0_col11\" class=\"data row0 col11\" >True</td>\n",
       "      <td id=\"T_3369b_row0_col12\" class=\"data row0 col12\" >False</td>\n",
       "      <td id=\"T_3369b_row0_col13\" class=\"data row0 col13\" >False</td>\n",
       "      <td id=\"T_3369b_row0_col14\" class=\"data row0 col14\" >True</td>\n",
       "      <td id=\"T_3369b_row0_col15\" class=\"data row0 col15\" >False</td>\n",
       "      <td id=\"T_3369b_row0_col16\" class=\"data row0 col16\" >False</td>\n",
       "      <td id=\"T_3369b_row0_col17\" class=\"data row0 col17\" >True</td>\n",
       "    </tr>\n",
       "    <tr>\n",
       "      <th id=\"T_3369b_level0_row1\" class=\"row_heading level0 row1\" >1</th>\n",
       "      <td id=\"T_3369b_row1_col0\" class=\"data row1 col0\" >2</td>\n",
       "      <td id=\"T_3369b_row1_col1\" class=\"data row1 col1\" >1</td>\n",
       "      <td id=\"T_3369b_row1_col2\" class=\"data row1 col2\" >Cumings, Mrs. John Bradley (Florence Briggs Thayer)</td>\n",
       "      <td id=\"T_3369b_row1_col3\" class=\"data row1 col3\" >38.000</td>\n",
       "      <td id=\"T_3369b_row1_col4\" class=\"data row1 col4\" >1</td>\n",
       "      <td id=\"T_3369b_row1_col5\" class=\"data row1 col5\" >0</td>\n",
       "      <td id=\"T_3369b_row1_col6\" class=\"data row1 col6\" >PC 17599</td>\n",
       "      <td id=\"T_3369b_row1_col7\" class=\"data row1 col7\" >71.283</td>\n",
       "      <td id=\"T_3369b_row1_col8\" class=\"data row1 col8\" >C85</td>\n",
       "      <td id=\"T_3369b_row1_col9\" class=\"data row1 col9\" >4.281</td>\n",
       "      <td id=\"T_3369b_row1_col10\" class=\"data row1 col10\" >True</td>\n",
       "      <td id=\"T_3369b_row1_col11\" class=\"data row1 col11\" >False</td>\n",
       "      <td id=\"T_3369b_row1_col12\" class=\"data row1 col12\" >True</td>\n",
       "      <td id=\"T_3369b_row1_col13\" class=\"data row1 col13\" >False</td>\n",
       "      <td id=\"T_3369b_row1_col14\" class=\"data row1 col14\" >False</td>\n",
       "      <td id=\"T_3369b_row1_col15\" class=\"data row1 col15\" >True</td>\n",
       "      <td id=\"T_3369b_row1_col16\" class=\"data row1 col16\" >False</td>\n",
       "      <td id=\"T_3369b_row1_col17\" class=\"data row1 col17\" >False</td>\n",
       "    </tr>\n",
       "    <tr>\n",
       "      <th id=\"T_3369b_level0_row2\" class=\"row_heading level0 row2\" >2</th>\n",
       "      <td id=\"T_3369b_row2_col0\" class=\"data row2 col0\" >3</td>\n",
       "      <td id=\"T_3369b_row2_col1\" class=\"data row2 col1\" >1</td>\n",
       "      <td id=\"T_3369b_row2_col2\" class=\"data row2 col2\" >Heikkinen, Miss. Laina</td>\n",
       "      <td id=\"T_3369b_row2_col3\" class=\"data row2 col3\" >26.000</td>\n",
       "      <td id=\"T_3369b_row2_col4\" class=\"data row2 col4\" >0</td>\n",
       "      <td id=\"T_3369b_row2_col5\" class=\"data row2 col5\" >0</td>\n",
       "      <td id=\"T_3369b_row2_col6\" class=\"data row2 col6\" >STON/O2. 3101282</td>\n",
       "      <td id=\"T_3369b_row2_col7\" class=\"data row2 col7\" >7.925</td>\n",
       "      <td id=\"T_3369b_row2_col8\" class=\"data row2 col8\" >B96 B98</td>\n",
       "      <td id=\"T_3369b_row2_col9\" class=\"data row2 col9\" >2.189</td>\n",
       "      <td id=\"T_3369b_row2_col10\" class=\"data row2 col10\" >True</td>\n",
       "      <td id=\"T_3369b_row2_col11\" class=\"data row2 col11\" >False</td>\n",
       "      <td id=\"T_3369b_row2_col12\" class=\"data row2 col12\" >False</td>\n",
       "      <td id=\"T_3369b_row2_col13\" class=\"data row2 col13\" >False</td>\n",
       "      <td id=\"T_3369b_row2_col14\" class=\"data row2 col14\" >True</td>\n",
       "      <td id=\"T_3369b_row2_col15\" class=\"data row2 col15\" >False</td>\n",
       "      <td id=\"T_3369b_row2_col16\" class=\"data row2 col16\" >False</td>\n",
       "      <td id=\"T_3369b_row2_col17\" class=\"data row2 col17\" >True</td>\n",
       "    </tr>\n",
       "    <tr>\n",
       "      <th id=\"T_3369b_level0_row3\" class=\"row_heading level0 row3\" >3</th>\n",
       "      <td id=\"T_3369b_row3_col0\" class=\"data row3 col0\" >4</td>\n",
       "      <td id=\"T_3369b_row3_col1\" class=\"data row3 col1\" >1</td>\n",
       "      <td id=\"T_3369b_row3_col2\" class=\"data row3 col2\" >Futrelle, Mrs. Jacques Heath (Lily May Peel)</td>\n",
       "      <td id=\"T_3369b_row3_col3\" class=\"data row3 col3\" >35.000</td>\n",
       "      <td id=\"T_3369b_row3_col4\" class=\"data row3 col4\" >1</td>\n",
       "      <td id=\"T_3369b_row3_col5\" class=\"data row3 col5\" >0</td>\n",
       "      <td id=\"T_3369b_row3_col6\" class=\"data row3 col6\" >113803</td>\n",
       "      <td id=\"T_3369b_row3_col7\" class=\"data row3 col7\" >53.100</td>\n",
       "      <td id=\"T_3369b_row3_col8\" class=\"data row3 col8\" >C123</td>\n",
       "      <td id=\"T_3369b_row3_col9\" class=\"data row3 col9\" >3.991</td>\n",
       "      <td id=\"T_3369b_row3_col10\" class=\"data row3 col10\" >True</td>\n",
       "      <td id=\"T_3369b_row3_col11\" class=\"data row3 col11\" >False</td>\n",
       "      <td id=\"T_3369b_row3_col12\" class=\"data row3 col12\" >True</td>\n",
       "      <td id=\"T_3369b_row3_col13\" class=\"data row3 col13\" >False</td>\n",
       "      <td id=\"T_3369b_row3_col14\" class=\"data row3 col14\" >False</td>\n",
       "      <td id=\"T_3369b_row3_col15\" class=\"data row3 col15\" >False</td>\n",
       "      <td id=\"T_3369b_row3_col16\" class=\"data row3 col16\" >False</td>\n",
       "      <td id=\"T_3369b_row3_col17\" class=\"data row3 col17\" >True</td>\n",
       "    </tr>\n",
       "    <tr>\n",
       "      <th id=\"T_3369b_level0_row4\" class=\"row_heading level0 row4\" >4</th>\n",
       "      <td id=\"T_3369b_row4_col0\" class=\"data row4 col0\" >5</td>\n",
       "      <td id=\"T_3369b_row4_col1\" class=\"data row4 col1\" >0</td>\n",
       "      <td id=\"T_3369b_row4_col2\" class=\"data row4 col2\" >Allen, Mr. William Henry</td>\n",
       "      <td id=\"T_3369b_row4_col3\" class=\"data row4 col3\" >35.000</td>\n",
       "      <td id=\"T_3369b_row4_col4\" class=\"data row4 col4\" >0</td>\n",
       "      <td id=\"T_3369b_row4_col5\" class=\"data row4 col5\" >0</td>\n",
       "      <td id=\"T_3369b_row4_col6\" class=\"data row4 col6\" >373450</td>\n",
       "      <td id=\"T_3369b_row4_col7\" class=\"data row4 col7\" >8.050</td>\n",
       "      <td id=\"T_3369b_row4_col8\" class=\"data row4 col8\" >B96 B98</td>\n",
       "      <td id=\"T_3369b_row4_col9\" class=\"data row4 col9\" >2.203</td>\n",
       "      <td id=\"T_3369b_row4_col10\" class=\"data row4 col10\" >False</td>\n",
       "      <td id=\"T_3369b_row4_col11\" class=\"data row4 col11\" >True</td>\n",
       "      <td id=\"T_3369b_row4_col12\" class=\"data row4 col12\" >False</td>\n",
       "      <td id=\"T_3369b_row4_col13\" class=\"data row4 col13\" >False</td>\n",
       "      <td id=\"T_3369b_row4_col14\" class=\"data row4 col14\" >True</td>\n",
       "      <td id=\"T_3369b_row4_col15\" class=\"data row4 col15\" >False</td>\n",
       "      <td id=\"T_3369b_row4_col16\" class=\"data row4 col16\" >False</td>\n",
       "      <td id=\"T_3369b_row4_col17\" class=\"data row4 col17\" >True</td>\n",
       "    </tr>\n",
       "    <tr>\n",
       "      <th id=\"T_3369b_level0_row5\" class=\"row_heading level0 row5\" >5</th>\n",
       "      <td id=\"T_3369b_row5_col0\" class=\"data row5 col0\" >6</td>\n",
       "      <td id=\"T_3369b_row5_col1\" class=\"data row5 col1\" >0</td>\n",
       "      <td id=\"T_3369b_row5_col2\" class=\"data row5 col2\" >Moran, Mr. James</td>\n",
       "      <td id=\"T_3369b_row5_col3\" class=\"data row5 col3\" >24.000</td>\n",
       "      <td id=\"T_3369b_row5_col4\" class=\"data row5 col4\" >0</td>\n",
       "      <td id=\"T_3369b_row5_col5\" class=\"data row5 col5\" >0</td>\n",
       "      <td id=\"T_3369b_row5_col6\" class=\"data row5 col6\" >330877</td>\n",
       "      <td id=\"T_3369b_row5_col7\" class=\"data row5 col7\" >8.458</td>\n",
       "      <td id=\"T_3369b_row5_col8\" class=\"data row5 col8\" >B96 B98</td>\n",
       "      <td id=\"T_3369b_row5_col9\" class=\"data row5 col9\" >2.247</td>\n",
       "      <td id=\"T_3369b_row5_col10\" class=\"data row5 col10\" >False</td>\n",
       "      <td id=\"T_3369b_row5_col11\" class=\"data row5 col11\" >True</td>\n",
       "      <td id=\"T_3369b_row5_col12\" class=\"data row5 col12\" >False</td>\n",
       "      <td id=\"T_3369b_row5_col13\" class=\"data row5 col13\" >False</td>\n",
       "      <td id=\"T_3369b_row5_col14\" class=\"data row5 col14\" >True</td>\n",
       "      <td id=\"T_3369b_row5_col15\" class=\"data row5 col15\" >False</td>\n",
       "      <td id=\"T_3369b_row5_col16\" class=\"data row5 col16\" >True</td>\n",
       "      <td id=\"T_3369b_row5_col17\" class=\"data row5 col17\" >False</td>\n",
       "    </tr>\n",
       "    <tr>\n",
       "      <th id=\"T_3369b_level0_row6\" class=\"row_heading level0 row6\" >6</th>\n",
       "      <td id=\"T_3369b_row6_col0\" class=\"data row6 col0\" >7</td>\n",
       "      <td id=\"T_3369b_row6_col1\" class=\"data row6 col1\" >0</td>\n",
       "      <td id=\"T_3369b_row6_col2\" class=\"data row6 col2\" >McCarthy, Mr. Timothy J</td>\n",
       "      <td id=\"T_3369b_row6_col3\" class=\"data row6 col3\" >54.000</td>\n",
       "      <td id=\"T_3369b_row6_col4\" class=\"data row6 col4\" >0</td>\n",
       "      <td id=\"T_3369b_row6_col5\" class=\"data row6 col5\" >0</td>\n",
       "      <td id=\"T_3369b_row6_col6\" class=\"data row6 col6\" >17463</td>\n",
       "      <td id=\"T_3369b_row6_col7\" class=\"data row6 col7\" >51.862</td>\n",
       "      <td id=\"T_3369b_row6_col8\" class=\"data row6 col8\" >E46</td>\n",
       "      <td id=\"T_3369b_row6_col9\" class=\"data row6 col9\" >3.968</td>\n",
       "      <td id=\"T_3369b_row6_col10\" class=\"data row6 col10\" >False</td>\n",
       "      <td id=\"T_3369b_row6_col11\" class=\"data row6 col11\" >True</td>\n",
       "      <td id=\"T_3369b_row6_col12\" class=\"data row6 col12\" >True</td>\n",
       "      <td id=\"T_3369b_row6_col13\" class=\"data row6 col13\" >False</td>\n",
       "      <td id=\"T_3369b_row6_col14\" class=\"data row6 col14\" >False</td>\n",
       "      <td id=\"T_3369b_row6_col15\" class=\"data row6 col15\" >False</td>\n",
       "      <td id=\"T_3369b_row6_col16\" class=\"data row6 col16\" >False</td>\n",
       "      <td id=\"T_3369b_row6_col17\" class=\"data row6 col17\" >True</td>\n",
       "    </tr>\n",
       "    <tr>\n",
       "      <th id=\"T_3369b_level0_row7\" class=\"row_heading level0 row7\" >7</th>\n",
       "      <td id=\"T_3369b_row7_col0\" class=\"data row7 col0\" >8</td>\n",
       "      <td id=\"T_3369b_row7_col1\" class=\"data row7 col1\" >0</td>\n",
       "      <td id=\"T_3369b_row7_col2\" class=\"data row7 col2\" >Palsson, Master. Gosta Leonard</td>\n",
       "      <td id=\"T_3369b_row7_col3\" class=\"data row7 col3\" >2.000</td>\n",
       "      <td id=\"T_3369b_row7_col4\" class=\"data row7 col4\" >3</td>\n",
       "      <td id=\"T_3369b_row7_col5\" class=\"data row7 col5\" >1</td>\n",
       "      <td id=\"T_3369b_row7_col6\" class=\"data row7 col6\" >349909</td>\n",
       "      <td id=\"T_3369b_row7_col7\" class=\"data row7 col7\" >21.075</td>\n",
       "      <td id=\"T_3369b_row7_col8\" class=\"data row7 col8\" >B96 B98</td>\n",
       "      <td id=\"T_3369b_row7_col9\" class=\"data row7 col9\" >3.094</td>\n",
       "      <td id=\"T_3369b_row7_col10\" class=\"data row7 col10\" >False</td>\n",
       "      <td id=\"T_3369b_row7_col11\" class=\"data row7 col11\" >True</td>\n",
       "      <td id=\"T_3369b_row7_col12\" class=\"data row7 col12\" >False</td>\n",
       "      <td id=\"T_3369b_row7_col13\" class=\"data row7 col13\" >False</td>\n",
       "      <td id=\"T_3369b_row7_col14\" class=\"data row7 col14\" >True</td>\n",
       "      <td id=\"T_3369b_row7_col15\" class=\"data row7 col15\" >False</td>\n",
       "      <td id=\"T_3369b_row7_col16\" class=\"data row7 col16\" >False</td>\n",
       "      <td id=\"T_3369b_row7_col17\" class=\"data row7 col17\" >True</td>\n",
       "    </tr>\n",
       "    <tr>\n",
       "      <th id=\"T_3369b_level0_row8\" class=\"row_heading level0 row8\" >8</th>\n",
       "      <td id=\"T_3369b_row8_col0\" class=\"data row8 col0\" >9</td>\n",
       "      <td id=\"T_3369b_row8_col1\" class=\"data row8 col1\" >1</td>\n",
       "      <td id=\"T_3369b_row8_col2\" class=\"data row8 col2\" >Johnson, Mrs. Oscar W (Elisabeth Vilhelmina Berg)</td>\n",
       "      <td id=\"T_3369b_row8_col3\" class=\"data row8 col3\" >27.000</td>\n",
       "      <td id=\"T_3369b_row8_col4\" class=\"data row8 col4\" >0</td>\n",
       "      <td id=\"T_3369b_row8_col5\" class=\"data row8 col5\" >2</td>\n",
       "      <td id=\"T_3369b_row8_col6\" class=\"data row8 col6\" >347742</td>\n",
       "      <td id=\"T_3369b_row8_col7\" class=\"data row8 col7\" >11.133</td>\n",
       "      <td id=\"T_3369b_row8_col8\" class=\"data row8 col8\" >B96 B98</td>\n",
       "      <td id=\"T_3369b_row8_col9\" class=\"data row8 col9\" >2.496</td>\n",
       "      <td id=\"T_3369b_row8_col10\" class=\"data row8 col10\" >True</td>\n",
       "      <td id=\"T_3369b_row8_col11\" class=\"data row8 col11\" >False</td>\n",
       "      <td id=\"T_3369b_row8_col12\" class=\"data row8 col12\" >False</td>\n",
       "      <td id=\"T_3369b_row8_col13\" class=\"data row8 col13\" >False</td>\n",
       "      <td id=\"T_3369b_row8_col14\" class=\"data row8 col14\" >True</td>\n",
       "      <td id=\"T_3369b_row8_col15\" class=\"data row8 col15\" >False</td>\n",
       "      <td id=\"T_3369b_row8_col16\" class=\"data row8 col16\" >False</td>\n",
       "      <td id=\"T_3369b_row8_col17\" class=\"data row8 col17\" >True</td>\n",
       "    </tr>\n",
       "    <tr>\n",
       "      <th id=\"T_3369b_level0_row9\" class=\"row_heading level0 row9\" >9</th>\n",
       "      <td id=\"T_3369b_row9_col0\" class=\"data row9 col0\" >10</td>\n",
       "      <td id=\"T_3369b_row9_col1\" class=\"data row9 col1\" >1</td>\n",
       "      <td id=\"T_3369b_row9_col2\" class=\"data row9 col2\" >Nasser, Mrs. Nicholas (Adele Achem)</td>\n",
       "      <td id=\"T_3369b_row9_col3\" class=\"data row9 col3\" >14.000</td>\n",
       "      <td id=\"T_3369b_row9_col4\" class=\"data row9 col4\" >1</td>\n",
       "      <td id=\"T_3369b_row9_col5\" class=\"data row9 col5\" >0</td>\n",
       "      <td id=\"T_3369b_row9_col6\" class=\"data row9 col6\" >237736</td>\n",
       "      <td id=\"T_3369b_row9_col7\" class=\"data row9 col7\" >30.071</td>\n",
       "      <td id=\"T_3369b_row9_col8\" class=\"data row9 col8\" >B96 B98</td>\n",
       "      <td id=\"T_3369b_row9_col9\" class=\"data row9 col9\" >3.436</td>\n",
       "      <td id=\"T_3369b_row9_col10\" class=\"data row9 col10\" >True</td>\n",
       "      <td id=\"T_3369b_row9_col11\" class=\"data row9 col11\" >False</td>\n",
       "      <td id=\"T_3369b_row9_col12\" class=\"data row9 col12\" >False</td>\n",
       "      <td id=\"T_3369b_row9_col13\" class=\"data row9 col13\" >True</td>\n",
       "      <td id=\"T_3369b_row9_col14\" class=\"data row9 col14\" >False</td>\n",
       "      <td id=\"T_3369b_row9_col15\" class=\"data row9 col15\" >True</td>\n",
       "      <td id=\"T_3369b_row9_col16\" class=\"data row9 col16\" >False</td>\n",
       "      <td id=\"T_3369b_row9_col17\" class=\"data row9 col17\" >False</td>\n",
       "    </tr>\n",
       "  </tbody>\n",
       "</table>\n"
      ],
      "text/plain": [
       "     PassengerId  Survived  ... Embarked_Q  Embarked_S\n",
       "0              1         0  ...      False        True\n",
       "1              2         1  ...      False       False\n",
       "2              3         1  ...      False        True\n",
       "3              4         1  ...      False        True\n",
       "4              5         0  ...      False        True\n",
       "..           ...       ...  ...        ...         ...\n",
       "886          887         0  ...      False        True\n",
       "887          888         1  ...      False        True\n",
       "888          889         0  ...      False        True\n",
       "889          890         1  ...      False       False\n",
       "890          891         0  ...       True       False\n",
       "\n",
       "[891 rows x 18 columns]"
      ]
     },
     "execution_count": null,
     "metadata": {},
     "output_type": "execute_result"
    }
   ],
   "source": [
    "df"
   ]
  },
  {
   "cell_type": "code",
   "execution_count": null,
   "id": "c768bd1b",
   "metadata": {
    "input_tokens": 3,
    "output_tokens": 324,
    "time_run": "8:01:11a"
   },
   "outputs": [
    {
     "data": {
      "text/plain": [
       "Index(['PassengerId', 'Survived', 'Name', 'Age', 'SibSp', 'Parch', 'Ticket', 'Fare', 'Cabin', 'LogFare', 'Sex_female', 'Sex_male',\n",
       "       'Pclass_1', 'Pclass_2', 'Pclass_3', 'Embarked_C', 'Embarked_Q', 'Embarked_S'],\n",
       "      dtype='object')"
      ]
     },
     "execution_count": null,
     "metadata": {},
     "output_type": "execute_result"
    }
   ],
   "source": [
    "df.columns"
   ]
  },
  {
   "cell_type": "code",
   "execution_count": null,
   "id": "8446b3d7",
   "metadata": {
    "input_tokens": 7,
    "output_tokens": 172,
    "time_run": "8:02:42a"
   },
   "outputs": [
    {
     "data": {
      "text/plain": [
       "Index(['Sex_female', 'Sex_male', 'Pclass_1', 'Pclass_2', 'Pclass_3', 'Embarked_C', 'Embarked_Q', 'Embarked_S'], dtype='object')"
      ]
     },
     "execution_count": null,
     "metadata": {},
     "output_type": "execute_result"
    }
   ],
   "source": [
    "df.columns[-8:]"
   ]
  },
  {
   "cell_type": "code",
   "execution_count": null,
   "id": "37bbc5ff",
   "metadata": {
    "input_tokens": 13,
    "time_run": "8:03:01a"
   },
   "outputs": [],
   "source": [
    "addded_col =df.columns[-8:]"
   ]
  },
  {
   "cell_type": "code",
   "execution_count": null,
   "id": "14808bfb",
   "metadata": {
    "input_tokens": 4,
    "output_tokens": 172,
    "time_run": "8:03:05a"
   },
   "outputs": [
    {
     "data": {
      "text/plain": [
       "Index(['Sex_female', 'Sex_male', 'Pclass_1', 'Pclass_2', 'Pclass_3', 'Embarked_C', 'Embarked_Q', 'Embarked_S'], dtype='object')"
      ]
     },
     "execution_count": null,
     "metadata": {},
     "output_type": "execute_result"
    }
   ],
   "source": [
    "addded_col"
   ]
  },
  {
   "cell_type": "code",
   "execution_count": null,
   "id": "f360f3b4",
   "metadata": {
    "input_tokens": 15,
    "time_run": "8:03:36a"
   },
   "outputs": [],
   "source": [
    "addded_col =addded_col.to_list()"
   ]
  },
  {
   "cell_type": "code",
   "execution_count": null,
   "id": "061ab322",
   "metadata": {
    "input_tokens": 4,
    "output_tokens": 162,
    "time_run": "8:03:40a"
   },
   "outputs": [
    {
     "data": {
      "text/plain": [
       "['Sex_female',\n",
       " 'Sex_male',\n",
       " 'Pclass_1',\n",
       " 'Pclass_2',\n",
       " 'Pclass_3',\n",
       " 'Embarked_C',\n",
       " 'Embarked_Q',\n",
       " 'Embarked_S']"
      ]
     },
     "execution_count": null,
     "metadata": {},
     "output_type": "execute_result"
    }
   ],
   "source": [
    "addded_col"
   ]
  },
  {
   "cell_type": "code",
   "execution_count": null,
   "id": "eb34655c",
   "metadata": {
    "collapsed": true,
    "input_tokens": 1,
    "output_tokens": 9184,
    "time_run": "8:03:52a"
   },
   "outputs": [
    {
     "data": {
      "text/html": [
       "<style type=\"text/css\">\n",
       "#T_04535 th {\n",
       "  font-weight: bold;\n",
       "  background-color: #4CAF50;\n",
       "  color: white;\n",
       "  padding: 10px;\n",
       "  text-align: left;\n",
       "}\n",
       "#T_04535 td {\n",
       "  padding: 8px;\n",
       "  border-bottom: 1px solid #ddd;\n",
       "}\n",
       "#T_04535 tr:nth-child(even) {\n",
       "  background-color: #f2f2f2;\n",
       "}\n",
       "#T_04535 tr:hover {\n",
       "  background-color: #ddd;\n",
       "}\n",
       "</style>\n",
       "<table id=\"T_04535\" class=\"dataframe\" style=\"width:100%; border-collapse: collapse\">\n",
       "  <thead>\n",
       "    <tr>\n",
       "      <th class=\"blank level0\" >&nbsp;</th>\n",
       "      <th id=\"T_04535_level0_col0\" class=\"col_heading level0 col0\" >PassengerId</th>\n",
       "      <th id=\"T_04535_level0_col1\" class=\"col_heading level0 col1\" >Survived</th>\n",
       "      <th id=\"T_04535_level0_col2\" class=\"col_heading level0 col2\" >Name</th>\n",
       "      <th id=\"T_04535_level0_col3\" class=\"col_heading level0 col3\" >Age</th>\n",
       "      <th id=\"T_04535_level0_col4\" class=\"col_heading level0 col4\" >SibSp</th>\n",
       "      <th id=\"T_04535_level0_col5\" class=\"col_heading level0 col5\" >Parch</th>\n",
       "      <th id=\"T_04535_level0_col6\" class=\"col_heading level0 col6\" >Ticket</th>\n",
       "      <th id=\"T_04535_level0_col7\" class=\"col_heading level0 col7\" >Fare</th>\n",
       "      <th id=\"T_04535_level0_col8\" class=\"col_heading level0 col8\" >Cabin</th>\n",
       "      <th id=\"T_04535_level0_col9\" class=\"col_heading level0 col9\" >LogFare</th>\n",
       "      <th id=\"T_04535_level0_col10\" class=\"col_heading level0 col10\" >Sex_female</th>\n",
       "      <th id=\"T_04535_level0_col11\" class=\"col_heading level0 col11\" >Sex_male</th>\n",
       "      <th id=\"T_04535_level0_col12\" class=\"col_heading level0 col12\" >Pclass_1</th>\n",
       "      <th id=\"T_04535_level0_col13\" class=\"col_heading level0 col13\" >Pclass_2</th>\n",
       "      <th id=\"T_04535_level0_col14\" class=\"col_heading level0 col14\" >Pclass_3</th>\n",
       "      <th id=\"T_04535_level0_col15\" class=\"col_heading level0 col15\" >Embarked_C</th>\n",
       "      <th id=\"T_04535_level0_col16\" class=\"col_heading level0 col16\" >Embarked_Q</th>\n",
       "      <th id=\"T_04535_level0_col17\" class=\"col_heading level0 col17\" >Embarked_S</th>\n",
       "    </tr>\n",
       "  </thead>\n",
       "  <tbody>\n",
       "    <tr>\n",
       "      <th id=\"T_04535_level0_row0\" class=\"row_heading level0 row0\" >0</th>\n",
       "      <td id=\"T_04535_row0_col0\" class=\"data row0 col0\" >1</td>\n",
       "      <td id=\"T_04535_row0_col1\" class=\"data row0 col1\" >0</td>\n",
       "      <td id=\"T_04535_row0_col2\" class=\"data row0 col2\" >Braund, Mr. Owen Harris</td>\n",
       "      <td id=\"T_04535_row0_col3\" class=\"data row0 col3\" >22.000</td>\n",
       "      <td id=\"T_04535_row0_col4\" class=\"data row0 col4\" >1</td>\n",
       "      <td id=\"T_04535_row0_col5\" class=\"data row0 col5\" >0</td>\n",
       "      <td id=\"T_04535_row0_col6\" class=\"data row0 col6\" >A/5 21171</td>\n",
       "      <td id=\"T_04535_row0_col7\" class=\"data row0 col7\" >7.250</td>\n",
       "      <td id=\"T_04535_row0_col8\" class=\"data row0 col8\" >B96 B98</td>\n",
       "      <td id=\"T_04535_row0_col9\" class=\"data row0 col9\" >2.110</td>\n",
       "      <td id=\"T_04535_row0_col10\" class=\"data row0 col10\" >False</td>\n",
       "      <td id=\"T_04535_row0_col11\" class=\"data row0 col11\" >True</td>\n",
       "      <td id=\"T_04535_row0_col12\" class=\"data row0 col12\" >False</td>\n",
       "      <td id=\"T_04535_row0_col13\" class=\"data row0 col13\" >False</td>\n",
       "      <td id=\"T_04535_row0_col14\" class=\"data row0 col14\" >True</td>\n",
       "      <td id=\"T_04535_row0_col15\" class=\"data row0 col15\" >False</td>\n",
       "      <td id=\"T_04535_row0_col16\" class=\"data row0 col16\" >False</td>\n",
       "      <td id=\"T_04535_row0_col17\" class=\"data row0 col17\" >True</td>\n",
       "    </tr>\n",
       "    <tr>\n",
       "      <th id=\"T_04535_level0_row1\" class=\"row_heading level0 row1\" >1</th>\n",
       "      <td id=\"T_04535_row1_col0\" class=\"data row1 col0\" >2</td>\n",
       "      <td id=\"T_04535_row1_col1\" class=\"data row1 col1\" >1</td>\n",
       "      <td id=\"T_04535_row1_col2\" class=\"data row1 col2\" >Cumings, Mrs. John Bradley (Florence Briggs Thayer)</td>\n",
       "      <td id=\"T_04535_row1_col3\" class=\"data row1 col3\" >38.000</td>\n",
       "      <td id=\"T_04535_row1_col4\" class=\"data row1 col4\" >1</td>\n",
       "      <td id=\"T_04535_row1_col5\" class=\"data row1 col5\" >0</td>\n",
       "      <td id=\"T_04535_row1_col6\" class=\"data row1 col6\" >PC 17599</td>\n",
       "      <td id=\"T_04535_row1_col7\" class=\"data row1 col7\" >71.283</td>\n",
       "      <td id=\"T_04535_row1_col8\" class=\"data row1 col8\" >C85</td>\n",
       "      <td id=\"T_04535_row1_col9\" class=\"data row1 col9\" >4.281</td>\n",
       "      <td id=\"T_04535_row1_col10\" class=\"data row1 col10\" >True</td>\n",
       "      <td id=\"T_04535_row1_col11\" class=\"data row1 col11\" >False</td>\n",
       "      <td id=\"T_04535_row1_col12\" class=\"data row1 col12\" >True</td>\n",
       "      <td id=\"T_04535_row1_col13\" class=\"data row1 col13\" >False</td>\n",
       "      <td id=\"T_04535_row1_col14\" class=\"data row1 col14\" >False</td>\n",
       "      <td id=\"T_04535_row1_col15\" class=\"data row1 col15\" >True</td>\n",
       "      <td id=\"T_04535_row1_col16\" class=\"data row1 col16\" >False</td>\n",
       "      <td id=\"T_04535_row1_col17\" class=\"data row1 col17\" >False</td>\n",
       "    </tr>\n",
       "    <tr>\n",
       "      <th id=\"T_04535_level0_row2\" class=\"row_heading level0 row2\" >2</th>\n",
       "      <td id=\"T_04535_row2_col0\" class=\"data row2 col0\" >3</td>\n",
       "      <td id=\"T_04535_row2_col1\" class=\"data row2 col1\" >1</td>\n",
       "      <td id=\"T_04535_row2_col2\" class=\"data row2 col2\" >Heikkinen, Miss. Laina</td>\n",
       "      <td id=\"T_04535_row2_col3\" class=\"data row2 col3\" >26.000</td>\n",
       "      <td id=\"T_04535_row2_col4\" class=\"data row2 col4\" >0</td>\n",
       "      <td id=\"T_04535_row2_col5\" class=\"data row2 col5\" >0</td>\n",
       "      <td id=\"T_04535_row2_col6\" class=\"data row2 col6\" >STON/O2. 3101282</td>\n",
       "      <td id=\"T_04535_row2_col7\" class=\"data row2 col7\" >7.925</td>\n",
       "      <td id=\"T_04535_row2_col8\" class=\"data row2 col8\" >B96 B98</td>\n",
       "      <td id=\"T_04535_row2_col9\" class=\"data row2 col9\" >2.189</td>\n",
       "      <td id=\"T_04535_row2_col10\" class=\"data row2 col10\" >True</td>\n",
       "      <td id=\"T_04535_row2_col11\" class=\"data row2 col11\" >False</td>\n",
       "      <td id=\"T_04535_row2_col12\" class=\"data row2 col12\" >False</td>\n",
       "      <td id=\"T_04535_row2_col13\" class=\"data row2 col13\" >False</td>\n",
       "      <td id=\"T_04535_row2_col14\" class=\"data row2 col14\" >True</td>\n",
       "      <td id=\"T_04535_row2_col15\" class=\"data row2 col15\" >False</td>\n",
       "      <td id=\"T_04535_row2_col16\" class=\"data row2 col16\" >False</td>\n",
       "      <td id=\"T_04535_row2_col17\" class=\"data row2 col17\" >True</td>\n",
       "    </tr>\n",
       "    <tr>\n",
       "      <th id=\"T_04535_level0_row3\" class=\"row_heading level0 row3\" >3</th>\n",
       "      <td id=\"T_04535_row3_col0\" class=\"data row3 col0\" >4</td>\n",
       "      <td id=\"T_04535_row3_col1\" class=\"data row3 col1\" >1</td>\n",
       "      <td id=\"T_04535_row3_col2\" class=\"data row3 col2\" >Futrelle, Mrs. Jacques Heath (Lily May Peel)</td>\n",
       "      <td id=\"T_04535_row3_col3\" class=\"data row3 col3\" >35.000</td>\n",
       "      <td id=\"T_04535_row3_col4\" class=\"data row3 col4\" >1</td>\n",
       "      <td id=\"T_04535_row3_col5\" class=\"data row3 col5\" >0</td>\n",
       "      <td id=\"T_04535_row3_col6\" class=\"data row3 col6\" >113803</td>\n",
       "      <td id=\"T_04535_row3_col7\" class=\"data row3 col7\" >53.100</td>\n",
       "      <td id=\"T_04535_row3_col8\" class=\"data row3 col8\" >C123</td>\n",
       "      <td id=\"T_04535_row3_col9\" class=\"data row3 col9\" >3.991</td>\n",
       "      <td id=\"T_04535_row3_col10\" class=\"data row3 col10\" >True</td>\n",
       "      <td id=\"T_04535_row3_col11\" class=\"data row3 col11\" >False</td>\n",
       "      <td id=\"T_04535_row3_col12\" class=\"data row3 col12\" >True</td>\n",
       "      <td id=\"T_04535_row3_col13\" class=\"data row3 col13\" >False</td>\n",
       "      <td id=\"T_04535_row3_col14\" class=\"data row3 col14\" >False</td>\n",
       "      <td id=\"T_04535_row3_col15\" class=\"data row3 col15\" >False</td>\n",
       "      <td id=\"T_04535_row3_col16\" class=\"data row3 col16\" >False</td>\n",
       "      <td id=\"T_04535_row3_col17\" class=\"data row3 col17\" >True</td>\n",
       "    </tr>\n",
       "    <tr>\n",
       "      <th id=\"T_04535_level0_row4\" class=\"row_heading level0 row4\" >4</th>\n",
       "      <td id=\"T_04535_row4_col0\" class=\"data row4 col0\" >5</td>\n",
       "      <td id=\"T_04535_row4_col1\" class=\"data row4 col1\" >0</td>\n",
       "      <td id=\"T_04535_row4_col2\" class=\"data row4 col2\" >Allen, Mr. William Henry</td>\n",
       "      <td id=\"T_04535_row4_col3\" class=\"data row4 col3\" >35.000</td>\n",
       "      <td id=\"T_04535_row4_col4\" class=\"data row4 col4\" >0</td>\n",
       "      <td id=\"T_04535_row4_col5\" class=\"data row4 col5\" >0</td>\n",
       "      <td id=\"T_04535_row4_col6\" class=\"data row4 col6\" >373450</td>\n",
       "      <td id=\"T_04535_row4_col7\" class=\"data row4 col7\" >8.050</td>\n",
       "      <td id=\"T_04535_row4_col8\" class=\"data row4 col8\" >B96 B98</td>\n",
       "      <td id=\"T_04535_row4_col9\" class=\"data row4 col9\" >2.203</td>\n",
       "      <td id=\"T_04535_row4_col10\" class=\"data row4 col10\" >False</td>\n",
       "      <td id=\"T_04535_row4_col11\" class=\"data row4 col11\" >True</td>\n",
       "      <td id=\"T_04535_row4_col12\" class=\"data row4 col12\" >False</td>\n",
       "      <td id=\"T_04535_row4_col13\" class=\"data row4 col13\" >False</td>\n",
       "      <td id=\"T_04535_row4_col14\" class=\"data row4 col14\" >True</td>\n",
       "      <td id=\"T_04535_row4_col15\" class=\"data row4 col15\" >False</td>\n",
       "      <td id=\"T_04535_row4_col16\" class=\"data row4 col16\" >False</td>\n",
       "      <td id=\"T_04535_row4_col17\" class=\"data row4 col17\" >True</td>\n",
       "    </tr>\n",
       "    <tr>\n",
       "      <th id=\"T_04535_level0_row5\" class=\"row_heading level0 row5\" >5</th>\n",
       "      <td id=\"T_04535_row5_col0\" class=\"data row5 col0\" >6</td>\n",
       "      <td id=\"T_04535_row5_col1\" class=\"data row5 col1\" >0</td>\n",
       "      <td id=\"T_04535_row5_col2\" class=\"data row5 col2\" >Moran, Mr. James</td>\n",
       "      <td id=\"T_04535_row5_col3\" class=\"data row5 col3\" >24.000</td>\n",
       "      <td id=\"T_04535_row5_col4\" class=\"data row5 col4\" >0</td>\n",
       "      <td id=\"T_04535_row5_col5\" class=\"data row5 col5\" >0</td>\n",
       "      <td id=\"T_04535_row5_col6\" class=\"data row5 col6\" >330877</td>\n",
       "      <td id=\"T_04535_row5_col7\" class=\"data row5 col7\" >8.458</td>\n",
       "      <td id=\"T_04535_row5_col8\" class=\"data row5 col8\" >B96 B98</td>\n",
       "      <td id=\"T_04535_row5_col9\" class=\"data row5 col9\" >2.247</td>\n",
       "      <td id=\"T_04535_row5_col10\" class=\"data row5 col10\" >False</td>\n",
       "      <td id=\"T_04535_row5_col11\" class=\"data row5 col11\" >True</td>\n",
       "      <td id=\"T_04535_row5_col12\" class=\"data row5 col12\" >False</td>\n",
       "      <td id=\"T_04535_row5_col13\" class=\"data row5 col13\" >False</td>\n",
       "      <td id=\"T_04535_row5_col14\" class=\"data row5 col14\" >True</td>\n",
       "      <td id=\"T_04535_row5_col15\" class=\"data row5 col15\" >False</td>\n",
       "      <td id=\"T_04535_row5_col16\" class=\"data row5 col16\" >True</td>\n",
       "      <td id=\"T_04535_row5_col17\" class=\"data row5 col17\" >False</td>\n",
       "    </tr>\n",
       "    <tr>\n",
       "      <th id=\"T_04535_level0_row6\" class=\"row_heading level0 row6\" >6</th>\n",
       "      <td id=\"T_04535_row6_col0\" class=\"data row6 col0\" >7</td>\n",
       "      <td id=\"T_04535_row6_col1\" class=\"data row6 col1\" >0</td>\n",
       "      <td id=\"T_04535_row6_col2\" class=\"data row6 col2\" >McCarthy, Mr. Timothy J</td>\n",
       "      <td id=\"T_04535_row6_col3\" class=\"data row6 col3\" >54.000</td>\n",
       "      <td id=\"T_04535_row6_col4\" class=\"data row6 col4\" >0</td>\n",
       "      <td id=\"T_04535_row6_col5\" class=\"data row6 col5\" >0</td>\n",
       "      <td id=\"T_04535_row6_col6\" class=\"data row6 col6\" >17463</td>\n",
       "      <td id=\"T_04535_row6_col7\" class=\"data row6 col7\" >51.862</td>\n",
       "      <td id=\"T_04535_row6_col8\" class=\"data row6 col8\" >E46</td>\n",
       "      <td id=\"T_04535_row6_col9\" class=\"data row6 col9\" >3.968</td>\n",
       "      <td id=\"T_04535_row6_col10\" class=\"data row6 col10\" >False</td>\n",
       "      <td id=\"T_04535_row6_col11\" class=\"data row6 col11\" >True</td>\n",
       "      <td id=\"T_04535_row6_col12\" class=\"data row6 col12\" >True</td>\n",
       "      <td id=\"T_04535_row6_col13\" class=\"data row6 col13\" >False</td>\n",
       "      <td id=\"T_04535_row6_col14\" class=\"data row6 col14\" >False</td>\n",
       "      <td id=\"T_04535_row6_col15\" class=\"data row6 col15\" >False</td>\n",
       "      <td id=\"T_04535_row6_col16\" class=\"data row6 col16\" >False</td>\n",
       "      <td id=\"T_04535_row6_col17\" class=\"data row6 col17\" >True</td>\n",
       "    </tr>\n",
       "    <tr>\n",
       "      <th id=\"T_04535_level0_row7\" class=\"row_heading level0 row7\" >7</th>\n",
       "      <td id=\"T_04535_row7_col0\" class=\"data row7 col0\" >8</td>\n",
       "      <td id=\"T_04535_row7_col1\" class=\"data row7 col1\" >0</td>\n",
       "      <td id=\"T_04535_row7_col2\" class=\"data row7 col2\" >Palsson, Master. Gosta Leonard</td>\n",
       "      <td id=\"T_04535_row7_col3\" class=\"data row7 col3\" >2.000</td>\n",
       "      <td id=\"T_04535_row7_col4\" class=\"data row7 col4\" >3</td>\n",
       "      <td id=\"T_04535_row7_col5\" class=\"data row7 col5\" >1</td>\n",
       "      <td id=\"T_04535_row7_col6\" class=\"data row7 col6\" >349909</td>\n",
       "      <td id=\"T_04535_row7_col7\" class=\"data row7 col7\" >21.075</td>\n",
       "      <td id=\"T_04535_row7_col8\" class=\"data row7 col8\" >B96 B98</td>\n",
       "      <td id=\"T_04535_row7_col9\" class=\"data row7 col9\" >3.094</td>\n",
       "      <td id=\"T_04535_row7_col10\" class=\"data row7 col10\" >False</td>\n",
       "      <td id=\"T_04535_row7_col11\" class=\"data row7 col11\" >True</td>\n",
       "      <td id=\"T_04535_row7_col12\" class=\"data row7 col12\" >False</td>\n",
       "      <td id=\"T_04535_row7_col13\" class=\"data row7 col13\" >False</td>\n",
       "      <td id=\"T_04535_row7_col14\" class=\"data row7 col14\" >True</td>\n",
       "      <td id=\"T_04535_row7_col15\" class=\"data row7 col15\" >False</td>\n",
       "      <td id=\"T_04535_row7_col16\" class=\"data row7 col16\" >False</td>\n",
       "      <td id=\"T_04535_row7_col17\" class=\"data row7 col17\" >True</td>\n",
       "    </tr>\n",
       "    <tr>\n",
       "      <th id=\"T_04535_level0_row8\" class=\"row_heading level0 row8\" >8</th>\n",
       "      <td id=\"T_04535_row8_col0\" class=\"data row8 col0\" >9</td>\n",
       "      <td id=\"T_04535_row8_col1\" class=\"data row8 col1\" >1</td>\n",
       "      <td id=\"T_04535_row8_col2\" class=\"data row8 col2\" >Johnson, Mrs. Oscar W (Elisabeth Vilhelmina Berg)</td>\n",
       "      <td id=\"T_04535_row8_col3\" class=\"data row8 col3\" >27.000</td>\n",
       "      <td id=\"T_04535_row8_col4\" class=\"data row8 col4\" >0</td>\n",
       "      <td id=\"T_04535_row8_col5\" class=\"data row8 col5\" >2</td>\n",
       "      <td id=\"T_04535_row8_col6\" class=\"data row8 col6\" >347742</td>\n",
       "      <td id=\"T_04535_row8_col7\" class=\"data row8 col7\" >11.133</td>\n",
       "      <td id=\"T_04535_row8_col8\" class=\"data row8 col8\" >B96 B98</td>\n",
       "      <td id=\"T_04535_row8_col9\" class=\"data row8 col9\" >2.496</td>\n",
       "      <td id=\"T_04535_row8_col10\" class=\"data row8 col10\" >True</td>\n",
       "      <td id=\"T_04535_row8_col11\" class=\"data row8 col11\" >False</td>\n",
       "      <td id=\"T_04535_row8_col12\" class=\"data row8 col12\" >False</td>\n",
       "      <td id=\"T_04535_row8_col13\" class=\"data row8 col13\" >False</td>\n",
       "      <td id=\"T_04535_row8_col14\" class=\"data row8 col14\" >True</td>\n",
       "      <td id=\"T_04535_row8_col15\" class=\"data row8 col15\" >False</td>\n",
       "      <td id=\"T_04535_row8_col16\" class=\"data row8 col16\" >False</td>\n",
       "      <td id=\"T_04535_row8_col17\" class=\"data row8 col17\" >True</td>\n",
       "    </tr>\n",
       "    <tr>\n",
       "      <th id=\"T_04535_level0_row9\" class=\"row_heading level0 row9\" >9</th>\n",
       "      <td id=\"T_04535_row9_col0\" class=\"data row9 col0\" >10</td>\n",
       "      <td id=\"T_04535_row9_col1\" class=\"data row9 col1\" >1</td>\n",
       "      <td id=\"T_04535_row9_col2\" class=\"data row9 col2\" >Nasser, Mrs. Nicholas (Adele Achem)</td>\n",
       "      <td id=\"T_04535_row9_col3\" class=\"data row9 col3\" >14.000</td>\n",
       "      <td id=\"T_04535_row9_col4\" class=\"data row9 col4\" >1</td>\n",
       "      <td id=\"T_04535_row9_col5\" class=\"data row9 col5\" >0</td>\n",
       "      <td id=\"T_04535_row9_col6\" class=\"data row9 col6\" >237736</td>\n",
       "      <td id=\"T_04535_row9_col7\" class=\"data row9 col7\" >30.071</td>\n",
       "      <td id=\"T_04535_row9_col8\" class=\"data row9 col8\" >B96 B98</td>\n",
       "      <td id=\"T_04535_row9_col9\" class=\"data row9 col9\" >3.436</td>\n",
       "      <td id=\"T_04535_row9_col10\" class=\"data row9 col10\" >True</td>\n",
       "      <td id=\"T_04535_row9_col11\" class=\"data row9 col11\" >False</td>\n",
       "      <td id=\"T_04535_row9_col12\" class=\"data row9 col12\" >False</td>\n",
       "      <td id=\"T_04535_row9_col13\" class=\"data row9 col13\" >True</td>\n",
       "      <td id=\"T_04535_row9_col14\" class=\"data row9 col14\" >False</td>\n",
       "      <td id=\"T_04535_row9_col15\" class=\"data row9 col15\" >True</td>\n",
       "      <td id=\"T_04535_row9_col16\" class=\"data row9 col16\" >False</td>\n",
       "      <td id=\"T_04535_row9_col17\" class=\"data row9 col17\" >False</td>\n",
       "    </tr>\n",
       "  </tbody>\n",
       "</table>\n"
      ],
      "text/plain": [
       "     PassengerId  Survived  ... Embarked_Q  Embarked_S\n",
       "0              1         0  ...      False        True\n",
       "1              2         1  ...      False       False\n",
       "2              3         1  ...      False        True\n",
       "3              4         1  ...      False        True\n",
       "4              5         0  ...      False        True\n",
       "..           ...       ...  ...        ...         ...\n",
       "886          887         0  ...      False        True\n",
       "887          888         1  ...      False        True\n",
       "888          889         0  ...      False        True\n",
       "889          890         1  ...      False       False\n",
       "890          891         0  ...       True       False\n",
       "\n",
       "[891 rows x 18 columns]"
      ]
     },
     "execution_count": null,
     "metadata": {},
     "output_type": "execute_result"
    }
   ],
   "source": [
    "df"
   ]
  },
  {
   "cell_type": "code",
   "execution_count": null,
   "id": "c912877e",
   "metadata": {
    "collapsed": true,
    "input_tokens": 9,
    "output_tokens": 4572,
    "time_run": "8:05:47a"
   },
   "outputs": [
    {
     "data": {
      "text/html": [
       "<style type=\"text/css\">\n",
       "#T_928a9 th {\n",
       "  font-weight: bold;\n",
       "  background-color: #4CAF50;\n",
       "  color: white;\n",
       "  padding: 10px;\n",
       "  text-align: left;\n",
       "}\n",
       "#T_928a9 td {\n",
       "  padding: 8px;\n",
       "  border-bottom: 1px solid #ddd;\n",
       "}\n",
       "#T_928a9 tr:nth-child(even) {\n",
       "  background-color: #f2f2f2;\n",
       "}\n",
       "#T_928a9 tr:hover {\n",
       "  background-color: #ddd;\n",
       "}\n",
       "</style>\n",
       "<table id=\"T_928a9\" class=\"dataframe\" style=\"width:100%; border-collapse: collapse\">\n",
       "  <thead>\n",
       "    <tr>\n",
       "      <th class=\"blank level0\" >&nbsp;</th>\n",
       "      <th id=\"T_928a9_level0_col0\" class=\"col_heading level0 col0\" >Sex_female</th>\n",
       "      <th id=\"T_928a9_level0_col1\" class=\"col_heading level0 col1\" >Sex_male</th>\n",
       "      <th id=\"T_928a9_level0_col2\" class=\"col_heading level0 col2\" >Pclass_1</th>\n",
       "      <th id=\"T_928a9_level0_col3\" class=\"col_heading level0 col3\" >Pclass_2</th>\n",
       "      <th id=\"T_928a9_level0_col4\" class=\"col_heading level0 col4\" >Pclass_3</th>\n",
       "      <th id=\"T_928a9_level0_col5\" class=\"col_heading level0 col5\" >Embarked_C</th>\n",
       "      <th id=\"T_928a9_level0_col6\" class=\"col_heading level0 col6\" >Embarked_Q</th>\n",
       "      <th id=\"T_928a9_level0_col7\" class=\"col_heading level0 col7\" >Embarked_S</th>\n",
       "    </tr>\n",
       "  </thead>\n",
       "  <tbody>\n",
       "    <tr>\n",
       "      <th id=\"T_928a9_level0_row0\" class=\"row_heading level0 row0\" >0</th>\n",
       "      <td id=\"T_928a9_row0_col0\" class=\"data row0 col0\" >False</td>\n",
       "      <td id=\"T_928a9_row0_col1\" class=\"data row0 col1\" >True</td>\n",
       "      <td id=\"T_928a9_row0_col2\" class=\"data row0 col2\" >False</td>\n",
       "      <td id=\"T_928a9_row0_col3\" class=\"data row0 col3\" >False</td>\n",
       "      <td id=\"T_928a9_row0_col4\" class=\"data row0 col4\" >True</td>\n",
       "      <td id=\"T_928a9_row0_col5\" class=\"data row0 col5\" >False</td>\n",
       "      <td id=\"T_928a9_row0_col6\" class=\"data row0 col6\" >False</td>\n",
       "      <td id=\"T_928a9_row0_col7\" class=\"data row0 col7\" >True</td>\n",
       "    </tr>\n",
       "    <tr>\n",
       "      <th id=\"T_928a9_level0_row1\" class=\"row_heading level0 row1\" >1</th>\n",
       "      <td id=\"T_928a9_row1_col0\" class=\"data row1 col0\" >True</td>\n",
       "      <td id=\"T_928a9_row1_col1\" class=\"data row1 col1\" >False</td>\n",
       "      <td id=\"T_928a9_row1_col2\" class=\"data row1 col2\" >True</td>\n",
       "      <td id=\"T_928a9_row1_col3\" class=\"data row1 col3\" >False</td>\n",
       "      <td id=\"T_928a9_row1_col4\" class=\"data row1 col4\" >False</td>\n",
       "      <td id=\"T_928a9_row1_col5\" class=\"data row1 col5\" >True</td>\n",
       "      <td id=\"T_928a9_row1_col6\" class=\"data row1 col6\" >False</td>\n",
       "      <td id=\"T_928a9_row1_col7\" class=\"data row1 col7\" >False</td>\n",
       "    </tr>\n",
       "    <tr>\n",
       "      <th id=\"T_928a9_level0_row2\" class=\"row_heading level0 row2\" >2</th>\n",
       "      <td id=\"T_928a9_row2_col0\" class=\"data row2 col0\" >True</td>\n",
       "      <td id=\"T_928a9_row2_col1\" class=\"data row2 col1\" >False</td>\n",
       "      <td id=\"T_928a9_row2_col2\" class=\"data row2 col2\" >False</td>\n",
       "      <td id=\"T_928a9_row2_col3\" class=\"data row2 col3\" >False</td>\n",
       "      <td id=\"T_928a9_row2_col4\" class=\"data row2 col4\" >True</td>\n",
       "      <td id=\"T_928a9_row2_col5\" class=\"data row2 col5\" >False</td>\n",
       "      <td id=\"T_928a9_row2_col6\" class=\"data row2 col6\" >False</td>\n",
       "      <td id=\"T_928a9_row2_col7\" class=\"data row2 col7\" >True</td>\n",
       "    </tr>\n",
       "    <tr>\n",
       "      <th id=\"T_928a9_level0_row3\" class=\"row_heading level0 row3\" >3</th>\n",
       "      <td id=\"T_928a9_row3_col0\" class=\"data row3 col0\" >True</td>\n",
       "      <td id=\"T_928a9_row3_col1\" class=\"data row3 col1\" >False</td>\n",
       "      <td id=\"T_928a9_row3_col2\" class=\"data row3 col2\" >True</td>\n",
       "      <td id=\"T_928a9_row3_col3\" class=\"data row3 col3\" >False</td>\n",
       "      <td id=\"T_928a9_row3_col4\" class=\"data row3 col4\" >False</td>\n",
       "      <td id=\"T_928a9_row3_col5\" class=\"data row3 col5\" >False</td>\n",
       "      <td id=\"T_928a9_row3_col6\" class=\"data row3 col6\" >False</td>\n",
       "      <td id=\"T_928a9_row3_col7\" class=\"data row3 col7\" >True</td>\n",
       "    </tr>\n",
       "    <tr>\n",
       "      <th id=\"T_928a9_level0_row4\" class=\"row_heading level0 row4\" >4</th>\n",
       "      <td id=\"T_928a9_row4_col0\" class=\"data row4 col0\" >False</td>\n",
       "      <td id=\"T_928a9_row4_col1\" class=\"data row4 col1\" >True</td>\n",
       "      <td id=\"T_928a9_row4_col2\" class=\"data row4 col2\" >False</td>\n",
       "      <td id=\"T_928a9_row4_col3\" class=\"data row4 col3\" >False</td>\n",
       "      <td id=\"T_928a9_row4_col4\" class=\"data row4 col4\" >True</td>\n",
       "      <td id=\"T_928a9_row4_col5\" class=\"data row4 col5\" >False</td>\n",
       "      <td id=\"T_928a9_row4_col6\" class=\"data row4 col6\" >False</td>\n",
       "      <td id=\"T_928a9_row4_col7\" class=\"data row4 col7\" >True</td>\n",
       "    </tr>\n",
       "    <tr>\n",
       "      <th id=\"T_928a9_level0_row5\" class=\"row_heading level0 row5\" >5</th>\n",
       "      <td id=\"T_928a9_row5_col0\" class=\"data row5 col0\" >False</td>\n",
       "      <td id=\"T_928a9_row5_col1\" class=\"data row5 col1\" >True</td>\n",
       "      <td id=\"T_928a9_row5_col2\" class=\"data row5 col2\" >False</td>\n",
       "      <td id=\"T_928a9_row5_col3\" class=\"data row5 col3\" >False</td>\n",
       "      <td id=\"T_928a9_row5_col4\" class=\"data row5 col4\" >True</td>\n",
       "      <td id=\"T_928a9_row5_col5\" class=\"data row5 col5\" >False</td>\n",
       "      <td id=\"T_928a9_row5_col6\" class=\"data row5 col6\" >True</td>\n",
       "      <td id=\"T_928a9_row5_col7\" class=\"data row5 col7\" >False</td>\n",
       "    </tr>\n",
       "    <tr>\n",
       "      <th id=\"T_928a9_level0_row6\" class=\"row_heading level0 row6\" >6</th>\n",
       "      <td id=\"T_928a9_row6_col0\" class=\"data row6 col0\" >False</td>\n",
       "      <td id=\"T_928a9_row6_col1\" class=\"data row6 col1\" >True</td>\n",
       "      <td id=\"T_928a9_row6_col2\" class=\"data row6 col2\" >True</td>\n",
       "      <td id=\"T_928a9_row6_col3\" class=\"data row6 col3\" >False</td>\n",
       "      <td id=\"T_928a9_row6_col4\" class=\"data row6 col4\" >False</td>\n",
       "      <td id=\"T_928a9_row6_col5\" class=\"data row6 col5\" >False</td>\n",
       "      <td id=\"T_928a9_row6_col6\" class=\"data row6 col6\" >False</td>\n",
       "      <td id=\"T_928a9_row6_col7\" class=\"data row6 col7\" >True</td>\n",
       "    </tr>\n",
       "    <tr>\n",
       "      <th id=\"T_928a9_level0_row7\" class=\"row_heading level0 row7\" >7</th>\n",
       "      <td id=\"T_928a9_row7_col0\" class=\"data row7 col0\" >False</td>\n",
       "      <td id=\"T_928a9_row7_col1\" class=\"data row7 col1\" >True</td>\n",
       "      <td id=\"T_928a9_row7_col2\" class=\"data row7 col2\" >False</td>\n",
       "      <td id=\"T_928a9_row7_col3\" class=\"data row7 col3\" >False</td>\n",
       "      <td id=\"T_928a9_row7_col4\" class=\"data row7 col4\" >True</td>\n",
       "      <td id=\"T_928a9_row7_col5\" class=\"data row7 col5\" >False</td>\n",
       "      <td id=\"T_928a9_row7_col6\" class=\"data row7 col6\" >False</td>\n",
       "      <td id=\"T_928a9_row7_col7\" class=\"data row7 col7\" >True</td>\n",
       "    </tr>\n",
       "    <tr>\n",
       "      <th id=\"T_928a9_level0_row8\" class=\"row_heading level0 row8\" >8</th>\n",
       "      <td id=\"T_928a9_row8_col0\" class=\"data row8 col0\" >True</td>\n",
       "      <td id=\"T_928a9_row8_col1\" class=\"data row8 col1\" >False</td>\n",
       "      <td id=\"T_928a9_row8_col2\" class=\"data row8 col2\" >False</td>\n",
       "      <td id=\"T_928a9_row8_col3\" class=\"data row8 col3\" >False</td>\n",
       "      <td id=\"T_928a9_row8_col4\" class=\"data row8 col4\" >True</td>\n",
       "      <td id=\"T_928a9_row8_col5\" class=\"data row8 col5\" >False</td>\n",
       "      <td id=\"T_928a9_row8_col6\" class=\"data row8 col6\" >False</td>\n",
       "      <td id=\"T_928a9_row8_col7\" class=\"data row8 col7\" >True</td>\n",
       "    </tr>\n",
       "    <tr>\n",
       "      <th id=\"T_928a9_level0_row9\" class=\"row_heading level0 row9\" >9</th>\n",
       "      <td id=\"T_928a9_row9_col0\" class=\"data row9 col0\" >True</td>\n",
       "      <td id=\"T_928a9_row9_col1\" class=\"data row9 col1\" >False</td>\n",
       "      <td id=\"T_928a9_row9_col2\" class=\"data row9 col2\" >False</td>\n",
       "      <td id=\"T_928a9_row9_col3\" class=\"data row9 col3\" >True</td>\n",
       "      <td id=\"T_928a9_row9_col4\" class=\"data row9 col4\" >False</td>\n",
       "      <td id=\"T_928a9_row9_col5\" class=\"data row9 col5\" >True</td>\n",
       "      <td id=\"T_928a9_row9_col6\" class=\"data row9 col6\" >False</td>\n",
       "      <td id=\"T_928a9_row9_col7\" class=\"data row9 col7\" >False</td>\n",
       "    </tr>\n",
       "  </tbody>\n",
       "</table>\n"
      ],
      "text/plain": [
       "     Sex_female  Sex_male  Pclass_1  ...  Embarked_C  Embarked_Q  Embarked_S\n",
       "0         False      True     False  ...       False       False        True\n",
       "1          True     False      True  ...        True       False       False\n",
       "2          True     False     False  ...       False       False        True\n",
       "3          True     False      True  ...       False       False        True\n",
       "4         False      True     False  ...       False       False        True\n",
       "..          ...       ...       ...  ...         ...         ...         ...\n",
       "886       False      True     False  ...       False       False        True\n",
       "887        True     False      True  ...       False       False        True\n",
       "888        True     False     False  ...       False       False        True\n",
       "889       False      True      True  ...        True       False       False\n",
       "890       False      True     False  ...       False        True       False\n",
       "\n",
       "[891 rows x 8 columns]"
      ]
     },
     "execution_count": null,
     "metadata": {},
     "output_type": "execute_result"
    }
   ],
   "source": [
    "df[addded_col]"
   ]
  },
  {
   "cell_type": "code",
   "execution_count": null,
   "id": "72dd8580",
   "metadata": {
    "collapsed": true,
    "input_tokens": 1,
    "output_tokens": 9504,
    "time_run": "8:46:10a"
   },
   "outputs": [
    {
     "data": {
      "text/html": [
       "<style type=\"text/css\">\n",
       "#T_7881e th {\n",
       "  font-weight: bold;\n",
       "  background-color: #4CAF50;\n",
       "  color: white;\n",
       "  padding: 10px;\n",
       "  text-align: left;\n",
       "}\n",
       "#T_7881e td {\n",
       "  padding: 8px;\n",
       "  border-bottom: 1px solid #ddd;\n",
       "}\n",
       "#T_7881e tr:nth-child(even) {\n",
       "  background-color: #f2f2f2;\n",
       "}\n",
       "#T_7881e tr:hover {\n",
       "  background-color: #ddd;\n",
       "}\n",
       "</style>\n",
       "<table id=\"T_7881e\" class=\"dataframe\" style=\"width:100%; border-collapse: collapse\">\n",
       "  <thead>\n",
       "    <tr>\n",
       "      <th class=\"blank level0\" >&nbsp;</th>\n",
       "      <th id=\"T_7881e_level0_col0\" class=\"col_heading level0 col0\" >PassengerId</th>\n",
       "      <th id=\"T_7881e_level0_col1\" class=\"col_heading level0 col1\" >Survived</th>\n",
       "      <th id=\"T_7881e_level0_col2\" class=\"col_heading level0 col2\" >Name</th>\n",
       "      <th id=\"T_7881e_level0_col3\" class=\"col_heading level0 col3\" >Age</th>\n",
       "      <th id=\"T_7881e_level0_col4\" class=\"col_heading level0 col4\" >SibSp</th>\n",
       "      <th id=\"T_7881e_level0_col5\" class=\"col_heading level0 col5\" >Parch</th>\n",
       "      <th id=\"T_7881e_level0_col6\" class=\"col_heading level0 col6\" >Ticket</th>\n",
       "      <th id=\"T_7881e_level0_col7\" class=\"col_heading level0 col7\" >Fare</th>\n",
       "      <th id=\"T_7881e_level0_col8\" class=\"col_heading level0 col8\" >Cabin</th>\n",
       "      <th id=\"T_7881e_level0_col9\" class=\"col_heading level0 col9\" >LogFare</th>\n",
       "      <th id=\"T_7881e_level0_col10\" class=\"col_heading level0 col10\" >Sex_female</th>\n",
       "      <th id=\"T_7881e_level0_col11\" class=\"col_heading level0 col11\" >Sex_male</th>\n",
       "      <th id=\"T_7881e_level0_col12\" class=\"col_heading level0 col12\" >Pclass_1</th>\n",
       "      <th id=\"T_7881e_level0_col13\" class=\"col_heading level0 col13\" >Pclass_2</th>\n",
       "      <th id=\"T_7881e_level0_col14\" class=\"col_heading level0 col14\" >Pclass_3</th>\n",
       "      <th id=\"T_7881e_level0_col15\" class=\"col_heading level0 col15\" >Embarked_C</th>\n",
       "      <th id=\"T_7881e_level0_col16\" class=\"col_heading level0 col16\" >Embarked_Q</th>\n",
       "      <th id=\"T_7881e_level0_col17\" class=\"col_heading level0 col17\" >Embarked_S</th>\n",
       "    </tr>\n",
       "  </thead>\n",
       "  <tbody>\n",
       "    <tr>\n",
       "      <th id=\"T_7881e_level0_row0\" class=\"row_heading level0 row0\" >0</th>\n",
       "      <td id=\"T_7881e_row0_col0\" class=\"data row0 col0\" >1</td>\n",
       "      <td id=\"T_7881e_row0_col1\" class=\"data row0 col1\" >0</td>\n",
       "      <td id=\"T_7881e_row0_col2\" class=\"data row0 col2\" >Braund, Mr. Owen Harris</td>\n",
       "      <td id=\"T_7881e_row0_col3\" class=\"data row0 col3\" >22.000</td>\n",
       "      <td id=\"T_7881e_row0_col4\" class=\"data row0 col4\" >1</td>\n",
       "      <td id=\"T_7881e_row0_col5\" class=\"data row0 col5\" >0</td>\n",
       "      <td id=\"T_7881e_row0_col6\" class=\"data row0 col6\" >A/5 21171</td>\n",
       "      <td id=\"T_7881e_row0_col7\" class=\"data row0 col7\" >7.250</td>\n",
       "      <td id=\"T_7881e_row0_col8\" class=\"data row0 col8\" >B96 B98</td>\n",
       "      <td id=\"T_7881e_row0_col9\" class=\"data row0 col9\" >2.110</td>\n",
       "      <td id=\"T_7881e_row0_col10\" class=\"data row0 col10\" >False</td>\n",
       "      <td id=\"T_7881e_row0_col11\" class=\"data row0 col11\" >True</td>\n",
       "      <td id=\"T_7881e_row0_col12\" class=\"data row0 col12\" >False</td>\n",
       "      <td id=\"T_7881e_row0_col13\" class=\"data row0 col13\" >False</td>\n",
       "      <td id=\"T_7881e_row0_col14\" class=\"data row0 col14\" >True</td>\n",
       "      <td id=\"T_7881e_row0_col15\" class=\"data row0 col15\" >False</td>\n",
       "      <td id=\"T_7881e_row0_col16\" class=\"data row0 col16\" >False</td>\n",
       "      <td id=\"T_7881e_row0_col17\" class=\"data row0 col17\" >True</td>\n",
       "    </tr>\n",
       "    <tr>\n",
       "      <th id=\"T_7881e_level0_row1\" class=\"row_heading level0 row1\" >1</th>\n",
       "      <td id=\"T_7881e_row1_col0\" class=\"data row1 col0\" >2</td>\n",
       "      <td id=\"T_7881e_row1_col1\" class=\"data row1 col1\" >1</td>\n",
       "      <td id=\"T_7881e_row1_col2\" class=\"data row1 col2\" >Cumings, Mrs. John Bradley (Florence Briggs Thayer)</td>\n",
       "      <td id=\"T_7881e_row1_col3\" class=\"data row1 col3\" >38.000</td>\n",
       "      <td id=\"T_7881e_row1_col4\" class=\"data row1 col4\" >1</td>\n",
       "      <td id=\"T_7881e_row1_col5\" class=\"data row1 col5\" >0</td>\n",
       "      <td id=\"T_7881e_row1_col6\" class=\"data row1 col6\" >PC 17599</td>\n",
       "      <td id=\"T_7881e_row1_col7\" class=\"data row1 col7\" >71.283</td>\n",
       "      <td id=\"T_7881e_row1_col8\" class=\"data row1 col8\" >C85</td>\n",
       "      <td id=\"T_7881e_row1_col9\" class=\"data row1 col9\" >4.281</td>\n",
       "      <td id=\"T_7881e_row1_col10\" class=\"data row1 col10\" >True</td>\n",
       "      <td id=\"T_7881e_row1_col11\" class=\"data row1 col11\" >False</td>\n",
       "      <td id=\"T_7881e_row1_col12\" class=\"data row1 col12\" >True</td>\n",
       "      <td id=\"T_7881e_row1_col13\" class=\"data row1 col13\" >False</td>\n",
       "      <td id=\"T_7881e_row1_col14\" class=\"data row1 col14\" >False</td>\n",
       "      <td id=\"T_7881e_row1_col15\" class=\"data row1 col15\" >True</td>\n",
       "      <td id=\"T_7881e_row1_col16\" class=\"data row1 col16\" >False</td>\n",
       "      <td id=\"T_7881e_row1_col17\" class=\"data row1 col17\" >False</td>\n",
       "    </tr>\n",
       "    <tr>\n",
       "      <th id=\"T_7881e_level0_row2\" class=\"row_heading level0 row2\" >2</th>\n",
       "      <td id=\"T_7881e_row2_col0\" class=\"data row2 col0\" >3</td>\n",
       "      <td id=\"T_7881e_row2_col1\" class=\"data row2 col1\" >1</td>\n",
       "      <td id=\"T_7881e_row2_col2\" class=\"data row2 col2\" >Heikkinen, Miss. Laina</td>\n",
       "      <td id=\"T_7881e_row2_col3\" class=\"data row2 col3\" >26.000</td>\n",
       "      <td id=\"T_7881e_row2_col4\" class=\"data row2 col4\" >0</td>\n",
       "      <td id=\"T_7881e_row2_col5\" class=\"data row2 col5\" >0</td>\n",
       "      <td id=\"T_7881e_row2_col6\" class=\"data row2 col6\" >STON/O2. 3101282</td>\n",
       "      <td id=\"T_7881e_row2_col7\" class=\"data row2 col7\" >7.925</td>\n",
       "      <td id=\"T_7881e_row2_col8\" class=\"data row2 col8\" >B96 B98</td>\n",
       "      <td id=\"T_7881e_row2_col9\" class=\"data row2 col9\" >2.189</td>\n",
       "      <td id=\"T_7881e_row2_col10\" class=\"data row2 col10\" >True</td>\n",
       "      <td id=\"T_7881e_row2_col11\" class=\"data row2 col11\" >False</td>\n",
       "      <td id=\"T_7881e_row2_col12\" class=\"data row2 col12\" >False</td>\n",
       "      <td id=\"T_7881e_row2_col13\" class=\"data row2 col13\" >False</td>\n",
       "      <td id=\"T_7881e_row2_col14\" class=\"data row2 col14\" >True</td>\n",
       "      <td id=\"T_7881e_row2_col15\" class=\"data row2 col15\" >False</td>\n",
       "      <td id=\"T_7881e_row2_col16\" class=\"data row2 col16\" >False</td>\n",
       "      <td id=\"T_7881e_row2_col17\" class=\"data row2 col17\" >True</td>\n",
       "    </tr>\n",
       "    <tr>\n",
       "      <th id=\"T_7881e_level0_row3\" class=\"row_heading level0 row3\" >3</th>\n",
       "      <td id=\"T_7881e_row3_col0\" class=\"data row3 col0\" >4</td>\n",
       "      <td id=\"T_7881e_row3_col1\" class=\"data row3 col1\" >1</td>\n",
       "      <td id=\"T_7881e_row3_col2\" class=\"data row3 col2\" >Futrelle, Mrs. Jacques Heath (Lily May Peel)</td>\n",
       "      <td id=\"T_7881e_row3_col3\" class=\"data row3 col3\" >35.000</td>\n",
       "      <td id=\"T_7881e_row3_col4\" class=\"data row3 col4\" >1</td>\n",
       "      <td id=\"T_7881e_row3_col5\" class=\"data row3 col5\" >0</td>\n",
       "      <td id=\"T_7881e_row3_col6\" class=\"data row3 col6\" >113803</td>\n",
       "      <td id=\"T_7881e_row3_col7\" class=\"data row3 col7\" >53.100</td>\n",
       "      <td id=\"T_7881e_row3_col8\" class=\"data row3 col8\" >C123</td>\n",
       "      <td id=\"T_7881e_row3_col9\" class=\"data row3 col9\" >3.991</td>\n",
       "      <td id=\"T_7881e_row3_col10\" class=\"data row3 col10\" >True</td>\n",
       "      <td id=\"T_7881e_row3_col11\" class=\"data row3 col11\" >False</td>\n",
       "      <td id=\"T_7881e_row3_col12\" class=\"data row3 col12\" >True</td>\n",
       "      <td id=\"T_7881e_row3_col13\" class=\"data row3 col13\" >False</td>\n",
       "      <td id=\"T_7881e_row3_col14\" class=\"data row3 col14\" >False</td>\n",
       "      <td id=\"T_7881e_row3_col15\" class=\"data row3 col15\" >False</td>\n",
       "      <td id=\"T_7881e_row3_col16\" class=\"data row3 col16\" >False</td>\n",
       "      <td id=\"T_7881e_row3_col17\" class=\"data row3 col17\" >True</td>\n",
       "    </tr>\n",
       "    <tr>\n",
       "      <th id=\"T_7881e_level0_row4\" class=\"row_heading level0 row4\" >4</th>\n",
       "      <td id=\"T_7881e_row4_col0\" class=\"data row4 col0\" >5</td>\n",
       "      <td id=\"T_7881e_row4_col1\" class=\"data row4 col1\" >0</td>\n",
       "      <td id=\"T_7881e_row4_col2\" class=\"data row4 col2\" >Allen, Mr. William Henry</td>\n",
       "      <td id=\"T_7881e_row4_col3\" class=\"data row4 col3\" >35.000</td>\n",
       "      <td id=\"T_7881e_row4_col4\" class=\"data row4 col4\" >0</td>\n",
       "      <td id=\"T_7881e_row4_col5\" class=\"data row4 col5\" >0</td>\n",
       "      <td id=\"T_7881e_row4_col6\" class=\"data row4 col6\" >373450</td>\n",
       "      <td id=\"T_7881e_row4_col7\" class=\"data row4 col7\" >8.050</td>\n",
       "      <td id=\"T_7881e_row4_col8\" class=\"data row4 col8\" >B96 B98</td>\n",
       "      <td id=\"T_7881e_row4_col9\" class=\"data row4 col9\" >2.203</td>\n",
       "      <td id=\"T_7881e_row4_col10\" class=\"data row4 col10\" >False</td>\n",
       "      <td id=\"T_7881e_row4_col11\" class=\"data row4 col11\" >True</td>\n",
       "      <td id=\"T_7881e_row4_col12\" class=\"data row4 col12\" >False</td>\n",
       "      <td id=\"T_7881e_row4_col13\" class=\"data row4 col13\" >False</td>\n",
       "      <td id=\"T_7881e_row4_col14\" class=\"data row4 col14\" >True</td>\n",
       "      <td id=\"T_7881e_row4_col15\" class=\"data row4 col15\" >False</td>\n",
       "      <td id=\"T_7881e_row4_col16\" class=\"data row4 col16\" >False</td>\n",
       "      <td id=\"T_7881e_row4_col17\" class=\"data row4 col17\" >True</td>\n",
       "    </tr>\n",
       "    <tr>\n",
       "      <th id=\"T_7881e_level0_row5\" class=\"row_heading level0 row5\" >5</th>\n",
       "      <td id=\"T_7881e_row5_col0\" class=\"data row5 col0\" >6</td>\n",
       "      <td id=\"T_7881e_row5_col1\" class=\"data row5 col1\" >0</td>\n",
       "      <td id=\"T_7881e_row5_col2\" class=\"data row5 col2\" >Moran, Mr. James</td>\n",
       "      <td id=\"T_7881e_row5_col3\" class=\"data row5 col3\" >24.000</td>\n",
       "      <td id=\"T_7881e_row5_col4\" class=\"data row5 col4\" >0</td>\n",
       "      <td id=\"T_7881e_row5_col5\" class=\"data row5 col5\" >0</td>\n",
       "      <td id=\"T_7881e_row5_col6\" class=\"data row5 col6\" >330877</td>\n",
       "      <td id=\"T_7881e_row5_col7\" class=\"data row5 col7\" >8.458</td>\n",
       "      <td id=\"T_7881e_row5_col8\" class=\"data row5 col8\" >B96 B98</td>\n",
       "      <td id=\"T_7881e_row5_col9\" class=\"data row5 col9\" >2.247</td>\n",
       "      <td id=\"T_7881e_row5_col10\" class=\"data row5 col10\" >False</td>\n",
       "      <td id=\"T_7881e_row5_col11\" class=\"data row5 col11\" >True</td>\n",
       "      <td id=\"T_7881e_row5_col12\" class=\"data row5 col12\" >False</td>\n",
       "      <td id=\"T_7881e_row5_col13\" class=\"data row5 col13\" >False</td>\n",
       "      <td id=\"T_7881e_row5_col14\" class=\"data row5 col14\" >True</td>\n",
       "      <td id=\"T_7881e_row5_col15\" class=\"data row5 col15\" >False</td>\n",
       "      <td id=\"T_7881e_row5_col16\" class=\"data row5 col16\" >True</td>\n",
       "      <td id=\"T_7881e_row5_col17\" class=\"data row5 col17\" >False</td>\n",
       "    </tr>\n",
       "    <tr>\n",
       "      <th id=\"T_7881e_level0_row6\" class=\"row_heading level0 row6\" >6</th>\n",
       "      <td id=\"T_7881e_row6_col0\" class=\"data row6 col0\" >7</td>\n",
       "      <td id=\"T_7881e_row6_col1\" class=\"data row6 col1\" >0</td>\n",
       "      <td id=\"T_7881e_row6_col2\" class=\"data row6 col2\" >McCarthy, Mr. Timothy J</td>\n",
       "      <td id=\"T_7881e_row6_col3\" class=\"data row6 col3\" >54.000</td>\n",
       "      <td id=\"T_7881e_row6_col4\" class=\"data row6 col4\" >0</td>\n",
       "      <td id=\"T_7881e_row6_col5\" class=\"data row6 col5\" >0</td>\n",
       "      <td id=\"T_7881e_row6_col6\" class=\"data row6 col6\" >17463</td>\n",
       "      <td id=\"T_7881e_row6_col7\" class=\"data row6 col7\" >51.862</td>\n",
       "      <td id=\"T_7881e_row6_col8\" class=\"data row6 col8\" >E46</td>\n",
       "      <td id=\"T_7881e_row6_col9\" class=\"data row6 col9\" >3.968</td>\n",
       "      <td id=\"T_7881e_row6_col10\" class=\"data row6 col10\" >False</td>\n",
       "      <td id=\"T_7881e_row6_col11\" class=\"data row6 col11\" >True</td>\n",
       "      <td id=\"T_7881e_row6_col12\" class=\"data row6 col12\" >True</td>\n",
       "      <td id=\"T_7881e_row6_col13\" class=\"data row6 col13\" >False</td>\n",
       "      <td id=\"T_7881e_row6_col14\" class=\"data row6 col14\" >False</td>\n",
       "      <td id=\"T_7881e_row6_col15\" class=\"data row6 col15\" >False</td>\n",
       "      <td id=\"T_7881e_row6_col16\" class=\"data row6 col16\" >False</td>\n",
       "      <td id=\"T_7881e_row6_col17\" class=\"data row6 col17\" >True</td>\n",
       "    </tr>\n",
       "    <tr>\n",
       "      <th id=\"T_7881e_level0_row7\" class=\"row_heading level0 row7\" >7</th>\n",
       "      <td id=\"T_7881e_row7_col0\" class=\"data row7 col0\" >8</td>\n",
       "      <td id=\"T_7881e_row7_col1\" class=\"data row7 col1\" >0</td>\n",
       "      <td id=\"T_7881e_row7_col2\" class=\"data row7 col2\" >Palsson, Master. Gosta Leonard</td>\n",
       "      <td id=\"T_7881e_row7_col3\" class=\"data row7 col3\" >2.000</td>\n",
       "      <td id=\"T_7881e_row7_col4\" class=\"data row7 col4\" >3</td>\n",
       "      <td id=\"T_7881e_row7_col5\" class=\"data row7 col5\" >1</td>\n",
       "      <td id=\"T_7881e_row7_col6\" class=\"data row7 col6\" >349909</td>\n",
       "      <td id=\"T_7881e_row7_col7\" class=\"data row7 col7\" >21.075</td>\n",
       "      <td id=\"T_7881e_row7_col8\" class=\"data row7 col8\" >B96 B98</td>\n",
       "      <td id=\"T_7881e_row7_col9\" class=\"data row7 col9\" >3.094</td>\n",
       "      <td id=\"T_7881e_row7_col10\" class=\"data row7 col10\" >False</td>\n",
       "      <td id=\"T_7881e_row7_col11\" class=\"data row7 col11\" >True</td>\n",
       "      <td id=\"T_7881e_row7_col12\" class=\"data row7 col12\" >False</td>\n",
       "      <td id=\"T_7881e_row7_col13\" class=\"data row7 col13\" >False</td>\n",
       "      <td id=\"T_7881e_row7_col14\" class=\"data row7 col14\" >True</td>\n",
       "      <td id=\"T_7881e_row7_col15\" class=\"data row7 col15\" >False</td>\n",
       "      <td id=\"T_7881e_row7_col16\" class=\"data row7 col16\" >False</td>\n",
       "      <td id=\"T_7881e_row7_col17\" class=\"data row7 col17\" >True</td>\n",
       "    </tr>\n",
       "    <tr>\n",
       "      <th id=\"T_7881e_level0_row8\" class=\"row_heading level0 row8\" >8</th>\n",
       "      <td id=\"T_7881e_row8_col0\" class=\"data row8 col0\" >9</td>\n",
       "      <td id=\"T_7881e_row8_col1\" class=\"data row8 col1\" >1</td>\n",
       "      <td id=\"T_7881e_row8_col2\" class=\"data row8 col2\" >Johnson, Mrs. Oscar W (Elisabeth Vilhelmina Berg)</td>\n",
       "      <td id=\"T_7881e_row8_col3\" class=\"data row8 col3\" >27.000</td>\n",
       "      <td id=\"T_7881e_row8_col4\" class=\"data row8 col4\" >0</td>\n",
       "      <td id=\"T_7881e_row8_col5\" class=\"data row8 col5\" >2</td>\n",
       "      <td id=\"T_7881e_row8_col6\" class=\"data row8 col6\" >347742</td>\n",
       "      <td id=\"T_7881e_row8_col7\" class=\"data row8 col7\" >11.133</td>\n",
       "      <td id=\"T_7881e_row8_col8\" class=\"data row8 col8\" >B96 B98</td>\n",
       "      <td id=\"T_7881e_row8_col9\" class=\"data row8 col9\" >2.496</td>\n",
       "      <td id=\"T_7881e_row8_col10\" class=\"data row8 col10\" >True</td>\n",
       "      <td id=\"T_7881e_row8_col11\" class=\"data row8 col11\" >False</td>\n",
       "      <td id=\"T_7881e_row8_col12\" class=\"data row8 col12\" >False</td>\n",
       "      <td id=\"T_7881e_row8_col13\" class=\"data row8 col13\" >False</td>\n",
       "      <td id=\"T_7881e_row8_col14\" class=\"data row8 col14\" >True</td>\n",
       "      <td id=\"T_7881e_row8_col15\" class=\"data row8 col15\" >False</td>\n",
       "      <td id=\"T_7881e_row8_col16\" class=\"data row8 col16\" >False</td>\n",
       "      <td id=\"T_7881e_row8_col17\" class=\"data row8 col17\" >True</td>\n",
       "    </tr>\n",
       "    <tr>\n",
       "      <th id=\"T_7881e_level0_row9\" class=\"row_heading level0 row9\" >9</th>\n",
       "      <td id=\"T_7881e_row9_col0\" class=\"data row9 col0\" >10</td>\n",
       "      <td id=\"T_7881e_row9_col1\" class=\"data row9 col1\" >1</td>\n",
       "      <td id=\"T_7881e_row9_col2\" class=\"data row9 col2\" >Nasser, Mrs. Nicholas (Adele Achem)</td>\n",
       "      <td id=\"T_7881e_row9_col3\" class=\"data row9 col3\" >14.000</td>\n",
       "      <td id=\"T_7881e_row9_col4\" class=\"data row9 col4\" >1</td>\n",
       "      <td id=\"T_7881e_row9_col5\" class=\"data row9 col5\" >0</td>\n",
       "      <td id=\"T_7881e_row9_col6\" class=\"data row9 col6\" >237736</td>\n",
       "      <td id=\"T_7881e_row9_col7\" class=\"data row9 col7\" >30.071</td>\n",
       "      <td id=\"T_7881e_row9_col8\" class=\"data row9 col8\" >B96 B98</td>\n",
       "      <td id=\"T_7881e_row9_col9\" class=\"data row9 col9\" >3.436</td>\n",
       "      <td id=\"T_7881e_row9_col10\" class=\"data row9 col10\" >True</td>\n",
       "      <td id=\"T_7881e_row9_col11\" class=\"data row9 col11\" >False</td>\n",
       "      <td id=\"T_7881e_row9_col12\" class=\"data row9 col12\" >False</td>\n",
       "      <td id=\"T_7881e_row9_col13\" class=\"data row9 col13\" >True</td>\n",
       "      <td id=\"T_7881e_row9_col14\" class=\"data row9 col14\" >False</td>\n",
       "      <td id=\"T_7881e_row9_col15\" class=\"data row9 col15\" >True</td>\n",
       "      <td id=\"T_7881e_row9_col16\" class=\"data row9 col16\" >False</td>\n",
       "      <td id=\"T_7881e_row9_col17\" class=\"data row9 col17\" >False</td>\n",
       "    </tr>\n",
       "  </tbody>\n",
       "</table>\n"
      ],
      "text/plain": [
       "     PassengerId  Survived  ... Embarked_Q  Embarked_S\n",
       "0              1         0  ...      False        True\n",
       "1              2         1  ...      False       False\n",
       "2              3         1  ...      False        True\n",
       "3              4         1  ...      False        True\n",
       "4              5         0  ...      False        True\n",
       "..           ...       ...  ...        ...         ...\n",
       "886          887         0  ...      False        True\n",
       "887          888         1  ...      False        True\n",
       "888          889         0  ...      False        True\n",
       "889          890         1  ...      False       False\n",
       "890          891         0  ...       True       False\n",
       "\n",
       "[891 rows x 18 columns]"
      ]
     },
     "execution_count": null,
     "metadata": {},
     "output_type": "execute_result"
    }
   ],
   "source": [
    "df"
   ]
  },
  {
   "cell_type": "code",
   "execution_count": null,
   "id": "6581e4b3",
   "metadata": {
    "input_tokens": 16,
    "time_run": "9:29:02a"
   },
   "outputs": [],
   "source": [
    "t_dep = torch.tensor(df.Survived)"
   ]
  },
  {
   "cell_type": "code",
   "execution_count": null,
   "id": "530e00ec",
   "metadata": {
    "collapsed": true,
    "input_tokens": 3,
    "output_tokens": 4056,
    "time_run": "8:47:41a"
   },
   "outputs": [
    {
     "data": {
      "text/plain": [
       "tensor([0, 1, 1, 1, 0, 0, 0, 0, 1, 1, 1, 1, 0, 0, 0, 1, 0, 1, 0, 1, 0, 1, 1, 1, 0, 1, 0, 0, 1, 0, 0, 1, 1, 0, 0, 0, 1, 0, 0, 1, 0, 0, 0, 1,\n",
       "        1, 0, 0, 1, 0, 0, 0, 0, 1, 1, 0, 1, 1, 0, 1, 0, 0, 1, 0, 0, 0, 1, 1, 0, 1, 0, 0, 0, 0, 0, 1, 0, 0, 0, 1, 1, 0, 1, 1, 0, 1, 1, 0, 0,\n",
       "        1, 0, 0, 0, 0, 0, 0, 0, 0, 1, 1, 0, 0, 0, 0, 0, 0, 0, 1, 1, 0, 1, 0, 0, 0, 0, 0, 0, 0, 0, 0, 0, 0, 0, 0, 1, 0, 1, 0, 1, 1, 0, 0, 0,\n",
       "        0, 1, 0, 0, 1, 0, 0, 0, 0, 1, 1, 0, 0, 0, 1, 0, 0, 0, 0, 1, 0, 0, 0, 0, 1, 0, 0, 0, 0, 1, 0, 0, 0, 1, 1, 0, 0, 0, 0, 0, 1, 0, 0, 0,\n",
       "        0, 0, 0, 0, 0, 0, 0, 1, 1, 0, 1, 1, 0, 0, 1, 0, 1, 1, 1, 1, 0, 0, 1, 0, 0, 0, 0, 0, 1, 0, 0, 1, 1, 1, 0, 1, 0, 0, 0, 1, 1, 0, 1, 0,\n",
       "        1, 0, 0, 0, 1, 0, 1, 0, 0, 0, 1, 0, 0, 1, 0, 0, 0, 1, 0, 0, 0, 1, 0, 0, 0, 0, 0, 1, 1, 0, 0, 0, 0, 0, 0, 1, 1, 1, 1, 1, 0, 1, 0, 0,\n",
       "        0, 0, 0, 1, 1, 1, 0, 1, 1, 0, 1, 1, 0, 0, 0, 1, 0, 0, 0, 1, 0, 0, 1, 0, 1, 1, 1, 1, 0, 0, 0, 0, 0, 0, 1, 1, 1, 1, 0, 1, 0, 1, 1, 1,\n",
       "        0, 1, 1, 1, 0, 0, 0, 1, 1, 0, 1, 1, 0, 0, 1, 1, 0, 1, 0, 1, 1, 1, 1, 0, 0, 0, 1, 0, 0, 1, 1, 0, 1, 1, 0, 0, 0, 1, 1, 1, 1, 0, 0, 0,\n",
       "        0, 0, 0, 0, 1, 0, 1, 1, 0, 0, 0, 0, 0, 0, 1, 1, 1, 1, 1, 0, 0, 0, 0, 1, 1, 0, 0, 0, 1, 1, 0, 1, 0, 0, 0, 1, 0, 1, 1, 1, 0, 1, 1, 0,\n",
       "        0, 0, 0, 1, 1, 0, 0, 0, 0, 0, 0, 1, 0, 0, 0, 0, 1, 0, 1, 0, 1, 1, 0, 0, 0, 0, 0, 0, 0, 0, 1, 1, 0, 1, 1, 1, 1, 0, 0, 1, 0, 1, 0, 0,\n",
       "        1, 0, 0, 1, 1, 1, 1, 1, 1, 1, 0, 0, 0, 1, 0, 1, 0, 1, 1, 0, 1, 0, 0, 0, 0, 0, 0, 0, 0, 1, 0, 0, 1, 1, 0, 0, 0, 0, 0, 1, 0, 0, 0, 1,\n",
       "        1, 0, 1, 0, 0, 1, 0, 0, 0, 0, 0, 0, 1, 0, 0, 0, 0, 0, 0, 0, 1, 0, 1, 1, 0, 1, 1, 0, 1, 1, 0, 0, 1, 0, 1, 0, 1, 0, 0, 1, 0, 0, 1, 0,\n",
       "        0, 0, 1, 0, 0, 1, 0, 1, 0, 1, 0, 1, 1, 0, 0, 1, 0, 0, 1, 1, 0, 1, 1, 0, 0, 1, 1, 0, 1, 0, 1, 1, 0, 0, 0, 0, 0, 0, 0, 0, 0, 1, 1, 1,\n",
       "        1, 1, 0, 0, 1, 1, 0, 1, 1, 1, 0, 0, 0, 1, 0, 1, 0, 0, 0, 1, 0, 0, 0, 0, 1, 0, 0, 1, 1, 0, 0, 0, 1, 0, 0, 1, 1, 1, 0, 0, 1, 0, 0, 1,\n",
       "        0, 0, 1, 0, 0, 1, 1, 0, 0, 0, 0, 1, 0, 0, 1, 0, 1, 0, 0, 1, 0, 0, 0, 0, 0, 1, 0, 1, 1, 1, 0, 1, 0, 1, 0, 1, 0, 1, 0, 0, 0, 0, 0, 0,\n",
       "        1, 0, 0, 0, 1, 0, 0, 0, 0, 1, 1, 0, 0, 1, 0, 0, 0, 1, 0, 1, 0, 1, 0, 0, 0, 0, 0, 0, 0, 1, 1, 1, 1, 0, 0, 0, 0, 1, 0, 0, 1, 1, 0, 0,\n",
       "        0, 0, 1, 1, 1, 1, 1, 0, 1, 0, 0, 0, 1, 1, 0, 0, 1, 0, 0, 0, 1, 0, 1, 1, 0, 0, 1, 0, 0, 0, 0, 0, 0, 1, 0, 0, 1, 0, 1, 0, 1, 0, 0, 1,\n",
       "        0, 0, 1, 1, 0, 0, 1, 1, 0, 0, 0, 1, 0, 0, 1, 1, 0, 1, 0, 0, 0, 0, 0, 0, 0, 0, 1, 0, 0, 1, 0, 1, 1, 1, 0, 0, 0, 0, 1, 0, 1, 0, 0, 0,\n",
       "        0, 0, 0, 0, 1, 1, 0, 0, 0, 1, 1, 1, 1, 0, 0, 0, 0, 1, 0, 0, 0, 0, 0, 0, 0, 0, 0, 0, 1, 1, 0, 1, 0, 0, 0, 1, 1, 1, 1, 1, 0, 0, 0, 1,\n",
       "        0, 0, 1, 1, 0, 0, 1, 0, 0, 0, 0, 0, 0, 1, 0, 0, 0, 1, 0, 1, 1, 1, 1, 0, 0, 0, 1, 0, 0, 1, 1, 0, 0, 1, 0, 1, 0, 0, 1, 1, 0, 0, 0, 1,\n",
       "        1, 0, 0, 0, 0, 0, 0, 1, 0, 1, 0])"
      ]
     },
     "execution_count": null,
     "metadata": {},
     "output_type": "execute_result"
    }
   ],
   "source": [
    "t_dep"
   ]
  },
  {
   "cell_type": "code",
   "execution_count": null,
   "id": "18ff574f",
   "metadata": {
    "input_tokens": 34,
    "time_run": "8:48:55a"
   },
   "outputs": [],
   "source": [
    "inp_col = ['Age', 'SibSp', 'Parch','LogFare'] + addded_col\n"
   ]
  },
  {
   "cell_type": "code",
   "execution_count": null,
   "id": "829ee4b0",
   "metadata": {
    "input_tokens": 3,
    "output_tokens": 228,
    "time_run": "8:49:00a"
   },
   "outputs": [
    {
     "data": {
      "text/plain": [
       "['Age',\n",
       " 'SibSp',\n",
       " 'Parch',\n",
       " 'LogFare',\n",
       " 'Sex_female',\n",
       " 'Sex_male',\n",
       " 'Pclass_1',\n",
       " 'Pclass_2',\n",
       " 'Pclass_3',\n",
       " 'Embarked_C',\n",
       " 'Embarked_Q',\n",
       " 'Embarked_S']"
      ]
     },
     "execution_count": null,
     "metadata": {},
     "output_type": "execute_result"
    }
   ],
   "source": [
    "inp_col"
   ]
  },
  {
   "cell_type": "code",
   "execution_count": null,
   "id": "d51a64bc",
   "metadata": {
    "input_tokens": 66,
    "time_run": "8:52:34a"
   },
   "outputs": [],
   "source": [
    "for col in addded_col:\n",
    "    if df[col].dtype == bool:\n",
    "        df[col] = df[col].astype(int)\n",
    "\n",
    "t_inp = torch.tensor(df[inp_col].values, dtype=torch.float)"
   ]
  },
  {
   "cell_type": "code",
   "execution_count": null,
   "id": "887d1e63",
   "metadata": {
    "collapsed": true,
    "input_tokens": 4,
    "output_tokens": 1531,
    "time_run": "8:52:26a"
   },
   "outputs": [
    {
     "data": {
      "text/plain": [
       "tensor([[22.00,  1.00,  0.00,  2.11,  0.00,  1.00,  0.00,  0.00,  1.00,  0.00,  0.00,  1.00],\n",
       "        [38.00,  1.00,  0.00,  4.28,  1.00,  0.00,  1.00,  0.00,  0.00,  1.00,  0.00,  0.00],\n",
       "        [26.00,  0.00,  0.00,  2.19,  1.00,  0.00,  0.00,  0.00,  1.00,  0.00,  0.00,  1.00],\n",
       "        [35.00,  1.00,  0.00,  3.99,  1.00,  0.00,  1.00,  0.00,  0.00,  0.00,  0.00,  1.00],\n",
       "        [35.00,  0.00,  0.00,  2.20,  0.00,  1.00,  0.00,  0.00,  1.00,  0.00,  0.00,  1.00],\n",
       "        [24.00,  0.00,  0.00,  2.25,  0.00,  1.00,  0.00,  0.00,  1.00,  0.00,  1.00,  0.00],\n",
       "        [54.00,  0.00,  0.00,  3.97,  0.00,  1.00,  1.00,  0.00,  0.00,  0.00,  0.00,  1.00],\n",
       "        ...,\n",
       "        [25.00,  0.00,  0.00,  2.09,  0.00,  1.00,  0.00,  0.00,  1.00,  0.00,  0.00,  1.00],\n",
       "        [39.00,  0.00,  5.00,  3.41,  1.00,  0.00,  0.00,  0.00,  1.00,  0.00,  1.00,  0.00],\n",
       "        [27.00,  0.00,  0.00,  2.64,  0.00,  1.00,  0.00,  1.00,  0.00,  0.00,  0.00,  1.00],\n",
       "        [19.00,  0.00,  0.00,  3.43,  1.00,  0.00,  1.00,  0.00,  0.00,  0.00,  0.00,  1.00],\n",
       "        [24.00,  1.00,  2.00,  3.20,  1.00,  0.00,  0.00,  0.00,  1.00,  0.00,  0.00,  1.00],\n",
       "        [26.00,  0.00,  0.00,  3.43,  0.00,  1.00,  1.00,  0.00,  0.00,  1.00,  0.00,  0.00],\n",
       "        [32.00,  0.00,  0.00,  2.17,  0.00,  1.00,  0.00,  0.00,  1.00,  0.00,  1.00,  0.00]])"
      ]
     },
     "execution_count": null,
     "metadata": {},
     "output_type": "execute_result"
    }
   ],
   "source": [
    "t_inp"
   ]
  },
  {
   "cell_type": "code",
   "execution_count": null,
   "id": "0129d039",
   "metadata": {
    "input_tokens": 6,
    "output_tokens": 19,
    "time_run": "8:52:42a"
   },
   "outputs": [
    {
     "data": {
      "text/plain": [
       "torch.float32"
      ]
     },
     "execution_count": null,
     "metadata": {},
     "output_type": "execute_result"
    }
   ],
   "source": [
    "t_inp.dtype"
   ]
  },
  {
   "cell_type": "code",
   "execution_count": null,
   "id": "b519fd0e",
   "metadata": {
    "input_tokens": 6,
    "output_tokens": 27,
    "time_run": "8:52:54a"
   },
   "outputs": [
    {
     "data": {
      "text/plain": [
       "torch.Size([891, 12])"
      ]
     },
     "execution_count": null,
     "metadata": {},
     "output_type": "execute_result"
    }
   ],
   "source": [
    "t_inp.shape"
   ]
  },
  {
   "cell_type": "code",
   "execution_count": null,
   "id": "fe5516a7",
   "metadata": {
    "input_tokens": 4,
    "output_tokens": 19,
    "time_run": "8:54:35a"
   },
   "outputs": [
    {
     "data": {
      "text/plain": [
       "torch.int64"
      ]
     },
     "execution_count": null,
     "metadata": {},
     "output_type": "execute_result"
    }
   ],
   "source": [
    "t_dep.dtype"
   ]
  },
  {
   "cell_type": "markdown",
   "id": "4d14abda",
   "metadata": {
    "input_tokens": 4
   },
   "source": [
    "# Linear model"
   ]
  },
  {
   "cell_type": "code",
   "execution_count": null,
   "id": "f737abc7",
   "metadata": {
    "input_tokens": 52,
    "time_run": "11:29:26a"
   },
   "outputs": [],
   "source": [
    "torch.manual_seed(42)\n",
    "\n",
    "coff = torch.randn(t_inp.shape[1]) - 0.5\n",
    "\n",
    "# (t_inp * t_dep[:,None\n"
   ]
  },
  {
   "cell_type": "code",
   "execution_count": null,
   "id": "d11af7f6",
   "metadata": {
    "input_tokens": 15,
    "output_tokens": 100,
    "time_run": "9:06:14a"
   },
   "outputs": [
    {
     "data": {
      "text/plain": [
       "tensor([ 0.61, -2.19, -1.49,  0.46,  0.82,  0.32, -1.27, -1.25,  0.85,  0.19])"
      ]
     },
     "execution_count": null,
     "metadata": {},
     "output_type": "execute_result"
    }
   ],
   "source": [
    "torch.randn(10) - 0.5"
   ]
  },
  {
   "cell_type": "code",
   "execution_count": null,
   "id": "55a1e31e",
   "metadata": {
    "input_tokens": 10,
    "output_tokens": 16,
    "time_run": "9:19:59a"
   },
   "outputs": [
    {
     "data": {
      "text/plain": [
       "12"
      ]
     },
     "execution_count": null,
     "metadata": {},
     "output_type": "execute_result"
    }
   ],
   "source": [
    "t_inp.shape[1]"
   ]
  },
  {
   "cell_type": "code",
   "execution_count": null,
   "id": "8ea13668",
   "metadata": {
    "input_tokens": 12,
    "time_run": "9:04:21a"
   },
   "outputs": [],
   "source": [
    "coff =coff[:,None]"
   ]
  },
  {
   "cell_type": "code",
   "execution_count": null,
   "id": "f1a50e30",
   "metadata": {
    "collapsed": true,
    "input_tokens": 9,
    "output_tokens": 1365,
    "time_run": "9:20:03a"
   },
   "outputs": [
    {
     "data": {
      "text/plain": [
       "tensor([[-3.59, -0.37, -0.00, -0.57, -0.00, -0.69,  0.00, -0.00, -0.04, -0.00,  0.00,  0.31],\n",
       "        [-6.21, -0.37, -0.00, -1.15, -1.62, -0.00,  1.71, -0.00, -0.00, -0.23,  0.00,  0.00],\n",
       "        [-4.25, -0.00, -0.00, -0.59, -1.62, -0.00,  0.00, -0.00, -0.04, -0.00,  0.00,  0.31],\n",
       "        [-5.72, -0.37, -0.00, -1.08, -1.62, -0.00,  1.71, -0.00, -0.00, -0.00,  0.00,  0.31],\n",
       "        [-5.72, -0.00, -0.00, -0.59, -0.00, -0.69,  0.00, -0.00, -0.04, -0.00,  0.00,  0.31],\n",
       "        [-3.92, -0.00, -0.00, -0.61, -0.00, -0.69,  0.00, -0.00, -0.04, -0.00,  0.03,  0.00],\n",
       "        [-8.82, -0.00, -0.00, -1.07, -0.00, -0.69,  1.71, -0.00, -0.00, -0.00,  0.00,  0.31],\n",
       "        ...,\n",
       "        [-4.08, -0.00, -0.00, -0.56, -0.00, -0.69,  0.00, -0.00, -0.04, -0.00,  0.00,  0.31],\n",
       "        [-6.37, -0.00, -1.33, -0.92, -1.62, -0.00,  0.00, -0.00, -0.04, -0.00,  0.03,  0.00],\n",
       "        [-4.41, -0.00, -0.00, -0.71, -0.00, -0.69,  0.00, -1.14, -0.00, -0.00,  0.00,  0.31],\n",
       "        [-3.10, -0.00, -0.00, -0.93, -1.62, -0.00,  1.71, -0.00, -0.00, -0.00,  0.00,  0.31],\n",
       "        [-3.92, -0.37, -0.53, -0.86, -1.62, -0.00,  0.00, -0.00, -0.04, -0.00,  0.00,  0.31],\n",
       "        [-4.25, -0.00, -0.00, -0.93, -0.00, -0.69,  1.71, -0.00, -0.00, -0.23,  0.00,  0.00],\n",
       "        [-5.23, -0.00, -0.00, -0.58, -0.00, -0.69,  0.00, -0.00, -0.04, -0.00,  0.03,  0.00]])"
      ]
     },
     "execution_count": null,
     "metadata": {},
     "output_type": "execute_result"
    }
   ],
   "source": [
    "(t_inp * coff)"
   ]
  },
  {
   "cell_type": "code",
   "execution_count": null,
   "id": "d9977b35",
   "metadata": {
    "input_tokens": 4,
    "output_tokens": 22,
    "time_run": "9:06:30a"
   },
   "outputs": [
    {
     "data": {
      "text/plain": [
       "torch.Size([12])"
      ]
     },
     "execution_count": null,
     "metadata": {},
     "output_type": "execute_result"
    }
   ],
   "source": [
    "coff.shape"
   ]
  },
  {
   "cell_type": "code",
   "execution_count": null,
   "id": "65aa9c44",
   "metadata": {
    "input_tokens": 6,
    "output_tokens": 27,
    "time_run": "9:06:31a"
   },
   "outputs": [
    {
     "data": {
      "text/plain": [
       "torch.Size([891, 12])"
      ]
     },
     "execution_count": null,
     "metadata": {},
     "output_type": "execute_result"
    }
   ],
   "source": [
    "t_inp.shape"
   ]
  },
  {
   "cell_type": "code",
   "execution_count": null,
   "id": "1e082cdb",
   "metadata": {
    "input_tokens": 22,
    "time_run": "9:12:40a"
   },
   "outputs": [],
   "source": [
    "preds= (t_inp * coff).sum(axis=1)"
   ]
  },
  {
   "cell_type": "code",
   "execution_count": null,
   "id": "c9e3a7c9",
   "metadata": {
    "input_tokens": 12,
    "output_tokens": 111,
    "time_run": "9:11:12a"
   },
   "outputs": [
    {
     "data": {
      "text/plain": [
       "tensor([-3.59, -0.37, -0.00, -0.57, -0.00, -0.69,  0.00, -0.00, -0.04, -0.00,  0.00,  0.31])"
      ]
     },
     "execution_count": null,
     "metadata": {},
     "output_type": "execute_result"
    }
   ],
   "source": [
    "(t_inp * coff)[0]"
   ]
  },
  {
   "cell_type": "code",
   "execution_count": null,
   "id": "24571543",
   "metadata": {
    "input_tokens": 4,
    "output_tokens": 22,
    "time_run": "9:12:58a"
   },
   "outputs": [
    {
     "data": {
      "text/plain": [
       "torch.Size([891])"
      ]
     },
     "execution_count": null,
     "metadata": {},
     "output_type": "execute_result"
    }
   ],
   "source": [
    "preds.shape"
   ]
  },
  {
   "cell_type": "code",
   "execution_count": null,
   "id": "81634f30",
   "metadata": {
    "input_tokens": 10,
    "output_tokens": 54,
    "time_run": "9:13:10a"
   },
   "outputs": [
    {
     "data": {
      "text/plain": [
       "tensor([-4.95, -7.88, -6.19, -6.77, -6.73])"
      ]
     },
     "execution_count": null,
     "metadata": {},
     "output_type": "execute_result"
    }
   ],
   "source": [
    "preds[0:5]"
   ]
  },
  {
   "cell_type": "code",
   "execution_count": null,
   "id": "a41f8149",
   "metadata": {
    "collapsed": true,
    "input_tokens": 13,
    "output_tokens": 7920,
    "time_run": "9:14:06a"
   },
   "outputs": [
    {
     "data": {
      "text/plain": [
       "tensor([ 24.49,  78.83,  51.67,  60.35,  45.23,  27.20,  73.23,   8.74,  63.45,  57.42,  19.51, 120.37,  18.28,  88.74,  17.86, 174.18,\n",
       "         13.58,  51.07,  57.45,  54.49,  65.93,  77.07,  32.14,  27.16,  23.74, 125.31,  29.65,  24.21,  50.90,  24.25,  44.20,  46.03,\n",
       "         50.85, 167.75,  28.59,  48.58,  41.54,  19.70,  33.96,  38.77,  79.01,  65.05,  29.88,  40.93,  39.92,  24.29,  32.91,  50.85,\n",
       "         41.74,  29.74,  18.56,  19.64, 114.37,  89.25, 125.63,  20.78,  56.85,  38.19,  36.92,  31.83,  26.20,  63.94,  57.54,  13.11,\n",
       "         16.29,  52.78,  78.25,  16.94,  59.82,  36.19,  54.75,  54.69,  37.29,  39.85,  59.81,  25.81,  24.25,  24.29,  16.80,  63.24,\n",
       "         21.43,  46.04,  50.86,  18.37,  47.42,  92.47,  26.60,  24.29,  56.40,  24.29,  33.01,  18.23,  58.77,  40.86, 112.78,  24.29,\n",
       "        138.52,  28.68, 102.55,  69.35,  42.43,  24.25,  12.53,  41.16,  60.69,  31.11,  40.49,  35.05,  51.99,  60.63,  54.98,  28.85,\n",
       "         21.18,  31.71,  29.25,  19.67, 163.53,  55.59,  23.84,  21.45,  46.91,  24.29,  75.04,  89.69,  79.72,  24.64,  26.98,  34.81,\n",
       "         68.89,  69.29,  48.11,  18.01, 102.77,  89.25,  39.81,  43.05,  26.33,  37.93,  13.36,  18.60,  50.36,  42.64,  54.82,  18.88,\n",
       "         26.37,  38.86,  41.10,  25.57,  79.13,  82.55, 111.22,  32.55, 101.47,  68.88,  24.07,  79.56,  33.91,  34.91,  24.47,  80.70,\n",
       "         74.51, 115.43,  27.53,  14.46,  11.08,  18.01,  34.52, 121.91,  12.08,  36.97,  91.88,  16.09,  14.63,  19.67,  86.27,  20.97,\n",
       "         43.52,  85.14,  50.78,  39.62,  98.40,  45.22,  23.41,  21.91,  19.20,  13.31,  58.87,  62.60,  74.22,  47.39,  88.15,  28.40,\n",
       "         41.14,  20.52,  85.35, 143.18,  26.98,  66.33,  50.85,  50.16,  31.61,  80.70,  42.39,  80.21,  24.49,   6.77,  45.89,  49.12,\n",
       "         33.92,  58.95,  23.98, 100.02,  20.95,  50.78,  30.97,  61.76,  54.04,  93.00,  56.94,  50.03,  21.37,  44.04,  87.20,  24.25,\n",
       "         55.68,  21.51,  39.39,  18.77,  26.69,  56.76,  62.23,  32.91, 140.93,  37.48,  37.12,  34.22,  99.21,  38.20,  27.84,  57.78,\n",
       "         47.92,  58.87,  47.74,  20.91,  41.28,  65.41,  36.24,  74.67,  55.08, 134.41,  24.05,  54.50,  93.86,  41.62,  88.40,  79.44,\n",
       "         39.05,  45.03,  73.04, 163.11,  26.98,  23.61,  80.67,  27.05,  37.58,  64.85,  33.38,  41.67, 136.93,  58.48,  12.41,  30.23,\n",
       "        126.05,  41.50,  50.85, 154.83,  86.22,  29.53,  20.26,  90.79, 141.37,  31.09,  13.41,  26.13,  12.09,  48.42,  48.28,  21.14,\n",
       "        101.72,  46.29,  36.39,  34.12,  74.74,  34.67,  24.25,  16.29,  28.77,   4.80,  20.42, 122.45,  50.85,  52.00,  12.38,  69.63,\n",
       "         24.29,   4.31,  40.18,  30.94,  67.17,  51.00,  39.21,  47.11,  67.62,  31.11, 101.31,  51.64,  74.49, 122.41,  57.42,  92.93,\n",
       "         20.95,  29.31,  86.94,  73.93,  80.70,  69.76, 119.05, 100.85,  78.83,  26.27,  66.39,  49.17,  42.24,  20.84,  38.66,  24.25,\n",
       "         24.13,  84.03,  87.58,  48.83,  19.07,  58.88,  46.23,  39.81,  65.70,  65.33, 114.39,  54.88,  10.92,  62.19,  23.02,  12.63,\n",
       "         21.27,  32.04,  29.65,  31.61,  30.79,  87.78,  50.90,  50.90,  86.27,  65.12, 104.99,  44.80,  32.91,  34.62, 155.90,  54.49,\n",
       "         50.85,  38.61,  33.09,  18.23,  16.91,  17.05,  16.45,  43.96,  42.43,  31.32,  21.70,  16.84,  89.70,  18.91,  38.83,  60.26,\n",
       "         24.25,  31.55,  16.07, 100.85,  26.97,  55.67,  59.96,  29.50,  39.95,  42.93,  57.41,  21.11,  49.04,  98.33,  35.16,  76.20,\n",
       "         70.13,  27.62,  33.58,  37.46,  27.35,  68.43,  87.03,  19.77,  19.63,  56.76,  24.25,  26.68,  61.73,  29.53,  84.48,  34.40,\n",
       "        112.10,  58.28,  50.78,  19.23,  29.88,  22.12,  32.95,  53.27,  23.19,  24.05,  86.20,  55.40,  26.98,  52.35,  26.37,  54.88,\n",
       "        133.88,  14.11,  68.81,  25.88,  49.23,  94.37, 145.39,  52.36, 151.99,  18.62,  29.76,  76.31,  35.17,   4.18,  44.28,  37.40,\n",
       "         30.58,  82.65,  84.68,  30.54,  25.16,  96.00,  24.29,  53.04, 103.59,  35.59, 150.69,  26.98,  70.59,  43.06,  53.81, 101.31,\n",
       "         24.29,  51.60,  29.53,  75.83,  26.97,  23.38,  24.05,  52.31, 113.39,  71.84,  31.22,  13.39,  68.43,  37.02,  21.03,  13.26,\n",
       "         28.25,  29.53,  84.18, 176.27,  34.63,  56.76,  62.55,  92.28,  34.91,  18.35,  30.54,  19.48,  73.64, 140.74,  19.70,  31.53,\n",
       "        132.63,  25.85,  35.36,  24.22,  14.46,  31.82,  37.54,  64.49,  19.57,  14.36, 105.28,  20.09,  34.10,  45.62,  49.15,  24.29,\n",
       "         41.47, 130.94,  24.12,  53.34,  93.37,  30.02, 112.16,  38.82,  45.31,  21.14,  29.65,  94.05,  29.65,  62.23, 150.69,  16.37,\n",
       "         54.39,  48.44,  28.13,  29.65,  24.39,  67.14,  47.10,  36.20,  47.77,  53.40,  25.74,  40.05,  66.73,  33.34,  37.22,  81.02,\n",
       "         81.16, 100.19,  61.06,  59.35,  52.84,  29.56,  22.95,  46.42,  27.00,  37.43,  42.65,  93.86, 107.25,  21.11,  77.35,  88.13,\n",
       "         26.98,  56.81,  46.36,  24.29,  34.40,  35.36,  16.87,  63.75,  29.65,  52.26, 176.86, 122.57,  41.48,  50.85,  13.12,  18.12,\n",
       "         94.39,  71.16,  47.93,  52.29,  82.76,  88.84, 125.94,  37.11,  30.14,  27.67,  98.77, 139.91,  21.18,  24.29,  44.84, 125.21,\n",
       "         74.99,  44.38,  77.75,  60.85,  69.25,  70.85,  29.65,  93.68,  86.07,  24.25,  13.00,  67.16,  46.52,  55.09,  34.86,  25.08,\n",
       "         90.25,  72.20, 107.26,  23.98,  58.87,  26.98,  45.23,  88.42,  53.90,  45.36,  37.30,  41.21,  41.94,  63.56,  43.83,  19.65,\n",
       "         21.26,  91.70, 139.17,  27.17,  27.57,  26.97, 186.58,  86.61,  40.54,   6.70,  28.87,  76.31,  38.83,  65.70, 107.63,  29.94,\n",
       "         18.23,  38.61,  17.89,  41.31,  23.38,  92.06,  16.87, 106.63,  24.14,  44.71,  24.25,  56.45,  19.80,  50.88,  26.19,  53.86,\n",
       "         24.25,  67.98,  35.79, 110.07,  97.98,  64.93,  52.26,  47.22,  31.84,  74.75,  39.81,  24.21,  64.51,  35.60, 134.92,  26.76,\n",
       "        185.10,  68.71,  29.53,  15.53,  25.10,  35.21, 129.55,  64.62,  37.73,  33.57,  18.56,  37.60, 167.57,  64.86,  29.72,  17.38,\n",
       "         15.53,  22.71,  38.41,  20.54,  41.31,  31.45,  87.64, 115.09,  67.16,  50.84,  83.21,  61.72,  35.08,  39.39,  34.07,  28.70,\n",
       "         31.59,  76.96, 132.75,  55.05,  30.85,  52.78,  37.51,  12.13,  80.09,  33.47, 114.89,  16.81,  77.75,  72.58,  28.79,  40.83,\n",
       "         31.90,  17.02,  60.52, 108.00,  30.53,  18.43, 106.05,  50.84,  47.03,  40.91,  46.05,  12.66,  29.53,  35.79,  35.79,  34.05,\n",
       "        128.15,  57.91,  24.25,  24.25,  20.38,  37.21,  54.07,  29.94,  49.96, 141.38,  20.15,  82.13,  10.36,  40.16,  31.34,  11.30,\n",
       "         41.46,  22.67, 177.49,  16.00,  31.07,  26.37,  43.06,  51.85,  25.74,  58.92,  33.55,  75.34,  13.06, 109.90,  17.05,  51.73,\n",
       "         34.22,  38.99,  24.69,  78.19, 154.23,  29.65, 204.35,  15.52,  26.98,  14.97,  26.97,  87.20,  31.19,  23.50,  18.76,  37.20,\n",
       "         25.61,  25.68,  34.44,  21.76,  10.95,  62.50,  26.98,  25.17,  98.40,  16.50,  25.88,  73.89,  90.17,  64.43,  41.28,  60.18,\n",
       "         60.52, 100.84,  13.40,   8.40,  40.76,  36.77,  25.38,  23.79,  73.89,  55.38,  27.57,  58.58,  62.24,  27.93,  35.88,   6.70,\n",
       "         32.47,  76.34,  63.67,  21.16, 120.14,  41.43,  23.76,  59.72,  12.19,  26.71,  29.46,  22.39,  38.37, 141.98,  41.64,  16.74,\n",
       "         29.65,  22.65,  15.65,  87.39,  19.86,  24.29,  59.81,  25.54,  18.25,  22.91,  48.74,  50.87,  14.46,  61.67,  80.70,  52.74,\n",
       "         53.35,  44.24,  16.17, 171.24,  22.58,  20.08, 118.75,  38.28,  99.39,  79.06,  70.92,  29.65,  73.71,  35.96,  87.09,  98.40,\n",
       "         37.77, 121.49,  90.28,  22.98,  24.69,  11.41,  27.57,  99.82,  20.62,  75.90,  96.15,  34.95,  18.70,  16.87,  24.25, 138.15,\n",
       "         75.49,  40.88,  31.40,  45.51,  25.61, 104.89,  44.04,  21.48,  49.50,  28.98,  42.26])"
      ]
     },
     "execution_count": null,
     "metadata": {},
     "output_type": "execute_result"
    }
   ],
   "source": [
    "torch.abs(preds - t_dep)**2"
   ]
  },
  {
   "cell_type": "code",
   "execution_count": null,
   "id": "c02673f7",
   "metadata": {
    "input_tokens": 27,
    "time_run": "9:18:52a"
   },
   "outputs": [],
   "source": [
    "def loss(preds,t_dep):  return torch.abs(preds - t_dep)**2"
   ]
  },
  {
   "cell_type": "code",
   "execution_count": null,
   "id": "dfad087b",
   "metadata": {
    "input_tokens": 10,
    "time_run": "9:19:14a"
   },
   "outputs": [],
   "source": [
    "# loss(preds,t_dep)"
   ]
  },
  {
   "cell_type": "code",
   "execution_count": null,
   "id": "3082e060",
   "metadata": {
    "input_tokens": 9,
    "output_tokens": 1365,
    "time_run": "9:19:37a"
   },
   "outputs": [
    {
     "data": {
      "text/plain": [
       "tensor([[-3.59, -0.37, -0.00, -0.57, -0.00, -0.69,  0.00, -0.00, -0.04, -0.00,  0.00,  0.31],\n",
       "        [-6.21, -0.37, -0.00, -1.15, -1.62, -0.00,  1.71, -0.00, -0.00, -0.23,  0.00,  0.00],\n",
       "        [-4.25, -0.00, -0.00, -0.59, -1.62, -0.00,  0.00, -0.00, -0.04, -0.00,  0.00,  0.31],\n",
       "        [-5.72, -0.37, -0.00, -1.08, -1.62, -0.00,  1.71, -0.00, -0.00, -0.00,  0.00,  0.31],\n",
       "        [-5.72, -0.00, -0.00, -0.59, -0.00, -0.69,  0.00, -0.00, -0.04, -0.00,  0.00,  0.31],\n",
       "        [-3.92, -0.00, -0.00, -0.61, -0.00, -0.69,  0.00, -0.00, -0.04, -0.00,  0.03,  0.00],\n",
       "        [-8.82, -0.00, -0.00, -1.07, -0.00, -0.69,  1.71, -0.00, -0.00, -0.00,  0.00,  0.31],\n",
       "        ...,\n",
       "        [-4.08, -0.00, -0.00, -0.56, -0.00, -0.69,  0.00, -0.00, -0.04, -0.00,  0.00,  0.31],\n",
       "        [-6.37, -0.00, -1.33, -0.92, -1.62, -0.00,  0.00, -0.00, -0.04, -0.00,  0.03,  0.00],\n",
       "        [-4.41, -0.00, -0.00, -0.71, -0.00, -0.69,  0.00, -1.14, -0.00, -0.00,  0.00,  0.31],\n",
       "        [-3.10, -0.00, -0.00, -0.93, -1.62, -0.00,  1.71, -0.00, -0.00, -0.00,  0.00,  0.31],\n",
       "        [-3.92, -0.37, -0.53, -0.86, -1.62, -0.00,  0.00, -0.00, -0.04, -0.00,  0.00,  0.31],\n",
       "        [-4.25, -0.00, -0.00, -0.93, -0.00, -0.69,  1.71, -0.00, -0.00, -0.23,  0.00,  0.00],\n",
       "        [-5.23, -0.00, -0.00, -0.58, -0.00, -0.69,  0.00, -0.00, -0.04, -0.00,  0.03,  0.00]])"
      ]
     },
     "execution_count": null,
     "metadata": {},
     "output_type": "execute_result"
    }
   ],
   "source": [
    "(t_inp * coff)"
   ]
  },
  {
   "cell_type": "code",
   "execution_count": null,
   "id": "a3d6b038",
   "metadata": {
    "input_tokens": 4,
    "output_tokens": 1531,
    "time_run": "9:20:59a"
   },
   "outputs": [
    {
     "data": {
      "text/plain": [
       "tensor([[22.00,  1.00,  0.00,  2.11,  0.00,  1.00,  0.00,  0.00,  1.00,  0.00,  0.00,  1.00],\n",
       "        [38.00,  1.00,  0.00,  4.28,  1.00,  0.00,  1.00,  0.00,  0.00,  1.00,  0.00,  0.00],\n",
       "        [26.00,  0.00,  0.00,  2.19,  1.00,  0.00,  0.00,  0.00,  1.00,  0.00,  0.00,  1.00],\n",
       "        [35.00,  1.00,  0.00,  3.99,  1.00,  0.00,  1.00,  0.00,  0.00,  0.00,  0.00,  1.00],\n",
       "        [35.00,  0.00,  0.00,  2.20,  0.00,  1.00,  0.00,  0.00,  1.00,  0.00,  0.00,  1.00],\n",
       "        [24.00,  0.00,  0.00,  2.25,  0.00,  1.00,  0.00,  0.00,  1.00,  0.00,  1.00,  0.00],\n",
       "        [54.00,  0.00,  0.00,  3.97,  0.00,  1.00,  1.00,  0.00,  0.00,  0.00,  0.00,  1.00],\n",
       "        ...,\n",
       "        [25.00,  0.00,  0.00,  2.09,  0.00,  1.00,  0.00,  0.00,  1.00,  0.00,  0.00,  1.00],\n",
       "        [39.00,  0.00,  5.00,  3.41,  1.00,  0.00,  0.00,  0.00,  1.00,  0.00,  1.00,  0.00],\n",
       "        [27.00,  0.00,  0.00,  2.64,  0.00,  1.00,  0.00,  1.00,  0.00,  0.00,  0.00,  1.00],\n",
       "        [19.00,  0.00,  0.00,  3.43,  1.00,  0.00,  1.00,  0.00,  0.00,  0.00,  0.00,  1.00],\n",
       "        [24.00,  1.00,  2.00,  3.20,  1.00,  0.00,  0.00,  0.00,  1.00,  0.00,  0.00,  1.00],\n",
       "        [26.00,  0.00,  0.00,  3.43,  0.00,  1.00,  1.00,  0.00,  0.00,  1.00,  0.00,  0.00],\n",
       "        [32.00,  0.00,  0.00,  2.17,  0.00,  1.00,  0.00,  0.00,  1.00,  0.00,  1.00,  0.00]])"
      ]
     },
     "execution_count": null,
     "metadata": {},
     "output_type": "execute_result"
    }
   ],
   "source": [
    "t_inp"
   ]
  },
  {
   "cell_type": "code",
   "execution_count": null,
   "id": "f6ce5557",
   "metadata": {
    "input_tokens": 12,
    "output_tokens": 204,
    "time_run": "9:21:33a"
   },
   "outputs": [
    {
     "data": {
      "text/plain": [
       "torch.return_types.max(\n",
       "values=tensor([80.00,  8.00,  6.00,  6.24,  1.00,  1.00,  1.00,  1.00,  1.00,  1.00,  1.00,  1.00]),\n",
       "indices=tensor([630, 159, 678, 258,   1,   0,   1,   9,   0,   1,   5,   0]))"
      ]
     },
     "execution_count": null,
     "metadata": {},
     "output_type": "execute_result"
    }
   ],
   "source": [
    "t_inp.max(dim=0)"
   ]
  },
  {
   "cell_type": "code",
   "execution_count": null,
   "id": "ff091c86",
   "metadata": {
    "input_tokens": 18,
    "time_run": "9:22:06a"
   },
   "outputs": [],
   "source": [
    "values,indices = t_inp.max(dim=0)"
   ]
  },
  {
   "cell_type": "code",
   "execution_count": null,
   "id": "8c0c1937",
   "metadata": {
    "input_tokens": 1,
    "output_tokens": 123,
    "time_run": "9:22:12a"
   },
   "outputs": [
    {
     "data": {
      "text/plain": [
       "tensor([80.00,  8.00,  6.00,  6.24,  1.00,  1.00,  1.00,  1.00,  1.00,  1.00,  1.00,  1.00])"
      ]
     },
     "execution_count": null,
     "metadata": {},
     "output_type": "execute_result"
    }
   ],
   "source": [
    "values"
   ]
  },
  {
   "cell_type": "code",
   "execution_count": null,
   "id": "2de89643",
   "metadata": {
    "collapsed": true,
    "input_tokens": 7,
    "output_tokens": 1300,
    "time_run": "9:22:28a"
   },
   "outputs": [
    {
     "data": {
      "text/plain": [
       "tensor([[0.28, 0.12, 0.00, 0.34, 0.00, 1.00, 0.00, 0.00, 1.00, 0.00, 0.00, 1.00],\n",
       "        [0.47, 0.12, 0.00, 0.69, 1.00, 0.00, 1.00, 0.00, 0.00, 1.00, 0.00, 0.00],\n",
       "        [0.32, 0.00, 0.00, 0.35, 1.00, 0.00, 0.00, 0.00, 1.00, 0.00, 0.00, 1.00],\n",
       "        [0.44, 0.12, 0.00, 0.64, 1.00, 0.00, 1.00, 0.00, 0.00, 0.00, 0.00, 1.00],\n",
       "        [0.44, 0.00, 0.00, 0.35, 0.00, 1.00, 0.00, 0.00, 1.00, 0.00, 0.00, 1.00],\n",
       "        [0.30, 0.00, 0.00, 0.36, 0.00, 1.00, 0.00, 0.00, 1.00, 0.00, 1.00, 0.00],\n",
       "        [0.68, 0.00, 0.00, 0.64, 0.00, 1.00, 1.00, 0.00, 0.00, 0.00, 0.00, 1.00],\n",
       "        ...,\n",
       "        [0.31, 0.00, 0.00, 0.33, 0.00, 1.00, 0.00, 0.00, 1.00, 0.00, 0.00, 1.00],\n",
       "        [0.49, 0.00, 0.83, 0.55, 1.00, 0.00, 0.00, 0.00, 1.00, 0.00, 1.00, 0.00],\n",
       "        [0.34, 0.00, 0.00, 0.42, 0.00, 1.00, 0.00, 1.00, 0.00, 0.00, 0.00, 1.00],\n",
       "        [0.24, 0.00, 0.00, 0.55, 1.00, 0.00, 1.00, 0.00, 0.00, 0.00, 0.00, 1.00],\n",
       "        [0.30, 0.12, 0.33, 0.51, 1.00, 0.00, 0.00, 0.00, 1.00, 0.00, 0.00, 1.00],\n",
       "        [0.32, 0.00, 0.00, 0.55, 0.00, 1.00, 1.00, 0.00, 0.00, 1.00, 0.00, 0.00],\n",
       "        [0.40, 0.00, 0.00, 0.35, 0.00, 1.00, 0.00, 0.00, 1.00, 0.00, 1.00, 0.00]])"
      ]
     },
     "execution_count": null,
     "metadata": {},
     "output_type": "execute_result"
    }
   ],
   "source": [
    "t_inp/values"
   ]
  },
  {
   "cell_type": "code",
   "execution_count": null,
   "id": "1d722086",
   "metadata": {
    "input_tokens": 13,
    "time_run": "9:22:41a"
   },
   "outputs": [],
   "source": [
    "t_inp = t_inp/values"
   ]
  },
  {
   "cell_type": "code",
   "execution_count": null,
   "id": "807d7d74",
   "metadata": {
    "input_tokens": 4,
    "output_tokens": 22,
    "time_run": "9:29:48a"
   },
   "outputs": [
    {
     "data": {
      "text/plain": [
       "torch.Size([891])"
      ]
     },
     "execution_count": null,
     "metadata": {},
     "output_type": "execute_result"
    }
   ],
   "source": [
    "t_dep.shape"
   ]
  },
  {
   "cell_type": "code",
   "execution_count": null,
   "id": "97f878d1",
   "metadata": {
    "input_tokens": 6,
    "output_tokens": 27,
    "time_run": "9:30:09a"
   },
   "outputs": [
    {
     "data": {
      "text/plain": [
       "torch.Size([891, 12])"
      ]
     },
     "execution_count": null,
     "metadata": {},
     "output_type": "execute_result"
    }
   ],
   "source": [
    "t_inp.shape"
   ]
  },
  {
   "cell_type": "code",
   "execution_count": null,
   "id": "b385b0b5",
   "metadata": {
    "input_tokens": 22,
    "time_run": "9:30:37a"
   },
   "outputs": [],
   "source": [
    "preds = (t_inp * coff).sum(axis=1)"
   ]
  },
  {
   "cell_type": "code",
   "execution_count": null,
   "id": "d5ceb9d9",
   "metadata": {
    "collapsed": true,
    "input_tokens": 3,
    "output_tokens": 8037,
    "time_run": "9:30:42a"
   },
   "outputs": [
    {
     "data": {
      "text/plain": [
       "tensor([    -0.60,     -0.46,     -1.50,      0.10,     -0.58,     -0.84,      1.05,     -0.74,     -1.60,     -3.22,     -1.57,      0.13,\n",
       "            -0.55,     -0.91,     -1.47,     -2.69,     -1.07,     -1.68,     -1.59,     -2.03,     -1.73,     -1.70,     -1.75,      1.12,\n",
       "            -1.69,     -1.85,     -1.10,      0.82,     -1.77,     -0.56,      0.56,     -0.46,     -1.77,     -1.76,      0.49,      1.03,\n",
       "            -1.10,     -0.55,     -1.61,     -2.08,     -1.58,     -2.69,     -1.10,     -3.30,     -1.76,     -0.56,     -0.91,     -1.77,\n",
       "            -1.23,     -1.56,     -0.82,     -0.55,     -0.48,     -2.70,      0.43,      1.13,     -2.60,     -1.11,     -2.74,     -0.93,\n",
       "            -1.09,      0.13,      1.00,     -0.80,      0.60,     -1.22,     -2.62,     -0.55,     -1.76,     -0.66,     -1.69,     -1.87,\n",
       "            -1.74,     -1.18,     -0.66,     -0.56,     -0.56,     -0.56,     -1.75,     -1.53,     -0.56,     -0.58,     -1.77,      1.11,\n",
       "            -2.59,     -1.68,     -0.78,     -0.56,     -0.12,     -0.56,     -0.57,     -0.55,      1.01,     -0.74,     -0.63,     -0.56,\n",
       "             0.49,      0.52,     -2.70,     -1.77,     -1.50,     -0.56,      1.06,     -0.58,     -0.68,     -0.57,     -1.49,     -0.56,\n",
       "            -0.59,     -1.86,      1.06,     -2.09,     -0.56,     -1.54,     -2.05,     -0.55,     -0.93,     -1.75,      0.46,     -1.78,\n",
       "            -1.84,     -0.56,     -2.32,     -2.63,      0.99,     -1.14,     -0.83,     -0.55,     -2.17,     -0.60,     -1.12,     -0.55,\n",
       "            -1.61,     -2.70,     -1.68,     -2.22,      0.12,      1.04,     -0.55,      0.55,     -2.15,     -1.49,     -1.57,     -0.82,\n",
       "            -1.66,     -1.80,     -0.56,     -1.71,     -1.82,     -1.71,     -1.73,      0.12,     -0.62,     -0.70,     -0.56,      0.46,\n",
       "            -1.75,     -0.57,     -0.56,     -1.11,     -0.67,     -2.65,     -0.56,     -0.55,     -0.81,     -0.65,      0.13,     -1.81,\n",
       "             1.14,     -0.65,      1.05,     -1.07,     -1.55,     -0.55,      0.53,     -0.64,     -0.79,     -0.40,     -1.69,     -0.49,\n",
       "            -2.04,     -2.23,     -0.86,     -1.81,     -1.58,      1.11,     -1.84,      1.10,     -0.98,     -0.58,     -2.63,     -1.67,\n",
       "            -1.53,     -1.75,     -0.38,     -0.48,     -0.83,     -0.64,     -1.77,     -2.61,     -0.57,     -1.11,     -0.57,     -1.14,\n",
       "            -0.55,     -1.51,     -0.65,     -1.14,     -1.75,      0.56,     -0.55,     -2.66,     -0.55,     -1.69,     -0.88,     -0.46,\n",
       "            -1.50,     -1.79,     -0.40,     -1.68,     -0.54,     -1.68,     -0.61,     -0.56,      1.01,     -0.56,     -1.66,     -0.55,\n",
       "            -1.67,     -1.73,      0.09,     -0.57,     -1.75,     -1.79,     -1.67,     -1.49,     -1.79,     -2.70,     -1.66,     -1.69,\n",
       "            -2.11,     -1.84,     -1.68,     -0.55,     -1.11,      0.68,     -1.50,     -2.71,      0.99,     -1.81,     -0.56,     -1.61,\n",
       "             1.06,     -0.65,     -1.66,     -2.16,     -0.39,      0.14,     -0.49,     -2.74,     -0.83,     -0.85,      0.94,      1.25,\n",
       "            -1.77,     -1.69,     -0.84,     -0.61,      0.01,      0.11,      1.13,     -0.47,     -2.71,      0.52,     -1.77,      0.03,\n",
       "            -1.54,     -1.56,     -1.08,     -1.65,     -0.92,     -0.57,     -0.55,     -0.55,      1.14,     -1.12,     -0.58,     -0.55,\n",
       "            -1.71,     -1.76,      0.15,     -0.43,     -2.24,     -1.50,     -0.56,      0.60,     -1.10,      0.04,      1.13,     -0.53,\n",
       "            -1.77,     -0.97,     -0.45,     -2.89,     -0.56,      0.98,     -0.40,     -0.43,     -2.30,     -0.38,     -0.39,     -0.61,\n",
       "            -2.74,     -0.57,     -1.84,     -1.50,     -2.69,     -1.74,      0.02,     -0.53,     -0.55,     -0.56,     -2.90,     -2.73,\n",
       "            -1.11,     -0.43,     -0.63,     -2.64,     -1.64,     -0.40,     -1.91,      1.09,      0.99,     -0.67,      0.09,     -0.56,\n",
       "             1.04,     -0.44,     -0.60,      1.08,     -1.75,     -0.12,     -1.69,     -1.68,     -1.70,     -2.61,     -2.65,     -1.57,\n",
       "            -0.63,     -0.60,     -0.56,      1.13,     -1.17,     -0.64,     -1.10,     -0.57,      0.13,     -2.64,     -1.77,     -1.77,\n",
       "            -0.87,     -2.31,     -2.15,     -0.58,     -0.91,     -0.57,     -0.50,     -2.03,     -1.77,     -0.38,      0.52,     -0.59,\n",
       "            -0.55,      0.53,     -1.68,     -0.43,     -1.49,      0.41,     -1.07,     -0.55,     -0.47,     -2.11,     -0.58,      0.11,\n",
       "            -0.56,     -1.74,     -0.91,     -2.64,     -0.83,     -3.14,      0.92,     -0.55,     -0.66,     -0.45,     -1.61,     -0.55,\n",
       "            -1.51,     -1.75,     -1.67,     -2.62,     -0.59,     -0.56,     -1.54,     -0.64,     -1.49,     -1.76,     -0.61,     -1.74,\n",
       "            -0.55,     -1.73,     -0.56,     -0.83,     -0.19,     -1.56,     -0.60,     -1.50,     -2.76,     -2.69,     -1.69,     -1.60,\n",
       "            -1.10,     -0.83,     -0.57,     -1.62,     -0.67,     -0.56,     -2.70,     -2.63,     -0.83,     -0.58,      1.13,     -1.57,\n",
       "            -2.73,     -0.54,      1.01,      0.02,     -1.73,     -2.85,      0.74,     -1.68,     -2.78,     -0.56,     -0.61,     -2.62,\n",
       "            -0.56,      1.04,     -2.65,      1.12,     -2.17,      1.08,     -1.87,     -0.64,      0.58,      0.45,     -0.56,     -1.11,\n",
       "             1.06,      0.13,     -2.66,     -0.83,      1.09,     -0.58,      1.08,     -1.73,     -0.56,     -0.58,     -1.56,      1.07,\n",
       "            -0.83,     -2.16,     -0.56,     -0.59,     -2.80,     -3.16,     -1.50,      1.11,     -1.76,     -0.61,     -0.55,     -1.51,\n",
       "            -0.92,     -1.56,     -0.61,     -1.58,      0.50,     -1.73,      0.08,      0.52,     -0.57,     -0.65,     -0.64,     -0.55,\n",
       "             1.07,      0.47,     -0.55,     -1.12,     -0.49,     -0.58,     -0.01,     -0.56,     -0.55,     -1.76,     -1.77,     -1.53,\n",
       "             0.17,      0.50,     -2.75,      1.14,     -0.61,     -0.64,     -0.84,     -0.56,      1.11,     -0.48,     -0.56,      1.08,\n",
       "            -2.63,     -0.88,     -2.71,     -0.58,      0.14,     -0.55,     -1.10,     -0.46,     -1.10,     -0.87,     -2.66,      1.05,\n",
       "            -0.59,     -1.81,     -2.69,     -1.10,     -1.17,     -2.17,     -1.51,     -2.70,      1.10,     -0.41,     -0.58,     -0.45,\n",
       "             0.05,     -1.79,     -1.80,     -1.77,      0.44,      1.06,     -2.68,     -2.22,     -0.71,     -1.78,      0.46,     -1.71,\n",
       "            -0.83,     -1.09,     -1.49,      1.06,     -0.45,      0.51,      0.03,     -1.60,     -0.83,     -0.59,     -1.69,     -0.56,\n",
       "            -1.50,     -0.70,     -0.55,     -1.72,     -1.10,     -0.57,     -1.75,      0.02,      1.11,     -1.77,     -0.54,     -0.57,\n",
       "            -2.63,      0.09,     -2.11,     -0.58,     -2.74,     -0.52,     -1.77,      0.56,     -1.10,      0.08,     -1.73,      0.39,\n",
       "            -0.56,     -0.56,     -0.58,     -0.49,     -0.60,     -1.86,     -1.78,     -0.72,     -2.65,     -0.52,     -1.10,      0.47,\n",
       "            -2.78,     -0.56,      1.12,     -0.60,      0.57,     -0.66,     -0.57,      1.13,     -3.34,      0.10,     -1.85,     -0.55,\n",
       "            -1.84,     -0.83,     -0.58,     -2.82,     -0.69,     -1.57,     -2.76,     -1.67,     -1.18,      1.03,     -1.21,     -0.55,\n",
       "            -0.58,      1.06,     -2.02,      0.16,     -0.56,     -0.83,      1.02,     -0.61,      0.57,      1.28,     -1.74,     -2.62,\n",
       "            -0.58,     -1.81,     -1.82,     -0.63,     -0.55,     -0.38,     -1.73,     -0.64,     -2.16,      0.46,     -0.55,      0.52,\n",
       "            -0.56,     -1.49,     -0.56,     -2.67,     -0.56,     -1.77,     -1.75,     -1.84,     -0.56,     -1.90,     -1.68,      0.38,\n",
       "             0.92,     -1.13,      1.09,     -0.58,     -0.60,     -1.86,     -1.68,     -0.56,     -0.60,      0.13,     -2.78,      1.05,\n",
       "            -1.76,     -1.69,     -1.56,     -0.55,     -0.56,     -1.49,     -1.92,      0.40,     -1.77,      0.55,     -0.56,     -0.93,\n",
       "            -1.89,     -2.41,     -0.83,     -0.56,     -0.55,      0.09,      1.05,     -2.06,     -0.64,     -1.10,      1.07,     -1.74,\n",
       "            -0.60,     -1.77,      0.39,     -0.59,     -0.47,      1.12,     -2.09,     -0.83,     -0.61,     -1.74,     -2.66,      1.10,\n",
       "             0.13,     -1.22,     -0.37,      1.14,      1.02,     -0.58,     -1.74,     -0.55,     -0.46,     -2.61,     -0.86,     -0.58,\n",
       "            -2.66,     -0.59,     -1.70,     -1.73,      1.06,     -0.55,     -2.79,     -1.77,     -1.75,     -1.54,      0.10,     -1.11,\n",
       "            -1.56,     -1.68,     -1.68,     -0.60,     -1.78,      0.45,     -0.56,     -0.56,      1.13,      1.02,     -0.61,     -0.63,\n",
       "            -0.57,      0.91,     -0.67,     -2.63,      1.07,     -0.85,     -2.69,     -0.58,     -0.58,     -0.56,     -2.87,     -1.73,\n",
       "            -0.57,     -1.66,     -0.58,      0.13,     -0.58,     -0.59,     -1.09,     -0.02,     -0.54,      0.06,      0.58,     -1.78,\n",
       "            -0.92,     -0.58,     -0.57,     -0.61,     -2.67,     -1.10,     -2.88,     -0.55,     -0.83,     -1.47,     -0.83,      0.03,\n",
       "            -2.01,      0.14,      1.12,     -0.74,     -0.56,     -0.56,     -1.48,     -1.08,     -0.68,      0.51,     -0.83,     -1.69,\n",
       "            -2.04,      0.59,     -0.56,     -1.71,      0.15,     -1.51,     -1.11,     -1.64,     -1.70,     -2.75,      0.97,     -1.10,\n",
       "            -0.56,     -0.57,      1.25,     -1.48,     -1.71,      0.11,     -0.56,     -0.63,     -1.69,     -1.79,     -0.57,      1.28,\n",
       "            -1.49,     -2.37,     -0.59,     -0.81,      0.00,     -0.57,      1.25,     -1.56,     -0.81,     -0.83,     -0.64,     -2.30,\n",
       "            -0.83,      0.08,     -2.09,     -1.74,     -1.10,     -0.56,     -0.55,     -0.51,     -0.56,     -0.56,     -0.66,      0.59,\n",
       "            -0.55,     -1.65,     -0.36,     -1.11,     -0.55,     -0.59,     -1.11,     -1.12,     -1.77,     -0.44,     -0.85,     -0.66,\n",
       "            -2.12,      0.16,     -2.73,     -1.53,     -0.01,      1.08,     -2.21,     -1.10,     -0.71,     -1.71,      0.15,     -2.04,\n",
       "            -1.68,     -2.65,     -3.21,      1.10,     -0.57,     -0.62,     -0.56,      0.04,      1.19,     -0.61,     -3.24,     -2.02,\n",
       "            -0.56,     -0.55,     -0.56,     -0.50,     -2.69,     -0.58,     -1.50,     -1.68,     -0.56,     -2.07,     -1.68,      0.21,\n",
       "            -1.67,      0.59,     -0.85])"
      ]
     },
     "execution_count": null,
     "metadata": {},
     "output_type": "execute_result"
    }
   ],
   "source": [
    "preds"
   ]
  },
  {
   "cell_type": "code",
   "execution_count": null,
   "id": "0bad8a1d",
   "metadata": {
    "input_tokens": 15,
    "output_tokens": 22,
    "time_run": "9:30:52a"
   },
   "outputs": [
    {
     "data": {
      "text/plain": [
       "tensor(1.44)"
      ]
     },
     "execution_count": null,
     "metadata": {},
     "output_type": "execute_result"
    }
   ],
   "source": [
    "torch.abs(preds - t_dep).mean()"
   ]
  },
  {
   "cell_type": "code",
   "execution_count": null,
   "id": "15da2c56",
   "metadata": {
    "input_tokens": 70,
    "time_run": "9:35:00a"
   },
   "outputs": [],
   "source": [
    "def calc_pred(t_inps,coffs) : return (t_inps * coffs).sum(axis=1)\n",
    "def calc_loss(preds,t_deps) : return torch.abs(preds - t_deps).mean()\n"
   ]
  },
  {
   "cell_type": "code",
   "execution_count": null,
   "id": "7afc90ab",
   "metadata": {
    "input_tokens": 3,
    "output_tokens": 111,
    "time_run": "9:35:27a"
   },
   "outputs": [
    {
     "data": {
      "text/plain": [
       "tensor([-0.16, -0.37, -0.27, -0.27, -1.62, -0.69,  1.71, -1.14, -0.04, -0.23,  0.03,  0.31])"
      ]
     },
     "execution_count": null,
     "metadata": {},
     "output_type": "execute_result"
    }
   ],
   "source": [
    "coff"
   ]
  },
  {
   "cell_type": "code",
   "execution_count": null,
   "id": "c317d766",
   "metadata": {
    "input_tokens": 10,
    "output_tokens": 115,
    "time_run": "11:29:46a"
   },
   "outputs": [
    {
     "data": {
      "text/plain": [
       "tensor([-0.16, -0.37, -0.27, -0.27, -1.62, -0.69,  1.71, -1.14, -0.04, -0.23,  0.03,  0.31], requires_grad=True)"
      ]
     },
     "execution_count": null,
     "metadata": {},
     "output_type": "execute_result"
    }
   ],
   "source": [
    "coff.requires_grad_(True)"
   ]
  },
  {
   "cell_type": "code",
   "execution_count": null,
   "id": "93954de4",
   "metadata": {
    "input_tokens": 3,
    "output_tokens": 115,
    "time_run": "9:36:10a"
   },
   "outputs": [
    {
     "data": {
      "text/plain": [
       "tensor([-0.16, -0.37, -0.27, -0.27, -1.62, -0.69,  1.71, -1.14, -0.04, -0.23,  0.03,  0.31], requires_grad=True)"
      ]
     },
     "execution_count": null,
     "metadata": {},
     "output_type": "execute_result"
    }
   ],
   "source": [
    "coff"
   ]
  },
  {
   "cell_type": "code",
   "execution_count": null,
   "id": "a893d8a1",
   "metadata": {
    "input_tokens": 18,
    "time_run": "9:37:20a"
   },
   "outputs": [],
   "source": [
    "preds= calc_pred(t_inp,coff)"
   ]
  },
  {
   "cell_type": "code",
   "execution_count": null,
   "id": "1662f1de",
   "metadata": {
    "input_tokens": 13,
    "time_run": "9:37:51a"
   },
   "outputs": [],
   "source": [
    "loss= calc_loss(preds,t_dep)"
   ]
  },
  {
   "cell_type": "code",
   "execution_count": null,
   "id": "7aa140bb",
   "metadata": {
    "input_tokens": 1,
    "output_tokens": 39,
    "time_run": "9:37:57a"
   },
   "outputs": [
    {
     "data": {
      "text/plain": [
       "tensor(1.44, grad_fn=<MeanBackward0>)"
      ]
     },
     "execution_count": null,
     "metadata": {},
     "output_type": "execute_result"
    }
   ],
   "source": [
    "loss"
   ]
  },
  {
   "cell_type": "code",
   "execution_count": null,
   "id": "50feeaea",
   "metadata": {
    "input_tokens": 4,
    "time_run": "9:38:07a"
   },
   "outputs": [],
   "source": [
    "loss.backward()"
   ]
  },
  {
   "cell_type": "code",
   "execution_count": null,
   "id": "5c9879c0",
   "metadata": {
    "input_tokens": 4,
    "output_tokens": 106,
    "time_run": "9:38:53a"
   },
   "outputs": [
    {
     "data": {
      "text/plain": [
       "tensor([-0.25, -0.06, -0.05, -0.34, -0.35, -0.42, -0.02, -0.21, -0.55, -0.13, -0.08, -0.56])"
      ]
     },
     "execution_count": null,
     "metadata": {},
     "output_type": "execute_result"
    }
   ],
   "source": [
    "coff.grad"
   ]
  },
  {
   "cell_type": "code",
   "execution_count": null,
   "id": "90ba8f4a",
   "metadata": {
    "input_tokens": 51,
    "output_tokens": 27,
    "time_run": "9:41:46a"
   },
   "outputs": [
    {
     "name": "stdout",
     "output_type": "stream",
     "text": [
      "tensor(1.33)\n"
     ]
    }
   ],
   "source": [
    "with torch.no_grad():\n",
    "    coff.sub_(0.1 * coff.grad)\n",
    "    print(calc_loss(calc_pred(t_inp,coff),t_dep))\n",
    "\n",
    "\n",
    "\n",
    "    "
   ]
  },
  {
   "cell_type": "code",
   "execution_count": null,
   "id": "85bece7a",
   "metadata": {
    "input_tokens": 90,
    "output_tokens": 27,
    "time_run": "9:43:54a"
   },
   "outputs": [
    {
     "name": "stdout",
     "output_type": "stream",
     "text": [
      "tensor(1.10)\n"
     ]
    }
   ],
   "source": [
    "\n",
    "preds= calc_pred(t_inp,coff)\n",
    "loss= calc_loss(preds,t_dep)\n",
    "loss = loss.backward()\n",
    "\n",
    "with torch.no_grad():\n",
    "    coff.sub_(coff.grad *0.1)\n",
    "    print(calc_loss(calc_pred(t_inp,coff),t_dep))\n",
    "\n",
    "\n"
   ]
  },
  {
   "cell_type": "code",
   "execution_count": null,
   "id": "205acb45",
   "metadata": {
    "input_tokens": 132,
    "output_tokens": 258,
    "time_run": "9:51:22a"
   },
   "outputs": [
    {
     "name": "stdout",
     "output_type": "stream",
     "text": [
      "tensor(1.75, grad_fn=<MeanBackward0>)\n",
      "tensor(1.70, grad_fn=<MeanBackward0>)\n",
      "tensor(1.61, grad_fn=<MeanBackward0>)\n",
      "tensor(1.49, grad_fn=<MeanBackward0>)\n",
      "tensor(1.33, grad_fn=<MeanBackward0>)\n",
      "tensor(1.18, grad_fn=<MeanBackward0>)\n",
      "tensor(1.05, grad_fn=<MeanBackward0>)\n",
      "tensor(0.98, grad_fn=<MeanBackward0>)\n",
      "tensor(0.94, grad_fn=<MeanBackward0>)\n",
      "tensor(0.90, grad_fn=<MeanBackward0>)\n"
     ]
    }
   ],
   "source": [
    "coff = torch.randn(t_inp.shape[1]) - 0.5\n",
    "coff.requires_grad_()\n",
    "\n",
    "def one_epoch():\n",
    "    preds= calc_pred(t_inp,coff)\n",
    "    loss= calc_loss(preds,t_dep)\n",
    "    print(loss)\n",
    "    loss = loss.backward()\n",
    "    with torch.no_grad():coff.sub_(coff.grad *0.1)\n",
    "\n",
    "\n",
    "for i in range(10): one_epoch()"
   ]
  },
  {
   "cell_type": "code",
   "execution_count": null,
   "id": "aa2b8919",
   "metadata": {
    "input_tokens": 27,
    "time_run": "9:55:53a"
   },
   "outputs": [],
   "source": [
    "from fastai.data.transforms import *\n",
    "\n",
    "train_df , val_df = RandomSplitter()(df)"
   ]
  },
  {
   "cell_type": "code",
   "execution_count": null,
   "id": "51c14862",
   "metadata": {
    "input_tokens": 3,
    "output_tokens": 201,
    "time_run": "9:56:19a"
   },
   "outputs": [
    {
     "data": {
      "text/plain": [
       "(#713) [np.int64(631),np.int64(331),np.int64(492),np.int64(84),np.int64(389),np.int64(730),np.int64(315),np.int64(716),np.int64(564),np.int64(762),np.int64(698),np.int64(236),np.int64(208),np.int64(390),np.int64(463),np.int64(116),np.int64(794),np.int64(20),np.int64(359),np.int64(568)...]"
      ]
     },
     "execution_count": null,
     "metadata": {},
     "output_type": "execute_result"
    }
   ],
   "source": [
    "train_df"
   ]
  },
  {
   "cell_type": "code",
   "execution_count": null,
   "id": "476dc100",
   "metadata": {
    "input_tokens": 3,
    "output_tokens": 201,
    "time_run": "9:57:39a"
   },
   "outputs": [
    {
     "data": {
      "text/plain": [
       "(#713) [np.int64(631),np.int64(331),np.int64(492),np.int64(84),np.int64(389),np.int64(730),np.int64(315),np.int64(716),np.int64(564),np.int64(762),np.int64(698),np.int64(236),np.int64(208),np.int64(390),np.int64(463),np.int64(116),np.int64(794),np.int64(20),np.int64(359),np.int64(568)...]"
      ]
     },
     "execution_count": null,
     "metadata": {},
     "output_type": "execute_result"
    }
   ],
   "source": [
    "train_df"
   ]
  },
  {
   "cell_type": "code",
   "execution_count": null,
   "id": "7b9dd751",
   "metadata": {
    "input_tokens": 67,
    "time_run": "10:03:09a"
   },
   "outputs": [],
   "source": [
    "# use sklearn to get tain and valid df from df\n",
    "from sklearn.model_selection import train_test_split\n",
    "train_df , val_df = train_test_split(df, test_size=0.2, random_state=42)"
   ]
  },
  {
   "cell_type": "code",
   "execution_count": null,
   "id": "19a60c25",
   "metadata": {
    "input_tokens": 3,
    "output_tokens": 9490,
    "time_run": "10:03:12a"
   },
   "outputs": [
    {
     "data": {
      "text/html": [
       "<style type=\"text/css\">\n",
       "#T_0b424 th {\n",
       "  font-weight: bold;\n",
       "  background-color: #4CAF50;\n",
       "  color: white;\n",
       "  padding: 10px;\n",
       "  text-align: left;\n",
       "}\n",
       "#T_0b424 td {\n",
       "  padding: 8px;\n",
       "  border-bottom: 1px solid #ddd;\n",
       "}\n",
       "#T_0b424 tr:nth-child(even) {\n",
       "  background-color: #f2f2f2;\n",
       "}\n",
       "#T_0b424 tr:hover {\n",
       "  background-color: #ddd;\n",
       "}\n",
       "</style>\n",
       "<table id=\"T_0b424\" class=\"dataframe\" style=\"width:100%; border-collapse: collapse\">\n",
       "  <thead>\n",
       "    <tr>\n",
       "      <th class=\"blank level0\" >&nbsp;</th>\n",
       "      <th id=\"T_0b424_level0_col0\" class=\"col_heading level0 col0\" >PassengerId</th>\n",
       "      <th id=\"T_0b424_level0_col1\" class=\"col_heading level0 col1\" >Survived</th>\n",
       "      <th id=\"T_0b424_level0_col2\" class=\"col_heading level0 col2\" >Name</th>\n",
       "      <th id=\"T_0b424_level0_col3\" class=\"col_heading level0 col3\" >Age</th>\n",
       "      <th id=\"T_0b424_level0_col4\" class=\"col_heading level0 col4\" >SibSp</th>\n",
       "      <th id=\"T_0b424_level0_col5\" class=\"col_heading level0 col5\" >Parch</th>\n",
       "      <th id=\"T_0b424_level0_col6\" class=\"col_heading level0 col6\" >Ticket</th>\n",
       "      <th id=\"T_0b424_level0_col7\" class=\"col_heading level0 col7\" >Fare</th>\n",
       "      <th id=\"T_0b424_level0_col8\" class=\"col_heading level0 col8\" >Cabin</th>\n",
       "      <th id=\"T_0b424_level0_col9\" class=\"col_heading level0 col9\" >LogFare</th>\n",
       "      <th id=\"T_0b424_level0_col10\" class=\"col_heading level0 col10\" >Sex_female</th>\n",
       "      <th id=\"T_0b424_level0_col11\" class=\"col_heading level0 col11\" >Sex_male</th>\n",
       "      <th id=\"T_0b424_level0_col12\" class=\"col_heading level0 col12\" >Pclass_1</th>\n",
       "      <th id=\"T_0b424_level0_col13\" class=\"col_heading level0 col13\" >Pclass_2</th>\n",
       "      <th id=\"T_0b424_level0_col14\" class=\"col_heading level0 col14\" >Pclass_3</th>\n",
       "      <th id=\"T_0b424_level0_col15\" class=\"col_heading level0 col15\" >Embarked_C</th>\n",
       "      <th id=\"T_0b424_level0_col16\" class=\"col_heading level0 col16\" >Embarked_Q</th>\n",
       "      <th id=\"T_0b424_level0_col17\" class=\"col_heading level0 col17\" >Embarked_S</th>\n",
       "    </tr>\n",
       "  </thead>\n",
       "  <tbody>\n",
       "    <tr>\n",
       "      <th id=\"T_0b424_level0_row0\" class=\"row_heading level0 row0\" >331</th>\n",
       "      <td id=\"T_0b424_row0_col0\" class=\"data row0 col0\" >332</td>\n",
       "      <td id=\"T_0b424_row0_col1\" class=\"data row0 col1\" >0</td>\n",
       "      <td id=\"T_0b424_row0_col2\" class=\"data row0 col2\" >Partner, Mr. Austen</td>\n",
       "      <td id=\"T_0b424_row0_col3\" class=\"data row0 col3\" >45.500</td>\n",
       "      <td id=\"T_0b424_row0_col4\" class=\"data row0 col4\" >0</td>\n",
       "      <td id=\"T_0b424_row0_col5\" class=\"data row0 col5\" >0</td>\n",
       "      <td id=\"T_0b424_row0_col6\" class=\"data row0 col6\" >113043</td>\n",
       "      <td id=\"T_0b424_row0_col7\" class=\"data row0 col7\" >28.500</td>\n",
       "      <td id=\"T_0b424_row0_col8\" class=\"data row0 col8\" >C124</td>\n",
       "      <td id=\"T_0b424_row0_col9\" class=\"data row0 col9\" >3.384</td>\n",
       "      <td id=\"T_0b424_row0_col10\" class=\"data row0 col10\" >0</td>\n",
       "      <td id=\"T_0b424_row0_col11\" class=\"data row0 col11\" >1</td>\n",
       "      <td id=\"T_0b424_row0_col12\" class=\"data row0 col12\" >1</td>\n",
       "      <td id=\"T_0b424_row0_col13\" class=\"data row0 col13\" >0</td>\n",
       "      <td id=\"T_0b424_row0_col14\" class=\"data row0 col14\" >0</td>\n",
       "      <td id=\"T_0b424_row0_col15\" class=\"data row0 col15\" >0</td>\n",
       "      <td id=\"T_0b424_row0_col16\" class=\"data row0 col16\" >0</td>\n",
       "      <td id=\"T_0b424_row0_col17\" class=\"data row0 col17\" >1</td>\n",
       "    </tr>\n",
       "    <tr>\n",
       "      <th id=\"T_0b424_level0_row1\" class=\"row_heading level0 row1\" >733</th>\n",
       "      <td id=\"T_0b424_row1_col0\" class=\"data row1 col0\" >734</td>\n",
       "      <td id=\"T_0b424_row1_col1\" class=\"data row1 col1\" >0</td>\n",
       "      <td id=\"T_0b424_row1_col2\" class=\"data row1 col2\" >Berriman, Mr. William John</td>\n",
       "      <td id=\"T_0b424_row1_col3\" class=\"data row1 col3\" >23.000</td>\n",
       "      <td id=\"T_0b424_row1_col4\" class=\"data row1 col4\" >0</td>\n",
       "      <td id=\"T_0b424_row1_col5\" class=\"data row1 col5\" >0</td>\n",
       "      <td id=\"T_0b424_row1_col6\" class=\"data row1 col6\" >28425</td>\n",
       "      <td id=\"T_0b424_row1_col7\" class=\"data row1 col7\" >13.000</td>\n",
       "      <td id=\"T_0b424_row1_col8\" class=\"data row1 col8\" >B96 B98</td>\n",
       "      <td id=\"T_0b424_row1_col9\" class=\"data row1 col9\" >2.639</td>\n",
       "      <td id=\"T_0b424_row1_col10\" class=\"data row1 col10\" >0</td>\n",
       "      <td id=\"T_0b424_row1_col11\" class=\"data row1 col11\" >1</td>\n",
       "      <td id=\"T_0b424_row1_col12\" class=\"data row1 col12\" >0</td>\n",
       "      <td id=\"T_0b424_row1_col13\" class=\"data row1 col13\" >1</td>\n",
       "      <td id=\"T_0b424_row1_col14\" class=\"data row1 col14\" >0</td>\n",
       "      <td id=\"T_0b424_row1_col15\" class=\"data row1 col15\" >0</td>\n",
       "      <td id=\"T_0b424_row1_col16\" class=\"data row1 col16\" >0</td>\n",
       "      <td id=\"T_0b424_row1_col17\" class=\"data row1 col17\" >1</td>\n",
       "    </tr>\n",
       "    <tr>\n",
       "      <th id=\"T_0b424_level0_row2\" class=\"row_heading level0 row2\" >382</th>\n",
       "      <td id=\"T_0b424_row2_col0\" class=\"data row2 col0\" >383</td>\n",
       "      <td id=\"T_0b424_row2_col1\" class=\"data row2 col1\" >0</td>\n",
       "      <td id=\"T_0b424_row2_col2\" class=\"data row2 col2\" >Tikkanen, Mr. Juho</td>\n",
       "      <td id=\"T_0b424_row2_col3\" class=\"data row2 col3\" >32.000</td>\n",
       "      <td id=\"T_0b424_row2_col4\" class=\"data row2 col4\" >0</td>\n",
       "      <td id=\"T_0b424_row2_col5\" class=\"data row2 col5\" >0</td>\n",
       "      <td id=\"T_0b424_row2_col6\" class=\"data row2 col6\" >STON/O 2. 3101293</td>\n",
       "      <td id=\"T_0b424_row2_col7\" class=\"data row2 col7\" >7.925</td>\n",
       "      <td id=\"T_0b424_row2_col8\" class=\"data row2 col8\" >B96 B98</td>\n",
       "      <td id=\"T_0b424_row2_col9\" class=\"data row2 col9\" >2.189</td>\n",
       "      <td id=\"T_0b424_row2_col10\" class=\"data row2 col10\" >0</td>\n",
       "      <td id=\"T_0b424_row2_col11\" class=\"data row2 col11\" >1</td>\n",
       "      <td id=\"T_0b424_row2_col12\" class=\"data row2 col12\" >0</td>\n",
       "      <td id=\"T_0b424_row2_col13\" class=\"data row2 col13\" >0</td>\n",
       "      <td id=\"T_0b424_row2_col14\" class=\"data row2 col14\" >1</td>\n",
       "      <td id=\"T_0b424_row2_col15\" class=\"data row2 col15\" >0</td>\n",
       "      <td id=\"T_0b424_row2_col16\" class=\"data row2 col16\" >0</td>\n",
       "      <td id=\"T_0b424_row2_col17\" class=\"data row2 col17\" >1</td>\n",
       "    </tr>\n",
       "    <tr>\n",
       "      <th id=\"T_0b424_level0_row3\" class=\"row_heading level0 row3\" >704</th>\n",
       "      <td id=\"T_0b424_row3_col0\" class=\"data row3 col0\" >705</td>\n",
       "      <td id=\"T_0b424_row3_col1\" class=\"data row3 col1\" >0</td>\n",
       "      <td id=\"T_0b424_row3_col2\" class=\"data row3 col2\" >Hansen, Mr. Henrik Juul</td>\n",
       "      <td id=\"T_0b424_row3_col3\" class=\"data row3 col3\" >26.000</td>\n",
       "      <td id=\"T_0b424_row3_col4\" class=\"data row3 col4\" >1</td>\n",
       "      <td id=\"T_0b424_row3_col5\" class=\"data row3 col5\" >0</td>\n",
       "      <td id=\"T_0b424_row3_col6\" class=\"data row3 col6\" >350025</td>\n",
       "      <td id=\"T_0b424_row3_col7\" class=\"data row3 col7\" >7.854</td>\n",
       "      <td id=\"T_0b424_row3_col8\" class=\"data row3 col8\" >B96 B98</td>\n",
       "      <td id=\"T_0b424_row3_col9\" class=\"data row3 col9\" >2.181</td>\n",
       "      <td id=\"T_0b424_row3_col10\" class=\"data row3 col10\" >0</td>\n",
       "      <td id=\"T_0b424_row3_col11\" class=\"data row3 col11\" >1</td>\n",
       "      <td id=\"T_0b424_row3_col12\" class=\"data row3 col12\" >0</td>\n",
       "      <td id=\"T_0b424_row3_col13\" class=\"data row3 col13\" >0</td>\n",
       "      <td id=\"T_0b424_row3_col14\" class=\"data row3 col14\" >1</td>\n",
       "      <td id=\"T_0b424_row3_col15\" class=\"data row3 col15\" >0</td>\n",
       "      <td id=\"T_0b424_row3_col16\" class=\"data row3 col16\" >0</td>\n",
       "      <td id=\"T_0b424_row3_col17\" class=\"data row3 col17\" >1</td>\n",
       "    </tr>\n",
       "    <tr>\n",
       "      <th id=\"T_0b424_level0_row4\" class=\"row_heading level0 row4\" >813</th>\n",
       "      <td id=\"T_0b424_row4_col0\" class=\"data row4 col0\" >814</td>\n",
       "      <td id=\"T_0b424_row4_col1\" class=\"data row4 col1\" >0</td>\n",
       "      <td id=\"T_0b424_row4_col2\" class=\"data row4 col2\" >Andersson, Miss. Ebba Iris Alfrida</td>\n",
       "      <td id=\"T_0b424_row4_col3\" class=\"data row4 col3\" >6.000</td>\n",
       "      <td id=\"T_0b424_row4_col4\" class=\"data row4 col4\" >4</td>\n",
       "      <td id=\"T_0b424_row4_col5\" class=\"data row4 col5\" >2</td>\n",
       "      <td id=\"T_0b424_row4_col6\" class=\"data row4 col6\" >347082</td>\n",
       "      <td id=\"T_0b424_row4_col7\" class=\"data row4 col7\" >31.275</td>\n",
       "      <td id=\"T_0b424_row4_col8\" class=\"data row4 col8\" >B96 B98</td>\n",
       "      <td id=\"T_0b424_row4_col9\" class=\"data row4 col9\" >3.474</td>\n",
       "      <td id=\"T_0b424_row4_col10\" class=\"data row4 col10\" >1</td>\n",
       "      <td id=\"T_0b424_row4_col11\" class=\"data row4 col11\" >0</td>\n",
       "      <td id=\"T_0b424_row4_col12\" class=\"data row4 col12\" >0</td>\n",
       "      <td id=\"T_0b424_row4_col13\" class=\"data row4 col13\" >0</td>\n",
       "      <td id=\"T_0b424_row4_col14\" class=\"data row4 col14\" >1</td>\n",
       "      <td id=\"T_0b424_row4_col15\" class=\"data row4 col15\" >0</td>\n",
       "      <td id=\"T_0b424_row4_col16\" class=\"data row4 col16\" >0</td>\n",
       "      <td id=\"T_0b424_row4_col17\" class=\"data row4 col17\" >1</td>\n",
       "    </tr>\n",
       "    <tr>\n",
       "      <th id=\"T_0b424_level0_row5\" class=\"row_heading level0 row5\" >118</th>\n",
       "      <td id=\"T_0b424_row5_col0\" class=\"data row5 col0\" >119</td>\n",
       "      <td id=\"T_0b424_row5_col1\" class=\"data row5 col1\" >0</td>\n",
       "      <td id=\"T_0b424_row5_col2\" class=\"data row5 col2\" >Baxter, Mr. Quigg Edmond</td>\n",
       "      <td id=\"T_0b424_row5_col3\" class=\"data row5 col3\" >24.000</td>\n",
       "      <td id=\"T_0b424_row5_col4\" class=\"data row5 col4\" >0</td>\n",
       "      <td id=\"T_0b424_row5_col5\" class=\"data row5 col5\" >1</td>\n",
       "      <td id=\"T_0b424_row5_col6\" class=\"data row5 col6\" >PC 17558</td>\n",
       "      <td id=\"T_0b424_row5_col7\" class=\"data row5 col7\" >247.521</td>\n",
       "      <td id=\"T_0b424_row5_col8\" class=\"data row5 col8\" >B58 B60</td>\n",
       "      <td id=\"T_0b424_row5_col9\" class=\"data row5 col9\" >5.516</td>\n",
       "      <td id=\"T_0b424_row5_col10\" class=\"data row5 col10\" >0</td>\n",
       "      <td id=\"T_0b424_row5_col11\" class=\"data row5 col11\" >1</td>\n",
       "      <td id=\"T_0b424_row5_col12\" class=\"data row5 col12\" >1</td>\n",
       "      <td id=\"T_0b424_row5_col13\" class=\"data row5 col13\" >0</td>\n",
       "      <td id=\"T_0b424_row5_col14\" class=\"data row5 col14\" >0</td>\n",
       "      <td id=\"T_0b424_row5_col15\" class=\"data row5 col15\" >1</td>\n",
       "      <td id=\"T_0b424_row5_col16\" class=\"data row5 col16\" >0</td>\n",
       "      <td id=\"T_0b424_row5_col17\" class=\"data row5 col17\" >0</td>\n",
       "    </tr>\n",
       "    <tr>\n",
       "      <th id=\"T_0b424_level0_row6\" class=\"row_heading level0 row6\" >536</th>\n",
       "      <td id=\"T_0b424_row6_col0\" class=\"data row6 col0\" >537</td>\n",
       "      <td id=\"T_0b424_row6_col1\" class=\"data row6 col1\" >0</td>\n",
       "      <td id=\"T_0b424_row6_col2\" class=\"data row6 col2\" >Butt, Major. Archibald Willingham</td>\n",
       "      <td id=\"T_0b424_row6_col3\" class=\"data row6 col3\" >45.000</td>\n",
       "      <td id=\"T_0b424_row6_col4\" class=\"data row6 col4\" >0</td>\n",
       "      <td id=\"T_0b424_row6_col5\" class=\"data row6 col5\" >0</td>\n",
       "      <td id=\"T_0b424_row6_col6\" class=\"data row6 col6\" >113050</td>\n",
       "      <td id=\"T_0b424_row6_col7\" class=\"data row6 col7\" >26.550</td>\n",
       "      <td id=\"T_0b424_row6_col8\" class=\"data row6 col8\" >B38</td>\n",
       "      <td id=\"T_0b424_row6_col9\" class=\"data row6 col9\" >3.316</td>\n",
       "      <td id=\"T_0b424_row6_col10\" class=\"data row6 col10\" >0</td>\n",
       "      <td id=\"T_0b424_row6_col11\" class=\"data row6 col11\" >1</td>\n",
       "      <td id=\"T_0b424_row6_col12\" class=\"data row6 col12\" >1</td>\n",
       "      <td id=\"T_0b424_row6_col13\" class=\"data row6 col13\" >0</td>\n",
       "      <td id=\"T_0b424_row6_col14\" class=\"data row6 col14\" >0</td>\n",
       "      <td id=\"T_0b424_row6_col15\" class=\"data row6 col15\" >0</td>\n",
       "      <td id=\"T_0b424_row6_col16\" class=\"data row6 col16\" >0</td>\n",
       "      <td id=\"T_0b424_row6_col17\" class=\"data row6 col17\" >1</td>\n",
       "    </tr>\n",
       "    <tr>\n",
       "      <th id=\"T_0b424_level0_row7\" class=\"row_heading level0 row7\" >361</th>\n",
       "      <td id=\"T_0b424_row7_col0\" class=\"data row7 col0\" >362</td>\n",
       "      <td id=\"T_0b424_row7_col1\" class=\"data row7 col1\" >0</td>\n",
       "      <td id=\"T_0b424_row7_col2\" class=\"data row7 col2\" >del Carlo, Mr. Sebastiano</td>\n",
       "      <td id=\"T_0b424_row7_col3\" class=\"data row7 col3\" >29.000</td>\n",
       "      <td id=\"T_0b424_row7_col4\" class=\"data row7 col4\" >1</td>\n",
       "      <td id=\"T_0b424_row7_col5\" class=\"data row7 col5\" >0</td>\n",
       "      <td id=\"T_0b424_row7_col6\" class=\"data row7 col6\" >SC/PARIS 2167</td>\n",
       "      <td id=\"T_0b424_row7_col7\" class=\"data row7 col7\" >27.721</td>\n",
       "      <td id=\"T_0b424_row7_col8\" class=\"data row7 col8\" >B96 B98</td>\n",
       "      <td id=\"T_0b424_row7_col9\" class=\"data row7 col9\" >3.358</td>\n",
       "      <td id=\"T_0b424_row7_col10\" class=\"data row7 col10\" >0</td>\n",
       "      <td id=\"T_0b424_row7_col11\" class=\"data row7 col11\" >1</td>\n",
       "      <td id=\"T_0b424_row7_col12\" class=\"data row7 col12\" >0</td>\n",
       "      <td id=\"T_0b424_row7_col13\" class=\"data row7 col13\" >1</td>\n",
       "      <td id=\"T_0b424_row7_col14\" class=\"data row7 col14\" >0</td>\n",
       "      <td id=\"T_0b424_row7_col15\" class=\"data row7 col15\" >1</td>\n",
       "      <td id=\"T_0b424_row7_col16\" class=\"data row7 col16\" >0</td>\n",
       "      <td id=\"T_0b424_row7_col17\" class=\"data row7 col17\" >0</td>\n",
       "    </tr>\n",
       "    <tr>\n",
       "      <th id=\"T_0b424_level0_row8\" class=\"row_heading level0 row8\" >29</th>\n",
       "      <td id=\"T_0b424_row8_col0\" class=\"data row8 col0\" >30</td>\n",
       "      <td id=\"T_0b424_row8_col1\" class=\"data row8 col1\" >0</td>\n",
       "      <td id=\"T_0b424_row8_col2\" class=\"data row8 col2\" >Todoroff, Mr. Lalio</td>\n",
       "      <td id=\"T_0b424_row8_col3\" class=\"data row8 col3\" >24.000</td>\n",
       "      <td id=\"T_0b424_row8_col4\" class=\"data row8 col4\" >0</td>\n",
       "      <td id=\"T_0b424_row8_col5\" class=\"data row8 col5\" >0</td>\n",
       "      <td id=\"T_0b424_row8_col6\" class=\"data row8 col6\" >349216</td>\n",
       "      <td id=\"T_0b424_row8_col7\" class=\"data row8 col7\" >7.896</td>\n",
       "      <td id=\"T_0b424_row8_col8\" class=\"data row8 col8\" >B96 B98</td>\n",
       "      <td id=\"T_0b424_row8_col9\" class=\"data row8 col9\" >2.186</td>\n",
       "      <td id=\"T_0b424_row8_col10\" class=\"data row8 col10\" >0</td>\n",
       "      <td id=\"T_0b424_row8_col11\" class=\"data row8 col11\" >1</td>\n",
       "      <td id=\"T_0b424_row8_col12\" class=\"data row8 col12\" >0</td>\n",
       "      <td id=\"T_0b424_row8_col13\" class=\"data row8 col13\" >0</td>\n",
       "      <td id=\"T_0b424_row8_col14\" class=\"data row8 col14\" >1</td>\n",
       "      <td id=\"T_0b424_row8_col15\" class=\"data row8 col15\" >0</td>\n",
       "      <td id=\"T_0b424_row8_col16\" class=\"data row8 col16\" >0</td>\n",
       "      <td id=\"T_0b424_row8_col17\" class=\"data row8 col17\" >1</td>\n",
       "    </tr>\n",
       "    <tr>\n",
       "      <th id=\"T_0b424_level0_row9\" class=\"row_heading level0 row9\" >55</th>\n",
       "      <td id=\"T_0b424_row9_col0\" class=\"data row9 col0\" >56</td>\n",
       "      <td id=\"T_0b424_row9_col1\" class=\"data row9 col1\" >1</td>\n",
       "      <td id=\"T_0b424_row9_col2\" class=\"data row9 col2\" >Woolner, Mr. Hugh</td>\n",
       "      <td id=\"T_0b424_row9_col3\" class=\"data row9 col3\" >24.000</td>\n",
       "      <td id=\"T_0b424_row9_col4\" class=\"data row9 col4\" >0</td>\n",
       "      <td id=\"T_0b424_row9_col5\" class=\"data row9 col5\" >0</td>\n",
       "      <td id=\"T_0b424_row9_col6\" class=\"data row9 col6\" >19947</td>\n",
       "      <td id=\"T_0b424_row9_col7\" class=\"data row9 col7\" >35.500</td>\n",
       "      <td id=\"T_0b424_row9_col8\" class=\"data row9 col8\" >C52</td>\n",
       "      <td id=\"T_0b424_row9_col9\" class=\"data row9 col9\" >3.597</td>\n",
       "      <td id=\"T_0b424_row9_col10\" class=\"data row9 col10\" >0</td>\n",
       "      <td id=\"T_0b424_row9_col11\" class=\"data row9 col11\" >1</td>\n",
       "      <td id=\"T_0b424_row9_col12\" class=\"data row9 col12\" >1</td>\n",
       "      <td id=\"T_0b424_row9_col13\" class=\"data row9 col13\" >0</td>\n",
       "      <td id=\"T_0b424_row9_col14\" class=\"data row9 col14\" >0</td>\n",
       "      <td id=\"T_0b424_row9_col15\" class=\"data row9 col15\" >0</td>\n",
       "      <td id=\"T_0b424_row9_col16\" class=\"data row9 col16\" >0</td>\n",
       "      <td id=\"T_0b424_row9_col17\" class=\"data row9 col17\" >1</td>\n",
       "    </tr>\n",
       "  </tbody>\n",
       "</table>\n"
      ],
      "text/plain": [
       "     PassengerId  Survived  ... Embarked_Q  Embarked_S\n",
       "331          332         0  ...          0           1\n",
       "733          734         0  ...          0           1\n",
       "382          383         0  ...          0           1\n",
       "704          705         0  ...          0           1\n",
       "813          814         0  ...          0           1\n",
       "..           ...       ...  ...        ...         ...\n",
       "106          107         1  ...          0           1\n",
       "270          271         0  ...          0           1\n",
       "860          861         0  ...          0           1\n",
       "435          436         1  ...          0           1\n",
       "102          103         0  ...          0           1\n",
       "\n",
       "[712 rows x 18 columns]"
      ]
     },
     "execution_count": null,
     "metadata": {},
     "output_type": "execute_result"
    }
   ],
   "source": [
    "train_df"
   ]
  },
  {
   "cell_type": "code",
   "execution_count": null,
   "id": "360fe31f",
   "metadata": {
    "input_tokens": 3,
    "output_tokens": 228,
    "time_run": "10:00:07a"
   },
   "outputs": [
    {
     "data": {
      "text/plain": [
       "['Age',\n",
       " 'SibSp',\n",
       " 'Parch',\n",
       " 'LogFare',\n",
       " 'Sex_female',\n",
       " 'Sex_male',\n",
       " 'Pclass_1',\n",
       " 'Pclass_2',\n",
       " 'Pclass_3',\n",
       " 'Embarked_C',\n",
       " 'Embarked_Q',\n",
       " 'Embarked_S']"
      ]
     },
     "execution_count": null,
     "metadata": {},
     "output_type": "execute_result"
    }
   ],
   "source": [
    "inp_col"
   ]
  },
  {
   "cell_type": "code",
   "execution_count": null,
   "id": "6db9ae27",
   "metadata": {
    "input_tokens": 9,
    "output_tokens": 6492,
    "time_run": "10:03:17a"
   },
   "outputs": [
    {
     "data": {
      "text/html": [
       "<style type=\"text/css\">\n",
       "#T_4976d th {\n",
       "  font-weight: bold;\n",
       "  background-color: #4CAF50;\n",
       "  color: white;\n",
       "  padding: 10px;\n",
       "  text-align: left;\n",
       "}\n",
       "#T_4976d td {\n",
       "  padding: 8px;\n",
       "  border-bottom: 1px solid #ddd;\n",
       "}\n",
       "#T_4976d tr:nth-child(even) {\n",
       "  background-color: #f2f2f2;\n",
       "}\n",
       "#T_4976d tr:hover {\n",
       "  background-color: #ddd;\n",
       "}\n",
       "</style>\n",
       "<table id=\"T_4976d\" class=\"dataframe\" style=\"width:100%; border-collapse: collapse\">\n",
       "  <thead>\n",
       "    <tr>\n",
       "      <th class=\"blank level0\" >&nbsp;</th>\n",
       "      <th id=\"T_4976d_level0_col0\" class=\"col_heading level0 col0\" >Age</th>\n",
       "      <th id=\"T_4976d_level0_col1\" class=\"col_heading level0 col1\" >SibSp</th>\n",
       "      <th id=\"T_4976d_level0_col2\" class=\"col_heading level0 col2\" >Parch</th>\n",
       "      <th id=\"T_4976d_level0_col3\" class=\"col_heading level0 col3\" >LogFare</th>\n",
       "      <th id=\"T_4976d_level0_col4\" class=\"col_heading level0 col4\" >Sex_female</th>\n",
       "      <th id=\"T_4976d_level0_col5\" class=\"col_heading level0 col5\" >Sex_male</th>\n",
       "      <th id=\"T_4976d_level0_col6\" class=\"col_heading level0 col6\" >Pclass_1</th>\n",
       "      <th id=\"T_4976d_level0_col7\" class=\"col_heading level0 col7\" >Pclass_2</th>\n",
       "      <th id=\"T_4976d_level0_col8\" class=\"col_heading level0 col8\" >Pclass_3</th>\n",
       "      <th id=\"T_4976d_level0_col9\" class=\"col_heading level0 col9\" >Embarked_C</th>\n",
       "      <th id=\"T_4976d_level0_col10\" class=\"col_heading level0 col10\" >Embarked_Q</th>\n",
       "      <th id=\"T_4976d_level0_col11\" class=\"col_heading level0 col11\" >Embarked_S</th>\n",
       "    </tr>\n",
       "  </thead>\n",
       "  <tbody>\n",
       "    <tr>\n",
       "      <th id=\"T_4976d_level0_row0\" class=\"row_heading level0 row0\" >331</th>\n",
       "      <td id=\"T_4976d_row0_col0\" class=\"data row0 col0\" >45.500</td>\n",
       "      <td id=\"T_4976d_row0_col1\" class=\"data row0 col1\" >0</td>\n",
       "      <td id=\"T_4976d_row0_col2\" class=\"data row0 col2\" >0</td>\n",
       "      <td id=\"T_4976d_row0_col3\" class=\"data row0 col3\" >3.384</td>\n",
       "      <td id=\"T_4976d_row0_col4\" class=\"data row0 col4\" >0</td>\n",
       "      <td id=\"T_4976d_row0_col5\" class=\"data row0 col5\" >1</td>\n",
       "      <td id=\"T_4976d_row0_col6\" class=\"data row0 col6\" >1</td>\n",
       "      <td id=\"T_4976d_row0_col7\" class=\"data row0 col7\" >0</td>\n",
       "      <td id=\"T_4976d_row0_col8\" class=\"data row0 col8\" >0</td>\n",
       "      <td id=\"T_4976d_row0_col9\" class=\"data row0 col9\" >0</td>\n",
       "      <td id=\"T_4976d_row0_col10\" class=\"data row0 col10\" >0</td>\n",
       "      <td id=\"T_4976d_row0_col11\" class=\"data row0 col11\" >1</td>\n",
       "    </tr>\n",
       "    <tr>\n",
       "      <th id=\"T_4976d_level0_row1\" class=\"row_heading level0 row1\" >733</th>\n",
       "      <td id=\"T_4976d_row1_col0\" class=\"data row1 col0\" >23.000</td>\n",
       "      <td id=\"T_4976d_row1_col1\" class=\"data row1 col1\" >0</td>\n",
       "      <td id=\"T_4976d_row1_col2\" class=\"data row1 col2\" >0</td>\n",
       "      <td id=\"T_4976d_row1_col3\" class=\"data row1 col3\" >2.639</td>\n",
       "      <td id=\"T_4976d_row1_col4\" class=\"data row1 col4\" >0</td>\n",
       "      <td id=\"T_4976d_row1_col5\" class=\"data row1 col5\" >1</td>\n",
       "      <td id=\"T_4976d_row1_col6\" class=\"data row1 col6\" >0</td>\n",
       "      <td id=\"T_4976d_row1_col7\" class=\"data row1 col7\" >1</td>\n",
       "      <td id=\"T_4976d_row1_col8\" class=\"data row1 col8\" >0</td>\n",
       "      <td id=\"T_4976d_row1_col9\" class=\"data row1 col9\" >0</td>\n",
       "      <td id=\"T_4976d_row1_col10\" class=\"data row1 col10\" >0</td>\n",
       "      <td id=\"T_4976d_row1_col11\" class=\"data row1 col11\" >1</td>\n",
       "    </tr>\n",
       "    <tr>\n",
       "      <th id=\"T_4976d_level0_row2\" class=\"row_heading level0 row2\" >382</th>\n",
       "      <td id=\"T_4976d_row2_col0\" class=\"data row2 col0\" >32.000</td>\n",
       "      <td id=\"T_4976d_row2_col1\" class=\"data row2 col1\" >0</td>\n",
       "      <td id=\"T_4976d_row2_col2\" class=\"data row2 col2\" >0</td>\n",
       "      <td id=\"T_4976d_row2_col3\" class=\"data row2 col3\" >2.189</td>\n",
       "      <td id=\"T_4976d_row2_col4\" class=\"data row2 col4\" >0</td>\n",
       "      <td id=\"T_4976d_row2_col5\" class=\"data row2 col5\" >1</td>\n",
       "      <td id=\"T_4976d_row2_col6\" class=\"data row2 col6\" >0</td>\n",
       "      <td id=\"T_4976d_row2_col7\" class=\"data row2 col7\" >0</td>\n",
       "      <td id=\"T_4976d_row2_col8\" class=\"data row2 col8\" >1</td>\n",
       "      <td id=\"T_4976d_row2_col9\" class=\"data row2 col9\" >0</td>\n",
       "      <td id=\"T_4976d_row2_col10\" class=\"data row2 col10\" >0</td>\n",
       "      <td id=\"T_4976d_row2_col11\" class=\"data row2 col11\" >1</td>\n",
       "    </tr>\n",
       "    <tr>\n",
       "      <th id=\"T_4976d_level0_row3\" class=\"row_heading level0 row3\" >704</th>\n",
       "      <td id=\"T_4976d_row3_col0\" class=\"data row3 col0\" >26.000</td>\n",
       "      <td id=\"T_4976d_row3_col1\" class=\"data row3 col1\" >1</td>\n",
       "      <td id=\"T_4976d_row3_col2\" class=\"data row3 col2\" >0</td>\n",
       "      <td id=\"T_4976d_row3_col3\" class=\"data row3 col3\" >2.181</td>\n",
       "      <td id=\"T_4976d_row3_col4\" class=\"data row3 col4\" >0</td>\n",
       "      <td id=\"T_4976d_row3_col5\" class=\"data row3 col5\" >1</td>\n",
       "      <td id=\"T_4976d_row3_col6\" class=\"data row3 col6\" >0</td>\n",
       "      <td id=\"T_4976d_row3_col7\" class=\"data row3 col7\" >0</td>\n",
       "      <td id=\"T_4976d_row3_col8\" class=\"data row3 col8\" >1</td>\n",
       "      <td id=\"T_4976d_row3_col9\" class=\"data row3 col9\" >0</td>\n",
       "      <td id=\"T_4976d_row3_col10\" class=\"data row3 col10\" >0</td>\n",
       "      <td id=\"T_4976d_row3_col11\" class=\"data row3 col11\" >1</td>\n",
       "    </tr>\n",
       "    <tr>\n",
       "      <th id=\"T_4976d_level0_row4\" class=\"row_heading level0 row4\" >813</th>\n",
       "      <td id=\"T_4976d_row4_col0\" class=\"data row4 col0\" >6.000</td>\n",
       "      <td id=\"T_4976d_row4_col1\" class=\"data row4 col1\" >4</td>\n",
       "      <td id=\"T_4976d_row4_col2\" class=\"data row4 col2\" >2</td>\n",
       "      <td id=\"T_4976d_row4_col3\" class=\"data row4 col3\" >3.474</td>\n",
       "      <td id=\"T_4976d_row4_col4\" class=\"data row4 col4\" >1</td>\n",
       "      <td id=\"T_4976d_row4_col5\" class=\"data row4 col5\" >0</td>\n",
       "      <td id=\"T_4976d_row4_col6\" class=\"data row4 col6\" >0</td>\n",
       "      <td id=\"T_4976d_row4_col7\" class=\"data row4 col7\" >0</td>\n",
       "      <td id=\"T_4976d_row4_col8\" class=\"data row4 col8\" >1</td>\n",
       "      <td id=\"T_4976d_row4_col9\" class=\"data row4 col9\" >0</td>\n",
       "      <td id=\"T_4976d_row4_col10\" class=\"data row4 col10\" >0</td>\n",
       "      <td id=\"T_4976d_row4_col11\" class=\"data row4 col11\" >1</td>\n",
       "    </tr>\n",
       "    <tr>\n",
       "      <th id=\"T_4976d_level0_row5\" class=\"row_heading level0 row5\" >118</th>\n",
       "      <td id=\"T_4976d_row5_col0\" class=\"data row5 col0\" >24.000</td>\n",
       "      <td id=\"T_4976d_row5_col1\" class=\"data row5 col1\" >0</td>\n",
       "      <td id=\"T_4976d_row5_col2\" class=\"data row5 col2\" >1</td>\n",
       "      <td id=\"T_4976d_row5_col3\" class=\"data row5 col3\" >5.516</td>\n",
       "      <td id=\"T_4976d_row5_col4\" class=\"data row5 col4\" >0</td>\n",
       "      <td id=\"T_4976d_row5_col5\" class=\"data row5 col5\" >1</td>\n",
       "      <td id=\"T_4976d_row5_col6\" class=\"data row5 col6\" >1</td>\n",
       "      <td id=\"T_4976d_row5_col7\" class=\"data row5 col7\" >0</td>\n",
       "      <td id=\"T_4976d_row5_col8\" class=\"data row5 col8\" >0</td>\n",
       "      <td id=\"T_4976d_row5_col9\" class=\"data row5 col9\" >1</td>\n",
       "      <td id=\"T_4976d_row5_col10\" class=\"data row5 col10\" >0</td>\n",
       "      <td id=\"T_4976d_row5_col11\" class=\"data row5 col11\" >0</td>\n",
       "    </tr>\n",
       "    <tr>\n",
       "      <th id=\"T_4976d_level0_row6\" class=\"row_heading level0 row6\" >536</th>\n",
       "      <td id=\"T_4976d_row6_col0\" class=\"data row6 col0\" >45.000</td>\n",
       "      <td id=\"T_4976d_row6_col1\" class=\"data row6 col1\" >0</td>\n",
       "      <td id=\"T_4976d_row6_col2\" class=\"data row6 col2\" >0</td>\n",
       "      <td id=\"T_4976d_row6_col3\" class=\"data row6 col3\" >3.316</td>\n",
       "      <td id=\"T_4976d_row6_col4\" class=\"data row6 col4\" >0</td>\n",
       "      <td id=\"T_4976d_row6_col5\" class=\"data row6 col5\" >1</td>\n",
       "      <td id=\"T_4976d_row6_col6\" class=\"data row6 col6\" >1</td>\n",
       "      <td id=\"T_4976d_row6_col7\" class=\"data row6 col7\" >0</td>\n",
       "      <td id=\"T_4976d_row6_col8\" class=\"data row6 col8\" >0</td>\n",
       "      <td id=\"T_4976d_row6_col9\" class=\"data row6 col9\" >0</td>\n",
       "      <td id=\"T_4976d_row6_col10\" class=\"data row6 col10\" >0</td>\n",
       "      <td id=\"T_4976d_row6_col11\" class=\"data row6 col11\" >1</td>\n",
       "    </tr>\n",
       "    <tr>\n",
       "      <th id=\"T_4976d_level0_row7\" class=\"row_heading level0 row7\" >361</th>\n",
       "      <td id=\"T_4976d_row7_col0\" class=\"data row7 col0\" >29.000</td>\n",
       "      <td id=\"T_4976d_row7_col1\" class=\"data row7 col1\" >1</td>\n",
       "      <td id=\"T_4976d_row7_col2\" class=\"data row7 col2\" >0</td>\n",
       "      <td id=\"T_4976d_row7_col3\" class=\"data row7 col3\" >3.358</td>\n",
       "      <td id=\"T_4976d_row7_col4\" class=\"data row7 col4\" >0</td>\n",
       "      <td id=\"T_4976d_row7_col5\" class=\"data row7 col5\" >1</td>\n",
       "      <td id=\"T_4976d_row7_col6\" class=\"data row7 col6\" >0</td>\n",
       "      <td id=\"T_4976d_row7_col7\" class=\"data row7 col7\" >1</td>\n",
       "      <td id=\"T_4976d_row7_col8\" class=\"data row7 col8\" >0</td>\n",
       "      <td id=\"T_4976d_row7_col9\" class=\"data row7 col9\" >1</td>\n",
       "      <td id=\"T_4976d_row7_col10\" class=\"data row7 col10\" >0</td>\n",
       "      <td id=\"T_4976d_row7_col11\" class=\"data row7 col11\" >0</td>\n",
       "    </tr>\n",
       "    <tr>\n",
       "      <th id=\"T_4976d_level0_row8\" class=\"row_heading level0 row8\" >29</th>\n",
       "      <td id=\"T_4976d_row8_col0\" class=\"data row8 col0\" >24.000</td>\n",
       "      <td id=\"T_4976d_row8_col1\" class=\"data row8 col1\" >0</td>\n",
       "      <td id=\"T_4976d_row8_col2\" class=\"data row8 col2\" >0</td>\n",
       "      <td id=\"T_4976d_row8_col3\" class=\"data row8 col3\" >2.186</td>\n",
       "      <td id=\"T_4976d_row8_col4\" class=\"data row8 col4\" >0</td>\n",
       "      <td id=\"T_4976d_row8_col5\" class=\"data row8 col5\" >1</td>\n",
       "      <td id=\"T_4976d_row8_col6\" class=\"data row8 col6\" >0</td>\n",
       "      <td id=\"T_4976d_row8_col7\" class=\"data row8 col7\" >0</td>\n",
       "      <td id=\"T_4976d_row8_col8\" class=\"data row8 col8\" >1</td>\n",
       "      <td id=\"T_4976d_row8_col9\" class=\"data row8 col9\" >0</td>\n",
       "      <td id=\"T_4976d_row8_col10\" class=\"data row8 col10\" >0</td>\n",
       "      <td id=\"T_4976d_row8_col11\" class=\"data row8 col11\" >1</td>\n",
       "    </tr>\n",
       "    <tr>\n",
       "      <th id=\"T_4976d_level0_row9\" class=\"row_heading level0 row9\" >55</th>\n",
       "      <td id=\"T_4976d_row9_col0\" class=\"data row9 col0\" >24.000</td>\n",
       "      <td id=\"T_4976d_row9_col1\" class=\"data row9 col1\" >0</td>\n",
       "      <td id=\"T_4976d_row9_col2\" class=\"data row9 col2\" >0</td>\n",
       "      <td id=\"T_4976d_row9_col3\" class=\"data row9 col3\" >3.597</td>\n",
       "      <td id=\"T_4976d_row9_col4\" class=\"data row9 col4\" >0</td>\n",
       "      <td id=\"T_4976d_row9_col5\" class=\"data row9 col5\" >1</td>\n",
       "      <td id=\"T_4976d_row9_col6\" class=\"data row9 col6\" >1</td>\n",
       "      <td id=\"T_4976d_row9_col7\" class=\"data row9 col7\" >0</td>\n",
       "      <td id=\"T_4976d_row9_col8\" class=\"data row9 col8\" >0</td>\n",
       "      <td id=\"T_4976d_row9_col9\" class=\"data row9 col9\" >0</td>\n",
       "      <td id=\"T_4976d_row9_col10\" class=\"data row9 col10\" >0</td>\n",
       "      <td id=\"T_4976d_row9_col11\" class=\"data row9 col11\" >1</td>\n",
       "    </tr>\n",
       "  </tbody>\n",
       "</table>\n"
      ],
      "text/plain": [
       "      Age  SibSp  Parch   LogFare  ...  Pclass_3  Embarked_C  Embarked_Q  Embarked_S\n",
       "331  45.5      0      0  3.384390  ...         0           0           0           1\n",
       "733  23.0      0      0  2.639057  ...         0           0           0           1\n",
       "382  32.0      0      0  2.188856  ...         1           0           0           1\n",
       "704  26.0      1      0  2.180892  ...         1           0           0           1\n",
       "813   6.0      4      2  3.474293  ...         1           0           0           1\n",
       "..    ...    ...    ...       ...  ...       ...         ...         ...         ...\n",
       "106  21.0      0      0  2.157559  ...         1           0           0           1\n",
       "270  24.0      0      0  3.465736  ...         0           0           0           1\n",
       "860  41.0      2      0  2.715244  ...         1           0           0           1\n",
       "435  14.0      1      2  4.795791  ...         0           0           0           1\n",
       "102  21.0      0      1  4.360388  ...         0           0           0           1\n",
       "\n",
       "[712 rows x 12 columns]"
      ]
     },
     "execution_count": null,
     "metadata": {},
     "output_type": "execute_result"
    }
   ],
   "source": [
    "train_df[inp_col]"
   ]
  },
  {
   "cell_type": "code",
   "execution_count": null,
   "id": "36a994f3",
   "metadata": {
    "input_tokens": 40,
    "time_run": "10:04:06a"
   },
   "outputs": [],
   "source": [
    "x_train, y_train = torch.tensor(train_df[inp_col].values),torch.tensor(train_df['Survived'].values)"
   ]
  },
  {
   "cell_type": "code",
   "execution_count": null,
   "id": "12af8513",
   "metadata": {
    "input_tokens": 19,
    "time_run": "10:01:08a"
   },
   "outputs": [],
   "source": [
    "train_df = torch.tensor(train_df[inp_col].values)"
   ]
  },
  {
   "cell_type": "code",
   "execution_count": null,
   "id": "8ad7e00e",
   "metadata": {
    "input_tokens": 4,
    "output_tokens": 19,
    "time_run": "10:01:24a"
   },
   "outputs": [
    {
     "data": {
      "text/plain": [
       "torch.float64"
      ]
     },
     "execution_count": null,
     "metadata": {},
     "output_type": "execute_result"
    }
   ],
   "source": [
    "train_df.dtype"
   ]
  },
  {
   "cell_type": "code",
   "execution_count": null,
   "id": "ab3978ef",
   "metadata": {
    "input_tokens": 3,
    "output_tokens": 1539,
    "time_run": "10:04:13a"
   },
   "outputs": [
    {
     "data": {
      "text/plain": [
       "tensor([[45.50,  0.00,  0.00,  3.38,  0.00,  1.00,  1.00,  0.00,  0.00,  0.00,  0.00,  1.00],\n",
       "        [23.00,  0.00,  0.00,  2.64,  0.00,  1.00,  0.00,  1.00,  0.00,  0.00,  0.00,  1.00],\n",
       "        [32.00,  0.00,  0.00,  2.19,  0.00,  1.00,  0.00,  0.00,  1.00,  0.00,  0.00,  1.00],\n",
       "        [26.00,  1.00,  0.00,  2.18,  0.00,  1.00,  0.00,  0.00,  1.00,  0.00,  0.00,  1.00],\n",
       "        [ 6.00,  4.00,  2.00,  3.47,  1.00,  0.00,  0.00,  0.00,  1.00,  0.00,  0.00,  1.00],\n",
       "        [24.00,  0.00,  1.00,  5.52,  0.00,  1.00,  1.00,  0.00,  0.00,  1.00,  0.00,  0.00],\n",
       "        [45.00,  0.00,  0.00,  3.32,  0.00,  1.00,  1.00,  0.00,  0.00,  0.00,  0.00,  1.00],\n",
       "        ...,\n",
       "        [18.00,  1.00,  0.00,  5.43,  1.00,  0.00,  1.00,  0.00,  0.00,  1.00,  0.00,  0.00],\n",
       "        [16.00,  5.00,  2.00,  3.87,  1.00,  0.00,  0.00,  0.00,  1.00,  0.00,  0.00,  1.00],\n",
       "        [21.00,  0.00,  0.00,  2.16,  1.00,  0.00,  0.00,  0.00,  1.00,  0.00,  0.00,  1.00],\n",
       "        [24.00,  0.00,  0.00,  3.47,  0.00,  1.00,  1.00,  0.00,  0.00,  0.00,  0.00,  1.00],\n",
       "        [41.00,  2.00,  0.00,  2.72,  0.00,  1.00,  0.00,  0.00,  1.00,  0.00,  0.00,  1.00],\n",
       "        [14.00,  1.00,  2.00,  4.80,  1.00,  0.00,  1.00,  0.00,  0.00,  0.00,  0.00,  1.00],\n",
       "        [21.00,  0.00,  1.00,  4.36,  0.00,  1.00,  1.00,  0.00,  0.00,  0.00,  0.00,  1.00]], dtype=torch.float64)"
      ]
     },
     "execution_count": null,
     "metadata": {},
     "output_type": "execute_result"
    }
   ],
   "source": [
    "x_train"
   ]
  },
  {
   "cell_type": "code",
   "execution_count": null,
   "id": "2e4ef793",
   "metadata": {
    "input_tokens": 3,
    "output_tokens": 3244,
    "time_run": "10:04:24a"
   },
   "outputs": [
    {
     "data": {
      "text/plain": [
       "tensor([0, 0, 0, 0, 0, 0, 0, 0, 0, 1, 1, 0, 0, 0, 1, 1, 1, 1, 0, 1, 0, 0, 0, 1, 1, 1, 1, 0, 1, 0, 0, 0, 0, 1, 0, 0, 0, 1, 0, 1, 0, 0, 0, 0,\n",
       "        1, 0, 1, 0, 1, 1, 1, 0, 1, 0, 1, 0, 1, 1, 1, 1, 0, 0, 1, 0, 0, 0, 0, 0, 0, 0, 1, 1, 0, 0, 0, 1, 1, 0, 1, 0, 1, 1, 0, 1, 1, 0, 0, 0,\n",
       "        1, 1, 0, 1, 0, 0, 0, 1, 0, 0, 0, 1, 0, 0, 0, 1, 0, 0, 0, 1, 0, 1, 1, 0, 0, 1, 0, 0, 0, 0, 0, 0, 0, 1, 1, 0, 0, 1, 1, 0, 0, 0, 0, 0,\n",
       "        0, 1, 0, 0, 1, 1, 1, 1, 0, 0, 1, 0, 0, 1, 0, 1, 0, 0, 0, 0, 0, 0, 0, 0, 0, 1, 1, 0, 0, 0, 0, 0, 1, 0, 0, 1, 0, 1, 1, 1, 1, 0, 0, 0,\n",
       "        0, 1, 1, 0, 1, 0, 1, 0, 0, 0, 1, 0, 0, 0, 0, 1, 0, 1, 1, 0, 0, 1, 1, 1, 0, 1, 0, 1, 1, 0, 0, 0, 0, 0, 0, 0, 1, 1, 1, 1, 1, 0, 0, 0,\n",
       "        1, 1, 0, 1, 0, 1, 1, 1, 0, 1, 0, 0, 0, 1, 1, 0, 1, 1, 0, 0, 0, 1, 0, 1, 0, 0, 0, 1, 0, 1, 1, 1, 0, 1, 0, 0, 0, 0, 0, 0, 0, 1, 0, 0,\n",
       "        1, 0, 0, 0, 1, 0, 0, 1, 0, 1, 0, 0, 0, 0, 1, 0, 0, 0, 0, 1, 0, 0, 1, 0, 0, 1, 1, 1, 0, 0, 0, 1, 1, 0, 1, 1, 0, 1, 0, 1, 0, 0, 0, 0,\n",
       "        1, 1, 1, 1, 0, 1, 1, 1, 0, 0, 0, 0, 0, 1, 0, 0, 0, 0, 0, 0, 0, 1, 0, 1, 0, 0, 0, 0, 0, 1, 1, 0, 1, 0, 0, 1, 0, 1, 0, 1, 0, 0, 0, 0,\n",
       "        1, 0, 0, 0, 0, 0, 1, 1, 1, 1, 1, 0, 1, 1, 0, 1, 0, 1, 1, 0, 1, 0, 1, 0, 1, 0, 0, 0, 0, 0, 0, 0, 0, 1, 0, 0, 0, 0, 1, 0, 0, 0, 0, 1,\n",
       "        0, 0, 0, 0, 1, 0, 1, 0, 0, 1, 1, 0, 0, 0, 0, 0, 1, 0, 0, 1, 0, 0, 0, 0, 0, 1, 1, 0, 0, 0, 0, 0, 1, 1, 0, 1, 1, 0, 1, 1, 0, 1, 0, 0,\n",
       "        1, 0, 1, 0, 0, 0, 0, 0, 1, 0, 0, 0, 1, 0, 0, 1, 0, 0, 0, 1, 0, 1, 1, 1, 1, 1, 0, 0, 0, 1, 1, 0, 1, 0, 1, 0, 0, 0, 0, 1, 0, 0, 0, 0,\n",
       "        1, 0, 0, 1, 0, 0, 0, 0, 1, 0, 0, 0, 1, 1, 0, 0, 1, 0, 0, 1, 1, 0, 0, 0, 1, 1, 0, 0, 0, 0, 0, 0, 1, 1, 1, 1, 0, 1, 0, 1, 0, 0, 1, 1,\n",
       "        0, 0, 0, 0, 1, 0, 0, 1, 1, 1, 0, 1, 1, 0, 0, 0, 0, 0, 1, 0, 0, 1, 1, 1, 0, 0, 0, 0, 1, 1, 1, 1, 0, 0, 0, 0, 0, 0, 0, 1, 1, 0, 1, 0,\n",
       "        0, 1, 1, 1, 0, 0, 1, 1, 0, 0, 0, 0, 1, 1, 0, 1, 0, 0, 1, 0, 0, 0, 0, 0, 1, 1, 0, 1, 0, 0, 1, 0, 0, 0, 1, 1, 1, 1, 1, 0, 0, 1, 0, 1,\n",
       "        0, 1, 0, 1, 1, 1, 0, 1, 0, 0, 0, 0, 0, 0, 0, 0, 1, 1, 0, 0, 0, 0, 0, 0, 0, 1, 0, 1, 0, 0, 0, 1, 0, 1, 0, 1, 1, 1, 0, 1, 0, 0, 0, 1,\n",
       "        0, 1, 1, 0, 0, 0, 0, 0, 0, 0, 0, 1, 1, 1, 0, 0, 1, 0, 1, 0, 0, 0, 0, 0, 0, 0, 0, 0, 0, 0, 0, 0, 0, 0, 1, 0, 0, 0, 1, 1, 0, 0, 0, 0,\n",
       "        0, 1, 0, 1, 0, 0, 1, 0])"
      ]
     },
     "execution_count": null,
     "metadata": {},
     "output_type": "execute_result"
    }
   ],
   "source": [
    "y_train"
   ]
  },
  {
   "cell_type": "code",
   "execution_count": null,
   "id": "4fb57a97",
   "metadata": {
    "input_tokens": 10,
    "output_tokens": 211,
    "time_run": "10:05:40a"
   },
   "outputs": [
    {
     "data": {
      "text/plain": [
       "torch.return_types.max(\n",
       "values=tensor([80.00,  8.00,  6.00,  6.24,  1.00,  1.00,  1.00,  1.00,  1.00,  1.00,  1.00,  1.00], dtype=torch.float64),\n",
       "indices=tensor([415, 232, 175, 367,   4,   0,   0,   1,   2,   5,  33,   0]))"
      ]
     },
     "execution_count": null,
     "metadata": {},
     "output_type": "execute_result"
    }
   ],
   "source": [
    "x_train.max(axis=0)"
   ]
  },
  {
   "cell_type": "code",
   "execution_count": null,
   "id": "28a5a236",
   "metadata": {
    "input_tokens": 12,
    "output_tokens": 129,
    "time_run": "10:05:52a"
   },
   "outputs": [
    {
     "data": {
      "text/plain": [
       "tensor([80.00,  8.00,  6.00,  6.24,  1.00,  1.00,  1.00,  1.00,  1.00,  1.00,  1.00,  1.00], dtype=torch.float64)"
      ]
     },
     "execution_count": null,
     "metadata": {},
     "output_type": "execute_result"
    }
   ],
   "source": [
    "x_train.max(axis=0).values"
   ]
  },
  {
   "cell_type": "code",
   "execution_count": null,
   "id": "c8131e9d",
   "metadata": {
    "input_tokens": 16,
    "output_tokens": 1306,
    "time_run": "10:06:04a"
   },
   "outputs": [
    {
     "data": {
      "text/plain": [
       "tensor([[0.57, 0.00, 0.00, 0.54, 0.00, 1.00, 1.00, 0.00, 0.00, 0.00, 0.00, 1.00],\n",
       "        [0.29, 0.00, 0.00, 0.42, 0.00, 1.00, 0.00, 1.00, 0.00, 0.00, 0.00, 1.00],\n",
       "        [0.40, 0.00, 0.00, 0.35, 0.00, 1.00, 0.00, 0.00, 1.00, 0.00, 0.00, 1.00],\n",
       "        [0.33, 0.12, 0.00, 0.35, 0.00, 1.00, 0.00, 0.00, 1.00, 0.00, 0.00, 1.00],\n",
       "        [0.07, 0.50, 0.33, 0.56, 1.00, 0.00, 0.00, 0.00, 1.00, 0.00, 0.00, 1.00],\n",
       "        [0.30, 0.00, 0.17, 0.88, 0.00, 1.00, 1.00, 0.00, 0.00, 1.00, 0.00, 0.00],\n",
       "        [0.56, 0.00, 0.00, 0.53, 0.00, 1.00, 1.00, 0.00, 0.00, 0.00, 0.00, 1.00],\n",
       "        ...,\n",
       "        [0.23, 0.12, 0.00, 0.87, 1.00, 0.00, 1.00, 0.00, 0.00, 1.00, 0.00, 0.00],\n",
       "        [0.20, 0.62, 0.33, 0.62, 1.00, 0.00, 0.00, 0.00, 1.00, 0.00, 0.00, 1.00],\n",
       "        [0.26, 0.00, 0.00, 0.35, 1.00, 0.00, 0.00, 0.00, 1.00, 0.00, 0.00, 1.00],\n",
       "        [0.30, 0.00, 0.00, 0.56, 0.00, 1.00, 1.00, 0.00, 0.00, 0.00, 0.00, 1.00],\n",
       "        [0.51, 0.25, 0.00, 0.44, 0.00, 1.00, 0.00, 0.00, 1.00, 0.00, 0.00, 1.00],\n",
       "        [0.17, 0.12, 0.33, 0.77, 1.00, 0.00, 1.00, 0.00, 0.00, 0.00, 0.00, 1.00],\n",
       "        [0.26, 0.00, 0.17, 0.70, 0.00, 1.00, 1.00, 0.00, 0.00, 0.00, 0.00, 1.00]], dtype=torch.float64)"
      ]
     },
     "execution_count": null,
     "metadata": {},
     "output_type": "execute_result"
    }
   ],
   "source": [
    "x_train / x_train.max(axis=0).values"
   ]
  },
  {
   "cell_type": "code",
   "execution_count": null,
   "id": "6c27cde2",
   "metadata": {
    "input_tokens": 27,
    "time_run": "10:07:47a"
   },
   "outputs": [],
   "source": [
    "coffs  = torch.randn(12,requires_grad=True) - 0.5"
   ]
  },
  {
   "cell_type": "code",
   "execution_count": null,
   "id": "7f2921cd",
   "metadata": {
    "input_tokens": 3,
    "output_tokens": 142,
    "time_run": "10:07:54a"
   },
   "outputs": [
    {
     "data": {
      "text/plain": [
       "tensor([     0.22,     -0.00,     -1.66,     -0.58,      0.75,     -1.12,     -0.77,     -1.02,      1.04,     -1.46,     -1.38,     -3.14],\n",
       "       grad_fn=<SubBackward0>)"
      ]
     },
     "execution_count": null,
     "metadata": {},
     "output_type": "execute_result"
    }
   ],
   "source": [
    "coffs"
   ]
  },
  {
   "cell_type": "code",
   "execution_count": null,
   "id": "db9292f4",
   "metadata": {
    "input_tokens": 28,
    "time_run": "10:08:30a"
   },
   "outputs": [],
   "source": [
    "preds = (x_train / x_train.max(axis=0).values) * coffs"
   ]
  },
  {
   "cell_type": "code",
   "execution_count": null,
   "id": "3fe88afc",
   "metadata": {
    "input_tokens": 3,
    "output_tokens": 1597,
    "time_run": "10:08:37a"
   },
   "outputs": [
    {
     "data": {
      "text/plain": [
       "tensor([[     0.12,     -0.00,     -0.00,     -0.32,      0.00,     -1.12,     -0.77,     -0.00,      0.00,     -0.00,     -0.00,     -3.14],\n",
       "        [     0.06,     -0.00,     -0.00,     -0.25,      0.00,     -1.12,     -0.00,     -1.02,      0.00,     -0.00,     -0.00,     -3.14],\n",
       "        [     0.09,     -0.00,     -0.00,     -0.20,      0.00,     -1.12,     -0.00,     -0.00,      1.04,     -0.00,     -0.00,     -3.14],\n",
       "        [     0.07,     -0.00,     -0.00,     -0.20,      0.00,     -1.12,     -0.00,     -0.00,      1.04,     -0.00,     -0.00,     -3.14],\n",
       "        [     0.02,     -0.00,     -0.55,     -0.32,      0.75,     -0.00,     -0.00,     -0.00,      1.04,     -0.00,     -0.00,     -3.14],\n",
       "        [     0.07,     -0.00,     -0.28,     -0.52,      0.00,     -1.12,     -0.77,     -0.00,      0.00,     -1.46,     -0.00,     -0.00],\n",
       "        [     0.12,     -0.00,     -0.00,     -0.31,      0.00,     -1.12,     -0.77,     -0.00,      0.00,     -0.00,     -0.00,     -3.14],\n",
       "        ...,\n",
       "        [     0.05,     -0.00,     -0.00,     -0.51,      0.75,     -0.00,     -0.77,     -0.00,      0.00,     -1.46,     -0.00,     -0.00],\n",
       "        [     0.04,     -0.00,     -0.55,     -0.36,      0.75,     -0.00,     -0.00,     -0.00,      1.04,     -0.00,     -0.00,     -3.14],\n",
       "        [     0.06,     -0.00,     -0.00,     -0.20,      0.75,     -0.00,     -0.00,     -0.00,      1.04,     -0.00,     -0.00,     -3.14],\n",
       "        [     0.07,     -0.00,     -0.00,     -0.32,      0.00,     -1.12,     -0.77,     -0.00,      0.00,     -0.00,     -0.00,     -3.14],\n",
       "        [     0.11,     -0.00,     -0.00,     -0.25,      0.00,     -1.12,     -0.00,     -0.00,      1.04,     -0.00,     -0.00,     -3.14],\n",
       "        [     0.04,     -0.00,     -0.55,     -0.45,      0.75,     -0.00,     -0.77,     -0.00,      0.00,     -0.00,     -0.00,     -3.14],\n",
       "        [     0.06,     -0.00,     -0.28,     -0.41,      0.00,     -1.12,     -0.77,     -0.00,      0.00,     -0.00,     -0.00,     -3.14]],\n",
       "       dtype=torch.float64, grad_fn=<MulBackward0>)"
      ]
     },
     "execution_count": null,
     "metadata": {},
     "output_type": "execute_result"
    }
   ],
   "source": [
    "preds"
   ]
  },
  {
   "cell_type": "code",
   "execution_count": null,
   "id": "9857890f",
   "metadata": {
    "input_tokens": 10,
    "output_tokens": 5476,
    "time_run": "10:09:03a"
   },
   "outputs": [
    {
     "data": {
      "text/plain": [
       "tensor([-5.22, -5.46, -3.34, -3.35, -2.21, -4.08, -5.22, -3.84, -3.36, -5.30, -3.54, -3.70, -5.43, -3.37, -3.36, -3.86, -3.49, -1.89, -5.43,\n",
       "        -3.49, -2.19, -3.24, -1.48, -4.25, -1.40, -1.69, -0.45, -3.36, -5.93, -1.73, -3.29, -4.34, -3.33, -1.73, -1.59, -1.86, -3.78, -3.94,\n",
       "        -3.88, -3.92, -3.35, -3.36, -3.59, -3.73, -5.29, -3.35, -4.15, -3.36, -6.05, -3.65, -1.48, -5.48, -2.50, -1.60,  0.20, -3.37, -1.49,\n",
       "        -3.40, -1.52, -1.88, -3.61, -3.17, -3.60, -1.68, -1.50, -1.64, -3.36, -3.36, -3.36, -3.36, -5.21, -1.51, -6.04, -1.60, -1.68, -5.35,\n",
       "        -3.34, -3.36, -3.43, -5.41, -3.64, -3.57, -3.66, -3.55, -3.36, -4.97, -5.16, -3.38, -5.26, -5.99, -3.36, -1.85, -6.05, -5.75, -5.67,\n",
       "        -3.91, -3.35, -3.38, -3.80, -2.10, -5.42, -3.36, -3.36, -3.55, -3.09, -3.80, -3.84,  0.28, -4.00, -5.86, -3.72, -3.37, -1.55, -0.49,\n",
       "        -0.42, -3.37, -5.25, -1.65, -4.44, -1.73, -1.52, -1.83, -3.64, -5.84, -5.44, -3.38, -3.66, -3.41, -1.48, -5.18, -5.46, -5.33, -3.62,\n",
       "        -3.79, -3.32, -3.30, -3.58, -2.10, -3.54, -5.87, -1.89, -5.30, -3.34, -5.27, -3.36, -3.50, -1.49, -3.34,  0.28, -2.18, -1.60, -1.67,\n",
       "        -1.98, -1.54, -5.46, -5.44, -5.32, -3.47, -3.85, -1.67, -5.39, -3.74, -3.37, -4.07, -3.36, -1.60, -3.36, -1.72, -3.35, -3.88, -3.53,\n",
       "        -2.02, -3.37, -3.74, -5.46, -3.25, -3.38, -5.58, -5.34, -2.03, -3.51, -1.52, -3.58,  0.27, -3.32,  0.12,  0.28, -5.29, -3.41, -3.36,\n",
       "        -5.35, -2.02, -4.14, -1.60, -5.50, -3.69, -3.26, -3.31, -1.55, -2.63, -1.68, -2.10, -2.64, -3.82, -1.84, -3.41, -3.36, -5.44, -3.61,\n",
       "        -3.35, -0.28, -1.66, -0.23, -1.79, -4.29, -3.44, -3.50, -5.46, -3.36, -5.51, -3.52, -3.44, -1.59, -1.83, -3.44, -1.92,  0.28, -1.86,\n",
       "        -3.29, -4.18, -2.66, -1.68, -4.10, -3.99, -2.02, -5.44,  0.25, -3.75, -5.45, -3.36, -3.64, -1.96, -3.32, -5.86, -3.42, -3.34, -1.62,\n",
       "        -4.25, -3.99, -3.58, -3.87, -1.52, -5.27, -2.18, -5.54, -3.52, -3.92, -3.35, -3.36, -3.27, -5.21, -2.06, -1.59, -1.89, -3.15, -5.21,\n",
       "        -5.28, -5.47, -4.17, -5.47, -5.49, -1.75, -1.79,  0.27, -5.46, -3.36, -3.33, -5.19, -4.49, -3.36, -1.68, -1.60, -2.03, -0.19, -1.47,\n",
       "        -5.48, -2.03, -5.62, -1.68, -3.54,  0.28, -4.11, -3.34, -5.47, -2.19, -3.74, -3.44, -5.52, -1.82, -3.75, -3.37, -1.88, -1.80, -1.83,\n",
       "        -1.68, -1.65, -3.32, -3.36, -1.86, -3.56, -4.09, -1.79, -1.57, -3.34, -3.36, -1.91, -4.10, -5.46, -4.92, -1.68, -1.48, -3.58, -3.44,\n",
       "        -3.39, -1.84, -3.37, -3.52, -3.12, -3.36, -4.17, -1.66, -0.72, -5.41, -5.57, -1.59, -3.82, -3.42, -1.79, -1.55, -3.35, -3.58, -3.42,\n",
       "        -3.36,  0.20, -2.23, -5.23, -5.39, -5.83, -3.80, -1.57, -3.65, -3.57, -5.29, -5.32, -1.69, -3.38, -3.35, -3.36, -3.97, -5.46, -3.35,\n",
       "        -1.81, -0.41, -3.37, -3.79, -3.57, -3.37, -3.84, -2.23, -1.69, -4.12, -2.96, -1.49, -3.66, -3.67, -1.69,  0.17, -3.36, -1.50, -3.34,\n",
       "        -5.60, -2.04, -2.05, -3.36, -1.77, -3.34, -1.58, -5.24, -1.54, -4.11, -3.37, -3.36, -3.38, -1.68, -5.81, -4.45, -3.38, -1.65, -1.86,\n",
       "        -3.37, -5.20, -1.90, -0.23, -1.68, -3.33, -3.93, -1.68, -3.41, -3.37, -1.47, -5.46, -5.34, -3.34, -2.13, -3.35, -5.13, -3.27, -5.74,\n",
       "        -1.59, -3.37,  0.11, -5.46, -4.02, -3.34, -1.60, -2.17, -5.41, -2.22, -3.64, -3.49, -3.41, -3.61, -1.75, -3.35, -3.56, -2.06, -5.43,\n",
       "        -1.68, -3.59, -3.40, -1.82, -3.36, -3.39, -3.34, -5.38, -5.58, -2.95, -4.18, -3.30, -5.38, -5.48, -3.64, -4.30, -3.34, -2.21, -3.35,\n",
       "        -3.37, -3.53, -3.35, -3.75, -5.40, -1.85,  0.22, -3.57, -3.49, -2.58, -1.60, -3.22, -3.59, -3.52, -1.81, -1.50, -3.32, -3.84, -5.90,\n",
       "        -3.31, -6.48, -1.48, -1.49, -4.06, -3.29, -5.78, -1.51, -3.35, -3.90, -3.35, -5.43, -1.82, -5.41, -5.32, -4.97, -3.43, -1.79,  0.27,\n",
       "        -4.13, -2.23, -3.53, -3.35, -5.21, -3.38, -1.75, -3.36, -5.37, -4.39, -5.28, -5.32, -3.76, -5.11, -3.72, -2.21, -4.92, -3.36, -5.39,\n",
       "        -3.35, -3.36, -1.66,  0.28, -1.97, -3.51, -3.59, -3.39, -1.48, -3.36, -5.35, -4.10, -5.52, -4.18, -1.55, -3.75, -3.42, -3.36, -3.84,\n",
       "        -2.03, -5.44, -3.30, -3.63, -4.22, -1.70, -4.09, -3.43, -1.52, -5.43, -3.94, -4.10, -1.68, -5.29, -4.01, -5.20,  0.27, -1.50, -5.81,\n",
       "        -3.51, -3.36, -3.36,  0.14, -3.38, -5.33, -5.21, -1.68,  0.17, -3.40, -3.35, -5.46, -3.35, -5.48, -3.33, -2.21, -1.47,  0.22, -3.36,\n",
       "        -3.66, -3.38, -4.10, -3.89,  0.28,  0.28, -3.28,  0.28,  0.28,  0.28, -3.36, -5.46, -6.05, -1.65, -3.48, -3.73, -1.64, -5.41, -5.44,\n",
       "        -5.21, -3.36, -3.29, -4.11, -3.39, -5.32, -3.33, -3.54, -0.18, -5.31, -3.50, -3.60, -1.51,  0.25, -1.46, -5.20, -3.37, -5.22, -4.06,\n",
       "        -1.48, -1.76, -1.83, -5.35, -3.33, -5.33, -3.60, -5.24, -1.77, -3.62, -3.33, -1.67, -3.43, -3.52, -4.10, -3.56, -5.17, -1.48, -3.35,\n",
       "        -0.16, -5.48, -3.29, -3.35, -3.45, -1.93, -1.78, -1.68, -3.31, -3.37, -1.85, -3.69, -3.37, -3.44, -3.66, -3.36, -1.73, -3.37, -5.24,\n",
       "        -1.49, -3.59, -1.60,  0.22, -4.82, -1.48, -3.93, -3.56, -3.85, -3.75, -5.43, -3.37, -3.29, -3.71, -3.31, -3.53, -5.83, -3.35, -3.37,\n",
       "        -5.45, -3.80, -3.32, -5.27, -3.31, -5.34, -3.69, -1.58, -4.26, -1.51, -1.60, -3.57, -5.17, -5.43, -3.35, -1.60, -3.64, -1.43, -5.47,\n",
       "        -5.63, -3.34, -5.21, -3.36, -5.46, -3.34, -3.82, -1.63, -1.66, -3.32, -3.68, -5.49, -3.37, -3.36, -3.50,  0.18, -1.60, -5.21, -3.36,\n",
       "        -3.33, -5.49, -1.94, -2.22, -1.49, -5.29, -3.36, -4.12, -5.66], dtype=torch.float64, grad_fn=<SumBackward1>)"
      ]
     },
     "execution_count": null,
     "metadata": {},
     "output_type": "execute_result"
    }
   ],
   "source": [
    "preds.sum(axis=1)"
   ]
  },
  {
   "cell_type": "code",
   "execution_count": null,
   "id": "305d7886",
   "metadata": {
    "input_tokens": 22,
    "output_tokens": 46,
    "time_run": "10:12:19a"
   },
   "outputs": [
    {
     "data": {
      "text/plain": [
       "tensor(3.67, dtype=torch.float64, grad_fn=<MeanBackward0>)"
      ]
     },
     "execution_count": null,
     "metadata": {},
     "output_type": "execute_result"
    }
   ],
   "source": [
    "torch.abs(preds.sum(axis=1) - y_train ).mean()"
   ]
  },
  {
   "cell_type": "code",
   "execution_count": null,
   "id": "83d98435",
   "metadata": {
    "input_tokens": 18,
    "output_tokens": 381,
    "time_run": "10:12:04a"
   },
   "outputs": [
    {
     "name": "stdout",
     "output_type": "stream",
     "text": [
      "\u001b[31m---------------------------------------------------------------------------\u001b[39m\n",
      "\u001b[31mTypeError\u001b[39m                                 Traceback (most recent call last)\n",
      "\u001b[36mCell\u001b[39m\u001b[36m \u001b[39m\u001b[32mIn[1]\u001b[39m\u001b[32m, line 1\u001b[39m\n",
      "\u001b[32m----> \u001b[39m\u001b[32m1\u001b[39m coffs.sub_(\u001b[32;43m0.1\u001b[39;49m\u001b[43m \u001b[49m\u001b[43m*\u001b[49m\u001b[43m \u001b[49m\u001b[43mcoffs\u001b[49m\u001b[43m.\u001b[49m\u001b[43mgrad\u001b[49m)\n",
      "\n",
      "\u001b[31mTypeError\u001b[39m: unsupported operand type(s) for *: 'float' and 'NoneType'\n"
     ]
    },
    {
     "name": "stderr",
     "output_type": "stream",
     "text": [
      "<ipython-input-1-0a906404093c>:1: UserWarning: The .grad attribute of a Tensor that is not a leaf Tensor is being accessed. Its .grad attribute won't be populated during autograd.backward(). If you indeed want the .grad field to be populated for a non-leaf Tensor, use .retain_grad() on the non-leaf Tensor. If you access the non-leaf Tensor by mistake, make sure you access the leaf Tensor instead. See github.com/pytorch/pytorch/pull/30531 for more informations. (Triggered internally at /pytorch/build/aten/src/ATen/core/TensorBody.h:489.)\n",
      "  coffs.sub_(0.1 * coffs.grad)\n"
     ]
    },
    {
     "ename": "TypeError",
     "evalue": "unsupported operand type(s) for *: 'float' and 'NoneType'",
     "output_type": "error",
     "traceback": [
      "Traceback (most recent call last):\n",
      "  File \"/usr/local/lib/python3.11/site-packages/IPython/core/interactiveshell.py\", line 3667, in run_code\n    exec(code_obj, self.user_global_ns, self.user_ns)\n",
      "  File \"<ipython-input-1-0a906404093c>\", line 1, in <module>\n    coffs.sub_(0.1 * coffs.grad)\n               ~~~~^~~~~~~~~~~~\n",
      "TypeError: unsupported operand type(s) for *: 'float' and 'NoneType'\n"
     ]
    }
   ],
   "source": [
    "coffs.sub_(0.1 * coffs.grad)"
   ]
  },
  {
   "cell_type": "code",
   "execution_count": null,
   "id": "86013b24",
   "metadata": {
    "input_tokens": 3,
    "output_tokens": 142,
    "time_run": "10:15:32a"
   },
   "outputs": [
    {
     "data": {
      "text/plain": [
       "tensor([     0.22,     -0.00,     -1.66,     -0.58,      0.75,     -1.12,     -0.77,     -1.02,      1.04,     -1.46,     -1.38,     -3.14],\n",
       "       grad_fn=<SubBackward0>)"
      ]
     },
     "execution_count": null,
     "metadata": {},
     "output_type": "execute_result"
    }
   ],
   "source": [
    "coffs"
   ]
  },
  {
   "cell_type": "code",
   "execution_count": null,
   "id": "86d08bf7",
   "metadata": {
    "input_tokens": 430,
    "time_run": "11:28:34a"
   },
   "outputs": [],
   "source": [
    "def normalize_features(X):\n",
    "    \"Normalize features by dividing by max value in each column\"\n",
    "    return X / X.max(dim=0)[0]\n",
    "\n",
    "def create_model():\n",
    "    \"Create a linear model with random coefficients\"\n",
    "    coffs = torch.randn(12, requires_grad=True)\n",
    "    return coffs\n",
    "\n",
    "def predict(X, coffs):\n",
    "    \"Make predictions using normalized features and coefficients\"\n",
    "    norm_X = normalize_features(X)\n",
    "    return (norm_X * coffs).sum(axis=1)\n",
    "\n",
    "def calc_loss(preds, targets):\n",
    "    \"Calculate mean absolute error\"\n",
    "    return torch.abs(preds - targets).mean()\n",
    "\n",
    "def train_step(X, y, coffs, lr=0.1):\n",
    "    \"Perform one training step\"\n",
    "    preds = predict(X, coffs)\n",
    "    loss = calc_loss(preds, y)\n",
    "    loss.backward()\n",
    "    with torch.no_grad():\n",
    "        coffs.data -= lr * coffs.grad\n",
    "        # coffs.grad.zero_()\n",
    "    return loss.item()\n",
    "\n",
    "def train_model(X, y, coffs, epochs=10, lr=0.1):\n",
    "    \"Train model for specified number of epochs\"\n",
    "    losses = []\n",
    "    for epoch in range(epochs):\n",
    "        loss = train_step(X, y, coffs, lr)\n",
    "        losses.append(loss)\n",
    "        print(f\"Epoch {epoch+1}, Loss: {loss:.4f}\")\n",
    "    return coffs\n"
   ]
  },
  {
   "cell_type": "code",
   "execution_count": null,
   "id": "49f6c786",
   "metadata": {
    "input_tokens": 141,
    "output_tokens": 391,
    "time_run": "11:30:13a"
   },
   "outputs": [
    {
     "name": "stdout",
     "output_type": "stream",
     "text": [
      "Epoch 1, Loss: 0.7478\n",
      "Epoch 2, Loss: 0.6353\n",
      "Epoch 3, Loss: 0.6163\n",
      "Epoch 4, Loss: 0.5837\n",
      "Epoch 5, Loss: 0.4964\n",
      "Epoch 6, Loss: 0.4279\n",
      "Epoch 7, Loss: 0.4355\n",
      "Epoch 8, Loss: 0.4064\n",
      "Epoch 9, Loss: 0.3997\n",
      "Epoch 10, Loss: 0.4717\n",
      "Epoch 11, Loss: 0.4797\n",
      "Epoch 12, Loss: 0.5126\n",
      "Epoch 13, Loss: 0.5370\n",
      "Epoch 14, Loss: 0.5817\n",
      "Epoch 15, Loss: 0.6139\n",
      "Epoch 16, Loss: 0.6081\n",
      "Epoch 17, Loss: 0.6005\n",
      "Epoch 18, Loss: 0.5792\n",
      "Epoch 19, Loss: 0.5514\n",
      "Epoch 20, Loss: 0.5628\n",
      "Validation Loss: 0.5509\n"
     ]
    }
   ],
   "source": [
    "model = create_model()\n",
    "\n",
    "# Train the model\n",
    "coffs = train_model(x_train, y_train, model, epochs=20,lr=0.2)\n",
    "\n",
    "# Make predictions on validation set\n",
    "val_preds = predict(torch.tensor(val_df[inp_col].values), model)\n",
    "val_targets = torch.tensor(val_df['Survived'].values)\n",
    "val_loss = calc_loss(val_preds, val_targets)\n",
    "print(f\"Validation Loss: {val_loss:.4f}\")"
   ]
  },
  {
   "cell_type": "code",
   "execution_count": null,
   "id": "f9f5db58",
   "metadata": {
    "input_tokens": 3,
    "output_tokens": 121,
    "time_run": "11:30:19a"
   },
   "outputs": [
    {
     "data": {
      "text/plain": [
       "tensor([ 0.04, -0.24,  0.16, -0.02,  0.23,  0.46,  1.06,  0.28, -0.27, -1.25,  0.63, -0.21], requires_grad=True)"
      ]
     },
     "execution_count": null,
     "metadata": {},
     "output_type": "execute_result"
    }
   ],
   "source": [
    "coffs"
   ]
  },
  {
   "cell_type": "code",
   "execution_count": null,
   "id": "72e76df0",
   "metadata": {
    "input_tokens": 3,
    "output_tokens": 228,
    "time_run": "11:23:49a"
   },
   "outputs": [
    {
     "data": {
      "text/plain": [
       "['Age',\n",
       " 'SibSp',\n",
       " 'Parch',\n",
       " 'LogFare',\n",
       " 'Sex_female',\n",
       " 'Sex_male',\n",
       " 'Pclass_1',\n",
       " 'Pclass_2',\n",
       " 'Pclass_3',\n",
       " 'Embarked_C',\n",
       " 'Embarked_Q',\n",
       " 'Embarked_S']"
      ]
     },
     "execution_count": null,
     "metadata": {},
     "output_type": "execute_result"
    }
   ],
   "source": [
    "inp_col"
   ]
  },
  {
   "cell_type": "code",
   "execution_count": null,
   "id": "2dfc2967",
   "metadata": {
    "input_tokens": 3,
    "output_tokens": 117,
    "time_run": "11:14:00a"
   },
   "outputs": [
    {
     "data": {
      "text/plain": [
       "tensor([-0.86, -0.22,  0.18, -0.58,  2.04, -0.21, -1.34,  1.12, -0.21, -0.87, -0.48,  0.94], requires_grad=True)"
      ]
     },
     "execution_count": null,
     "metadata": {},
     "output_type": "execute_result"
    }
   ],
   "source": [
    "coffs"
   ]
  },
  {
   "cell_type": "code",
   "execution_count": null,
   "id": "6615c66e",
   "metadata": {
    "input_tokens": 9,
    "output_tokens": 157,
    "time_run": "10:50:31a"
   },
   "outputs": [
    {
     "data": {
      "text/plain": [
       "array([-0.34199873,  0.12190022,  0.3874898 , -0.02247744,  0.5359292 ,\n",
       "        0.09230984, -1.5120274 ,  0.5529859 , -0.13910836, -1.2597481 ,\n",
       "       -0.08066551,  0.18331896], dtype=float32)"
      ]
     },
     "execution_count": null,
     "metadata": {},
     "output_type": "execute_result"
    }
   ],
   "source": [
    "coffs.detach().numpy()"
   ]
  },
  {
   "cell_type": "code",
   "execution_count": null,
   "id": "22396e91",
   "metadata": {
    "input_tokens": 37,
    "output_tokens": 190,
    "time_run": "10:53:11a"
   },
   "outputs": [
    {
     "data": {
      "text/plain": [
       "[-0.34199872612953186,\n",
       " 0.12190021574497223,\n",
       " 0.38748979568481445,\n",
       " -0.022477444261312485,\n",
       " 0.5359292030334473,\n",
       " 0.09230984002351761,\n",
       " -1.512027382850647,\n",
       " 0.5529859066009521,\n",
       " -0.13910835981369019,\n",
       " -1.259748101234436,\n",
       " -0.08066550642251968,\n",
       " 0.18331895768642426]"
      ]
     },
     "execution_count": null,
     "metadata": {},
     "output_type": "execute_result"
    }
   ],
   "source": [
    "#get python list frommcoffs.detach().numpy()\n",
    "[float(x) for x in coffs.detach().numpy()]\n",
    "\n"
   ]
  },
  {
   "cell_type": "code",
   "execution_count": null,
   "id": "2919442d",
   "metadata": {
    "input_tokens": 22,
    "time_run": "11:14:06a"
   },
   "outputs": [],
   "source": [
    "features = [float(x) for x in coffs.detach().numpy()]"
   ]
  },
  {
   "cell_type": "code",
   "execution_count": null,
   "id": "718dc9e7",
   "metadata": {
    "input_tokens": 10,
    "output_tokens": 618,
    "time_run": "11:14:07a"
   },
   "outputs": [
    {
     "data": {
      "text/plain": [
       "(#3) [('A', 'SibSp', 'Parch', 'LogFare', 'Sex_female', 'Sex_male', 'Pclass_1', 'Pclass_2', 'Pclass_3', 'Embarked_C', 'Embarked_Q', 'Embarked_S'),('g', 'SibSp', 'Parch', 'LogFare', 'Sex_female', 'Sex_male', 'Pclass_1', 'Pclass_2', 'Pclass_3', 'Embarked_C', 'Embarked_Q', 'Embarked_S'),('e', 'SibSp', 'Parch', 'LogFare', 'Sex_female', 'Sex_male', 'Pclass_1', 'Pclass_2', 'Pclass_3', 'Embarked_C', 'Embarked_Q', 'Embarked_S')]"
      ]
     },
     "execution_count": null,
     "metadata": {},
     "output_type": "execute_result"
    }
   ],
   "source": [
    "L(inp_col).zip(features)"
   ]
  },
  {
   "cell_type": "code",
   "execution_count": null,
   "id": "eb40ef46",
   "metadata": {
    "input_tokens": 1,
    "output_tokens": 192,
    "time_run": "11:14:11a"
   },
   "outputs": [
    {
     "data": {
      "text/plain": [
       "[-0.8558459877967834,\n",
       " -0.21786043047904968,\n",
       " 0.17522841691970825,\n",
       " -0.5810353755950928,\n",
       " 2.036623001098633,\n",
       " -0.20703160762786865,\n",
       " -1.3409149646759033,\n",
       " 1.1167079210281372,\n",
       " -0.21405181288719177,\n",
       " -0.8703094720840454,\n",
       " -0.48162052035331726,\n",
       " 0.9444644451141357]"
      ]
     },
     "execution_count": null,
     "metadata": {},
     "output_type": "execute_result"
    }
   ],
   "source": [
    "features"
   ]
  },
  {
   "cell_type": "code",
   "execution_count": null,
   "id": "b4cdcf60",
   "metadata": {
    "input_tokens": 10,
    "output_tokens": 414,
    "time_run": "11:14:19a"
   },
   "outputs": [
    {
     "data": {
      "text/plain": [
       "(#12) [('Age', -0.8558459877967834),('SibSp', -0.21786043047904968),('Parch', 0.17522841691970825),('LogFare', -0.5810353755950928),('Sex_female', 2.036623001098633),('Sex_male', -0.20703160762786865),('Pclass_1', -1.3409149646759033),('Pclass_2', 1.1167079210281372),('Pclass_3', -0.21405181288719177),('Embarked_C', -0.8703094720840454),('Embarked_Q', -0.48162052035331726),('Embarked_S', 0.9444644451141357)]"
      ]
     },
     "execution_count": null,
     "metadata": {},
     "output_type": "execute_result"
    }
   ],
   "source": [
    "L(zip(inp_col, features))"
   ]
  },
  {
   "cell_type": "code",
   "execution_count": null,
   "id": "dbcb9397",
   "metadata": {
    "input_tokens": 10,
    "output_tokens": 255,
    "time_run": "11:02:03a"
   },
   "outputs": [
    {
     "data": {
      "text/plain": [
       "array([[24.,  1.,  1., ...,  1.,  0.,  0.],\n",
       "       [31.,  0.,  0., ...,  0.,  0.,  1.],\n",
       "       [20.,  0.,  0., ...,  0.,  0.,  1.],\n",
       "       ...,\n",
       "       [38.,  1.,  5., ...,  0.,  0.,  1.],\n",
       "       [17.,  0.,  0., ...,  0.,  0.,  1.],\n",
       "       [ 4.,  1.,  1., ...,  0.,  0.,  1.]])"
      ]
     },
     "execution_count": null,
     "metadata": {},
     "output_type": "execute_result"
    }
   ],
   "source": [
    "val_df[inp_col].values"
   ]
  },
  {
   "cell_type": "code",
   "execution_count": null,
   "id": "6c63be86",
   "metadata": {
    "input_tokens": 24,
    "time_run": "11:14:28a"
   },
   "outputs": [],
   "source": [
    "val_preds = predict(torch.tensor(val_df[inp_col].values), model)"
   ]
  },
  {
   "cell_type": "code",
   "execution_count": null,
   "id": "40e38c00",
   "metadata": {
    "input_tokens": 3,
    "output_tokens": 1653,
    "time_run": "11:02:52a"
   },
   "outputs": [
    {
     "data": {
      "text/plain": [
       "tensor([    -1.33,      0.67,      0.03,      1.31,     -0.91,     -0.94,      0.19,      0.11,      0.23,     -0.74,     -1.40,     -0.08,\n",
       "             0.62,     -1.46,      0.64,     -0.81,     -1.42,      0.19,      0.69,     -1.48,      0.01,     -1.41,      0.51,      0.03,\n",
       "             0.01,      0.32,     -2.89,      0.67,      0.35,      0.42,      0.04,      0.47,     -2.81,      0.46,      0.04,     -1.42,\n",
       "            -1.39,      0.19,     -2.39,      0.01,      0.77,      0.02,      0.01,     -0.25,     -1.01,      0.31,      0.04,      0.02,\n",
       "             0.01,     -2.82,     -0.76,     -0.95,      0.27,     -1.12,     -0.45,     -0.74,      0.66,     -2.42,      1.09,      0.22,\n",
       "             0.03,      1.27,      1.15,     -1.37,     -0.25,      0.99,      0.71,     -0.01,     -1.29,     -2.47,      1.24,     -2.13,\n",
       "            -2.82,     -2.33,      0.02,     -0.02,      0.16,     -2.20,      1.08,      0.53,      0.24,      1.12,     -2.34,     -0.25,\n",
       "            -2.96,     -3.04,     -2.37,     -2.40,     -1.42,      0.01,      0.24,      0.80,     -1.54,     -0.25,      0.01,     -0.01,\n",
       "            -1.45,     -0.09,      1.09,     -0.00,     -1.56,     -0.04,     -2.32,     -0.05,     -0.02,      0.04,      1.17,     -1.48,\n",
       "            -0.02,     -2.89,     -0.89,      0.03,     -2.34,     -1.42,     -1.37,      0.03,     -3.04,     -0.80,      1.26,      0.60,\n",
       "             0.85,     -2.41,     -1.08,      0.97,      0.01,     -2.86,     -1.04,     -2.81,     -0.96,      0.03,      0.19,     -1.33,\n",
       "             0.71,      0.55,     -2.90,     -0.92,     -2.37,     -0.01,     -0.07,      0.51,      0.03,      1.08,      0.68,      0.67,\n",
       "             0.50,      1.20,      0.67,      0.50,     -2.34,     -0.08,     -1.43,      0.01,      0.04,      0.22,      0.01,      0.01,\n",
       "             0.00,      0.19,      1.12,      0.26,     -1.43,     -1.37,      0.63,     -2.34,     -0.25,     -2.93,      0.71,     -0.89,\n",
       "             0.02,     -0.04,     -2.73,      1.33,     -1.42,     -0.81,      0.05,     -1.43,      0.80,      1.18,      0.66],\n",
       "       dtype=torch.float64, grad_fn=<SumBackward1>)"
      ]
     },
     "execution_count": null,
     "metadata": {},
     "output_type": "execute_result"
    }
   ],
   "source": [
    "val_preds"
   ]
  },
  {
   "cell_type": "code",
   "execution_count": null,
   "id": "cd156701",
   "metadata": {
    "input_tokens": 6,
    "output_tokens": 699,
    "time_run": "11:03:38a"
   },
   "outputs": [
    {
     "data": {
      "text/plain": [
       "tensor([False,  True,  True,  True, False, False,  True,  True,  True, False, False, False,  True, False,  True, False, False,  True,  True,\n",
       "        False,  True, False,  True,  True,  True,  True, False,  True,  True,  True,  True,  True, False,  True,  True, False, False,  True,\n",
       "        False,  True,  True,  True,  True, False, False,  True,  True,  True,  True, False, False, False,  True, False, False, False,  True,\n",
       "        False,  True,  True,  True,  True,  True, False, False,  True,  True, False, False, False,  True, False, False, False,  True, False,\n",
       "         True, False,  True,  True,  True,  True, False, False, False, False, False, False, False,  True,  True,  True, False, False,  True,\n",
       "        False, False, False,  True, False, False, False, False, False, False,  True,  True, False, False, False, False,  True, False, False,\n",
       "        False,  True, False, False,  True,  True,  True, False, False,  True,  True, False, False, False, False,  True,  True, False,  True,\n",
       "         True, False, False, False, False, False,  True,  True,  True,  True,  True,  True,  True,  True,  True, False, False, False,  True,\n",
       "         True,  True,  True,  True,  True,  True,  True,  True, False, False,  True, False, False, False,  True, False,  True, False, False,\n",
       "         True, False, False,  True, False,  True,  True,  True])"
      ]
     },
     "execution_count": null,
     "metadata": {},
     "output_type": "execute_result"
    }
   ],
   "source": [
    "val_preds>0"
   ]
  },
  {
   "cell_type": "code",
   "execution_count": null,
   "id": "66032078",
   "metadata": {
    "input_tokens": 3,
    "output_tokens": 828,
    "time_run": "11:04:44a"
   },
   "outputs": [
    {
     "data": {
      "text/plain": [
       "tensor([1, 0, 0, 1, 1, 1, 1, 0, 1, 1, 0, 0, 0, 0, 0, 1, 1, 1, 0, 0, 0, 1, 1, 0, 0, 0, 0, 1, 0, 0, 0, 1, 0, 0, 1, 0, 1, 1, 1, 0, 0, 0, 0, 0,\n",
       "        0, 0, 0, 0, 0, 0, 1, 1, 0, 1, 0, 1, 0, 1, 1, 1, 0, 1, 1, 0, 0, 0, 0, 0, 0, 1, 0, 1, 1, 1, 0, 0, 0, 1, 0, 0, 0, 1, 1, 0, 0, 0, 1, 1,\n",
       "        0, 0, 1, 0, 0, 0, 0, 0, 1, 1, 1, 0, 0, 0, 1, 0, 0, 0, 1, 0, 1, 1, 1, 0, 1, 1, 0, 0, 0, 0, 1, 0, 0, 1, 1, 1, 0, 1, 1, 0, 0, 0, 1, 1,\n",
       "        0, 1, 1, 1, 1, 0, 0, 0, 0, 0, 0, 0, 0, 1, 0, 0, 1, 0, 0, 0, 0, 1, 0, 0, 1, 1, 1, 0, 0, 1, 0, 1, 0, 0, 0, 1, 0, 0, 1, 1, 1, 0, 0, 0,\n",
       "        1, 1, 1])"
      ]
     },
     "execution_count": null,
     "metadata": {},
     "output_type": "execute_result"
    }
   ],
   "source": [
    "val_targets"
   ]
  },
  {
   "cell_type": "code",
   "execution_count": null,
   "id": "c916cf84",
   "metadata": {
    "input_tokens": 6,
    "output_tokens": 672,
    "time_run": "11:05:20a"
   },
   "outputs": [
    {
     "data": {
      "text/plain": [
       "tensor([ True, False, False,  True,  True,  True,  True, False,  True,  True, False, False, False, False, False,  True,  True,  True, False,\n",
       "        False, False,  True,  True, False, False, False, False,  True, False, False, False,  True, False, False,  True, False,  True,  True,\n",
       "         True, False, False, False, False, False, False, False, False, False, False, False,  True,  True, False,  True, False,  True, False,\n",
       "         True,  True,  True, False,  True,  True, False, False, False, False, False, False,  True, False,  True,  True,  True, False, False,\n",
       "        False,  True, False, False, False,  True,  True, False, False, False,  True,  True, False, False,  True, False, False, False, False,\n",
       "        False,  True,  True,  True, False, False, False,  True, False, False, False,  True, False,  True,  True,  True, False,  True,  True,\n",
       "        False, False, False, False,  True, False, False,  True,  True,  True, False,  True,  True, False, False, False,  True,  True, False,\n",
       "         True,  True,  True,  True, False, False, False, False, False, False, False, False,  True, False, False,  True, False, False, False,\n",
       "        False,  True, False, False,  True,  True,  True, False, False,  True, False,  True, False, False, False,  True, False, False,  True,\n",
       "         True,  True, False, False, False,  True,  True,  True])"
      ]
     },
     "execution_count": null,
     "metadata": {},
     "output_type": "execute_result"
    }
   ],
   "source": [
    "val_targets.bool()"
   ]
  },
  {
   "cell_type": "code",
   "execution_count": null,
   "id": "5aefdcb5",
   "metadata": {
    "input_tokens": 19,
    "output_tokens": 706,
    "time_run": "11:07:12a"
   },
   "outputs": [
    {
     "data": {
      "text/plain": [
       "tensor([False, False,  True,  True, False, False, False,  True, False, False,  True,  True, False,  True, False, False, False, False, False,\n",
       "         True,  True, False,  True,  True,  True,  True,  True,  True,  True,  True,  True, False,  True,  True, False,  True, False, False,\n",
       "        False,  True, False,  True,  True,  True,  True,  True,  True,  True,  True,  True, False, False,  True, False,  True, False, False,\n",
       "        False,  True, False,  True,  True,  True,  True,  True, False, False,  True,  True, False, False, False, False, False,  True,  True,\n",
       "         True, False, False, False,  True,  True, False,  True,  True,  True, False, False,  True,  True, False, False,  True,  True,  True,\n",
       "         True, False, False,  True,  True,  True,  True, False,  True,  True,  True,  True,  True, False, False, False,  True, False, False,\n",
       "         True,  True,  True,  True,  True, False, False, False, False,  True,  True, False, False,  True,  True,  True, False, False, False,\n",
       "         True, False, False, False,  True,  True, False,  True, False, False, False, False,  True, False, False, False,  True,  True,  True,\n",
       "         True, False,  True,  True, False, False,  True,  True,  True, False, False, False,  True,  True, False, False,  True,  True, False,\n",
       "         True, False,  True,  True,  True,  True,  True,  True])"
      ]
     },
     "execution_count": null,
     "metadata": {},
     "output_type": "execute_result"
    }
   ],
   "source": [
    "val_targets.bool() == (val_preds>0.5)"
   ]
  },
  {
   "cell_type": "code",
   "execution_count": null,
   "id": "cbdfc45d",
   "metadata": {
    "input_tokens": 22,
    "time_run": "11:14:41a"
   },
   "outputs": [],
   "source": [
    "res = val_targets.bool() == (val_preds>0.5)"
   ]
  },
  {
   "cell_type": "code",
   "execution_count": null,
   "id": "c87c6e0c",
   "metadata": {
    "input_tokens": 1,
    "output_tokens": 706,
    "time_run": "11:07:37a"
   },
   "outputs": [
    {
     "data": {
      "text/plain": [
       "tensor([False, False,  True,  True, False, False, False,  True, False, False,  True,  True, False,  True, False, False, False, False, False,\n",
       "         True,  True, False,  True,  True,  True,  True,  True,  True,  True,  True,  True, False,  True,  True, False,  True, False, False,\n",
       "        False,  True, False,  True,  True,  True,  True,  True,  True,  True,  True,  True, False, False,  True, False,  True, False, False,\n",
       "        False,  True, False,  True,  True,  True,  True,  True, False, False,  True,  True, False, False, False, False, False,  True,  True,\n",
       "         True, False, False, False,  True,  True, False,  True,  True,  True, False, False,  True,  True, False, False,  True,  True,  True,\n",
       "         True, False, False,  True,  True,  True,  True, False,  True,  True,  True,  True,  True, False, False, False,  True, False, False,\n",
       "         True,  True,  True,  True,  True, False, False, False, False,  True,  True, False, False,  True,  True,  True, False, False, False,\n",
       "         True, False, False, False,  True,  True, False,  True, False, False, False, False,  True, False, False, False,  True,  True,  True,\n",
       "         True, False,  True,  True, False, False,  True,  True,  True, False, False, False,  True,  True, False, False,  True,  True, False,\n",
       "         True, False,  True,  True,  True,  True,  True,  True])"
      ]
     },
     "execution_count": null,
     "metadata": {},
     "output_type": "execute_result"
    }
   ],
   "source": [
    "res"
   ]
  },
  {
   "cell_type": "code",
   "execution_count": null,
   "id": "086880c6",
   "metadata": {
    "input_tokens": 12,
    "output_tokens": 22,
    "time_run": "11:14:46a"
   },
   "outputs": [
    {
     "data": {
      "text/plain": [
       "tensor(0.63)"
      ]
     },
     "execution_count": null,
     "metadata": {},
     "output_type": "execute_result"
    }
   ],
   "source": [
    "res.sum()/res.shape[0]"
   ]
  },
  {
   "cell_type": "code",
   "execution_count": null,
   "id": "bba620bc",
   "metadata": {
    "input_tokens": 7,
    "output_tokens": 16,
    "time_run": "11:08:55a"
   },
   "outputs": [
    {
     "data": {
      "text/plain": [
       "179"
      ]
     },
     "execution_count": null,
     "metadata": {},
     "output_type": "execute_result"
    }
   ],
   "source": [
    "res.shape[0]"
   ]
  },
  {
   "cell_type": "code",
   "execution_count": null,
   "id": "d828ffcc",
   "metadata": {
    "input_tokens": 7,
    "output_tokens": 22,
    "time_run": "11:14:59a"
   },
   "outputs": [
    {
     "data": {
      "text/plain": [
       "tensor(0.63)"
      ]
     },
     "execution_count": null,
     "metadata": {},
     "output_type": "execute_result"
    }
   ],
   "source": [
    "res.float().mean()"
   ]
  },
  {
   "cell_type": "code",
   "execution_count": null,
   "id": "ed663e81",
   "metadata": {
    "input_tokens": 42,
    "time_run": "11:24:04a"
   },
   "outputs": [],
   "source": [
    "def acc(preds, targets, thresh=0.5): return ((preds > thresh) == targets.bool()).float().mean()"
   ]
  },
  {
   "cell_type": "code",
   "execution_count": null,
   "id": "57312497",
   "metadata": {
    "input_tokens": 10,
    "output_tokens": 22,
    "time_run": "11:30:35a"
   },
   "outputs": [
    {
     "data": {
      "text/plain": [
       "tensor(0.58)"
      ]
     },
     "execution_count": null,
     "metadata": {},
     "output_type": "execute_result"
    }
   ],
   "source": [
    "acc(val_preds, val_targets)"
   ]
  },
  {
   "cell_type": "code",
   "execution_count": null,
   "id": "d48281d8",
   "metadata": {
    "input_tokens": 3,
    "output_tokens": 1653,
    "time_run": "11:16:15a"
   },
   "outputs": [
    {
     "data": {
      "text/plain": [
       "tensor([    -1.89,      1.23,      0.05,      3.69,      0.47,      0.87,      0.83,     -0.09,      0.92,      1.14,     -1.52,     -0.24,\n",
       "             2.01,     -1.87,      1.15,      1.10,     -1.58,      0.82,      1.25,     -1.58,      0.01,     -1.36,      2.26,      0.04,\n",
       "            -0.05,     -0.04,     -3.25,      1.21,      0.03,      2.17,      0.07,      2.28,     -3.07,      2.25,      0.08,     -1.96,\n",
       "            -1.32,      0.83,     -0.90,      0.01,      1.04,     -0.10,      0.00,     -1.42,      0.16,      0.01,      0.06,      0.00,\n",
       "             0.02,     -3.54,      0.50,      0.52,     -0.22,     -1.22,     -1.91,      1.04,      1.21,     -1.32,      3.35,      0.88,\n",
       "             0.04,      3.66,      3.36,     -1.24,     -1.42,      3.16,      1.15,     -0.05,     -1.74,     -1.31,      3.42,     -1.01,\n",
       "            -3.09,     -1.13,      0.02,     -0.26,      0.75,     -0.78,      3.36,      2.02,     -0.24,      3.49,     -1.19,     -1.42,\n",
       "            -3.45,     -3.68,     -1.10,     -0.96,     -1.06,      0.01,      0.17,      2.15,     -1.70,     -1.42,      0.01,     -0.04,\n",
       "            -1.65,     -0.25,      3.39,     -0.03,     -1.72,     -0.12,     -0.93,     -0.15,     -0.07,     -0.06,      3.21,     -1.55,\n",
       "            -0.08,     -3.26,      0.88,      0.06,     -0.99,     -1.38,     -1.46,      0.03,     -3.65,     -0.67,      3.46,      1.87,\n",
       "             1.24,     -1.01,      0.37,      1.56,      0.00,     -3.19,      0.71,     -3.16,      0.32,      0.04,      0.82,     -1.89,\n",
       "             1.56,      2.44,     -3.49,      0.43,     -0.96,     -0.05,     -0.21,      2.19,      0.04,      3.17,      1.24,      1.01,\n",
       "             0.69,      3.30,      1.22,      0.80,     -1.04,     -0.22,     -1.82,      0.01,      0.08,      0.66,      0.00,      0.02,\n",
       "            -0.19,      0.83,      3.27,      0.64,     -1.79,     -1.24,      1.11,     -0.98,     -1.43,     -3.60,      1.32,      0.88,\n",
       "             0.03,     -0.12,     -3.09,      3.68,     -1.38,      0.53,      0.10,     -1.80,      2.07,      3.64,      2.40],\n",
       "       dtype=torch.float64, grad_fn=<SumBackward1>)"
      ]
     },
     "execution_count": null,
     "metadata": {},
     "output_type": "execute_result"
    }
   ],
   "source": [
    "val_preds"
   ]
  },
  {
   "cell_type": "code",
   "execution_count": null,
   "id": "bde9231c",
   "metadata": {
    "input_tokens": 9,
    "output_tokens": 1395,
    "time_run": "11:24:13a"
   },
   "outputs": [
    {
     "data": {
      "text/plain": [
       "tensor([0.36, 0.49, 0.53, 0.66, 0.50, 0.74, 0.71, 0.49, 0.72, 0.72, 0.58, 0.49, 0.58, 0.37, 0.49, 0.74, 0.57, 0.71, 0.50, 0.59, 0.52, 0.60,\n",
       "        0.63, 0.53, 0.53, 0.47, 0.45, 0.50, 0.48, 0.64, 0.53, 0.65, 0.47, 0.65, 0.53, 0.36, 0.61, 0.71, 0.59, 0.52, 0.48, 0.49, 0.52, 0.60,\n",
       "        0.47, 0.51, 0.53, 0.53, 0.52, 0.43, 0.48, 0.68, 0.47, 0.62, 0.54, 0.74, 0.49, 0.58, 0.62, 0.72, 0.53, 0.65, 0.61, 0.62, 0.60, 0.58,\n",
       "        0.53, 0.52, 0.36, 0.54, 0.61, 0.57, 0.47, 0.56, 0.53, 0.49, 0.70, 0.60, 0.61, 0.62, 0.44, 0.62, 0.56, 0.60, 0.43, 0.41, 0.58, 0.60,\n",
       "        0.55, 0.52, 0.55, 0.57, 0.57, 0.60, 0.52, 0.52, 0.56, 0.49, 0.62, 0.52, 0.56, 0.51, 0.59, 0.50, 0.51, 0.50, 0.59, 0.59, 0.52, 0.45,\n",
       "        0.71, 0.53, 0.59, 0.60, 0.64, 0.53, 0.41, 0.35, 0.61, 0.59, 0.45, 0.60, 0.67, 0.54, 0.52, 0.45, 0.70, 0.48, 0.48, 0.53, 0.71, 0.36,\n",
       "        0.47, 0.68, 0.42, 0.50, 0.62, 0.52, 0.50, 0.64, 0.53, 0.59, 0.50, 0.47, 0.68, 0.60, 0.50, 0.44, 0.59, 0.50, 0.38, 0.52, 0.53, 0.70,\n",
       "        0.52, 0.52, 0.55, 0.71, 0.60, 0.68, 0.38, 0.62, 0.48, 0.59, 0.60, 0.42, 0.51, 0.71, 0.53, 0.51, 0.48, 0.63, 0.60, 0.50, 0.53, 0.38,\n",
       "        0.59, 0.64, 0.65], dtype=torch.float64, grad_fn=<SigmoidBackward0>)"
      ]
     },
     "execution_count": null,
     "metadata": {},
     "output_type": "execute_result"
    }
   ],
   "source": [
    "val_preds.sigmoid_()"
   ]
  },
  {
   "cell_type": "code",
   "execution_count": null,
   "id": "e3936214",
   "metadata": {
    "input_tokens": 15,
    "output_tokens": 22,
    "time_run": "11:30:43a"
   },
   "outputs": [
    {
     "data": {
      "text/plain": [
       "tensor(0.62)"
      ]
     },
     "execution_count": null,
     "metadata": {},
     "output_type": "execute_result"
    }
   ],
   "source": [
    "acc(val_preds.sigmoid_(), val_targets)"
   ]
  },
  {
   "cell_type": "code",
   "execution_count": null,
   "id": "22c2cb98",
   "metadata": {
    "input_tokens": 36,
    "time_run": "11:19:47a"
   },
   "outputs": [
    {
     "ename": "IndexError",
     "evalue": "list index out of range",
     "output_type": "error",
     "traceback": [
      "Traceback (most recent call last):\n",
      "  File \"/usr/local/lib/python3.11/site-packages/IPython/core/interactiveshell.py\", line 3667, in run_code\n    exec(code_obj, self.user_global_ns, self.user_ns)\n",
      "  File \"<ipython-input-1-b8fa0dede644>\", line 2, in <module>\n    sympy.plot(\"1/(1 + exp(-x))\", xlim=(-5,5));\n    ^^^^^^^^^^^^^^^^^^^^^^^^^^^^^^^^^^^^^^^^^^\n",
      "  File \"/usr/local/lib/python3.11/site-packages/sympy/plotting/plot.py\", line 398, in plot\n    plot_expr = _check_arguments(args, 1, 1, **kwargs)\n                ^^^^^^^^^^^^^^^^^^^^^^^^^^^^^^^^^^^^^^\n",
      "  File \"/usr/local/lib/python3.11/site-packages/sympy/plotting/utils.py\", line 296, in _check_arguments\n    if not isinstance(new_args[0], (list, tuple, Tuple)):\n                      ~~~~~~~~^^^\n",
      "IndexError: list index out of range\n"
     ]
    }
   ],
   "source": [
    "import sympy\n",
    "sympy.plot(\"1/(1 + exp(-x))\", xlim=(-5,5));"
   ]
  },
  {
   "cell_type": "markdown",
   "id": "aa106ee7",
   "metadata": {
    "input_tokens": 45,
    "output_tokens": 858,
    "solveit_ai": true
   },
   "source": [
    "let put all the in simle concise fucntion including Initialize predition and accuray using the fucntion we have made above...\n",
    "\n",
    "##### 🤖Reply🤖<!-- SOLVEIT_SEPARATOR_7f3a9b2c -->\n",
    "\n",
    "I'll create a simple and concise set of functions for our prediction model, following the fast.ai style:\n",
    "\n",
    "```python\n",
    "def normalize_features(X):\n",
    "    \"Normalize features by dividing by max value in each column\"\n",
    "    return X / X.max(dim=0)[0]\n",
    "\n",
    "def predict(X, coffs):\n",
    "    \"Make predictions using normalized features and coefficients\"\n",
    "    norm_X = normalize_features(X)\n",
    "    return (norm_X * coffs).sum(axis=1)\n",
    "\n",
    "def calc_loss(preds, targets):\n",
    "    \"Calculate mean absolute error\"\n",
    "    return torch.abs(preds - targets).mean()\n",
    "\n",
    "def acc(preds, targets, thresh=0.5):\n",
    "    \"Calculate accuracy of predictions\"\n",
    "    return ((preds > thresh) == targets.bool()).float().mean()\n",
    "\n",
    "def train_step(X, y, coffs, lr=0.1):\n",
    "    \"Perform one training step\"\n",
    "    preds = predict(X, coffs)\n",
    "    loss = calc_loss(preds, y)\n",
    "    loss.backward()\n",
    "    with torch.no_grad():\n",
    "        coffs.data -= lr * coffs.grad\n",
    "        coffs.grad.zero_()\n",
    "    return loss.item()\n",
    "\n",
    "def train_model(X, y, coffs, epochs=10, lr=0.1):\n",
    "    \"Train model for specified number of epochs\"\n",
    "    losses = []\n",
    "    for epoch in range(epochs):\n",
    "        loss = train_step(X, y, coffs, lr)\n",
    "        losses.append(loss)\n",
    "        print(f\"Epoch {epoch+1}, Loss: {loss:.4f}\")\n",
    "    return coffs\n",
    "\n",
    "def evaluate_model(X, y, coffs):\n",
    "    \"Evaluate model on given data\"\n",
    "    preds = predict(X, coffs)\n",
    "    loss = calc_loss(preds, y)\n",
    "    accuracy = acc(preds, y)\n",
    "    return {'loss': loss.item(), 'accuracy': accuracy.item(), 'predictions': preds}\n",
    "```\n",
    "\n",
    "Now let's create a simple function to run the entire workflow:\n",
    "\n",
    "```python\n",
    "def run_model(train_data, train_targets, val_data, val_targets, epochs=20, lr=0.1):\n",
    "    \"Initialize, train and evaluate model in one function\"\n",
    "    coffs = torch.randn(train_data.shape[1], requires_grad=True)\n",
    "    trained_coffs = train_model(train_data, train_targets, coffs, epochs, lr)\n",
    "    train_results = evaluate_model(train_data, train_targets, trained_coffs)\n",
    "    val_results = evaluate_model(val_data, val_targets, trained_coffs)\n",
    "    print(f\"Training Loss: {train_results['loss']:.4f}, Accuracy: {train_results['accuracy']:.4f}\")\n",
    "    print(f\"Validation Loss: {val_results['loss']:.4f}, Accuracy: {val_results['accuracy']:.4f}\")\n",
    "    return trained_coffs, train_results, val_results\n",
    "```"
   ]
  },
  {
   "cell_type": "code",
   "execution_count": null,
   "id": "92918679",
   "metadata": {
    "input_tokens": 529,
    "time_run": "1:34:43p"
   },
   "outputs": [],
   "source": [
    "def normalize_features(X):\n",
    "    \"Normalize features by dividing by max value in each column\"\n",
    "    return X / X.max(dim=0)[0]\n",
    "\n",
    "def predict(X, coffs):\n",
    "    \"Make predictions using normalized features and coefficients\"\n",
    "    norm_X = normalize_features(X)\n",
    "    return torch.sigmoid(norm_X @ coffs)\n",
    "\n",
    "def calc_loss(preds, targets):\n",
    "    \"Calculate mean absolute error\"\n",
    "    return torch.abs(preds - targets).mean()\n",
    "\n",
    "def acc(preds, targets, thresh=0.5):\n",
    "    \"Calculate accuracy of predictions\"\n",
    "    return ((preds > thresh) == targets.bool()).float().mean()\n",
    "\n",
    "def train_step(X, y, coffs, lr=0.1):\n",
    "    \"Perform one training step\"\n",
    "    preds = predict(X, coffs)\n",
    "    loss = calc_loss(preds, y)\n",
    "    loss.backward()\n",
    "    with torch.no_grad():\n",
    "        coffs.data -= lr * coffs.grad\n",
    "        coffs.grad.zero_()\n",
    "    return loss.item()\n",
    "\n",
    "def train_model(X, y, coffs, epochs=10, lr=0.1):\n",
    "    \"Train model for specified number of epochs\"\n",
    "    losses = []\n",
    "    for epoch in range(epochs):\n",
    "        loss = train_step(X, y, coffs, lr)\n",
    "        losses.append(loss)\n",
    "        print(f\"Epoch {epoch+1}, Loss: {loss:.4f}\")\n",
    "    return coffs\n",
    "\n",
    "def evaluate_model(X, y, coffs):\n",
    "    \"Evaluate model on given data\"\n",
    "    preds = predict(X, coffs)\n",
    "    loss = calc_loss(preds, y)\n",
    "    accuracy = acc(preds, y)\n",
    "    return {'loss': loss.item(), 'accuracy': accuracy.item(), 'predictions': preds}\n"
   ]
  },
  {
   "cell_type": "code",
   "execution_count": null,
   "id": "2e6c8588",
   "metadata": {
    "input_tokens": 276,
    "time_run": "1:37:27p"
   },
   "outputs": [],
   "source": [
    "def run_model(train_data, train_targets, val_data, val_targets, epochs=20, lr=0.1):\n",
    "    \"Initialize, train and evaluate model in one function\"\n",
    "    coffs = torch.randn(train_data.shape[1], requires_grad=True)\n",
    "    coffs = coffs[:, None]\n",
    "    trained_coffs = train_model(train_data, train_targets, coffs, epochs, lr)\n",
    "    train_results = evaluate_model(train_data, train_targets, trained_coffs)\n",
    "    val_results = evaluate_model(val_data, val_targets, trained_coffs)\n",
    "    print(f\"Training Loss: {train_results['loss']:.4f}, Accuracy: {train_results['accuracy']:.4f}\")\n",
    "    print(f\"Validation Loss: {val_results['loss']:.4f}, Accuracy: {val_results['accuracy']:.4f}\")\n",
    "    return trained_coffs, train_results, val_results\n"
   ]
  },
  {
   "cell_type": "code",
   "execution_count": null,
   "id": "dcdb77c3",
   "metadata": {
    "input_tokens": 138,
    "output_tokens": 969,
    "time_run": "1:37:38p"
   },
   "outputs": [
    {
     "name": "stdout",
     "output_type": "stream",
     "text": [
      "\u001b[31m---------------------------------------------------------------------------\u001b[39m\n",
      "\u001b[31mTypeError\u001b[39m                                 Traceback (most recent call last)\n",
      "\u001b[36mCell\u001b[39m\u001b[36m \u001b[39m\u001b[32mIn[1]\u001b[39m\u001b[32m, line 1\u001b[39m\n",
      "\u001b[32m----> \u001b[39m\u001b[32m1\u001b[39m trained_model, train_results, val_results = \u001b[43mrun_model\u001b[49m\u001b[43m(\u001b[49m\n",
      "\u001b[32m      2\u001b[39m \u001b[43m    \u001b[49m\u001b[43mtorch\u001b[49m\u001b[43m.\u001b[49m\u001b[43mtensor\u001b[49m\u001b[43m(\u001b[49m\u001b[43mtrain_df\u001b[49m\u001b[43m[\u001b[49m\u001b[43minp_col\u001b[49m\u001b[43m]\u001b[49m\u001b[43m.\u001b[49m\u001b[43mvalues\u001b[49m\u001b[43m,\u001b[49m\u001b[43m \u001b[49m\u001b[43mdtype\u001b[49m\u001b[43m=\u001b[49m\u001b[43mtorch\u001b[49m\u001b[43m.\u001b[49m\u001b[43mfloat32\u001b[49m\u001b[43m)\u001b[49m\u001b[43m,\u001b[49m\n",
      "\u001b[32m      3\u001b[39m \u001b[43m    \u001b[49m\u001b[43mtorch\u001b[49m\u001b[43m.\u001b[49m\u001b[43mtensor\u001b[49m\u001b[43m(\u001b[49m\u001b[43mtrain_df\u001b[49m\u001b[43m[\u001b[49m\u001b[33;43m'\u001b[39;49m\u001b[33;43mSurvived\u001b[39;49m\u001b[33;43m'\u001b[39;49m\u001b[43m]\u001b[49m\u001b[43m.\u001b[49m\u001b[43mvalues\u001b[49m\u001b[43m,\u001b[49m\u001b[43m \u001b[49m\u001b[43mdtype\u001b[49m\u001b[43m=\u001b[49m\u001b[43mtorch\u001b[49m\u001b[43m.\u001b[49m\u001b[43mfloat32\u001b[49m\u001b[43m)\u001b[49m\u001b[43m,\u001b[49m\n",
      "\u001b[32m      4\u001b[39m \u001b[43m    \u001b[49m\u001b[43mtorch\u001b[49m\u001b[43m.\u001b[49m\u001b[43mtensor\u001b[49m\u001b[43m(\u001b[49m\u001b[43mval_df\u001b[49m\u001b[43m[\u001b[49m\u001b[43minp_col\u001b[49m\u001b[43m]\u001b[49m\u001b[43m.\u001b[49m\u001b[43mvalues\u001b[49m\u001b[43m,\u001b[49m\u001b[43m \u001b[49m\u001b[43mdtype\u001b[49m\u001b[43m=\u001b[49m\u001b[43mtorch\u001b[49m\u001b[43m.\u001b[49m\u001b[43mfloat32\u001b[49m\u001b[43m)\u001b[49m\u001b[43m,\u001b[49m\n",
      "\u001b[32m      5\u001b[39m \u001b[43m    \u001b[49m\u001b[43mtorch\u001b[49m\u001b[43m.\u001b[49m\u001b[43mtensor\u001b[49m\u001b[43m(\u001b[49m\u001b[43mval_df\u001b[49m\u001b[43m[\u001b[49m\u001b[33;43m'\u001b[39;49m\u001b[33;43mSurvived\u001b[39;49m\u001b[33;43m'\u001b[39;49m\u001b[43m]\u001b[49m\u001b[43m.\u001b[49m\u001b[43mvalues\u001b[49m\u001b[43m,\u001b[49m\u001b[43m \u001b[49m\u001b[43mdtype\u001b[49m\u001b[43m=\u001b[49m\u001b[43mtorch\u001b[49m\u001b[43m.\u001b[49m\u001b[43mfloat32\u001b[49m\u001b[43m)\u001b[49m\u001b[43m,\u001b[49m\n",
      "\u001b[32m      6\u001b[39m \u001b[43m    \u001b[49m\u001b[43mepochs\u001b[49m\u001b[43m=\u001b[49m\u001b[32;43m15\u001b[39;49m\u001b[43m,\u001b[49m\n",
      "\u001b[32m      7\u001b[39m \u001b[43m    \u001b[49m\u001b[43mlr\u001b[49m\u001b[43m=\u001b[49m\u001b[32;43m0.2\u001b[39;49m\n",
      "\u001b[32m      8\u001b[39m \u001b[43m)\u001b[49m\n",
      "\n",
      "\u001b[36mCell\u001b[39m\u001b[36m \u001b[39m\u001b[32mIn[1]\u001b[39m\u001b[32m, line 5\u001b[39m, in \u001b[36mrun_model\u001b[39m\u001b[34m(train_data, train_targets, val_data, val_targets, epochs, lr)\u001b[39m\n",
      "\u001b[32m      3\u001b[39m coffs = torch.randn(train_data.shape[\u001b[32m1\u001b[39m], requires_grad=\u001b[38;5;28;01mTrue\u001b[39;00m)\n",
      "\u001b[32m      4\u001b[39m coffs = coffs[:, \u001b[38;5;28;01mNone\u001b[39;00m]\n",
      "\u001b[32m----> \u001b[39m\u001b[32m5\u001b[39m trained_coffs = \u001b[43mtrain_model\u001b[49m\u001b[43m(\u001b[49m\u001b[43mtrain_data\u001b[49m\u001b[43m,\u001b[49m\u001b[43m \u001b[49m\u001b[43mtrain_targets\u001b[49m\u001b[43m,\u001b[49m\u001b[43m \u001b[49m\u001b[43mcoffs\u001b[49m\u001b[43m,\u001b[49m\u001b[43m \u001b[49m\u001b[43mepochs\u001b[49m\u001b[43m,\u001b[49m\u001b[43m \u001b[49m\u001b[43mlr\u001b[49m\u001b[43m)\u001b[49m\n",
      "\u001b[32m      6\u001b[39m train_results = evaluate_model(train_data, train_targets, trained_coffs)\n",
      "\u001b[32m      7\u001b[39m val_results = evaluate_model(val_data, val_targets, trained_coffs)\n",
      "\n",
      "\u001b[36mCell\u001b[39m\u001b[36m \u001b[39m\u001b[32mIn[1]\u001b[39m\u001b[32m, line 32\u001b[39m, in \u001b[36mtrain_model\u001b[39m\u001b[34m(X, y, coffs, epochs, lr)\u001b[39m\n",
      "\u001b[32m     30\u001b[39m losses = []\n",
      "\u001b[32m     31\u001b[39m \u001b[38;5;28;01mfor\u001b[39;00m epoch \u001b[38;5;129;01min\u001b[39;00m \u001b[38;5;28mrange\u001b[39m(epochs):\n",
      "\u001b[32m---> \u001b[39m\u001b[32m32\u001b[39m     loss = \u001b[43mtrain_step\u001b[49m\u001b[43m(\u001b[49m\u001b[43mX\u001b[49m\u001b[43m,\u001b[49m\u001b[43m \u001b[49m\u001b[43my\u001b[49m\u001b[43m,\u001b[49m\u001b[43m \u001b[49m\u001b[43mcoffs\u001b[49m\u001b[43m,\u001b[49m\u001b[43m \u001b[49m\u001b[43mlr\u001b[49m\u001b[43m)\u001b[49m\n",
      "\u001b[32m     33\u001b[39m     losses.append(loss)\n",
      "\u001b[32m     34\u001b[39m     \u001b[38;5;28mprint\u001b[39m(\u001b[33mf\u001b[39m\u001b[33m\"\u001b[39m\u001b[33mEpoch \u001b[39m\u001b[38;5;132;01m{\u001b[39;00mepoch+\u001b[32m1\u001b[39m\u001b[38;5;132;01m}\u001b[39;00m\u001b[33m, Loss: \u001b[39m\u001b[38;5;132;01m{\u001b[39;00mloss\u001b[38;5;132;01m:\u001b[39;00m\u001b[33m.4f\u001b[39m\u001b[38;5;132;01m}\u001b[39;00m\u001b[33m\"\u001b[39m)\n",
      "\n",
      "\u001b[36mCell\u001b[39m\u001b[36m \u001b[39m\u001b[32mIn[1]\u001b[39m\u001b[32m, line 24\u001b[39m, in \u001b[36mtrain_step\u001b[39m\u001b[34m(X, y, coffs, lr)\u001b[39m\n",
      "\u001b[32m     22\u001b[39m loss.backward()\n",
      "\u001b[32m     23\u001b[39m \u001b[38;5;28;01mwith\u001b[39;00m torch.no_grad():\n",
      "\u001b[32m---> \u001b[39m\u001b[32m24\u001b[39m     coffs.data -= \u001b[43mlr\u001b[49m\u001b[43m \u001b[49m\u001b[43m*\u001b[49m\u001b[43m \u001b[49m\u001b[43mcoffs\u001b[49m\u001b[43m.\u001b[49m\u001b[43mgrad\u001b[49m\n",
      "\u001b[32m     25\u001b[39m     coffs.grad.zero_()\n",
      "\u001b[32m     26\u001b[39m \u001b[38;5;28;01mreturn\u001b[39;00m loss.item()\n",
      "\n",
      "\u001b[31mTypeError\u001b[39m: unsupported operand type(s) for *: 'float' and 'NoneType'\n"
     ]
    },
    {
     "name": "stderr",
     "output_type": "stream",
     "text": [
      "<ipython-input-1-85d071fa55db>:24: UserWarning: The .grad attribute of a Tensor that is not a leaf Tensor is being accessed. Its .grad attribute won't be populated during autograd.backward(). If you indeed want the .grad field to be populated for a non-leaf Tensor, use .retain_grad() on the non-leaf Tensor. If you access the non-leaf Tensor by mistake, make sure you access the leaf Tensor instead. See github.com/pytorch/pytorch/pull/30531 for more informations. (Triggered internally at /pytorch/build/aten/src/ATen/core/TensorBody.h:489.)\n",
      "  coffs.data -= lr * coffs.grad\n"
     ]
    },
    {
     "ename": "TypeError",
     "evalue": "unsupported operand type(s) for *: 'float' and 'NoneType'",
     "output_type": "error",
     "traceback": [
      "Traceback (most recent call last):\n",
      "  File \"/usr/local/lib/python3.11/site-packages/IPython/core/interactiveshell.py\", line 3667, in run_code\n    exec(code_obj, self.user_global_ns, self.user_ns)\n",
      "  File \"<ipython-input-1-9c1c94a9bd83>\", line 1, in <module>\n    trained_model, train_results, val_results = run_model(\n                                                ^^^^^^^^^^\n",
      "  File \"<ipython-input-1-9c6e9f41fbb4>\", line 5, in run_model\n    trained_coffs = train_model(train_data, train_targets, coffs, epochs, lr)\n                    ^^^^^^^^^^^^^^^^^^^^^^^^^^^^^^^^^^^^^^^^^^^^^^^^^^^^^^^^^\n",
      "  File \"<ipython-input-1-85d071fa55db>\", line 32, in train_model\n    loss = train_step(X, y, coffs, lr)\n           ^^^^^^^^^^^^^^^^^^^^^^^^^^^\n",
      "  File \"<ipython-input-1-85d071fa55db>\", line 24, in train_step\n    coffs.data -= lr * coffs.grad\n                  ~~~^~~~~~~~~~~~\n",
      "TypeError: unsupported operand type(s) for *: 'float' and 'NoneType'\n"
     ]
    }
   ],
   "source": [
    "\n",
    "trained_model, train_results, val_results = run_model(\n",
    "    torch.tensor(train_df[inp_col].values, dtype=torch.float32),\n",
    "    torch.tensor(train_df['Survived'].values, dtype=torch.float32),\n",
    "    torch.tensor(val_df[inp_col].values, dtype=torch.float32),\n",
    "    torch.tensor(val_df['Survived'].values, dtype=torch.float32),\n",
    "    epochs=15,\n",
    "    lr=0.2\n",
    ")"
   ]
  },
  {
   "cell_type": "markdown",
   "id": "fbd75e49",
   "metadata": {
    "input_tokens": 7,
    "output_tokens": 964,
    "solveit_ai": true
   },
   "source": [
    "please help me fix it\n",
    "\n",
    "##### 🤖Reply🤖<!-- SOLVEIT_SEPARATOR_7f3a9b2c -->\n",
    "\n",
    "There are a couple of issues to fix in our code. The main problem is that we're trying to reshape the coefficients to a column vector with `coffs[:, None]`, but this creates a non-leaf tensor which doesn't properly accumulate gradients.\n",
    "\n",
    "Let's fix the functions:\n",
    "\n",
    "```python\n",
    "def normalize_features(X):\n",
    "    \"Normalize features by dividing by max value in each column\"\n",
    "    return X / X.max(dim=0)[0]\n",
    "\n",
    "def predict(X, coffs):\n",
    "    \"Make predictions using normalized features and coefficients\"\n",
    "    norm_X = normalize_features(X)\n",
    "    return torch.sigmoid(norm_X @ coffs)\n",
    "\n",
    "def calc_loss(preds, targets):\n",
    "    \"Calculate mean absolute error\"\n",
    "    return torch.abs(preds - targets).mean()\n",
    "\n",
    "def acc(preds, targets, thresh=0.5):\n",
    "    \"Calculate accuracy of predictions\"\n",
    "    return ((preds > thresh) == targets.bool()).float().mean()\n",
    "\n",
    "def train_step(X, y, coffs, lr=0.1):\n",
    "    \"Perform one training step\"\n",
    "    preds = predict(X, coffs)\n",
    "    loss = calc_loss(preds, y)\n",
    "    loss.backward()\n",
    "    with torch.no_grad():\n",
    "        coffs.data -= lr * coffs.grad\n",
    "        coffs.grad.zero_()\n",
    "    return loss.item()\n",
    "\n",
    "def train_model(X, y, coffs, epochs=10, lr=0.1):\n",
    "    \"Train model for specified number of epochs\"\n",
    "    losses = []\n",
    "    for epoch in range(epochs):\n",
    "        loss = train_step(X, y, coffs, lr)\n",
    "        losses.append(loss)\n",
    "        print(f\"Epoch {epoch+1}, Loss: {loss:.4f}\")\n",
    "    return coffs\n",
    "\n",
    "def evaluate_model(X, y, coffs):\n",
    "    \"Evaluate model on given data\"\n",
    "    preds = predict(X, coffs)\n",
    "    loss = calc_loss(preds, y)\n",
    "    accuracy = acc(preds, y)\n",
    "    return dict(loss=loss.item(), accuracy=accuracy.item(), predictions=preds)\n",
    "\n",
    "def run_model(train_data, train_targets, val_data, val_targets, epochs=20, lr=0.1):\n",
    "    \"Initialize, train and evaluate model in one function\"\n",
    "    coffs = torch.randn(train_data.shape[1], requires_grad=True)\n",
    "    trained_coffs = train_model(train_data, train_targets, coffs, epochs, lr)\n",
    "    train_results = evaluate_model(train_data, train_targets, trained_coffs)\n",
    "    val_results = evaluate_model(val_data, val_targets, trained_coffs)\n",
    "    print(f\"Training Loss: {train_results['loss']:.4f}, Accuracy: {train_results['accuracy']:.4f}\")\n",
    "    print(f\"Validation Loss: {val_results['loss']:.4f}, Accuracy: {val_results['accuracy']:.4f}\")\n",
    "    return trained_coffs, train_results, val_results\n",
    "```\n",
    "\n",
    "The key changes:\n",
    "1. Removed the unnecessary reshaping `coffs[:, None]` which was causing gradient issues\n",
    "2. Used matrix multiplication with `@` in the predict function instead of element-wise multiplication\n",
    "3. Changed the dictionary creation to use the `dict()` constructor for consistency"
   ]
  },
  {
   "cell_type": "code",
   "execution_count": null,
   "id": "60b03bf3",
   "metadata": {
    "input_tokens": 3,
    "output_tokens": 1464,
    "time_run": "1:35:28p"
   },
   "outputs": [
    {
     "data": {
      "text/plain": [
       "{'loss': 0.3326796293258667,\n",
       " 'accuracy': 0.7374301552772522,\n",
       " 'predictions': tensor([0.21, 0.21, 0.05, 0.78, 0.73, 0.32, 0.89, 0.04, 0.90, 0.28, 0.04, 0.04, 0.27, 0.21, 0.21, 0.30, 0.03, 0.89, 0.22, 0.04, 0.05, 0.04,\n",
       "         0.30, 0.05, 0.05, 0.04, 0.18, 0.22, 0.04, 0.31, 0.05, 0.32, 0.20, 0.32, 0.05, 0.21, 0.04, 0.89, 0.70, 0.05, 0.24, 0.04, 0.05, 0.46,\n",
       "         0.72, 0.05, 0.05, 0.05, 0.04, 0.19, 0.73, 0.26, 0.04, 0.05, 0.39, 0.32, 0.21, 0.74, 0.74, 0.89, 0.05, 0.76, 0.73, 0.04, 0.46, 0.69,\n",
       "         0.28, 0.04, 0.20, 0.67, 0.73, 0.73, 0.19, 0.69, 0.05, 0.04, 0.89, 0.71, 0.72, 0.32, 0.04, 0.73, 0.71, 0.46, 0.17, 0.16, 0.72, 0.72,\n",
       "         0.02, 0.04, 0.05, 0.27, 0.03, 0.46, 0.05, 0.04, 0.03, 0.04, 0.73, 0.04, 0.03, 0.04, 0.72, 0.04, 0.04, 0.04, 0.73, 0.04, 0.04, 0.18,\n",
       "         0.28, 0.05, 0.72, 0.04, 0.06, 0.05, 0.16, 0.61, 0.74, 0.29, 0.18, 0.73, 0.25, 0.27, 0.04, 0.18, 0.25, 0.22, 0.73, 0.05, 0.89, 0.21,\n",
       "         0.15, 0.36, 0.17, 0.74, 0.75, 0.04, 0.04, 0.33, 0.05, 0.71, 0.22, 0.21, 0.89, 0.73, 0.22, 0.18, 0.73, 0.04, 0.22, 0.04, 0.05, 0.90,\n",
       "         0.05, 0.04, 0.06, 0.89, 0.72, 0.88, 0.22, 0.04, 0.21, 0.71, 0.46, 0.17, 0.22, 0.28, 0.05, 0.04, 0.21, 0.74, 0.04, 0.74, 0.05, 0.22,\n",
       "         0.29, 0.74, 0.34], grad_fn=<SigmoidBackward0>)}"
      ]
     },
     "execution_count": null,
     "metadata": {},
     "output_type": "execute_result"
    }
   ],
   "source": [
    "val_results"
   ]
  },
  {
   "cell_type": "markdown",
   "id": "b5b4fb18",
   "metadata": {
    "input_tokens": 15,
    "output_tokens": 213,
    "solveit_ai": true
   },
   "source": [
    "let make a show coff fucntion..\n",
    "\n",
    "##### 🤖Reply🤖<!-- SOLVEIT_SEPARATOR_7f3a9b2c -->\n",
    "\n",
    "Here's a function to display the coefficients in a clear way:\n",
    "\n",
    "```python\n",
    "def show_coffs(coffs, feature_names):\n",
    "    \"Show the model coefficients with their feature names\"\n",
    "    values = [(name, float(val)) for name, val in zip(feature_names, coffs)]\n",
    "    sorted_values = sorted(values, key=lambda x: abs(x[1]), reverse=True)\n",
    "    for name, val in sorted_values:\n",
    "        sign = \"+\" if val > 0 else \"\"\n",
    "        print(f\"{name:12s}: {sign}{val:.4f}\")\n",
    "    return sorted_values\n",
    "```\n",
    "\n",
    "Let's test it with our trained model:\n",
    "\n",
    "```python\n",
    "show_coffs(trained_model, inp_col)\n",
    "```"
   ]
  },
  {
   "cell_type": "code",
   "execution_count": null,
   "id": "48b8194e",
   "metadata": {
    "input_tokens": 154,
    "time_run": "11:44:07a"
   },
   "outputs": [],
   "source": [
    "def show_coffs(coffs, feature_names):\n",
    "    \"Show the model coefficients with their feature names\"\n",
    "    values = [(name, float(val)) for name, val in zip(feature_names, coffs)]\n",
    "    sorted_values = sorted(values, key=lambda x: abs(x[1]), reverse=True)\n",
    "    for name, val in sorted_values:\n",
    "        sign = \"+\" if val > 0 else \"\"\n",
    "        print(f\"{name:12s}: {sign}{val:.4f}\")\n",
    "    return sorted_values\n"
   ]
  },
  {
   "cell_type": "code",
   "execution_count": null,
   "id": "59f2793e",
   "metadata": {
    "collapsed": true,
    "input_tokens": 15,
    "output_tokens": 618,
    "time_run": "11:44:18a"
   },
   "outputs": [
    {
     "name": "stdout",
     "output_type": "stream",
     "text": [
      "Parch       : +2.3796\n",
      "Age         : -1.3477\n",
      "Pclass_2    : -1.2256\n",
      "Embarked_C  : -1.1888\n",
      "Embarked_Q  : -0.9546\n",
      "LogFare     : +0.8547\n",
      "Pclass_3    : -0.6263\n",
      "Sex_female  : -0.5643\n",
      "SibSp       : -0.4931\n",
      "Sex_male    : +0.4356\n",
      "Pclass_1    : +0.4312\n",
      "Embarked_S  : +0.0323\n"
     ]
    },
    {
     "data": {
      "text/plain": [
       "[('Parch', 2.37955379486084),\n",
       " ('Age', -1.3476988077163696),\n",
       " ('Pclass_2', -1.2256207466125488),\n",
       " ('Embarked_C', -1.188822865486145),\n",
       " ('Embarked_Q', -0.9545878171920776),\n",
       " ('LogFare', 0.8547324538230896),\n",
       " ('Pclass_3', -0.6263066530227661),\n",
       " ('Sex_female', -0.5642723441123962),\n",
       " ('SibSp', -0.4931414723396301),\n",
       " ('Sex_male', 0.43564537167549133),\n",
       " ('Pclass_1', 0.431246280670166),\n",
       " ('Embarked_S', 0.03227524086833)]"
      ]
     },
     "execution_count": null,
     "metadata": {},
     "output_type": "execute_result"
    }
   ],
   "source": [
    "show_coffs(trained_model, inp_col)"
   ]
  },
  {
   "cell_type": "code",
   "execution_count": null,
   "id": "28ff198f",
   "metadata": {
    "input_tokens": 31,
    "output_tokens": 27,
    "time_run": "1:43:40p"
   },
   "outputs": [
    {
     "data": {
      "text/plain": [
       "torch.Size([712, 12])"
      ]
     },
     "execution_count": null,
     "metadata": {},
     "output_type": "execute_result"
    }
   ],
   "source": [
    "x_train = torch.tensor(train_df[inp_col].values, dtype=torch.float32);x_train.shape"
   ]
  },
  {
   "cell_type": "code",
   "execution_count": null,
   "id": "37e16165",
   "metadata": {
    "input_tokens": 27,
    "output_tokens": 27,
    "time_run": "1:44:47p"
   },
   "outputs": [
    {
     "data": {
      "text/plain": [
       "torch.Size([12, 2])"
      ]
     },
     "execution_count": null,
     "metadata": {},
     "output_type": "execute_result"
    }
   ],
   "source": [
    " coffs = torch.randn((12,2), requires_grad=True) ;coffs.shape"
   ]
  },
  {
   "cell_type": "code",
   "execution_count": null,
   "id": "d100e0f1",
   "metadata": {
    "input_tokens": 12,
    "output_tokens": 39,
    "time_run": "1:45:04p"
   },
   "outputs": [
    {
     "data": {
      "text/plain": [
       "(torch.Size([712, 12]), torch.Size([12, 2]))"
      ]
     },
     "execution_count": null,
     "metadata": {},
     "output_type": "execute_result"
    }
   ],
   "source": [
    "x_train.shape, coffs.shape\n"
   ]
  },
  {
   "cell_type": "code",
   "execution_count": null,
   "id": "21dc0e3a",
   "metadata": {
    "input_tokens": 1
   },
   "outputs": [],
   "source": [
    "\n"
   ]
  },
  {
   "cell_type": "code",
   "execution_count": null,
   "id": "793a0159",
   "metadata": {
    "input_tokens": 1
   },
   "outputs": [],
   "source": [
    "\n"
   ]
  },
  {
   "cell_type": "code",
   "execution_count": null,
   "id": "722c6ef8",
   "metadata": {
    "collapsed": true,
    "input_tokens": 7,
    "output_tokens": 6441,
    "time_run": "1:23:17p"
   },
   "outputs": [
    {
     "data": {
      "text/plain": [
       "tensor([   -57.18,    -27.32,    -40.25,    -33.24,    -10.06,    -29.28,    -56.56,    -35.37,    -29.98,    -29.49,    -51.50,    -46.27,\n",
       "           -40.18,    -21.72,    -36.35,    -62.09,    -43.79,    -46.54,    -41.44,    -20.83,    -16.48,    -77.57,    -37.44,     -7.41,\n",
       "           -79.79,    -24.77,    -30.41,    -36.35,    -46.27,    -29.69,    -63.36,    -33.72,    -37.71,    -39.64,    -28.40,    -32.01,\n",
       "            -4.03,    -30.63,    -64.42,    -29.99,    -30.01,    -29.98,    -28.39,    -23.21,    -29.54,    -31.30,    -29.43,    -27.43,\n",
       "            -1.14,    -28.86,    -32.33,    -41.99,    -27.12,    -28.40,    -29.69,    -29.95,    -27.20,    -77.81,    -21.99,    -51.68,\n",
       "           -69.41,    -24.29,    -51.98,    -29.90,    -24.60,    -43.42,    -35.06,    -29.97,    -28.70,    -27.44,    -65.50,    -37.33,\n",
       "           -45.51,    -28.40,    -27.33,    -63.83,    -33.87,    -27.41,    -64.39,    -44.08,    -35.28,    -26.23,    -63.11,    -48.94,\n",
       "           -33.80,    -30.70,    -82.24,    -20.96,    -34.73,     -4.61,    -29.98,     -1.35,    -45.54,    -54.01,    -47.52,    -38.38,\n",
       "           -36.40,    -22.26,    -28.45,    -49.29,    -47.87,    -33.90,    -24.88,    -29.53,    -62.82,    -27.17,     -3.24,    -28.18,\n",
       "           -31.40,     -2.64,     -5.42,    -23.57,    -49.59,     -0.99,    -30.53,    -26.13,    -67.90,    -28.19,    -31.17,    -32.95,\n",
       "           -27.11,    -39.69,    -61.88,    -23.08,    -28.67,    -19.70,    -31.22,    -48.89,    -59.81,    -75.82,    -28.60,    -29.38,\n",
       "           -32.78,    -28.48,    -47.96,    -55.66,    -24.60,    -30.61,    -55.35,     -8.95,    -11.52,    -29.50,    -40.25,    -63.43,\n",
       "           -26.13,    -61.84,    -28.48,    -40.26,    -28.19,    -27.90,    -28.40,    -31.19,    -19.57,    -39.19,    -29.89,    -66.91,\n",
       "           -34.54,    -46.99,    -50.63,    -41.41,    -64.55,    -20.64,    -24.84,    -14.12,    -29.97,    -28.40,    -29.98,    -68.23,\n",
       "           -32.55,    -76.59,    -29.35,    -55.24,    -25.53,    -32.23,    -18.40,    -57.51,    -20.96,    -47.29,    -77.47,    -10.74,\n",
       "           -39.63,    -25.25,    -33.53,    -24.34,    -48.06,    -20.49,    -28.19,    -58.26,    -29.78,    -29.97,    -36.40,    -70.53,\n",
       "           -38.38,    -28.40,    -39.35,    -42.47,    -74.95,    -73.04,    -30.24,     -2.71,    -29.88,    -19.28,    -59.17,    -53.62,\n",
       "           -36.52,    -35.54,    -29.98,    -36.31,    -44.76,    -31.30,    -29.26,    -62.63,     -1.45,    -29.07,    -29.63,    -43.97,\n",
       "           -36.69,    -27.32,    -29.98,    -32.24,    -68.13,    -43.97,    -28.44,    -28.91,    -30.38,    -26.98,    -28.19,    -28.20,\n",
       "           -64.65,    -40.80,    -38.03,    -29.88,    -35.89,     -1.14,    -15.87,    -67.60,    -16.62,    -27.10,    -32.46,    -29.98,\n",
       "           -29.36,    -33.92,    -49.24,     -1.36,    -30.45,    -40.25,    -57.51,     -8.69,    -34.01,    -35.11,    -56.36,    -45.62,\n",
       "           -29.59,     -4.83,    -18.11,    -73.11,    -52.06,    -31.27,    -29.98,    -64.69,    -29.49,    -24.61,    -28.43,    -49.96,\n",
       "           -32.00,    -59.14,    -29.59,    -54.76,    -30.48,    -20.94,    -35.56,    -15.05,    -12.91,    -25.62,    -22.25,    -28.13,\n",
       "           -41.54,    -70.68,      0.30,    -27.42,    -29.90,    -28.40,     -9.46,     -4.35,    -88.12,    -20.90,    -25.76,    -29.43,\n",
       "           -29.90,    -41.30,    -28.19,    -38.83,    -37.69,    -20.94,    -13.25,    -49.50,    -41.40,    -89.57,    -28.96,    -72.99,\n",
       "           -26.13,    -20.51,    -35.95,    -28.90,    -29.90,    -28.88,    -53.07,    -23.02,     -1.91,    -41.23,     -6.42,    -72.37,\n",
       "           -38.68,    -38.97,    -29.98,    -32.81,    -17.25,    -27.32,    -51.25,    -29.90,    -34.90,    -33.53,    -30.38,    -23.48,\n",
       "           -38.35,    -24.84,    -34.49,    -46.12,    -29.97,    -31.76,    -35.68,    -30.99,    -51.72,    -68.30,    -29.69,    -10.94,\n",
       "           -31.70,    -34.01,    -30.24,    -30.01,    -33.53,    -23.37,    -27.44,    -29.69,    -35.68,    -52.71,    -61.99,     -2.75,\n",
       "           -28.78,    -23.19,    -23.50,    -54.67,    -29.55,    -29.44,    -28.74,    -19.71,    -30.00,    -27.41,     -3.75,    -28.60,\n",
       "           -30.01,    -34.53,    -36.95,    -29.92,    -56.97,    -38.66,    -26.13,    -42.63,    -35.68,    -29.44,    -44.45,    -53.77,\n",
       "           -28.49,    -43.87,    -28.09,    -28.05,    -18.13,    -29.97,    -22.06,    -37.68,    -39.70,     -5.61,     -3.04,    -29.97,\n",
       "           -30.95,    -60.20,    -37.39,    -59.04,    -32.81,    -14.68,    -23.55,    -29.97,    -27.36,    -29.90,    -33.98,    -31.26,\n",
       "           -20.96,    -28.88,    -32.01,    -26.12,    -64.26,     -5.10,     -1.45,    -29.90,    -42.82,    -21.04,    -54.94,    -29.79,\n",
       "           -29.92,    -46.40,    -25.48,    -45.33,    -40.25,    -31.19,    -32.55,   -101.46,    -70.43,    -75.71,    -28.40,    -22.28,\n",
       "           -17.97,    -22.25,     -4.27,    -41.51,    -24.55,    -12.51,    -58.09,     -4.92,    -35.28,    -27.20,    -35.59,    -29.45,\n",
       "           -32.18,    -41.48,    -32.31,    -34.59,    -41.44,    -29.90,    -37.18,    -38.16,    -26.82,    -29.98,    -67.78,    -40.25,\n",
       "           -64.56,    -66.41,    -51.97,     -2.31,    -55.66,    -63.29,    -47.65,    -57.38,    -21.10,    -37.68,    -12.49,    -33.84,\n",
       "           -26.10,    -29.35,    -32.55,     -4.02,    -59.42,    -44.14,    -28.67,    -39.30,    -40.54,    -27.11,    -22.02,    -94.20,\n",
       "           -53.61,    -49.34,    -44.83,    -29.73,    -49.24,    -39.84,     -0.63,    -42.88,    -83.03,    -31.05,    -29.76,     -1.91,\n",
       "           -56.99,    -38.60,    -26.54,    -31.26,    -17.67,    -32.55,    -36.37,    -28.96,    -42.80,    -87.74,    -30.70,    -25.91,\n",
       "           -22.55,    -28.17,     -4.41,    -35.68,    -31.92,    -31.96,    -29.49,    -24.79,    -68.13,    -27.41,    -73.54,    -69.03,\n",
       "           -33.40,    -39.05,    -26.38,    -41.66,     -7.26,     -8.77,    -49.96,    -30.62,    -67.11,    -29.99,    -29.98,    -37.61,\n",
       "           -28.18,    -42.42,    -25.17,    -39.71,    -19.65,    -27.22,    -29.98,    -47.86,    -35.89,    -30.36,    -41.47,    -30.24,\n",
       "           -22.01,    -30.45,    -29.98,     -4.52,     -0.11,    -31.24,    -51.84,    -60.65,    -60.45,    -60.65,     -7.70,    -49.09,\n",
       "           -43.18,    -35.09,    -62.35,    -35.89,    -29.90,    -53.18,    -45.53,    -77.03,    -20.52,    -22.08,      0.16,    -39.63,\n",
       "           -29.97,    -29.97,    -30.17,    -19.70,    -39.02,    -60.41,    -27.33,    -15.56,    -40.73,    -36.50,    -56.64,    -35.12,\n",
       "           -52.18,    -44.10,     -4.26,    -38.73,    -28.67,    -29.98,    -22.44,    -24.82,    -21.10,    -41.59,    -28.19,    -28.19,\n",
       "           -64.66,    -28.19,    -28.19,    -28.19,    -35.06,    -29.89,    -25.56,    -44.00,    -43.82,    -11.73,    -24.93,    -51.72,\n",
       "           -36.31,    -29.49,    -26.13,    -59.54,    -31.85,    -19.66,    -56.87,    -47.93,    -70.49,    -30.57,    -38.37,    -36.67,\n",
       "           -29.47,    -16.92,    -17.92,    -50.95,    -69.35,    -23.56,    -56.56,    -46.05,    -33.62,    -61.72,    -50.57,    -23.63,\n",
       "           -41.54,    -33.91,    -29.47,    -43.72,    -37.33,    -38.02,    -42.82,    -36.30,    -22.91,    -42.96,    -35.89,    -48.88,\n",
       "           -78.39,    -31.74,    -32.54,    -22.31,    -41.99,    -60.80,    -35.12,    -31.01,    -19.32,    -47.62,    -29.90,    -50.53,\n",
       "           -27.37,     -1.96,    -34.94,    -22.28,    -34.79,    -21.75,    -29.97,    -75.85,    -24.84,    -56.46,    -29.76,    -28.39,\n",
       "           -28.40,    -28.67,    -52.18,    -32.34,    -30.08,    -43.80,    -46.68,    -29.67,    -33.81,    -23.56,    -54.44,    -31.06,\n",
       "           -59.48,    -18.71,      0.04,    -27.44,    -23.56,    -33.73,    -19.93,    -45.39,    -35.97,    -53.11,    -29.37,    -32.99,\n",
       "           -34.82,     -5.51,    -27.13,    -28.40,    -36.09,    -78.39,    -41.44,    -35.12,    -28.40,    -55.98,    -56.74,    -22.18,\n",
       "           -20.34,    -38.97,    -29.49,    -26.15,    -29.89,    -40.24,    -36.70,    -50.45,    -41.43,    -45.41,    -59.92,    -41.92,\n",
       "           -23.55,    -29.97,    -61.84,    -29.23,    -29.09,    -29.49,    -29.97,    -44.10,    -42.51,    -21.55,    -23.46,    -25.92,\n",
       "           -29.54,    -53.02,    -17.80,    -25.92], grad_fn=<MvBackward0>)"
      ]
     },
     "execution_count": null,
     "metadata": {},
     "output_type": "execute_result"
    }
   ],
   "source": [
    "x_train @ coffs"
   ]
  },
  {
   "cell_type": "code",
   "execution_count": null,
   "id": "1f8d7dd7",
   "metadata": {
    "input_tokens": 16,
    "time_run": "1:49:04p"
   },
   "outputs": [],
   "source": [
    "preds = normalize_features(x_train) @ coffs"
   ]
  },
  {
   "cell_type": "code",
   "execution_count": null,
   "id": "f925418b",
   "metadata": {
    "input_tokens": 4,
    "output_tokens": 27,
    "time_run": "1:49:16p"
   },
   "outputs": [
    {
     "data": {
      "text/plain": [
       "torch.Size([712, 2])"
      ]
     },
     "execution_count": null,
     "metadata": {},
     "output_type": "execute_result"
    }
   ],
   "source": [
    "preds.shape"
   ]
  },
  {
   "cell_type": "code",
   "execution_count": null,
   "id": "0044d74c",
   "metadata": {
    "input_tokens": 10,
    "output_tokens": 216,
    "time_run": "1:49:18p"
   },
   "outputs": [
    {
     "data": {
      "text/plain": [
       "tensor([[ 1.95, -0.33],\n",
       "        [ 2.26,  0.84],\n",
       "        [ 1.66,  0.85],\n",
       "        [ 1.69,  0.83],\n",
       "        [ 2.40, -0.45],\n",
       "        [ 0.56, -2.17],\n",
       "        [ 1.95, -0.33],\n",
       "        [ 1.29, -0.83],\n",
       "        [ 1.57,  0.83],\n",
       "        [ 1.69, -0.38]], grad_fn=<SliceBackward0>)"
      ]
     },
     "execution_count": null,
     "metadata": {},
     "output_type": "execute_result"
    }
   ],
   "source": [
    "preds[0:10]"
   ]
  },
  {
   "cell_type": "code",
   "execution_count": null,
   "id": "ca8b1983",
   "metadata": {
    "collapsed": true,
    "input_tokens": 10,
    "output_tokens": 5421,
    "time_run": "1:50:05p"
   },
   "outputs": [
    {
     "data": {
      "text/plain": [
       "tensor([1.95, 2.26, 1.66, 1.69, 2.40, 0.56, 1.95, 1.29, 1.57, 1.69, 3.02, 1.82, 2.38, 1.60, 1.62, 3.15, 2.38, 1.17, 2.39, 2.22, 2.45, 2.00,\n",
       "        2.17, 2.77, 2.53, 0.45, 1.15, 1.62, 2.02, 0.45, 1.86, 0.70, 1.64, 2.91, 2.13, 2.42, 1.65, 2.96, 0.96, 2.87, 1.58, 1.57, 2.82, 1.63,\n",
       "        1.70, 1.59, 3.00, 1.55, 1.61, 2.86, 2.14, 2.45, 1.35, 2.13, 1.04, 1.57, 2.09, 2.59, 2.03, 1.21, 3.20, 1.69, 3.06, 0.50, 2.06, 0.62,\n",
       "        1.60, 1.57, 1.56, 1.56, 2.01, 2.15, 2.55, 2.13, 0.48, 2.07, 1.61, 1.55, 2.57, 2.42, 2.92, 2.10, 0.91, 2.99, 1.60, 1.97, 2.17, 1.49,\n",
       "        1.76, 1.60, 1.57, 2.03, 2.64, 2.63, 1.83, 3.04, 1.63, 1.50, 1.18, 1.43, 2.44, 1.78, 1.54, 2.23, 2.02, 1.17, 1.69, 2.67, 1.78, 2.18,\n",
       "        1.52, 1.52, 2.31, 0.92, 1.18, 1.54, 2.00, 2.08, 1.41, 0.57, 2.07, 2.32, 0.92, 2.33, 2.29, 1.48, 0.69, 1.66, 2.42, 2.11, 2.28, 1.67,\n",
       "        2.91, 1.19, 1.73, 1.79, 2.80, 2.25, 3.05, 2.21, 2.26, 1.69, 1.66, 2.04, 1.54, 3.12, 2.10, 1.66, 2.67, 2.36, 2.13, 0.51, 0.59, 2.23,\n",
       "        2.29, 2.56, 1.71, 2.33, 3.07, 0.59, 2.58, 1.61, 1.53, 1.89, 1.57, 2.13, 1.57, 1.55, 1.59, 1.14, 1.43, 1.43, 1.63, 1.88, 2.20, 2.86,\n",
       "        1.49, 2.00, 2.71, 2.34, 1.52, 2.15, 2.86, 2.64, 1.91, 0.91, 2.67, 1.99, 1.53, 1.57, 1.80, 1.54, 1.39, 2.13, 2.41, 1.80, 1.97, 2.63,\n",
       "        2.16, 1.70, 0.49, 1.12, 2.73, 2.40, 1.14, 1.57, 1.57, 2.34, 0.74, 1.59, 2.86, 1.46, 1.00, 1.13, 2.98, 2.43, 2.23, 2.26, 1.57, 2.26,\n",
       "        3.15, 2.42, 2.13, 1.09, 1.60, 1.72, 2.67, 1.15, 1.87, 3.05, 2.48, 0.49, 2.39, 2.72, 1.66, 2.65, 2.57, 2.27, 2.31, 1.57, 0.60, 1.83,\n",
       "        1.74, 2.17, 1.62, 1.66, 0.74, 2.78, 1.81, 2.15, 3.19, 2.29, 1.72, 2.01, 2.14, 1.00, 1.90, 1.59, 1.57, 1.88, 2.48, 2.62, 2.13, 2.45,\n",
       "        1.75, 1.97, 1.71, 2.54, 2.55, 2.22, 2.39, 0.43, 0.29, 2.65, 2.24, 1.65, 1.67, 2.07, 1.05, 1.55, 0.50, 2.13, 2.33, 0.87, 2.64, 2.21,\n",
       "        0.59, 2.34, 0.50, 2.94, 2.67, 2.38, 1.64, 2.22, 2.34, 2.53, 2.40, 2.34, 1.10, 2.59, 1.54, 1.09, 2.31, 1.09, 0.50, 2.18, 1.77, 1.62,\n",
       "        1.93, 2.93, 1.82, 1.42, 2.22, 1.65, 1.57, 1.86, 1.98, 2.26, 2.15, 0.50, 2.16, 2.86, 1.60, 1.50, 2.29, 1.53, 1.47, 1.88, 1.57, 2.56,\n",
       "        0.55, 1.25, 2.47, 2.06, 2.14, 1.75, 1.62, 2.21, 2.16, 1.58, 2.86, 1.47, 1.56, 1.04, 2.93, 1.91, 2.56, 2.21, 0.47, 2.19, 1.70, 2.59,\n",
       "        1.70, 1.68, 2.14, 1.49, 1.58, 1.55, 2.75, 2.28, 1.58, 3.44, 1.23, 1.56, 2.54, 2.91, 1.54, 0.53, 2.93, 2.24, 0.63, 2.66, 2.11, 1.83,\n",
       "        2.75, 2.04, 0.94, 1.57, 2.05, 1.64, 2.43, 2.30, 2.27, 1.57, 0.62, 2.52, 2.20, 1.95, 2.18, 1.96, 1.52, 1.57, 1.54, 0.50, 2.34, 3.27,\n",
       "        1.49, 2.18, 2.42, 1.54, 2.01, 2.20, 1.00, 0.50, 1.68, 2.80, 1.39, 1.53, 1.56, 2.25, 2.35, 1.86, 1.66, 2.32, 1.60, 2.32, 1.92, 2.78,\n",
       "        2.13, 1.51, 0.98, 2.24, 2.80, 1.67, 2.09, 2.07, 2.52, 2.35, 2.92, 2.26, 1.67, 0.63, 0.45, 1.66, 2.87, 2.31, 2.39, 0.50, 0.70, 1.69,\n",
       "        3.37, 1.57, 2.72, 1.66, 2.58, 2.13, 2.75, 2.17, 1.79, 2.58, 2.39, 0.79, 0.64, 1.64, 2.23, 1.61, 1.53, 1.43, 1.59, 1.48, 2.54, 1.18,\n",
       "        2.72, 2.91, 2.27, 1.92, 2.08, 2.13, 1.86, 2.30, 2.36, 2.11, 1.74, 1.32, 2.23, 1.70, 2.46, 2.13, 2.11, 1.54, 1.81, 2.49, 2.16, 1.58,\n",
       "        2.09, 1.59, 2.36, 1.10, 2.41, 2.80, 1.97, 1.49, 2.13, 2.67, 1.87, 2.93, 1.45, 1.68, 2.48, 1.52, 1.52, 1.55, 2.66, 3.49, 1.74, 1.84,\n",
       "        0.49, 1.93, 1.44, 2.39, 2.14, 1.58, 2.60, 1.58, 1.57, 0.56, 2.67, 1.07, 2.14, 0.71, 1.47, 2.10, 1.57, 1.87, 2.39, 2.33, 3.15, 2.16,\n",
       "        0.56, 1.62, 1.57, 1.70, 0.32, 2.31, 1.77, 0.92, 3.25, 1.51, 1.83, 2.46, 2.46, 2.35, 0.99, 2.39, 0.50, 1.96, 2.50, 2.11, 2.61, 2.05,\n",
       "        2.20, 1.52, 1.57, 1.57, 1.09, 1.48, 1.83, 1.98, 0.48, 0.92, 1.71, 1.81, 2.47, 1.62, 2.52, 1.69, 2.26, 2.19, 2.72, 1.57, 2.81, 1.52,\n",
       "        2.01, 2.98, 2.67, 2.67, 1.87, 2.67, 2.67, 2.67, 1.60, 2.29, 1.97, 0.61, 2.39, 1.55, 0.49, 2.47, 2.34, 2.48, 1.54, 1.83, 2.42, 1.47,\n",
       "        1.96, 1.72, 0.97, 1.15, 1.74, 2.23, 0.63, 2.00, 2.58, 2.38, 2.05, 1.52, 1.95, 2.56, 2.15, 1.47, 1.24, 1.70, 1.67, 1.79, 0.63, 1.84,\n",
       "        2.34, 3.14, 1.68, 0.55, 2.19, 2.25, 2.39, 2.98, 2.13, 2.22, 1.59, 1.02, 2.45, 1.84, 1.62, 1.69, 1.67, 1.35, 0.50, 1.75, 1.54, 1.95,\n",
       "        0.69, 1.51, 1.54, 2.71, 1.57, 1.59, 1.53, 1.92, 2.11, 2.82, 2.13, 2.72, 2.21, 2.14, 3.05, 2.95, 0.86, 2.30, 2.33, 1.52, 1.80, 0.65,\n",
       "        1.82, 2.08, 2.18, 1.56, 1.52, 2.32, 1.83, 1.71, 1.76, 1.77, 1.66, 0.59, 2.18, 2.84, 2.08, 2.13, 2.88, 2.13, 2.39, 1.62, 2.13, 1.84,\n",
       "        2.35, 2.22, 2.08, 1.65, 2.48, 1.55, 2.29, 1.66, 1.31, 0.68, 0.59, 1.71, 2.65, 2.43, 1.52, 1.57, 3.12, 2.79, 2.22, 2.48, 1.57, 1.69,\n",
       "        2.35, 1.04, 2.58, 2.08, 1.70, 1.92, 2.32, 1.69], grad_fn=<ReluBackward0>)"
      ]
     },
     "execution_count": null,
     "metadata": {},
     "output_type": "execute_result"
    }
   ],
   "source": [
    "torch.relu(preds[:,0])\n"
   ]
  },
  {
   "cell_type": "code",
   "execution_count": null,
   "id": "08e58cfc",
   "metadata": {
    "input_tokens": 18,
    "time_run": "1:27:22p"
   },
   "outputs": [],
   "source": [
    "loss = torch.abs(preds - y_train).mean()\n"
   ]
  },
  {
   "cell_type": "code",
   "execution_count": null,
   "id": "6966f6be",
   "metadata": {
    "collapsed": true,
    "input_tokens": 3,
    "output_tokens": 3244,
    "time_run": "1:27:00p"
   },
   "outputs": [
    {
     "data": {
      "text/plain": [
       "tensor([0, 0, 0, 0, 0, 0, 0, 0, 0, 1, 1, 0, 0, 0, 1, 1, 1, 1, 0, 1, 0, 0, 0, 1, 1, 1, 1, 0, 1, 0, 0, 0, 0, 1, 0, 0, 0, 1, 0, 1, 0, 0, 0, 0,\n",
       "        1, 0, 1, 0, 1, 1, 1, 0, 1, 0, 1, 0, 1, 1, 1, 1, 0, 0, 1, 0, 0, 0, 0, 0, 0, 0, 1, 1, 0, 0, 0, 1, 1, 0, 1, 0, 1, 1, 0, 1, 1, 0, 0, 0,\n",
       "        1, 1, 0, 1, 0, 0, 0, 1, 0, 0, 0, 1, 0, 0, 0, 1, 0, 0, 0, 1, 0, 1, 1, 0, 0, 1, 0, 0, 0, 0, 0, 0, 0, 1, 1, 0, 0, 1, 1, 0, 0, 0, 0, 0,\n",
       "        0, 1, 0, 0, 1, 1, 1, 1, 0, 0, 1, 0, 0, 1, 0, 1, 0, 0, 0, 0, 0, 0, 0, 0, 0, 1, 1, 0, 0, 0, 0, 0, 1, 0, 0, 1, 0, 1, 1, 1, 1, 0, 0, 0,\n",
       "        0, 1, 1, 0, 1, 0, 1, 0, 0, 0, 1, 0, 0, 0, 0, 1, 0, 1, 1, 0, 0, 1, 1, 1, 0, 1, 0, 1, 1, 0, 0, 0, 0, 0, 0, 0, 1, 1, 1, 1, 1, 0, 0, 0,\n",
       "        1, 1, 0, 1, 0, 1, 1, 1, 0, 1, 0, 0, 0, 1, 1, 0, 1, 1, 0, 0, 0, 1, 0, 1, 0, 0, 0, 1, 0, 1, 1, 1, 0, 1, 0, 0, 0, 0, 0, 0, 0, 1, 0, 0,\n",
       "        1, 0, 0, 0, 1, 0, 0, 1, 0, 1, 0, 0, 0, 0, 1, 0, 0, 0, 0, 1, 0, 0, 1, 0, 0, 1, 1, 1, 0, 0, 0, 1, 1, 0, 1, 1, 0, 1, 0, 1, 0, 0, 0, 0,\n",
       "        1, 1, 1, 1, 0, 1, 1, 1, 0, 0, 0, 0, 0, 1, 0, 0, 0, 0, 0, 0, 0, 1, 0, 1, 0, 0, 0, 0, 0, 1, 1, 0, 1, 0, 0, 1, 0, 1, 0, 1, 0, 0, 0, 0,\n",
       "        1, 0, 0, 0, 0, 0, 1, 1, 1, 1, 1, 0, 1, 1, 0, 1, 0, 1, 1, 0, 1, 0, 1, 0, 1, 0, 0, 0, 0, 0, 0, 0, 0, 1, 0, 0, 0, 0, 1, 0, 0, 0, 0, 1,\n",
       "        0, 0, 0, 0, 1, 0, 1, 0, 0, 1, 1, 0, 0, 0, 0, 0, 1, 0, 0, 1, 0, 0, 0, 0, 0, 1, 1, 0, 0, 0, 0, 0, 1, 1, 0, 1, 1, 0, 1, 1, 0, 1, 0, 0,\n",
       "        1, 0, 1, 0, 0, 0, 0, 0, 1, 0, 0, 0, 1, 0, 0, 1, 0, 0, 0, 1, 0, 1, 1, 1, 1, 1, 0, 0, 0, 1, 1, 0, 1, 0, 1, 0, 0, 0, 0, 1, 0, 0, 0, 0,\n",
       "        1, 0, 0, 1, 0, 0, 0, 0, 1, 0, 0, 0, 1, 1, 0, 0, 1, 0, 0, 1, 1, 0, 0, 0, 1, 1, 0, 0, 0, 0, 0, 0, 1, 1, 1, 1, 0, 1, 0, 1, 0, 0, 1, 1,\n",
       "        0, 0, 0, 0, 1, 0, 0, 1, 1, 1, 0, 1, 1, 0, 0, 0, 0, 0, 1, 0, 0, 1, 1, 1, 0, 0, 0, 0, 1, 1, 1, 1, 0, 0, 0, 0, 0, 0, 0, 1, 1, 0, 1, 0,\n",
       "        0, 1, 1, 1, 0, 0, 1, 1, 0, 0, 0, 0, 1, 1, 0, 1, 0, 0, 1, 0, 0, 0, 0, 0, 1, 1, 0, 1, 0, 0, 1, 0, 0, 0, 1, 1, 1, 1, 1, 0, 0, 1, 0, 1,\n",
       "        0, 1, 0, 1, 1, 1, 0, 1, 0, 0, 0, 0, 0, 0, 0, 0, 1, 1, 0, 0, 0, 0, 0, 0, 0, 1, 0, 1, 0, 0, 0, 1, 0, 1, 0, 1, 1, 1, 0, 1, 0, 0, 0, 1,\n",
       "        0, 1, 1, 0, 0, 0, 0, 0, 0, 0, 0, 1, 1, 1, 0, 0, 1, 0, 1, 0, 0, 0, 0, 0, 0, 0, 0, 0, 0, 0, 0, 0, 0, 0, 1, 0, 0, 0, 1, 1, 0, 0, 0, 0,\n",
       "        0, 1, 0, 1, 0, 0, 1, 0])"
      ]
     },
     "execution_count": null,
     "metadata": {},
     "output_type": "execute_result"
    }
   ],
   "source": [
    "y_train"
   ]
  },
  {
   "cell_type": "code",
   "execution_count": null,
   "id": "833164f7",
   "metadata": {
    "input_tokens": 4,
    "output_tokens": 120,
    "time_run": "1:30:20p"
   },
   "outputs": [
    {
     "data": {
      "text/plain": [
       "tensor([ 0.02,  0.00,  0.00,  0.02, -0.03,  0.08, -0.01,  0.00,  0.06, -0.00,  0.00,  0.05])"
      ]
     },
     "execution_count": null,
     "metadata": {},
     "output_type": "execute_result"
    }
   ],
   "source": [
    "coffs.grad"
   ]
  },
  {
   "cell_type": "code",
   "execution_count": null,
   "id": "b83b4c2a",
   "metadata": {
    "input_tokens": 22,
    "time_run": "1:30:26p"
   },
   "outputs": [],
   "source": [
    "loss = torch.abs(preds - y_train).mean()\n",
    "loss.backward()"
   ]
  },
  {
   "cell_type": "code",
   "execution_count": null,
   "id": "df6d9059",
   "metadata": {
    "input_tokens": 4,
    "time_run": "1:28:15p"
   },
   "outputs": [],
   "source": [
    "coff.grad"
   ]
  },
  {
   "cell_type": "code",
   "execution_count": null,
   "id": "e066a063",
   "metadata": {
    "input_tokens": 21,
    "output_tokens": 120,
    "time_run": "1:30:33p"
   },
   "outputs": [
    {
     "data": {
      "text/plain": [
       "tensor([ 0.04,  0.01,  0.00,  0.03, -0.06,  0.16, -0.02,  0.01,  0.12, -0.01,  0.01,  0.10])"
      ]
     },
     "execution_count": null,
     "metadata": {},
     "output_type": "execute_result"
    }
   ],
   "source": [
    "coffs.grad.sub_(coffs.grad * 0.1)\n"
   ]
  },
  {
   "cell_type": "code",
   "execution_count": null,
   "id": "eca7978e",
   "metadata": {
    "collapsed": true,
    "input_tokens": 27,
    "output_tokens": 5421,
    "time_run": "1:50:58p"
   },
   "outputs": [
    {
     "data": {
      "text/plain": [
       "tensor([0.88, 0.96, 0.92, 0.93, 0.92, 0.64, 0.88, 0.78, 0.92, 0.84, 0.95, 0.93, 0.96, 0.92, 0.92, 0.96, 0.92, 0.76, 0.96, 0.90, 0.92, 0.95,\n",
       "        0.90, 0.94, 0.93, 0.61, 0.76, 0.92, 0.88, 0.61, 0.94, 0.67, 0.92, 0.95, 0.95, 0.92, 0.91, 0.95, 0.72, 0.95, 0.92, 0.92, 0.94, 0.91,\n",
       "        0.85, 0.92, 0.95, 0.92, 0.83, 0.95, 0.89, 0.96, 0.79, 0.95, 0.74, 0.92, 0.89, 0.93, 0.88, 0.77, 0.98, 0.92, 0.96, 0.62, 0.89, 0.65,\n",
       "        0.92, 0.92, 0.92, 0.92, 0.88, 0.90, 0.96, 0.95, 0.62, 0.89, 0.92, 0.91, 0.93, 0.96, 0.95, 0.89, 0.71, 0.95, 0.92, 0.88, 0.90, 0.91,\n",
       "        0.85, 0.83, 0.92, 0.88, 0.96, 0.97, 0.86, 0.95, 0.92, 0.91, 0.77, 0.81, 0.97, 0.93, 0.91, 0.90, 0.95, 0.76, 0.91, 0.94, 0.92, 0.95,\n",
       "        0.90, 0.91, 0.96, 0.71, 0.76, 0.91, 0.88, 0.95, 0.80, 0.64, 0.89, 0.91, 0.71, 0.95, 0.96, 0.91, 0.67, 0.93, 0.92, 0.89, 0.96, 0.84,\n",
       "        0.95, 0.77, 0.93, 0.94, 0.94, 0.90, 0.95, 0.95, 0.91, 0.84, 0.92, 0.89, 0.91, 0.96, 0.89, 0.92, 0.94, 0.91, 0.95, 0.62, 0.64, 0.90,\n",
       "        0.96, 0.97, 0.85, 0.91, 0.96, 0.64, 0.97, 0.91, 0.91, 0.92, 0.92, 0.95, 0.92, 0.82, 0.92, 0.76, 0.91, 0.81, 0.92, 0.93, 0.95, 0.95,\n",
       "        0.91, 0.88, 0.97, 0.95, 0.92, 0.90, 0.95, 0.93, 0.94, 0.71, 0.94, 0.88, 0.91, 0.92, 0.86, 0.82, 0.80, 0.95, 0.96, 0.93, 0.95, 0.93,\n",
       "        0.90, 0.85, 0.62, 0.75, 0.94, 0.92, 0.76, 0.92, 0.92, 0.96, 0.68, 0.92, 0.95, 0.81, 0.73, 0.76, 0.95, 0.92, 0.90, 0.96, 0.92, 0.96,\n",
       "        0.96, 0.92, 0.95, 0.75, 0.92, 0.85, 0.94, 0.76, 0.94, 0.95, 0.92, 0.62, 0.95, 0.94, 0.84, 0.97, 0.93, 0.91, 0.96, 0.92, 0.65, 0.86,\n",
       "        0.93, 0.95, 0.92, 0.92, 0.68, 0.94, 0.92, 0.90, 0.96, 0.91, 0.85, 0.88, 0.95, 0.73, 0.93, 0.92, 0.92, 0.94, 0.96, 0.93, 0.95, 0.96,\n",
       "        0.93, 0.88, 0.85, 0.97, 0.93, 0.95, 0.96, 0.61, 0.57, 0.93, 0.96, 0.92, 0.93, 0.89, 0.74, 0.92, 0.62, 0.95, 0.95, 0.70, 0.97, 0.95,\n",
       "        0.64, 0.96, 0.62, 0.95, 0.94, 0.92, 0.92, 0.95, 0.91, 0.93, 0.92, 0.91, 0.75, 0.93, 0.91, 0.75, 0.91, 0.75, 0.62, 0.95, 0.93, 0.92,\n",
       "        0.87, 0.95, 0.91, 0.81, 0.96, 0.92, 0.92, 0.87, 0.93, 0.96, 0.90, 0.62, 0.90, 0.95, 0.92, 0.91, 0.91, 0.91, 0.91, 0.94, 0.92, 0.93,\n",
       "        0.63, 0.78, 0.97, 0.89, 0.95, 0.92, 0.92, 0.90, 0.90, 0.92, 0.95, 0.91, 0.92, 0.74, 0.95, 0.87, 0.97, 0.95, 0.62, 0.90, 0.92, 0.93,\n",
       "        0.85, 0.84, 0.95, 0.91, 0.92, 0.92, 0.94, 0.96, 0.92, 0.97, 0.77, 0.92, 0.93, 0.95, 0.91, 0.63, 0.95, 0.96, 0.65, 0.93, 0.89, 0.93,\n",
       "        0.94, 0.95, 0.72, 0.92, 0.89, 0.92, 0.96, 0.95, 0.95, 0.92, 0.65, 0.93, 0.96, 0.88, 0.90, 0.92, 0.91, 0.92, 0.91, 0.62, 0.96, 0.96,\n",
       "        0.91, 0.95, 0.92, 0.91, 0.88, 0.90, 0.73, 0.62, 0.93, 0.94, 0.80, 0.91, 0.92, 0.90, 0.96, 0.87, 0.92, 0.91, 0.92, 0.91, 0.94, 0.97,\n",
       "        0.95, 0.91, 0.73, 0.96, 0.94, 0.93, 0.95, 0.89, 0.97, 0.91, 0.95, 0.91, 0.92, 0.65, 0.61, 0.93, 0.95, 0.91, 0.96, 0.62, 0.67, 0.93,\n",
       "        0.97, 0.92, 0.94, 0.92, 0.97, 0.89, 0.94, 0.90, 0.94, 0.97, 0.96, 0.69, 0.65, 0.92, 0.90, 0.92, 0.91, 0.91, 0.92, 0.90, 0.97, 0.77,\n",
       "        0.94, 0.95, 0.91, 0.87, 0.95, 0.96, 0.93, 0.91, 0.91, 0.89, 0.93, 0.79, 0.95, 0.93, 0.92, 0.89, 0.89, 0.89, 0.94, 0.96, 0.90, 0.92,\n",
       "        0.89, 0.92, 0.96, 0.75, 0.96, 0.98, 0.88, 0.91, 0.89, 0.93, 0.92, 0.95, 0.91, 0.92, 0.96, 0.91, 0.82, 0.91, 0.97, 0.97, 0.85, 0.86,\n",
       "        0.62, 0.87, 0.89, 0.92, 0.89, 0.92, 0.97, 0.92, 0.92, 0.64, 0.94, 0.74, 0.89, 0.67, 0.91, 0.89, 0.92, 0.87, 0.95, 0.96, 0.96, 0.90,\n",
       "        0.64, 0.92, 0.92, 0.91, 0.58, 0.96, 0.93, 0.71, 0.96, 0.82, 0.91, 0.92, 0.92, 0.96, 0.73, 0.95, 0.62, 0.88, 0.92, 0.89, 0.93, 0.89,\n",
       "        0.95, 0.92, 0.92, 0.92, 0.75, 0.91, 0.86, 0.88, 0.62, 0.71, 0.93, 0.93, 0.97, 0.92, 0.97, 0.93, 0.91, 0.90, 0.94, 0.92, 0.94, 0.91,\n",
       "        0.93, 0.95, 0.94, 0.94, 0.94, 0.94, 0.94, 0.94, 0.92, 0.96, 0.88, 0.65, 0.92, 0.90, 0.62, 0.97, 0.96, 0.96, 0.91, 0.94, 0.92, 0.91,\n",
       "        0.88, 0.93, 0.72, 0.76, 0.85, 0.90, 0.65, 0.88, 0.93, 0.92, 0.89, 0.91, 0.88, 0.93, 0.90, 0.81, 0.78, 0.85, 0.93, 0.86, 0.65, 0.86,\n",
       "        0.91, 0.96, 0.93, 0.63, 0.90, 0.90, 0.95, 0.95, 0.89, 0.90, 0.92, 0.73, 0.96, 0.94, 0.92, 0.93, 0.84, 0.79, 0.62, 0.93, 0.91, 0.88,\n",
       "        0.67, 0.91, 0.92, 0.94, 0.92, 0.83, 0.91, 0.87, 0.89, 0.94, 0.95, 0.94, 0.92, 0.89, 0.95, 0.95, 0.70, 0.91, 0.96, 0.91, 0.94, 0.66,\n",
       "        0.94, 0.89, 0.95, 0.92, 0.91, 0.96, 0.92, 0.93, 0.85, 0.93, 0.84, 0.64, 0.96, 0.94, 0.89, 0.95, 0.95, 0.89, 0.96, 0.92, 0.95, 0.93,\n",
       "        0.91, 0.95, 0.95, 0.92, 0.96, 0.91, 0.96, 0.92, 0.79, 0.66, 0.64, 0.93, 0.93, 0.96, 0.91, 0.92, 0.96, 0.94, 0.96, 0.96, 0.92, 0.93,\n",
       "        0.96, 0.74, 0.93, 0.89, 0.85, 0.94, 0.91, 0.84], grad_fn=<SigmoidBackward0>)"
      ]
     },
     "execution_count": null,
     "metadata": {},
     "output_type": "execute_result"
    }
   ],
   "source": [
    "torch.sigmoid(torch.relu(preds[:,0]) + torch.relu(preds[:,1]))"
   ]
  },
  {
   "cell_type": "code",
   "execution_count": null,
   "id": "e72a8301",
   "metadata": {
    "collapsed": true,
    "input_tokens": 19,
    "output_tokens": 5421,
    "time_run": "1:53:06p"
   },
   "outputs": [
    {
     "data": {
      "text/plain": [
       "tensor([0.88, 0.96, 0.92, 0.93, 0.92, 0.64, 0.88, 0.78, 0.92, 0.84, 0.95, 0.93, 0.96, 0.92, 0.92, 0.96, 0.92, 0.76, 0.96, 0.90, 0.92, 0.95,\n",
       "        0.90, 0.94, 0.93, 0.61, 0.76, 0.92, 0.88, 0.61, 0.94, 0.67, 0.92, 0.95, 0.95, 0.92, 0.91, 0.95, 0.72, 0.95, 0.92, 0.92, 0.94, 0.91,\n",
       "        0.85, 0.92, 0.95, 0.92, 0.83, 0.95, 0.89, 0.96, 0.79, 0.95, 0.74, 0.92, 0.89, 0.93, 0.88, 0.77, 0.98, 0.92, 0.96, 0.62, 0.89, 0.65,\n",
       "        0.92, 0.92, 0.92, 0.92, 0.88, 0.90, 0.96, 0.95, 0.62, 0.89, 0.92, 0.91, 0.93, 0.96, 0.95, 0.89, 0.71, 0.95, 0.92, 0.88, 0.90, 0.91,\n",
       "        0.85, 0.83, 0.92, 0.88, 0.96, 0.97, 0.86, 0.95, 0.92, 0.91, 0.77, 0.81, 0.97, 0.93, 0.91, 0.90, 0.95, 0.76, 0.91, 0.94, 0.92, 0.95,\n",
       "        0.90, 0.91, 0.96, 0.71, 0.76, 0.91, 0.88, 0.95, 0.80, 0.64, 0.89, 0.91, 0.71, 0.95, 0.96, 0.91, 0.67, 0.93, 0.92, 0.89, 0.96, 0.84,\n",
       "        0.95, 0.77, 0.93, 0.94, 0.94, 0.90, 0.95, 0.95, 0.91, 0.84, 0.92, 0.89, 0.91, 0.96, 0.89, 0.92, 0.94, 0.91, 0.95, 0.62, 0.64, 0.90,\n",
       "        0.96, 0.97, 0.85, 0.91, 0.96, 0.64, 0.97, 0.91, 0.91, 0.92, 0.92, 0.95, 0.92, 0.82, 0.92, 0.76, 0.91, 0.81, 0.92, 0.93, 0.95, 0.95,\n",
       "        0.91, 0.88, 0.97, 0.95, 0.92, 0.90, 0.95, 0.93, 0.94, 0.71, 0.94, 0.88, 0.91, 0.92, 0.86, 0.82, 0.80, 0.95, 0.96, 0.93, 0.95, 0.93,\n",
       "        0.90, 0.85, 0.62, 0.75, 0.94, 0.92, 0.76, 0.92, 0.92, 0.96, 0.68, 0.92, 0.95, 0.81, 0.73, 0.76, 0.95, 0.92, 0.90, 0.96, 0.92, 0.96,\n",
       "        0.96, 0.92, 0.95, 0.75, 0.92, 0.85, 0.94, 0.76, 0.94, 0.95, 0.92, 0.62, 0.95, 0.94, 0.84, 0.97, 0.93, 0.91, 0.96, 0.92, 0.65, 0.86,\n",
       "        0.93, 0.95, 0.92, 0.92, 0.68, 0.94, 0.92, 0.90, 0.96, 0.91, 0.85, 0.88, 0.95, 0.73, 0.93, 0.92, 0.92, 0.94, 0.96, 0.93, 0.95, 0.96,\n",
       "        0.93, 0.88, 0.85, 0.97, 0.93, 0.95, 0.96, 0.61, 0.57, 0.93, 0.96, 0.92, 0.93, 0.89, 0.74, 0.92, 0.62, 0.95, 0.95, 0.70, 0.97, 0.95,\n",
       "        0.64, 0.96, 0.62, 0.95, 0.94, 0.92, 0.92, 0.95, 0.91, 0.93, 0.92, 0.91, 0.75, 0.93, 0.91, 0.75, 0.91, 0.75, 0.62, 0.95, 0.93, 0.92,\n",
       "        0.87, 0.95, 0.91, 0.81, 0.96, 0.92, 0.92, 0.87, 0.93, 0.96, 0.90, 0.62, 0.90, 0.95, 0.92, 0.91, 0.91, 0.91, 0.91, 0.94, 0.92, 0.93,\n",
       "        0.63, 0.78, 0.97, 0.89, 0.95, 0.92, 0.92, 0.90, 0.90, 0.92, 0.95, 0.91, 0.92, 0.74, 0.95, 0.87, 0.97, 0.95, 0.62, 0.90, 0.92, 0.93,\n",
       "        0.85, 0.84, 0.95, 0.91, 0.92, 0.92, 0.94, 0.96, 0.92, 0.97, 0.77, 0.92, 0.93, 0.95, 0.91, 0.63, 0.95, 0.96, 0.65, 0.93, 0.89, 0.93,\n",
       "        0.94, 0.95, 0.72, 0.92, 0.89, 0.92, 0.96, 0.95, 0.95, 0.92, 0.65, 0.93, 0.96, 0.88, 0.90, 0.92, 0.91, 0.92, 0.91, 0.62, 0.96, 0.96,\n",
       "        0.91, 0.95, 0.92, 0.91, 0.88, 0.90, 0.73, 0.62, 0.93, 0.94, 0.80, 0.91, 0.92, 0.90, 0.96, 0.87, 0.92, 0.91, 0.92, 0.91, 0.94, 0.97,\n",
       "        0.95, 0.91, 0.73, 0.96, 0.94, 0.93, 0.95, 0.89, 0.97, 0.91, 0.95, 0.91, 0.92, 0.65, 0.61, 0.93, 0.95, 0.91, 0.96, 0.62, 0.67, 0.93,\n",
       "        0.97, 0.92, 0.94, 0.92, 0.97, 0.89, 0.94, 0.90, 0.94, 0.97, 0.96, 0.69, 0.65, 0.92, 0.90, 0.92, 0.91, 0.91, 0.92, 0.90, 0.97, 0.77,\n",
       "        0.94, 0.95, 0.91, 0.87, 0.95, 0.96, 0.93, 0.91, 0.91, 0.89, 0.93, 0.79, 0.95, 0.93, 0.92, 0.89, 0.89, 0.89, 0.94, 0.96, 0.90, 0.92,\n",
       "        0.89, 0.92, 0.96, 0.75, 0.96, 0.98, 0.88, 0.91, 0.89, 0.93, 0.92, 0.95, 0.91, 0.92, 0.96, 0.91, 0.82, 0.91, 0.97, 0.97, 0.85, 0.86,\n",
       "        0.62, 0.87, 0.89, 0.92, 0.89, 0.92, 0.97, 0.92, 0.92, 0.64, 0.94, 0.74, 0.89, 0.67, 0.91, 0.89, 0.92, 0.87, 0.95, 0.96, 0.96, 0.90,\n",
       "        0.64, 0.92, 0.92, 0.91, 0.58, 0.96, 0.93, 0.71, 0.96, 0.82, 0.91, 0.92, 0.92, 0.96, 0.73, 0.95, 0.62, 0.88, 0.92, 0.89, 0.93, 0.89,\n",
       "        0.95, 0.92, 0.92, 0.92, 0.75, 0.91, 0.86, 0.88, 0.62, 0.71, 0.93, 0.93, 0.97, 0.92, 0.97, 0.93, 0.91, 0.90, 0.94, 0.92, 0.94, 0.91,\n",
       "        0.93, 0.95, 0.94, 0.94, 0.94, 0.94, 0.94, 0.94, 0.92, 0.96, 0.88, 0.65, 0.92, 0.90, 0.62, 0.97, 0.96, 0.96, 0.91, 0.94, 0.92, 0.91,\n",
       "        0.88, 0.93, 0.72, 0.76, 0.85, 0.90, 0.65, 0.88, 0.93, 0.92, 0.89, 0.91, 0.88, 0.93, 0.90, 0.81, 0.78, 0.85, 0.93, 0.86, 0.65, 0.86,\n",
       "        0.91, 0.96, 0.93, 0.63, 0.90, 0.90, 0.95, 0.95, 0.89, 0.90, 0.92, 0.73, 0.96, 0.94, 0.92, 0.93, 0.84, 0.79, 0.62, 0.93, 0.91, 0.88,\n",
       "        0.67, 0.91, 0.92, 0.94, 0.92, 0.83, 0.91, 0.87, 0.89, 0.94, 0.95, 0.94, 0.92, 0.89, 0.95, 0.95, 0.70, 0.91, 0.96, 0.91, 0.94, 0.66,\n",
       "        0.94, 0.89, 0.95, 0.92, 0.91, 0.96, 0.92, 0.93, 0.85, 0.93, 0.84, 0.64, 0.96, 0.94, 0.89, 0.95, 0.95, 0.89, 0.96, 0.92, 0.95, 0.93,\n",
       "        0.91, 0.95, 0.95, 0.92, 0.96, 0.91, 0.96, 0.92, 0.79, 0.66, 0.64, 0.93, 0.93, 0.96, 0.91, 0.92, 0.96, 0.94, 0.96, 0.96, 0.92, 0.93,\n",
       "        0.96, 0.74, 0.93, 0.89, 0.85, 0.94, 0.91, 0.84], grad_fn=<SigmoidBackward0>)"
      ]
     },
     "execution_count": null,
     "metadata": {},
     "output_type": "execute_result"
    }
   ],
   "source": [
    "torch.sigmoid(torch.relu(preds).sum(dim=1))"
   ]
  },
  {
   "cell_type": "code",
   "execution_count": null,
   "id": "fa4450e2",
   "metadata": {
    "input_tokens": 33,
    "time_run": "1:55:14p"
   },
   "outputs": [],
   "source": [
    "preds = torch.sigmoid(torch.relu(preds).sum(dim=1)) > 0.50 "
   ]
  },
  {
   "cell_type": "code",
   "execution_count": null,
   "id": "77846a4f",
   "metadata": {
    "collapsed": true,
    "input_tokens": 7,
    "output_tokens": 2592,
    "time_run": "1:55:46p"
   },
   "outputs": [
    {
     "data": {
      "text/plain": [
       "tensor([False, False, False, False, False, False, False, False, False,  True,  True, False, False, False,  True,  True,  True,  True, False,\n",
       "         True, False, False, False,  True,  True,  True,  True, False,  True, False, False, False, False,  True, False, False, False,  True,\n",
       "        False,  True, False, False, False, False,  True, False,  True, False,  True,  True,  True, False,  True, False,  True, False,  True,\n",
       "         True,  True,  True, False, False,  True, False, False, False, False, False, False, False,  True,  True, False, False, False,  True,\n",
       "         True, False,  True, False,  True,  True, False,  True,  True, False, False, False,  True,  True, False,  True, False, False, False,\n",
       "         True, False, False, False,  True, False, False, False,  True, False, False, False,  True, False,  True,  True, False, False,  True,\n",
       "        False, False, False, False, False, False, False,  True,  True, False, False,  True,  True, False, False, False, False, False, False,\n",
       "         True, False, False,  True,  True,  True,  True, False, False,  True, False, False,  True, False,  True, False, False, False, False,\n",
       "        False, False, False, False, False,  True,  True, False, False, False, False, False,  True, False, False,  True, False,  True,  True,\n",
       "         True,  True, False, False, False, False,  True,  True, False,  True, False,  True, False, False, False,  True, False, False, False,\n",
       "        False,  True, False,  True,  True, False, False,  True,  True,  True, False,  True, False,  True,  True, False, False, False, False,\n",
       "        False, False, False,  True,  True,  True,  True,  True, False, False, False,  True,  True, False,  True, False,  True,  True,  True,\n",
       "        False,  True, False, False, False,  True,  True, False,  True,  True, False, False, False,  True, False,  True, False, False, False,\n",
       "         True, False,  True,  True,  True, False,  True, False, False, False, False, False, False, False,  True, False, False,  True, False,\n",
       "        False, False,  True, False, False,  True, False,  True, False, False, False, False,  True, False, False, False, False,  True, False,\n",
       "        False,  True, False, False,  True,  True,  True, False, False, False,  True,  True, False,  True,  True, False,  True, False,  True,\n",
       "        False, False, False, False,  True,  True,  True,  True, False,  True,  True,  True, False, False, False, False, False,  True, False,\n",
       "        False, False, False, False, False, False,  True, False,  True, False, False, False, False, False,  True,  True, False,  True, False,\n",
       "        False,  True, False,  True, False,  True, False, False, False, False,  True, False, False, False, False, False,  True,  True,  True,\n",
       "         True,  True, False,  True,  True, False,  True, False,  True,  True, False,  True, False,  True, False,  True, False, False, False,\n",
       "        False, False, False, False, False,  True, False, False, False, False,  True, False, False, False, False,  True, False, False, False,\n",
       "        False,  True, False,  True, False, False,  True,  True, False, False, False, False, False,  True, False, False,  True, False, False,\n",
       "        False, False, False,  True,  True, False, False, False, False, False,  True,  True, False,  True,  True, False,  True,  True, False,\n",
       "         True, False, False,  True, False,  True, False, False, False, False, False,  True, False, False, False,  True, False, False,  True,\n",
       "        False, False, False,  True, False,  True,  True,  True,  True,  True, False, False, False,  True,  True, False,  True, False,  True,\n",
       "        False, False, False, False,  True, False, False, False, False,  True, False, False,  True, False, False, False, False,  True, False,\n",
       "        False, False,  True,  True, False, False,  True, False, False,  True,  True, False, False, False,  True,  True, False, False, False,\n",
       "        False, False, False,  True,  True,  True,  True, False,  True, False,  True, False, False,  True,  True, False, False, False, False,\n",
       "         True, False, False,  True,  True,  True, False,  True,  True, False, False, False, False, False,  True, False, False,  True,  True,\n",
       "         True, False, False, False, False,  True,  True,  True,  True, False, False, False, False, False, False, False,  True,  True, False,\n",
       "         True, False, False,  True,  True,  True, False, False,  True,  True, False, False, False, False,  True,  True, False,  True, False,\n",
       "        False,  True, False, False, False, False, False,  True,  True, False,  True, False, False,  True, False, False, False,  True,  True,\n",
       "         True,  True,  True, False, False,  True, False,  True, False,  True, False,  True,  True,  True, False,  True, False, False, False,\n",
       "        False, False, False, False, False,  True,  True, False, False, False, False, False, False, False,  True, False,  True, False, False,\n",
       "        False,  True, False,  True, False,  True,  True,  True, False,  True, False, False, False,  True, False,  True,  True, False, False,\n",
       "        False, False, False, False, False, False,  True,  True,  True, False, False,  True, False,  True, False, False, False, False, False,\n",
       "        False, False, False, False, False, False, False, False, False, False,  True, False, False, False,  True,  True, False, False, False,\n",
       "        False, False,  True, False,  True, False, False,  True, False])"
      ]
     },
     "execution_count": null,
     "metadata": {},
     "output_type": "execute_result"
    }
   ],
   "source": [
    "preds == y_train"
   ]
  },
  {
   "cell_type": "code",
   "execution_count": null,
   "id": "671689f8",
   "metadata": {
    "input_tokens": 15,
    "time_run": "2:06:13p"
   },
   "outputs": [],
   "source": [
    "l2= torch.randn(10,1)"
   ]
  }
 ],
 "metadata": {
  "solveit_dialog_mode": "concise",
  "solveit_ver": 2
 },
 "nbformat": 4,
 "nbformat_minor": 5
}
