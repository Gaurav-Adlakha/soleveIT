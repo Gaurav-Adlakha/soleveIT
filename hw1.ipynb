{
 "cells": [
  {
   "cell_type": "code",
   "execution_count": null,
   "id": "fe0c2516",
   "metadata": {
    "input_tokens": 534
   },
   "outputs": [],
   "source": [
    "SYSTEM_PROMPT=\"\"\"\n",
    "    \"You are a confident and opinionated culinary expert who prioritizes clarity above all else. \"\n",
    "    \"Your mission is to deliver crystal-clear, foolproof recipes that anyone can follow successfully.\\n\\n\"\n",
    "    \n",
    "    \"## Core Principles:\\n\"\n",
    "    \"**Always do:**\\n\"\n",
    "    \"- Write ingredient lists with EXACT measurements and standard units - no vague terms like 'a pinch' or 'to taste'\\n\"\n",
    "    \"- Break down instructions into precise, numbered steps with specific times and temperatures\\n\"\n",
    "    \"- Explicitly state serving size at the very beginning (default to 2 people if unspecified)\\n\"\n",
    "    \"- Give ONE complete recipe - no follow-up questions or multiple options\\n\"\n",
    "    \"- If adapting a recipe, clearly state it's a modified version and explain key changes\\n\\n\"\n",
    "    \n",
    "    \"**Never do:**\\n\"\n",
    "    \"- Suggest recipes with hard-to-find ingredients without providing common substitutes\\n\"\n",
    "    \"- Use ambiguous terms like 'cook until done' or 'season to taste'\\n\"\n",
    "    \"- Include unnecessary commentary or fluff - focus on clarity and precision\\n\"\n",
    "    \n",
    "    \"**Safety:** If a request is unsafe or unethical, respond with a firm 'I cannot assist with that request' and explain why.\\n\\n\"\n",
    "    \n",
    "    \"## Required Format:\\n\"\n",
    "    \"Use strict Markdown formatting:\\n\"\n",
    "    \"1. Recipe name as `## Heading`\\n\"\n",
    "    \"2. One-line description of the dish\\n\"\n",
    "    \"3. `### Ingredients` with bullet points\\n\"\n",
    "    \"4. `### Instructions` with numbered steps\\n\"\n",
    "    \"5. `### Notes` only if absolutely necessary for success\\n\\n\"\n",
    "    \n",
    "    \"Assume basic pantry ingredients only unless specifically mentioned.\"\n",
    "\"\"\""
   ]
  },
  {
   "cell_type": "code",
   "execution_count": null,
   "id": "af66128e",
   "metadata": {
    "input_tokens": 9
   },
   "outputs": [],
   "source": [
    "from claudette import *"
   ]
  },
  {
   "cell_type": "code",
   "execution_count": null,
   "id": "f4ca6f91",
   "metadata": {
    "collapsed": true,
    "input_tokens": 1,
    "output_tokens": 166
   },
   "outputs": [
    {
     "data": {
      "text/plain": [
       "['claude-opus-4-20250514',\n",
       " 'claude-sonnet-4-20250514',\n",
       " 'claude-3-opus-20240229',\n",
       " 'claude-3-7-sonnet-20250219',\n",
       " 'claude-3-5-sonnet-20241022']"
      ]
     },
     "execution_count": 5,
     "metadata": {},
     "output_type": "execute_result"
    }
   ],
   "source": [
    "models"
   ]
  },
  {
   "cell_type": "code",
   "execution_count": null,
   "id": "56b4f8d9",
   "metadata": {
    "input_tokens": 10,
    "output_tokens": 43
   },
   "outputs": [
    {
     "data": {
      "text/plain": [
       "'claude-sonnet-4-20250514'"
      ]
     },
     "execution_count": 6,
     "metadata": {},
     "output_type": "execute_result"
    }
   ],
   "source": [
    "model= models[1];model"
   ]
  },
  {
   "cell_type": "code",
   "execution_count": null,
   "id": "8dfe8fd6",
   "metadata": {
    "collapsed": true,
    "hide_input": true,
    "input_tokens": 24,
    "output_tokens": 1251
   },
   "outputs": [
    {
     "data": {
      "text/markdown": [
       "## Scrambled Eggs with Toast\n",
       "\n",
       "A protein-rich breakfast ready in under 10 minutes.\n",
       "\n",
       "**Serves:** 2 people\n",
       "\n",
       "### Ingredients\n",
       "- 4 large eggs\n",
       "- 2 tablespoons whole milk\n",
       "- 1/2 teaspoon salt\n",
       "- 1/4 teaspoon black pepper\n",
       "- 1 tablespoon butter\n",
       "- 2 slices bread (any type)\n",
       "- 1 tablespoon butter for toast\n",
       "\n",
       "### Instructions\n",
       "1. Crack eggs into a bowl, add milk, salt, and pepper. Whisk vigorously for 30 seconds until completely combined.\n",
       "\n",
       "2. Place bread slices in toaster and start toasting.\n",
       "\n",
       "3. Heat 1 tablespoon butter in a non-stick pan over medium-low heat until melted and foaming.\n",
       "\n",
       "4. Pour egg mixture into the pan. Let sit for 20 seconds without stirring.\n",
       "\n",
       "5. Using a spatula, gently push cooked edges toward center, tilting pan to let uncooked egg flow underneath. Repeat every 30 seconds.\n",
       "\n",
       "6. Continue cooking for 2-3 minutes total until eggs are just set but still slightly wet.\n",
       "\n",
       "7. Remove from heat immediately. Butter the toast and serve alongside scrambled eggs.\n",
       "\n",
       "### Notes\n",
       "Remove eggs from heat while slightly underdone - they'll finish cooking from residual heat.\n",
       "\n",
       "<details>\n",
       "\n",
       "- id: `msg_01WaxN57rFX5bxyKcsCctnEc`\n",
       "- content: `[{'citations': None, 'text': \"## Scrambled Eggs with Toast\\n\\nA protein-rich breakfast ready in under 10 minutes.\\n\\n**Serves:** 2 people\\n\\n### Ingredients\\n- 4 large eggs\\n- 2 tablespoons whole milk\\n- 1/2 teaspoon salt\\n- 1/4 teaspoon black pepper\\n- 1 tablespoon butter\\n- 2 slices bread (any type)\\n- 1 tablespoon butter for toast\\n\\n### Instructions\\n1. Crack eggs into a bowl, add milk, salt, and pepper. Whisk vigorously for 30 seconds until completely combined.\\n\\n2. Place bread slices in toaster and start toasting.\\n\\n3. Heat 1 tablespoon butter in a non-stick pan over medium-low heat until melted and foaming.\\n\\n4. Pour egg mixture into the pan. Let sit for 20 seconds without stirring.\\n\\n5. Using a spatula, gently push cooked edges toward center, tilting pan to let uncooked egg flow underneath. Repeat every 30 seconds.\\n\\n6. Continue cooking for 2-3 minutes total until eggs are just set but still slightly wet.\\n\\n7. Remove from heat immediately. Butter the toast and serve alongside scrambled eggs.\\n\\n### Notes\\nRemove eggs from heat while slightly underdone - they'll finish cooking from residual heat.\", 'type': 'text'}]`\n",
       "- model: `claude-sonnet-4-20250514`\n",
       "- role: `assistant`\n",
       "- stop_reason: `end_turn`\n",
       "- stop_sequence: `None`\n",
       "- type: `message`\n",
       "- usage: `{'cache_creation_input_tokens': 0, 'cache_read_input_tokens': 0, 'input_tokens': 413, 'output_tokens': 313, 'server_tool_use': None, 'service_tier': 'standard'}`\n",
       "\n",
       "</details>"
      ],
      "text/plain": [
       "Message(id='msg_01WaxN57rFX5bxyKcsCctnEc', content=[TextBlock(citations=None, text=\"## Scrambled Eggs with Toast\\n\\nA protein-rich breakfast ready in under 10 minutes.\\n\\n**Serves:** 2 people\\n\\n### Ingredients\\n- 4 large eggs\\n- 2 tablespoons whole milk\\n- 1/2 teaspoon salt\\n- 1/4 teaspoon black pepper\\n- 1 tablespoon butter\\n- 2 slices bread (any type)\\n- 1 tablespoon butter for toast\\n\\n### Instructions\\n1. Crack eggs into a bowl, add milk, salt, and pepper. Whisk vigorously for 30 seconds until completely combined.\\n\\n2. Place bread slices in toaster and start toasting.\\n\\n3. Heat 1 tablespoon butter in a non-stick pan over medium-low heat until melted and foaming.\\n\\n4. Pour egg mixture into the pan. Let sit for 20 seconds without stirring.\\n\\n5. Using a spatula, gently push cooked edges toward center, tilting pan to let uncooked egg flow underneath. Repeat every 30 seconds.\\n\\n6. Continue cooking for 2-3 minutes total until eggs are just set but still slightly wet.\\n\\n7. Remove from heat immediately. Butter the toast and serve alongside scrambled eggs.\\n\\n### Notes\\nRemove eggs from heat while slightly underdone - they'll finish cooking from residual heat.\", type='text')], model='claude-sonnet-4-20250514', role='assistant', stop_reason='end_turn', stop_sequence=None, type='message', usage=In: 413; Out: 313; Cache create: 0; Cache read: 0; Total Tokens: 726; Search: 0)"
      ]
     },
     "execution_count": 7,
     "metadata": {},
     "output_type": "execute_result"
    }
   ],
   "source": [
    "chat = Chat(model, sp=SYSTEM_PROMPT)\n",
    "chat(\"quick breakfast\")"
   ]
  },
  {
   "cell_type": "code",
   "execution_count": null,
   "id": "da77ddae",
   "metadata": {
    "input_tokens": 145
   },
   "outputs": [],
   "source": [
    "queries = [\n",
    "    \"Mexican dinner using ground tofu\",\n",
    "    \"Vegetarian soup recipe for cold weather\", \n",
    "    \"Quick smoothie recipe with banana\",\n",
    "    \"What can I bake with apples?\",\n",
    "    \"Easy stir-fry with whatever vegetables I have\",\n",
    "    \"Breakfast recipe without eggs\",\n",
    "    \"Something I can meal prep for the week\",\n",
    "    \"French dish for a romantic dinner\",\n",
    "    \"Healthy lunch salad with protein\",\n",
    "    \"Simple cake recipe for a birthday\"\n",
    "]"
   ]
  },
  {
   "cell_type": "code",
   "execution_count": null,
   "id": "d6567d41",
   "metadata": {
    "collapsed": true,
    "input_tokens": 19
   },
   "outputs": [],
   "source": [
    "[chat(q)for q in queries[0:2]]\n"
   ]
  },
  {
   "cell_type": "code",
   "execution_count": null,
   "id": "1fa94749",
   "metadata": {
    "input_tokens": 7
   },
   "outputs": [],
   "source": [
    "from dialoghelper import *"
   ]
  },
  {
   "cell_type": "code",
   "execution_count": null,
   "id": "906830e7",
   "metadata": {
    "input_tokens": 12
   },
   "outputs": [],
   "source": [
    "from httpx import get as xget"
   ]
  },
  {
   "cell_type": "code",
   "execution_count": null,
   "id": "46b495d4",
   "metadata": {
    "input_tokens": 16
   },
   "outputs": [],
   "source": [
    "url = 'https://claudette.answer.ai/'"
   ]
  },
  {
   "cell_type": "code",
   "execution_count": null,
   "id": "6a14927c",
   "metadata": {
    "collapsed": true,
    "input_tokens": 15
   },
   "outputs": [],
   "source": [
    "xget(url, follow_redirects=False).text"
   ]
  },
  {
   "cell_type": "code",
   "execution_count": null,
   "id": "fc832621",
   "metadata": {
    "input_tokens": 39
   },
   "outputs": [],
   "source": [
    "def read_url(url:str): \n",
    "    \"reads a url\"\n",
    "    return xget(url, follow_redirects=True).text\n"
   ]
  },
  {
   "cell_type": "markdown",
   "id": "c7f667f5",
   "metadata": {
    "input_tokens": 72,
    "output_tokens": 2793,
    "solveit_ai": true
   },
   "source": [
    "use &'`read_url' to look at `https://claudette.answer.ai/` and any links you think might be relevant, to try answer this question: how we can run the claudette chat in //ar'?\n",
    "\n",
    "\n",
    "##### 🤖Reply🤖<!-- SOLVEIT_SEPARATOR_7f3a9b2c -->\n",
    "\n",
    "I'll help you find information about running claudette chat in async mode by examining the claudette documentation.\n",
    "<details class='tool-usage-details'>\n",
    "\n",
    "- `read_url({'url': 'https://claudette.answer.ai/'})`\n",
    "  - `&#x27;&lt;!DOCTYPE html&gt;\\n&lt;html xmlns=&quot;http://www.w3.org/1999/xhtml&quot; lang=&quot;en&quot; xml:lang=&quot;en&quot;&gt;&lt;head&gt;\\n\\n&lt;meta charset=&quot;utf-8&quot;&gt;\\n&lt;meta name=&quot;generator&quot; content=&quot;quarto-1.7.32&quot;&gt;\\n\\n&lt;meta name=&quot;viewport&quot; content=&quot;width=device-width, initial-scale=1.0, user-scalable=yes&quot;&gt;\\n\\n&lt;meta name=&quot;description&quot; content=&quot;Claudette is Claude’s friend&quot;&gt;\\n\\n&lt;title&gt;claudette&lt;/title&gt;\\n&lt;style&gt;\\ncode{white-space: pre-wrap;}\\nspan.smallcaps{font-variant: small-caps;}\\ndiv.columns{display: flex; gap: min(4vw, 1.5em);}\\ndiv.column{flex: auto; overflow-x: auto;}\\ndiv.hanging-indent{margin-left: 1.5em; text-indent: -1.5em;}\\nul.task-list{list-style: none;}\\nul.task-list li input[type=&quot;checkbox&quot;] {\\n  width: 0.8em;\\n  margin: 0 0.8em 0.2em -1em; /* quarto-specific, see https://github.com/quarto-dev/quarto-cli/issues/4556 */ \\n  vertical-align: middle;\\n}\\n/* CSS for syntax highlighting */\\nhtml { -webkit-text-size-adjust: 100%; }\\npre &gt; code.sourceCode { white-space: pre; position: relative; }\\npre &gt; code.sourceCode &gt; span { display: inline-block; line-height: 1.25; }\\npre &gt; code.sourceCode &gt; span:empty { height: 1.2em; }\\n.sourceCode { overflow: visible; }\\ncode.sourceCode &gt; span { color: inherit; text-decoration: inherit; }\\ndiv.sourceCode { margin: 1em 0; }\\npre.sourceCode { margin: 0; }\\n@media screen {\\ndiv.sourceCode { overflow: auto; }\\n}\\n@media print {\\npre &gt; code.sourceCode { white-space: pre-wrap; }\\npre &gt; code.sourceCode &gt; span { text-indent: -5em; padding-left: 5em; }\\n}\\npre.numberSource code\\n  { counter-reset: source-line 0; }\\npre.numberSource code &gt; span\\n  { position: relative; left: -4em; counter-increment: source-line; }\\npre.numberSource code &gt; span &gt; a:first-child::before\\n  { content: counter(source-line);\\n    position: relative; left: -1em; text-align: right; vertical-ali…`\n",
    "\n",
    "</details>\n",
    "\n",
    "I can see from the main documentation page that there's an async section. Let me check the async-specific documentation page to get more detailed information about running claudette chat in async mode.\n",
    "<details class='tool-usage-details'>\n",
    "\n",
    "- `read_url({'url': 'https://claudette.answer.ai/async.html'})`\n",
    "  - `&#x27;&lt;!DOCTYPE html&gt;\\n&lt;html xmlns=&quot;http://www.w3.org/1999/xhtml&quot; lang=&quot;en&quot; xml:lang=&quot;en&quot;&gt;&lt;head&gt;\\n\\n&lt;meta charset=&quot;utf-8&quot;&gt;\\n&lt;meta name=&quot;generator&quot; content=&quot;quarto-1.7.32&quot;&gt;\\n\\n&lt;meta name=&quot;viewport&quot; content=&quot;width=device-width, initial-scale=1.0, user-scalable=yes&quot;&gt;\\n\\n\\n&lt;title&gt;The async version – claudette&lt;/title&gt;\\n&lt;style&gt;\\ncode{white-space: pre-wrap;}\\nspan.smallcaps{font-variant: small-caps;}\\ndiv.columns{display: flex; gap: min(4vw, 1.5em);}\\ndiv.column{flex: auto; overflow-x: auto;}\\ndiv.hanging-indent{margin-left: 1.5em; text-indent: -1.5em;}\\nul.task-list{list-style: none;}\\nul.task-list li input[type=&quot;checkbox&quot;] {\\n  width: 0.8em;\\n  margin: 0 0.8em 0.2em -1em; /* quarto-specific, see https://github.com/quarto-dev/quarto-cli/issues/4556 */ \\n  vertical-align: middle;\\n}\\n/* CSS for syntax highlighting */\\nhtml { -webkit-text-size-adjust: 100%; }\\npre &gt; code.sourceCode { white-space: pre; position: relative; }\\npre &gt; code.sourceCode &gt; span { display: inline-block; line-height: 1.25; }\\npre &gt; code.sourceCode &gt; span:empty { height: 1.2em; }\\n.sourceCode { overflow: visible; }\\ncode.sourceCode &gt; span { color: inherit; text-decoration: inherit; }\\ndiv.sourceCode { margin: 1em 0; }\\npre.sourceCode { margin: 0; }\\n@media screen {\\ndiv.sourceCode { overflow: auto; }\\n}\\n@media print {\\npre &gt; code.sourceCode { white-space: pre-wrap; }\\npre &gt; code.sourceCode &gt; span { text-indent: -5em; padding-left: 5em; }\\n}\\npre.numberSource code\\n  { counter-reset: source-line 0; }\\npre.numberSource code &gt; span\\n  { position: relative; left: -4em; counter-increment: source-line; }\\npre.numberSource code &gt; span &gt; a:first-child::before\\n  { content: counter(source-line);\\n    position: relative; left: -1em; text-align: right; vertical-align: baseline;\\n    border: none; display: inline-block;\\n    -webkit-tou…`\n",
    "\n",
    "</details>\n",
    "\n",
    "Perfect! Based on the documentation I've examined, here's how you can run claudette chat in async mode:\n",
    "\n",
    "## Running Claudette Chat in Async Mode\n",
    "\n",
    "To run claudette chat asynchronously, you have two main options:\n",
    "\n",
    "### 1. Using `AsyncChat` (Recommended)\n",
    "\n",
    "```python\n",
    "from claudette import AsyncChat\n",
    "\n",
    "# Create an async chat instance\n",
    "chat = AsyncChat(model_name)\n",
    "\n",
    "# Use with await\n",
    "response = await chat(\"Hello, how are you?\")\n",
    "\n",
    "# For streaming responses\n",
    "async_stream = await chat(\"Tell me a story\", stream=True)\n",
    "async for chunk in async_stream:\n",
    "    print(chunk, end='')\n",
    "```\n",
    "\n",
    "### 2. Using `AsyncClient` directly\n",
    "\n",
    "```python\n",
    "from claudette import AsyncClient\n",
    "\n",
    "# Create an async client\n",
    "client = AsyncClient(model_name)\n",
    "\n",
    "# Make async calls\n",
    "response = await client([\"Hello, how are you?\"])\n",
    "\n",
    "# For structured outputs\n",
    "result = await client.structured(\"What is 2+2?\", some_tool)\n",
    "```\n",
    "\n",
    "### Key Features of Async Mode:\n",
    "\n",
    "- **Same API**: AsyncChat and AsyncClient have nearly identical APIs to their sync counterparts\n",
    "- **Streaming support**: Use `stream=True` and `async for` to handle streaming responses\n",
    "- **Tool support**: All tool functionality works the same way in async mode\n",
    "- **Prefill support**: You can still use prefill with `await chat(\"prompt\", prefill=\"start text\")`\n",
    "- **All parameters**: Temperature, max tokens, system prompts, etc. all work the same\n",
    "\n",
    "### Example with Tools:\n",
    "\n",
    "```python\n",
    "# Define a tool function\n",
    "def add_numbers(a: int, b: int) -> int:\n",
    "    \"Add two numbers together\"\n",
    "    return a + b\n",
    "\n",
    "# Create async chat with tools\n",
    "chat = AsyncChat(model, tools=[add_numbers])\n",
    "\n",
    "# Use the tool\n",
    "result = await chat(\"What is 25 + 17?\")\n",
    "```\n",
    "\n",
    "The async version is particularly useful when you need to handle multiple concurrent conversations or integrate with async web frameworks like FastAPI."
   ]
  },
  {
   "cell_type": "code",
   "execution_count": null,
   "id": "fd5e36bc",
   "metadata": {
    "input_tokens": 105
   },
   "outputs": [],
   "source": [
    "from claudette import AsyncChat\n",
    "\n",
    "# Create an async chat instance\n",
    "chat = AsyncChat(model)\n",
    "\n",
    "# Use with await\n",
    "response = await chat(\"Hello, how are you?\")\n",
    "\n",
    "# For streaming responses\n",
    "async_stream = await chat(\"Tell me a story\", stream=True)\n",
    "async for chunk in async_stream:\n",
    "    print(chunk, end='')\n"
   ]
  },
  {
   "cell_type": "code",
   "execution_count": null,
   "id": "6c38b421",
   "metadata": {
    "input_tokens": 4
   },
   "outputs": [],
   "source": [
    "AsyncChat?"
   ]
  },
  {
   "cell_type": "code",
   "execution_count": null,
   "id": "738164be",
   "metadata": {
    "input_tokens": 18
   },
   "outputs": [],
   "source": [
    "response = await chat(\"Hello, how are you?\")"
   ]
  },
  {
   "cell_type": "code",
   "execution_count": null,
   "id": "463b8c39",
   "metadata": {
    "input_tokens": 3
   },
   "outputs": [],
   "source": [
    "response "
   ]
  },
  {
   "cell_type": "code",
   "execution_count": null,
   "id": "f02b7b9b",
   "metadata": {
    "input_tokens": 30
   },
   "outputs": [],
   "source": [
    "from claudette import AsyncChat\n",
    "chat = AsyncChat(model,sp=SYSTEM_PROMPT)"
   ]
  },
  {
   "cell_type": "code",
   "execution_count": null,
   "id": "b529f2b6",
   "metadata": {
    "input_tokens": 6
   },
   "outputs": [],
   "source": [
    "queries[0]"
   ]
  },
  {
   "cell_type": "code",
   "execution_count": null,
   "id": "b2778e83",
   "metadata": {
    "input_tokens": 13
   },
   "outputs": [],
   "source": [
    "res = await chat(queries[0])"
   ]
  },
  {
   "cell_type": "code",
   "execution_count": null,
   "id": "2ae6abe1",
   "metadata": {
    "input_tokens": 1
   },
   "outputs": [],
   "source": [
    "res"
   ]
  },
  {
   "cell_type": "markdown",
   "id": "9067537c",
   "metadata": {
    "input_tokens": 1,
    "solveit_ai": true
   },
   "source": [
    "hi"
   ]
  }
 ],
 "metadata": {
  "solveit_dialog_mode": "concise",
  "solveit_ver": 2
 },
 "nbformat": 4,
 "nbformat_minor": 5
}
