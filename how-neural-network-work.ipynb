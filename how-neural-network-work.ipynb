{
 "cells": [
  {
   "cell_type": "code",
   "execution_count": null,
   "id": "8ab0d564",
   "metadata": {
    "input_tokens": 63
   },
   "outputs": [],
   "source": [
    "import pandas as pd\n",
    "titanic = pd.read_csv('train.csv')\n",
    "titanic.head()\n",
    "\n",
    "titanic.isna().sum()/len(titanic)\n",
    "\n",
    "from fastai.tabular.all import *"
   ]
  },
  {
   "cell_type": "code",
   "execution_count": null,
   "id": "3d631aea",
   "metadata": {
    "input_tokens": 21,
    "output_tokens": 2388
   },
   "outputs": [
    {
     "data": {
      "text/html": [
       "<div>\n",
       "<style scoped>\n",
       "    .dataframe tbody tr th:only-of-type {\n",
       "        vertical-align: middle;\n",
       "    }\n",
       "\n",
       "    .dataframe tbody tr th {\n",
       "        vertical-align: top;\n",
       "    }\n",
       "\n",
       "    .dataframe thead th {\n",
       "        text-align: right;\n",
       "    }\n",
       "</style>\n",
       "<table border=\"1\" class=\"dataframe\">\n",
       "  <thead>\n",
       "    <tr style=\"text-align: right;\">\n",
       "      <th></th>\n",
       "      <th>PassengerId</th>\n",
       "      <th>Survived</th>\n",
       "      <th>Pclass</th>\n",
       "      <th>Name</th>\n",
       "      <th>Sex</th>\n",
       "      <th>Age</th>\n",
       "      <th>SibSp</th>\n",
       "      <th>Parch</th>\n",
       "      <th>Ticket</th>\n",
       "      <th>Fare</th>\n",
       "      <th>Cabin</th>\n",
       "      <th>Embarked</th>\n",
       "    </tr>\n",
       "  </thead>\n",
       "  <tbody>\n",
       "    <tr>\n",
       "      <th>0</th>\n",
       "      <td>1</td>\n",
       "      <td>0</td>\n",
       "      <td>3</td>\n",
       "      <td>Braund, Mr. Owen Harris</td>\n",
       "      <td>male</td>\n",
       "      <td>22.0</td>\n",
       "      <td>1</td>\n",
       "      <td>0</td>\n",
       "      <td>A/5 21171</td>\n",
       "      <td>7.2500</td>\n",
       "      <td>NaN</td>\n",
       "      <td>S</td>\n",
       "    </tr>\n",
       "    <tr>\n",
       "      <th>1</th>\n",
       "      <td>2</td>\n",
       "      <td>1</td>\n",
       "      <td>1</td>\n",
       "      <td>Cumings, Mrs. John Bradley (Florence Briggs Thayer)</td>\n",
       "      <td>female</td>\n",
       "      <td>38.0</td>\n",
       "      <td>1</td>\n",
       "      <td>0</td>\n",
       "      <td>PC 17599</td>\n",
       "      <td>71.2833</td>\n",
       "      <td>C85</td>\n",
       "      <td>C</td>\n",
       "    </tr>\n",
       "    <tr>\n",
       "      <th>2</th>\n",
       "      <td>3</td>\n",
       "      <td>1</td>\n",
       "      <td>3</td>\n",
       "      <td>Heikkinen, Miss. Laina</td>\n",
       "      <td>female</td>\n",
       "      <td>26.0</td>\n",
       "      <td>0</td>\n",
       "      <td>0</td>\n",
       "      <td>STON/O2. 3101282</td>\n",
       "      <td>7.9250</td>\n",
       "      <td>NaN</td>\n",
       "      <td>S</td>\n",
       "    </tr>\n",
       "    <tr>\n",
       "      <th>3</th>\n",
       "      <td>4</td>\n",
       "      <td>1</td>\n",
       "      <td>1</td>\n",
       "      <td>Futrelle, Mrs. Jacques Heath (Lily May Peel)</td>\n",
       "      <td>female</td>\n",
       "      <td>35.0</td>\n",
       "      <td>1</td>\n",
       "      <td>0</td>\n",
       "      <td>113803</td>\n",
       "      <td>53.1000</td>\n",
       "      <td>C123</td>\n",
       "      <td>S</td>\n",
       "    </tr>\n",
       "    <tr>\n",
       "      <th>4</th>\n",
       "      <td>5</td>\n",
       "      <td>0</td>\n",
       "      <td>3</td>\n",
       "      <td>Allen, Mr. William Henry</td>\n",
       "      <td>male</td>\n",
       "      <td>35.0</td>\n",
       "      <td>0</td>\n",
       "      <td>0</td>\n",
       "      <td>373450</td>\n",
       "      <td>8.0500</td>\n",
       "      <td>NaN</td>\n",
       "      <td>S</td>\n",
       "    </tr>\n",
       "    <tr>\n",
       "      <th>...</th>\n",
       "      <td>...</td>\n",
       "      <td>...</td>\n",
       "      <td>...</td>\n",
       "      <td>...</td>\n",
       "      <td>...</td>\n",
       "      <td>...</td>\n",
       "      <td>...</td>\n",
       "      <td>...</td>\n",
       "      <td>...</td>\n",
       "      <td>...</td>\n",
       "      <td>...</td>\n",
       "      <td>...</td>\n",
       "    </tr>\n",
       "    <tr>\n",
       "      <th>886</th>\n",
       "      <td>887</td>\n",
       "      <td>0</td>\n",
       "      <td>2</td>\n",
       "      <td>Montvila, Rev. Juozas</td>\n",
       "      <td>male</td>\n",
       "      <td>27.0</td>\n",
       "      <td>0</td>\n",
       "      <td>0</td>\n",
       "      <td>211536</td>\n",
       "      <td>13.0000</td>\n",
       "      <td>NaN</td>\n",
       "      <td>S</td>\n",
       "    </tr>\n",
       "    <tr>\n",
       "      <th>887</th>\n",
       "      <td>888</td>\n",
       "      <td>1</td>\n",
       "      <td>1</td>\n",
       "      <td>Graham, Miss. Margaret Edith</td>\n",
       "      <td>female</td>\n",
       "      <td>19.0</td>\n",
       "      <td>0</td>\n",
       "      <td>0</td>\n",
       "      <td>112053</td>\n",
       "      <td>30.0000</td>\n",
       "      <td>B42</td>\n",
       "      <td>S</td>\n",
       "    </tr>\n",
       "    <tr>\n",
       "      <th>888</th>\n",
       "      <td>889</td>\n",
       "      <td>0</td>\n",
       "      <td>3</td>\n",
       "      <td>Johnston, Miss. Catherine Helen \"Carrie\"</td>\n",
       "      <td>female</td>\n",
       "      <td>NaN</td>\n",
       "      <td>1</td>\n",
       "      <td>2</td>\n",
       "      <td>W./C. 6607</td>\n",
       "      <td>23.4500</td>\n",
       "      <td>NaN</td>\n",
       "      <td>S</td>\n",
       "    </tr>\n",
       "    <tr>\n",
       "      <th>889</th>\n",
       "      <td>890</td>\n",
       "      <td>1</td>\n",
       "      <td>1</td>\n",
       "      <td>Behr, Mr. Karl Howell</td>\n",
       "      <td>male</td>\n",
       "      <td>26.0</td>\n",
       "      <td>0</td>\n",
       "      <td>0</td>\n",
       "      <td>111369</td>\n",
       "      <td>30.0000</td>\n",
       "      <td>C148</td>\n",
       "      <td>C</td>\n",
       "    </tr>\n",
       "    <tr>\n",
       "      <th>890</th>\n",
       "      <td>891</td>\n",
       "      <td>0</td>\n",
       "      <td>3</td>\n",
       "      <td>Dooley, Mr. Patrick</td>\n",
       "      <td>male</td>\n",
       "      <td>32.0</td>\n",
       "      <td>0</td>\n",
       "      <td>0</td>\n",
       "      <td>370376</td>\n",
       "      <td>7.7500</td>\n",
       "      <td>NaN</td>\n",
       "      <td>Q</td>\n",
       "    </tr>\n",
       "  </tbody>\n",
       "</table>\n",
       "<p>891 rows × 12 columns</p>\n",
       "</div>"
      ],
      "text/plain": [
       "     PassengerId  Survived  Pclass  ...     Fare Cabin  Embarked\n",
       "0              1         0       3  ...   7.2500   NaN         S\n",
       "1              2         1       1  ...  71.2833   C85         C\n",
       "2              3         1       3  ...   7.9250   NaN         S\n",
       "3              4         1       1  ...  53.1000  C123         S\n",
       "4              5         0       3  ...   8.0500   NaN         S\n",
       "..           ...       ...     ...  ...      ...   ...       ...\n",
       "886          887         0       2  ...  13.0000   NaN         S\n",
       "887          888         1       1  ...  30.0000   B42         S\n",
       "888          889         0       3  ...  23.4500   NaN         S\n",
       "889          890         1       1  ...  30.0000  C148         C\n",
       "890          891         0       3  ...   7.7500   NaN         Q\n",
       "\n",
       "[891 rows x 12 columns]"
      ]
     },
     "execution_count": null,
     "metadata": {},
     "output_type": "execute_result"
    }
   ],
   "source": [
    "# cont_cat_split(titanic,dep_var='')\n",
    "titanic"
   ]
  },
  {
   "cell_type": "code",
   "execution_count": null,
   "id": "4b2064dc",
   "metadata": {
    "input_tokens": 30
   },
   "outputs": [],
   "source": [
    "con_cols,cat_cols=cont_cat_split(titanic,dep_var='Survived')"
   ]
  },
  {
   "cell_type": "code",
   "execution_count": null,
   "id": "e87ebf22",
   "metadata": {
    "input_tokens": 3,
    "output_tokens": 57
   },
   "outputs": [
    {
     "data": {
      "text/plain": [
       "['PassengerId', 'Age', 'Fare']"
      ]
     },
     "execution_count": null,
     "metadata": {},
     "output_type": "execute_result"
    }
   ],
   "source": [
    "con_cols"
   ]
  },
  {
   "cell_type": "code",
   "execution_count": null,
   "id": "9ff08976",
   "metadata": {
    "input_tokens": 13
   },
   "outputs": [],
   "source": [
    "con_cols = ['Age', 'Fare']"
   ]
  },
  {
   "cell_type": "code",
   "execution_count": null,
   "id": "830c610d",
   "metadata": {
    "input_tokens": 15,
    "output_tokens": 88
   },
   "outputs": [
    {
     "data": {
      "text/plain": [
       "Pclass        3\n",
       "Name        891\n",
       "Sex           2\n",
       "SibSp         7\n",
       "Parch         7\n",
       "Ticket      681\n",
       "Cabin       147\n",
       "Embarked      3\n",
       "dtype: int64"
      ]
     },
     "execution_count": null,
     "metadata": {},
     "output_type": "execute_result"
    }
   ],
   "source": [
    "titanic[cat_cols].nunique()"
   ]
  },
  {
   "cell_type": "code",
   "execution_count": null,
   "id": "a0800d1d",
   "metadata": {
    "input_tokens": 6,
    "output_tokens": 21
   },
   "outputs": [
    {
     "data": {
      "text/plain": [
       "(891, 12)"
      ]
     },
     "execution_count": null,
     "metadata": {},
     "output_type": "execute_result"
    }
   ],
   "source": [
    "titanic.shape"
   ]
  },
  {
   "cell_type": "code",
   "execution_count": null,
   "id": "8ffce109",
   "metadata": {
    "input_tokens": 40
   },
   "outputs": [],
   "source": [
    "cat_cols_to_keep =  ['Pclass', 'Sex', 'SibSp', 'Parch',  'Embarked']"
   ]
  },
  {
   "cell_type": "code",
   "execution_count": null,
   "id": "79d791c8",
   "metadata": {
    "input_tokens": 18,
    "output_tokens": 64
   },
   "outputs": [
    {
     "data": {
      "text/plain": [
       "Pclass      3\n",
       "Sex         2\n",
       "SibSp       4\n",
       "Parch       4\n",
       "Embarked    3\n",
       "dtype: int64"
      ]
     },
     "execution_count": null,
     "metadata": {},
     "output_type": "execute_result"
    }
   ],
   "source": [
    "titanic[cat_cols_to_keep].nunique()"
   ]
  },
  {
   "cell_type": "code",
   "execution_count": null,
   "id": "03e83995",
   "metadata": {
    "input_tokens": 13
   },
   "outputs": [],
   "source": [
    "titanic = titanic.dropna()"
   ]
  },
  {
   "cell_type": "code",
   "execution_count": null,
   "id": "c42a7d2e",
   "metadata": {
    "input_tokens": 19,
    "output_tokens": 160
   },
   "outputs": [
    {
     "data": {
      "text/plain": [
       "PassengerId    0.0\n",
       "Survived       0.0\n",
       "Pclass         0.0\n",
       "Name           0.0\n",
       "Sex            0.0\n",
       "Age            0.0\n",
       "SibSp          0.0\n",
       "Parch          0.0\n",
       "Ticket         0.0\n",
       "Fare           0.0\n",
       "Cabin          0.0\n",
       "Embarked       0.0\n",
       "dtype: float64"
      ]
     },
     "execution_count": null,
     "metadata": {},
     "output_type": "execute_result"
    }
   ],
   "source": [
    "titanic.isna().sum()/len(titanic)"
   ]
  },
  {
   "cell_type": "code",
   "execution_count": null,
   "id": "3ea8b46b",
   "metadata": {
    "input_tokens": 18,
    "output_tokens": 1507
   },
   "outputs": [
    {
     "data": {
      "text/html": [
       "<div>\n",
       "<style scoped>\n",
       "    .dataframe tbody tr th:only-of-type {\n",
       "        vertical-align: middle;\n",
       "    }\n",
       "\n",
       "    .dataframe tbody tr th {\n",
       "        vertical-align: top;\n",
       "    }\n",
       "\n",
       "    .dataframe thead th {\n",
       "        text-align: right;\n",
       "    }\n",
       "</style>\n",
       "<table border=\"1\" class=\"dataframe\">\n",
       "  <thead>\n",
       "    <tr style=\"text-align: right;\">\n",
       "      <th></th>\n",
       "      <th>Pclass</th>\n",
       "      <th>Sex</th>\n",
       "      <th>SibSp</th>\n",
       "      <th>Parch</th>\n",
       "      <th>Embarked</th>\n",
       "      <th>Age</th>\n",
       "      <th>Fare</th>\n",
       "    </tr>\n",
       "  </thead>\n",
       "  <tbody>\n",
       "    <tr>\n",
       "      <th>1</th>\n",
       "      <td>1</td>\n",
       "      <td>female</td>\n",
       "      <td>1</td>\n",
       "      <td>0</td>\n",
       "      <td>C</td>\n",
       "      <td>38.0</td>\n",
       "      <td>71.2833</td>\n",
       "    </tr>\n",
       "    <tr>\n",
       "      <th>3</th>\n",
       "      <td>1</td>\n",
       "      <td>female</td>\n",
       "      <td>1</td>\n",
       "      <td>0</td>\n",
       "      <td>S</td>\n",
       "      <td>35.0</td>\n",
       "      <td>53.1000</td>\n",
       "    </tr>\n",
       "    <tr>\n",
       "      <th>6</th>\n",
       "      <td>1</td>\n",
       "      <td>male</td>\n",
       "      <td>0</td>\n",
       "      <td>0</td>\n",
       "      <td>S</td>\n",
       "      <td>54.0</td>\n",
       "      <td>51.8625</td>\n",
       "    </tr>\n",
       "    <tr>\n",
       "      <th>10</th>\n",
       "      <td>3</td>\n",
       "      <td>female</td>\n",
       "      <td>1</td>\n",
       "      <td>1</td>\n",
       "      <td>S</td>\n",
       "      <td>4.0</td>\n",
       "      <td>16.7000</td>\n",
       "    </tr>\n",
       "    <tr>\n",
       "      <th>11</th>\n",
       "      <td>1</td>\n",
       "      <td>female</td>\n",
       "      <td>0</td>\n",
       "      <td>0</td>\n",
       "      <td>S</td>\n",
       "      <td>58.0</td>\n",
       "      <td>26.5500</td>\n",
       "    </tr>\n",
       "    <tr>\n",
       "      <th>...</th>\n",
       "      <td>...</td>\n",
       "      <td>...</td>\n",
       "      <td>...</td>\n",
       "      <td>...</td>\n",
       "      <td>...</td>\n",
       "      <td>...</td>\n",
       "      <td>...</td>\n",
       "    </tr>\n",
       "    <tr>\n",
       "      <th>871</th>\n",
       "      <td>1</td>\n",
       "      <td>female</td>\n",
       "      <td>1</td>\n",
       "      <td>1</td>\n",
       "      <td>S</td>\n",
       "      <td>47.0</td>\n",
       "      <td>52.5542</td>\n",
       "    </tr>\n",
       "    <tr>\n",
       "      <th>872</th>\n",
       "      <td>1</td>\n",
       "      <td>male</td>\n",
       "      <td>0</td>\n",
       "      <td>0</td>\n",
       "      <td>S</td>\n",
       "      <td>33.0</td>\n",
       "      <td>5.0000</td>\n",
       "    </tr>\n",
       "    <tr>\n",
       "      <th>879</th>\n",
       "      <td>1</td>\n",
       "      <td>female</td>\n",
       "      <td>0</td>\n",
       "      <td>1</td>\n",
       "      <td>C</td>\n",
       "      <td>56.0</td>\n",
       "      <td>83.1583</td>\n",
       "    </tr>\n",
       "    <tr>\n",
       "      <th>887</th>\n",
       "      <td>1</td>\n",
       "      <td>female</td>\n",
       "      <td>0</td>\n",
       "      <td>0</td>\n",
       "      <td>S</td>\n",
       "      <td>19.0</td>\n",
       "      <td>30.0000</td>\n",
       "    </tr>\n",
       "    <tr>\n",
       "      <th>889</th>\n",
       "      <td>1</td>\n",
       "      <td>male</td>\n",
       "      <td>0</td>\n",
       "      <td>0</td>\n",
       "      <td>C</td>\n",
       "      <td>26.0</td>\n",
       "      <td>30.0000</td>\n",
       "    </tr>\n",
       "  </tbody>\n",
       "</table>\n",
       "<p>183 rows × 7 columns</p>\n",
       "</div>"
      ],
      "text/plain": [
       "     Pclass     Sex  SibSp  Parch Embarked   Age     Fare\n",
       "1         1  female      1      0        C  38.0  71.2833\n",
       "3         1  female      1      0        S  35.0  53.1000\n",
       "6         1    male      0      0        S  54.0  51.8625\n",
       "10        3  female      1      1        S   4.0  16.7000\n",
       "11        1  female      0      0        S  58.0  26.5500\n",
       "..      ...     ...    ...    ...      ...   ...      ...\n",
       "871       1  female      1      1        S  47.0  52.5542\n",
       "872       1    male      0      0        S  33.0   5.0000\n",
       "879       1  female      0      1        C  56.0  83.1583\n",
       "887       1  female      0      0        S  19.0  30.0000\n",
       "889       1    male      0      0        C  26.0  30.0000\n",
       "\n",
       "[183 rows x 7 columns]"
      ]
     },
     "execution_count": null,
     "metadata": {},
     "output_type": "execute_result"
    }
   ],
   "source": [
    "titanic[cat_cols_to_keep + con_cols ]"
   ]
  },
  {
   "cell_type": "code",
   "execution_count": null,
   "id": "e10fb83e",
   "metadata": {
    "input_tokens": 7,
    "output_tokens": 171
   },
   "outputs": [
    {
     "name": "stdout",
     "output_type": "stream",
     "text": [
      "\u001b[31mInit signature:\u001b[39m\n",
      "TabularPandas(\n",
      "    df,\n",
      "    procs=\u001b[38;5;28;01mNone\u001b[39;00m,\n",
      "    cat_names=\u001b[38;5;28;01mNone\u001b[39;00m,\n",
      "    cont_names=\u001b[38;5;28;01mNone\u001b[39;00m,\n",
      "    y_names=\u001b[38;5;28;01mNone\u001b[39;00m,\n",
      "    y_block=\u001b[38;5;28;01mNone\u001b[39;00m,\n",
      "    splits=\u001b[38;5;28;01mNone\u001b[39;00m,\n",
      "    do_setup=\u001b[38;5;28;01mTrue\u001b[39;00m,\n",
      "    device=\u001b[38;5;28;01mNone\u001b[39;00m,\n",
      "    inplace=\u001b[38;5;28;01mFalse\u001b[39;00m,\n",
      "    reduce_memory=\u001b[38;5;28;01mTrue\u001b[39;00m,\n",
      ")\n",
      "\u001b[31mDocstring:\u001b[39m      A `Tabular` object with transforms\n",
      "\u001b[31mFile:\u001b[39m           ~/.local/lib/python3.11/site-packages/fastai/tabular/core.py\n",
      "\u001b[31mType:\u001b[39m           type\n",
      "\u001b[31mSubclasses:\u001b[39m     \n"
     ]
    }
   ],
   "source": [
    "TabularPandas?"
   ]
  },
  {
   "cell_type": "code",
   "execution_count": null,
   "id": "4c0597e5",
   "metadata": {
    "input_tokens": 13
   },
   "outputs": [],
   "source": [
    "procs= [Categorify,Normalize]"
   ]
  },
  {
   "cell_type": "code",
   "execution_count": null,
   "id": "163a8b4f",
   "metadata": {
    "input_tokens": 42,
    "output_tokens": 109
   },
   "outputs": [
    {
     "name": "stdout",
     "output_type": "stream",
     "text": [
      "\u001b[31mSignature:\u001b[39m RandomSplitter(valid_pct=\u001b[32m0.2\u001b[39m, seed=\u001b[38;5;28;01mNone\u001b[39;00m)\n",
      "\u001b[31mDocstring:\u001b[39m Create function that splits `items` between train/val with `valid_pct` randomly.\n",
      "\u001b[31mFile:\u001b[39m      ~/.local/lib/python3.11/site-packages/fastai/data/transforms.py\n",
      "\u001b[31mType:\u001b[39m      function\n"
     ]
    }
   ],
   "source": [
    "RandomSplitter?\n",
    "# TabularPandas(titanic,procs,cat_cols_to_keep,con_cols,'Survived',)"
   ]
  },
  {
   "cell_type": "code",
   "execution_count": null,
   "id": "a34925fc",
   "metadata": {
    "input_tokens": 18
   },
   "outputs": [],
   "source": [
    "splits = RandomSplitter()(range_of(titanic))"
   ]
  },
  {
   "cell_type": "code",
   "execution_count": null,
   "id": "d43e46c4",
   "metadata": {
    "input_tokens": 64
   },
   "outputs": [],
   "source": [
    "to = TabularPandas(titanic, procs=procs, cat_names=cat_cols_to_keep, \n",
    "                  cont_names=con_cols, y_names='Survived', splits=splits)"
   ]
  },
  {
   "cell_type": "code",
   "execution_count": null,
   "id": "28bff1e7",
   "metadata": {
    "input_tokens": 7,
    "output_tokens": 685
   },
   "outputs": [
    {
     "data": {
      "text/html": [
       "<table border=\"1\" class=\"dataframe\">\n",
       "  <thead>\n",
       "    <tr style=\"text-align: right;\">\n",
       "      <th></th>\n",
       "      <th>Pclass</th>\n",
       "      <th>Sex</th>\n",
       "      <th>SibSp</th>\n",
       "      <th>Parch</th>\n",
       "      <th>Embarked</th>\n",
       "      <th>Age</th>\n",
       "      <th>Fare</th>\n",
       "      <th>Survived</th>\n",
       "    </tr>\n",
       "  </thead>\n",
       "  <tbody>\n",
       "    <tr>\n",
       "      <th>340</th>\n",
       "      <td>2</td>\n",
       "      <td>male</td>\n",
       "      <td>1</td>\n",
       "      <td>1</td>\n",
       "      <td>S</td>\n",
       "      <td>2.000000</td>\n",
       "      <td>26.000000</td>\n",
       "      <td>1</td>\n",
       "    </tr>\n",
       "    <tr>\n",
       "      <th>305</th>\n",
       "      <td>1</td>\n",
       "      <td>male</td>\n",
       "      <td>1</td>\n",
       "      <td>2</td>\n",
       "      <td>S</td>\n",
       "      <td>0.919998</td>\n",
       "      <td>151.550003</td>\n",
       "      <td>1</td>\n",
       "    </tr>\n",
       "    <tr>\n",
       "      <th>806</th>\n",
       "      <td>1</td>\n",
       "      <td>male</td>\n",
       "      <td>0</td>\n",
       "      <td>0</td>\n",
       "      <td>S</td>\n",
       "      <td>39.000000</td>\n",
       "      <td>0.000000</td>\n",
       "      <td>0</td>\n",
       "    </tr>\n",
       "    <tr>\n",
       "      <th>710</th>\n",
       "      <td>1</td>\n",
       "      <td>female</td>\n",
       "      <td>0</td>\n",
       "      <td>0</td>\n",
       "      <td>C</td>\n",
       "      <td>24.000000</td>\n",
       "      <td>49.504200</td>\n",
       "      <td>1</td>\n",
       "    </tr>\n",
       "  </tbody>\n",
       "</table>"
      ],
      "text/plain": [
       "<IPython.core.display.HTML object>"
      ]
     },
     "metadata": {},
     "output_type": "display_data"
    }
   ],
   "source": [
    "to.show(4)"
   ]
  },
  {
   "cell_type": "code",
   "execution_count": null,
   "id": "46b58662",
   "metadata": {
    "collapsed": true,
    "input_tokens": 4,
    "output_tokens": 1537
   },
   "outputs": [
    {
     "data": {
      "text/html": [
       "<div>\n",
       "<style scoped>\n",
       "    .dataframe tbody tr th:only-of-type {\n",
       "        vertical-align: middle;\n",
       "    }\n",
       "\n",
       "    .dataframe tbody tr th {\n",
       "        vertical-align: top;\n",
       "    }\n",
       "\n",
       "    .dataframe thead th {\n",
       "        text-align: right;\n",
       "    }\n",
       "</style>\n",
       "<table border=\"1\" class=\"dataframe\">\n",
       "  <thead>\n",
       "    <tr style=\"text-align: right;\">\n",
       "      <th></th>\n",
       "      <th>Pclass</th>\n",
       "      <th>Sex</th>\n",
       "      <th>SibSp</th>\n",
       "      <th>Parch</th>\n",
       "      <th>Embarked</th>\n",
       "      <th>Age</th>\n",
       "      <th>Fare</th>\n",
       "    </tr>\n",
       "  </thead>\n",
       "  <tbody>\n",
       "    <tr>\n",
       "      <th>340</th>\n",
       "      <td>2</td>\n",
       "      <td>2</td>\n",
       "      <td>2</td>\n",
       "      <td>2</td>\n",
       "      <td>3</td>\n",
       "      <td>-2.054206</td>\n",
       "      <td>-0.754632</td>\n",
       "    </tr>\n",
       "    <tr>\n",
       "      <th>305</th>\n",
       "      <td>1</td>\n",
       "      <td>2</td>\n",
       "      <td>2</td>\n",
       "      <td>3</td>\n",
       "      <td>3</td>\n",
       "      <td>-2.121277</td>\n",
       "      <td>1.223575</td>\n",
       "    </tr>\n",
       "    <tr>\n",
       "      <th>806</th>\n",
       "      <td>1</td>\n",
       "      <td>2</td>\n",
       "      <td>1</td>\n",
       "      <td>1</td>\n",
       "      <td>3</td>\n",
       "      <td>0.243585</td>\n",
       "      <td>-1.164296</td>\n",
       "    </tr>\n",
       "    <tr>\n",
       "      <th>710</th>\n",
       "      <td>1</td>\n",
       "      <td>1</td>\n",
       "      <td>1</td>\n",
       "      <td>1</td>\n",
       "      <td>1</td>\n",
       "      <td>-0.687952</td>\n",
       "      <td>-0.384292</td>\n",
       "    </tr>\n",
       "    <tr>\n",
       "      <th>823</th>\n",
       "      <td>3</td>\n",
       "      <td>1</td>\n",
       "      <td>1</td>\n",
       "      <td>2</td>\n",
       "      <td>3</td>\n",
       "      <td>-0.501644</td>\n",
       "      <td>-0.967736</td>\n",
       "    </tr>\n",
       "    <tr>\n",
       "      <th>...</th>\n",
       "      <td>...</td>\n",
       "      <td>...</td>\n",
       "      <td>...</td>\n",
       "      <td>...</td>\n",
       "      <td>...</td>\n",
       "      <td>...</td>\n",
       "      <td>...</td>\n",
       "    </tr>\n",
       "    <tr>\n",
       "      <th>621</th>\n",
       "      <td>1</td>\n",
       "      <td>2</td>\n",
       "      <td>2</td>\n",
       "      <td>1</td>\n",
       "      <td>3</td>\n",
       "      <td>0.429893</td>\n",
       "      <td>-0.336235</td>\n",
       "    </tr>\n",
       "    <tr>\n",
       "      <th>802</th>\n",
       "      <td>1</td>\n",
       "      <td>2</td>\n",
       "      <td>2</td>\n",
       "      <td>3</td>\n",
       "      <td>3</td>\n",
       "      <td>-1.495284</td>\n",
       "      <td>0.726463</td>\n",
       "    </tr>\n",
       "    <tr>\n",
       "      <th>336</th>\n",
       "      <td>1</td>\n",
       "      <td>2</td>\n",
       "      <td>2</td>\n",
       "      <td>1</td>\n",
       "      <td>3</td>\n",
       "      <td>-0.377439</td>\n",
       "      <td>-0.114925</td>\n",
       "    </tr>\n",
       "    <tr>\n",
       "      <th>671</th>\n",
       "      <td>1</td>\n",
       "      <td>2</td>\n",
       "      <td>2</td>\n",
       "      <td>1</td>\n",
       "      <td>3</td>\n",
       "      <td>-0.253234</td>\n",
       "      <td>-0.344967</td>\n",
       "    </tr>\n",
       "    <tr>\n",
       "      <th>781</th>\n",
       "      <td>1</td>\n",
       "      <td>1</td>\n",
       "      <td>2</td>\n",
       "      <td>1</td>\n",
       "      <td>3</td>\n",
       "      <td>-1.122669</td>\n",
       "      <td>-0.266186</td>\n",
       "    </tr>\n",
       "  </tbody>\n",
       "</table>\n",
       "<p>183 rows × 7 columns</p>\n",
       "</div>"
      ],
      "text/plain": [
       "     Pclass  Sex  SibSp  Parch  Embarked       Age      Fare\n",
       "340       2    2      2      2         3 -2.054206 -0.754632\n",
       "305       1    2      2      3         3 -2.121277  1.223575\n",
       "806       1    2      1      1         3  0.243585 -1.164296\n",
       "710       1    1      1      1         1 -0.687952 -0.384292\n",
       "823       3    1      1      2         3 -0.501644 -0.967736\n",
       "..      ...  ...    ...    ...       ...       ...       ...\n",
       "621       1    2      2      1         3  0.429893 -0.336235\n",
       "802       1    2      2      3         3 -1.495284  0.726463\n",
       "336       1    2      2      1         3 -0.377439 -0.114925\n",
       "671       1    2      2      1         3 -0.253234 -0.344967\n",
       "781       1    1      2      1         3 -1.122669 -0.266186\n",
       "\n",
       "[183 rows x 7 columns]"
      ]
     },
     "execution_count": null,
     "metadata": {},
     "output_type": "execute_result"
    }
   ],
   "source": [
    "to.xs"
   ]
  },
  {
   "cell_type": "code",
   "execution_count": null,
   "id": "7aec2337",
   "metadata": {
    "input_tokens": 6,
    "output_tokens": 21
   },
   "outputs": [
    {
     "data": {
      "text/plain": [
       "(183, 7)"
      ]
     },
     "execution_count": null,
     "metadata": {},
     "output_type": "execute_result"
    }
   ],
   "source": [
    "to.xs.shape"
   ]
  },
  {
   "cell_type": "code",
   "execution_count": null,
   "id": "4893e369",
   "metadata": {
    "input_tokens": 10,
    "output_tokens": 1537
   },
   "outputs": [
    {
     "data": {
      "text/html": [
       "<div>\n",
       "<style scoped>\n",
       "    .dataframe tbody tr th:only-of-type {\n",
       "        vertical-align: middle;\n",
       "    }\n",
       "\n",
       "    .dataframe tbody tr th {\n",
       "        vertical-align: top;\n",
       "    }\n",
       "\n",
       "    .dataframe thead th {\n",
       "        text-align: right;\n",
       "    }\n",
       "</style>\n",
       "<table border=\"1\" class=\"dataframe\">\n",
       "  <thead>\n",
       "    <tr style=\"text-align: right;\">\n",
       "      <th></th>\n",
       "      <th>Pclass</th>\n",
       "      <th>Sex</th>\n",
       "      <th>SibSp</th>\n",
       "      <th>Parch</th>\n",
       "      <th>Embarked</th>\n",
       "      <th>Age</th>\n",
       "      <th>Fare</th>\n",
       "    </tr>\n",
       "  </thead>\n",
       "  <tbody>\n",
       "    <tr>\n",
       "      <th>340</th>\n",
       "      <td>2</td>\n",
       "      <td>2</td>\n",
       "      <td>2</td>\n",
       "      <td>2</td>\n",
       "      <td>3</td>\n",
       "      <td>-2.054206</td>\n",
       "      <td>-0.754632</td>\n",
       "    </tr>\n",
       "    <tr>\n",
       "      <th>305</th>\n",
       "      <td>1</td>\n",
       "      <td>2</td>\n",
       "      <td>2</td>\n",
       "      <td>3</td>\n",
       "      <td>3</td>\n",
       "      <td>-2.121277</td>\n",
       "      <td>1.223575</td>\n",
       "    </tr>\n",
       "    <tr>\n",
       "      <th>806</th>\n",
       "      <td>1</td>\n",
       "      <td>2</td>\n",
       "      <td>1</td>\n",
       "      <td>1</td>\n",
       "      <td>3</td>\n",
       "      <td>0.243585</td>\n",
       "      <td>-1.164296</td>\n",
       "    </tr>\n",
       "    <tr>\n",
       "      <th>710</th>\n",
       "      <td>1</td>\n",
       "      <td>1</td>\n",
       "      <td>1</td>\n",
       "      <td>1</td>\n",
       "      <td>1</td>\n",
       "      <td>-0.687952</td>\n",
       "      <td>-0.384292</td>\n",
       "    </tr>\n",
       "    <tr>\n",
       "      <th>823</th>\n",
       "      <td>3</td>\n",
       "      <td>1</td>\n",
       "      <td>1</td>\n",
       "      <td>2</td>\n",
       "      <td>3</td>\n",
       "      <td>-0.501644</td>\n",
       "      <td>-0.967736</td>\n",
       "    </tr>\n",
       "    <tr>\n",
       "      <th>...</th>\n",
       "      <td>...</td>\n",
       "      <td>...</td>\n",
       "      <td>...</td>\n",
       "      <td>...</td>\n",
       "      <td>...</td>\n",
       "      <td>...</td>\n",
       "      <td>...</td>\n",
       "    </tr>\n",
       "    <tr>\n",
       "      <th>621</th>\n",
       "      <td>1</td>\n",
       "      <td>2</td>\n",
       "      <td>2</td>\n",
       "      <td>1</td>\n",
       "      <td>3</td>\n",
       "      <td>0.429893</td>\n",
       "      <td>-0.336235</td>\n",
       "    </tr>\n",
       "    <tr>\n",
       "      <th>802</th>\n",
       "      <td>1</td>\n",
       "      <td>2</td>\n",
       "      <td>2</td>\n",
       "      <td>3</td>\n",
       "      <td>3</td>\n",
       "      <td>-1.495284</td>\n",
       "      <td>0.726463</td>\n",
       "    </tr>\n",
       "    <tr>\n",
       "      <th>336</th>\n",
       "      <td>1</td>\n",
       "      <td>2</td>\n",
       "      <td>2</td>\n",
       "      <td>1</td>\n",
       "      <td>3</td>\n",
       "      <td>-0.377439</td>\n",
       "      <td>-0.114925</td>\n",
       "    </tr>\n",
       "    <tr>\n",
       "      <th>671</th>\n",
       "      <td>1</td>\n",
       "      <td>2</td>\n",
       "      <td>2</td>\n",
       "      <td>1</td>\n",
       "      <td>3</td>\n",
       "      <td>-0.253234</td>\n",
       "      <td>-0.344967</td>\n",
       "    </tr>\n",
       "    <tr>\n",
       "      <th>781</th>\n",
       "      <td>1</td>\n",
       "      <td>1</td>\n",
       "      <td>2</td>\n",
       "      <td>1</td>\n",
       "      <td>3</td>\n",
       "      <td>-1.122669</td>\n",
       "      <td>-0.266186</td>\n",
       "    </tr>\n",
       "  </tbody>\n",
       "</table>\n",
       "<p>183 rows × 7 columns</p>\n",
       "</div>"
      ],
      "text/plain": [
       "     Pclass  Sex  SibSp  Parch  Embarked       Age      Fare\n",
       "340       2    2      2      2         3 -2.054206 -0.754632\n",
       "305       1    2      2      3         3 -2.121277  1.223575\n",
       "806       1    2      1      1         3  0.243585 -1.164296\n",
       "710       1    1      1      1         1 -0.687952 -0.384292\n",
       "823       3    1      1      2         3 -0.501644 -0.967736\n",
       "..      ...  ...    ...    ...       ...       ...       ...\n",
       "621       1    2      2      1         3  0.429893 -0.336235\n",
       "802       1    2      2      3         3 -1.495284  0.726463\n",
       "336       1    2      2      1         3 -0.377439 -0.114925\n",
       "671       1    2      2      1         3 -0.253234 -0.344967\n",
       "781       1    1      2      1         3 -1.122669 -0.266186\n",
       "\n",
       "[183 rows x 7 columns]"
      ]
     },
     "execution_count": null,
     "metadata": {},
     "output_type": "execute_result"
    }
   ],
   "source": [
    "pd.DataFrame(to.xs)"
   ]
  },
  {
   "cell_type": "code",
   "execution_count": null,
   "id": "0817fdc1",
   "metadata": {
    "input_tokens": 40,
    "output_tokens": 61
   },
   "outputs": [
    {
     "data": {
      "text/plain": [
       "tensor([1.4576, 2.0369, 1.9673, 0.3302, 3.0161])"
      ]
     },
     "execution_count": null,
     "metadata": {},
     "output_type": "execute_result"
    }
   ],
   "source": [
    "w = torch.randn(to.xs.shape[1])\n",
    "result = torch.tensor(to.xs.values) @ w\n",
    "result[:5]"
   ]
  },
  {
   "cell_type": "code",
   "execution_count": null,
   "id": "9da5b744",
   "metadata": {
    "collapsed": true,
    "input_tokens": 1,
    "output_tokens": 1896
   },
   "outputs": [
    {
     "data": {
      "text/plain": [
       "tensor([ 1.4576,  2.0369,  1.9673,  0.3302,  3.0161, -0.7962,  3.4981, -0.5885,\n",
       "         0.0633,  1.6076,  0.5319,  1.4603,  0.8321,  2.2092,  2.1276,  2.2237,\n",
       "         0.4013,  0.0038,  0.9674,  0.8958,  2.1900,  2.1259,  2.1761,  2.1341,\n",
       "         0.9783,  2.1481,  2.1268,  1.9620, -0.7990,  2.0647,  1.0887,  1.2067,\n",
       "         0.5622, -0.1001,  0.6726,  0.3269,  1.9139,  0.7217,  2.1526,  1.7288,\n",
       "         2.3949,  0.8668,  0.7006, -0.7123,  0.8046,  0.5629,  2.1908,  2.0876,\n",
       "         2.2141,  2.1877,  0.6952, -0.8046,  2.0700,  1.2749,  1.4437,  2.4674,\n",
       "         3.0843,  0.4013,  0.4765,  2.0812,  3.0384,  2.0874, -0.6042,  0.9218,\n",
       "         2.3177,  2.0325,  2.9910,  2.9402,  2.8311,  2.6908,  0.3734,  2.0535,\n",
       "         2.6707,  1.4621, -0.6124,  0.3916,  1.9890,  1.8943,  1.9688,  0.4554,\n",
       "         2.0720, -0.2664, -0.7690,  0.3945,  0.6233, -0.8736,  2.2724,  0.4484,\n",
       "         3.0201,  0.8583,  1.0141,  3.3619,  1.6475,  1.8939,  1.6426,  3.0856,\n",
       "        -0.1659,  1.9701, -0.2691, -0.3673,  0.8907,  0.4511,  1.0082,  0.8138,\n",
       "         2.1274, -0.8403, -0.7640,  2.3442,  2.5732,  1.3052,  0.7721,  0.4099,\n",
       "         2.0199,  3.3479, -0.6535,  2.0508,  0.8339,  1.3676, -0.1837,  2.1357,\n",
       "         0.4937,  3.1155,  1.6938, -1.1606, -0.6675,  2.1126, -0.3531,  0.8858,\n",
       "         2.0957,  0.7826,  3.0098, -0.1542,  2.0539,  2.6647,  1.5881,  0.1810,\n",
       "         2.1955,  2.1115,  0.6823, -0.8239, -0.7007,  1.8335,  2.1114, -0.2535,\n",
       "         2.6441,  0.9632,  2.6276,  0.3069,  1.9966,  1.9593, -0.8101,  2.1491,\n",
       "        -0.9600, -0.8547,  3.0867,  2.0477,  0.8332,  2.0792,  1.2821,  0.8098,\n",
       "         0.7014,  0.4784,  0.8778,  0.5430,  2.0890,  2.9200,  2.1949,  0.4336,\n",
       "         2.7613, -0.7420,  1.9771,  0.8296,  2.3955,  2.1209, -0.5763,  2.6269,\n",
       "         2.1439,  0.7134,  0.8438,  1.9512,  0.8586,  0.8116,  0.6652])"
      ]
     },
     "execution_count": null,
     "metadata": {},
     "output_type": "execute_result"
    }
   ],
   "source": [
    "result"
   ]
  },
  {
   "cell_type": "code",
   "execution_count": null,
   "id": "22f4c014",
   "metadata": {
    "input_tokens": 3,
    "output_tokens": 22
   },
   "outputs": [
    {
     "data": {
      "text/plain": [
       "torch.Size([183])"
      ]
     },
     "execution_count": null,
     "metadata": {},
     "output_type": "execute_result"
    }
   ],
   "source": [
    "result.shape"
   ]
  },
  {
   "cell_type": "code",
   "execution_count": null,
   "id": "0665dd5d",
   "metadata": {
    "collapsed": true,
    "input_tokens": 10,
    "output_tokens": 1693
   },
   "outputs": [
    {
     "data": {
      "text/plain": [
       "tensor([1.4576, 2.0369, 1.9673, 0.3302, 3.0161, 0.0000, 3.4981, 0.0000, 0.0633,\n",
       "        1.6076, 0.5319, 1.4603, 0.8321, 2.2092, 2.1276, 2.2237, 0.4013, 0.0038,\n",
       "        0.9674, 0.8958, 2.1900, 2.1259, 2.1761, 2.1341, 0.9783, 2.1481, 2.1268,\n",
       "        1.9620, 0.0000, 2.0647, 1.0887, 1.2067, 0.5622, 0.0000, 0.6726, 0.3269,\n",
       "        1.9139, 0.7217, 2.1526, 1.7288, 2.3949, 0.8668, 0.7006, 0.0000, 0.8046,\n",
       "        0.5629, 2.1908, 2.0876, 2.2141, 2.1877, 0.6952, 0.0000, 2.0700, 1.2749,\n",
       "        1.4437, 2.4674, 3.0843, 0.4013, 0.4765, 2.0812, 3.0384, 2.0874, 0.0000,\n",
       "        0.9218, 2.3177, 2.0325, 2.9910, 2.9402, 2.8311, 2.6908, 0.3734, 2.0535,\n",
       "        2.6707, 1.4621, 0.0000, 0.3916, 1.9890, 1.8943, 1.9688, 0.4554, 2.0720,\n",
       "        0.0000, 0.0000, 0.3945, 0.6233, 0.0000, 2.2724, 0.4484, 3.0201, 0.8583,\n",
       "        1.0141, 3.3619, 1.6475, 1.8939, 1.6426, 3.0856, 0.0000, 1.9701, 0.0000,\n",
       "        0.0000, 0.8907, 0.4511, 1.0082, 0.8138, 2.1274, 0.0000, 0.0000, 2.3442,\n",
       "        2.5732, 1.3052, 0.7721, 0.4099, 2.0199, 3.3479, 0.0000, 2.0508, 0.8339,\n",
       "        1.3676, 0.0000, 2.1357, 0.4937, 3.1155, 1.6938, 0.0000, 0.0000, 2.1126,\n",
       "        0.0000, 0.8858, 2.0957, 0.7826, 3.0098, 0.0000, 2.0539, 2.6647, 1.5881,\n",
       "        0.1810, 2.1955, 2.1115, 0.6823, 0.0000, 0.0000, 1.8335, 2.1114, 0.0000,\n",
       "        2.6441, 0.9632, 2.6276, 0.3069, 1.9966, 1.9593, 0.0000, 2.1491, 0.0000,\n",
       "        0.0000, 3.0867, 2.0477, 0.8332, 2.0792, 1.2821, 0.8098, 0.7014, 0.4784,\n",
       "        0.8778, 0.5430, 2.0890, 2.9200, 2.1949, 0.4336, 2.7613, 0.0000, 1.9771,\n",
       "        0.8296, 2.3955, 2.1209, 0.0000, 2.6269, 2.1439, 0.7134, 0.8438, 1.9512,\n",
       "        0.8586, 0.8116, 0.6652])"
      ]
     },
     "execution_count": null,
     "metadata": {},
     "output_type": "execute_result"
    }
   ],
   "source": [
    "torch.clip(result,min=0)"
   ]
  },
  {
   "cell_type": "code",
   "execution_count": null,
   "id": "9a0ce685",
   "metadata": {
    "input_tokens": 4,
    "output_tokens": 636
   },
   "outputs": [
    {
     "data": {
      "text/plain": [
       "Pipeline: RegressionSetup -- {'c': None} -> Categorify -- {'classes': {'Pclass': ['#na#', np.int8(1), np.int8(2), np.int8(3)], 'Sex': ['#na#', 'female', 'male'], 'SibSp': ['#na#', np.int8(0), np.int8(1), np.int8(2), np.int8(3)], 'Parch': ['#na#', np.int8(0), np.int8(1), np.int8(2), np.int8(4)], 'Embarked': ['#na#', 'C', 'Q', 'S']}} -> Normalize -- {'mean': None, 'std': None, 'axes': (0, 2, 3), 'means': {'Age': np.float32(35.077686), 'Fare': np.float32(73.893906)}, 'stds': {'Age': np.float32(16.102417), 'Fare': np.float32(63.466576)}}"
      ]
     },
     "execution_count": null,
     "metadata": {},
     "output_type": "execute_result"
    }
   ],
   "source": [
    "to.procs"
   ]
  },
  {
   "cell_type": "code",
   "execution_count": null,
   "id": "5b119a07",
   "metadata": {
    "input_tokens": 4,
    "output_tokens": 592
   },
   "outputs": [
    {
     "data": {
      "text/html": [
       "<div>\n",
       "<style scoped>\n",
       "    .dataframe tbody tr th:only-of-type {\n",
       "        vertical-align: middle;\n",
       "    }\n",
       "\n",
       "    .dataframe tbody tr th {\n",
       "        vertical-align: top;\n",
       "    }\n",
       "\n",
       "    .dataframe thead th {\n",
       "        text-align: right;\n",
       "    }\n",
       "</style>\n",
       "<table border=\"1\" class=\"dataframe\">\n",
       "  <thead>\n",
       "    <tr style=\"text-align: right;\">\n",
       "      <th></th>\n",
       "      <th>Survived</th>\n",
       "    </tr>\n",
       "  </thead>\n",
       "  <tbody>\n",
       "    <tr>\n",
       "      <th>340</th>\n",
       "      <td>1</td>\n",
       "    </tr>\n",
       "    <tr>\n",
       "      <th>305</th>\n",
       "      <td>1</td>\n",
       "    </tr>\n",
       "    <tr>\n",
       "      <th>806</th>\n",
       "      <td>0</td>\n",
       "    </tr>\n",
       "    <tr>\n",
       "      <th>710</th>\n",
       "      <td>1</td>\n",
       "    </tr>\n",
       "    <tr>\n",
       "      <th>823</th>\n",
       "      <td>1</td>\n",
       "    </tr>\n",
       "    <tr>\n",
       "      <th>...</th>\n",
       "      <td>...</td>\n",
       "    </tr>\n",
       "    <tr>\n",
       "      <th>621</th>\n",
       "      <td>1</td>\n",
       "    </tr>\n",
       "    <tr>\n",
       "      <th>802</th>\n",
       "      <td>1</td>\n",
       "    </tr>\n",
       "    <tr>\n",
       "      <th>336</th>\n",
       "      <td>0</td>\n",
       "    </tr>\n",
       "    <tr>\n",
       "      <th>671</th>\n",
       "      <td>0</td>\n",
       "    </tr>\n",
       "    <tr>\n",
       "      <th>781</th>\n",
       "      <td>1</td>\n",
       "    </tr>\n",
       "  </tbody>\n",
       "</table>\n",
       "<p>183 rows × 1 columns</p>\n",
       "</div>"
      ],
      "text/plain": [
       "     Survived\n",
       "340         1\n",
       "305         1\n",
       "806         0\n",
       "710         1\n",
       "823         1\n",
       "..        ...\n",
       "621         1\n",
       "802         1\n",
       "336         0\n",
       "671         0\n",
       "781         1\n",
       "\n",
       "[183 rows x 1 columns]"
      ]
     },
     "execution_count": null,
     "metadata": {},
     "output_type": "execute_result"
    }
   ],
   "source": [
    "to.ys"
   ]
  },
  {
   "cell_type": "code",
   "execution_count": null,
   "id": "2d8b2a9f",
   "metadata": {
    "input_tokens": 3,
    "output_tokens": 22
   },
   "outputs": [
    {
     "data": {
      "text/plain": [
       "torch.Size([183])"
      ]
     },
     "execution_count": null,
     "metadata": {},
     "output_type": "execute_result"
    }
   ],
   "source": [
    "result.shape"
   ]
  },
  {
   "cell_type": "code",
   "execution_count": null,
   "id": "96ed2dcd",
   "metadata": {
    "input_tokens": 6,
    "output_tokens": 21
   },
   "outputs": [
    {
     "data": {
      "text/plain": [
       "(183, 1)"
      ]
     },
     "execution_count": null,
     "metadata": {},
     "output_type": "execute_result"
    }
   ],
   "source": [
    "to.ys.shape"
   ]
  },
  {
   "cell_type": "code",
   "execution_count": null,
   "id": "442a8f7e",
   "metadata": {
    "input_tokens": 36,
    "output_tokens": 25
   },
   "outputs": [
    {
     "name": "stdout",
     "output_type": "stream",
     "text": [
      "torch.Size([183])\n"
     ]
    }
   ],
   "source": [
    "target = torch.tensor(to.ys.values).squeeze()\n",
    "print(target.shape)\n",
    "diff = (result - target)**2"
   ]
  },
  {
   "cell_type": "code",
   "execution_count": null,
   "id": "a809edba",
   "metadata": {
    "input_tokens": 3,
    "output_tokens": 22
   },
   "outputs": [
    {
     "data": {
      "text/plain": [
       "torch.Size([183])"
      ]
     },
     "execution_count": null,
     "metadata": {},
     "output_type": "execute_result"
    }
   ],
   "source": [
    "diff.shape"
   ]
  },
  {
   "cell_type": "code",
   "execution_count": null,
   "id": "d806d5f4",
   "metadata": {
    "input_tokens": 4,
    "output_tokens": 24
   },
   "outputs": [
    {
     "data": {
      "text/plain": [
       "tensor(2.0463)"
      ]
     },
     "execution_count": null,
     "metadata": {},
     "output_type": "execute_result"
    }
   ],
   "source": [
    "diff.mean()"
   ]
  },
  {
   "cell_type": "markdown",
   "id": "204b7723",
   "metadata": {
    "input_tokens": 21,
    "output_tokens": 339,
    "solveit_ai": true
   },
   "source": [
    "how can i claculate gradient and subtarct from paratemerts\n",
    "\n",
    "##### 🤖Reply🤖<!-- SOLVEIT_SEPARATOR_7f3a9b2c -->\n",
    "\n",
    "Let's calculate the gradient and update the parameters using gradient descent. First, let's set up our parameters with `requires_grad=True` and define a simple loss function:\n",
    "\n",
    "```python\n",
    "w = torch.randn(to.xs.shape[1], requires_grad=True)\n",
    "lr = 0.01  # learning rate\n",
    "\n",
    "# Forward pass\n",
    "def forward(): \n",
    "    pred = torch.tensor(to.xs.values) @ w\n",
    "    target = torch.tensor(to.ys.values).squeeze()\n",
    "    loss = ((pred - target)**2).mean()\n",
    "    return loss, pred\n",
    "\n",
    "# Calculate loss and gradients\n",
    "loss, pred = forward()\n",
    "loss.backward()\n",
    "\n",
    "# Print the gradient\n",
    "print(w.grad)\n",
    "\n",
    "# Update parameters using gradient descent\n",
    "with torch.no_grad():\n",
    "    w -= lr * w.grad\n",
    "    \n",
    "# Zero gradients for next step\n",
    "w.grad.zero_()\n",
    "```\n",
    "\n",
    "This will:\n",
    "1. Create weights with gradient tracking\n",
    "2. Calculate predictions and loss\n",
    "3. Compute gradients with backward()\n",
    "4. Update parameters using gradient descent\n",
    "5. Reset gradients for the next iteration\n",
    "\n",
    "You can wrap this in a loop to train for multiple epochs."
   ]
  },
  {
   "cell_type": "code",
   "execution_count": null,
   "id": "2203e7a7",
   "metadata": {
    "input_tokens": 205,
    "output_tokens": 159
   },
   "outputs": [
    {
     "name": "stdout",
     "output_type": "stream",
     "text": [
      "tensor(50.9002, grad_fn=<MeanBackward0>)\n",
      "tensor([15.3188, 20.5081, 21.2386, 22.5742, 31.7944, -0.7923,  4.3342])\n"
     ]
    },
    {
     "data": {
      "text/plain": [
       "tensor([0., 0., 0., 0., 0., 0., 0.])"
      ]
     },
     "execution_count": null,
     "metadata": {},
     "output_type": "execute_result"
    }
   ],
   "source": [
    "w = torch.randn(to.xs.shape[1], requires_grad=True)\n",
    "lr = 0.01  # learning rate\n",
    "\n",
    "# Forward pass\n",
    "def forward(): \n",
    "    pred = torch.tensor(to.xs.values) @ w\n",
    "    target = torch.tensor(to.ys.values).squeeze()\n",
    "    loss = ((pred - target)**2).mean()\n",
    "    return loss, pred\n",
    "\n",
    "# Calculate loss and gradients\n",
    "loss, pred = forward()\n",
    "loss.backward()\n",
    "print(loss)\n",
    "\n",
    "# Print the gradient\n",
    "print(w.grad)\n",
    "\n",
    "# Update parameters using gradient descent\n",
    "with torch.no_grad():\n",
    "    w -= lr * w.grad\n",
    "    \n",
    "# Zero gradients for next step\n",
    "w.grad.zero_()\n"
   ]
  },
  {
   "cell_type": "code",
   "execution_count": null,
   "id": "82f495aa",
   "metadata": {
    "input_tokens": 1,
    "output_tokens": 90
   },
   "outputs": [
    {
     "data": {
      "text/plain": [
       "tensor([-1.1156, -0.1701,  2.1025,  2.0463, -1.5240,  0.3675, -1.8785],\n",
       "       requires_grad=True)"
      ]
     },
     "execution_count": null,
     "metadata": {},
     "output_type": "execute_result"
    }
   ],
   "source": [
    "w"
   ]
  },
  {
   "cell_type": "code",
   "execution_count": null,
   "id": "bfb0978f",
   "metadata": {
    "input_tokens": 199,
    "output_tokens": 847
   },
   "outputs": [
    {
     "name": "stdout",
     "output_type": "stream",
     "text": [
      "tensor([ 9.5322, 13.8919,  6.2051,  4.1973,  5.8065], grad_fn=<SliceBackward0>)\n",
      "tensor(28.1018, grad_fn=<MeanBackward0>)\n",
      "tensor([10.7473, 14.7645, 15.5368, 16.7429, 22.6584, -0.7100,  3.9493])\n",
      "tensor([ 7.0020, 11.2029,  4.3022,  3.0941,  3.5621], grad_fn=<SliceBackward0>)\n",
      "tensor(16.1624, grad_fn=<MeanBackward0>)\n",
      "tensor([ 7.4543, 10.6232, 11.4165, 12.5250, 16.0770, -0.6452,  3.6408])\n",
      "tensor([5.1817, 9.2440, 2.9446, 2.2999, 1.9567], grad_fn=<SliceBackward0>)\n",
      "tensor(9.8786, grad_fn=<MeanBackward0>)\n",
      "tensor([ 5.0834,  7.6377,  8.4374,  9.4713, 11.3381, -0.5934,  3.3886])\n",
      "tensor([3.8732, 7.8124, 1.9798, 1.7285, 0.8119], grad_fn=<SliceBackward0>)\n",
      "tensor(6.5424, grad_fn=<MeanBackward0>)\n",
      "tensor([ 3.3776,  5.4859,  6.2816,  7.2577,  7.9281, -0.5510,  3.1780])\n",
      "tensor([ 2.9338e+00,  6.7617e+00,  1.2979e+00,  1.3178e+00, -1.0989e-03],\n",
      "       grad_fn=<SliceBackward0>)\n",
      "tensor(4.7442, grad_fn=<MeanBackward0>)\n",
      "tensor([ 2.1514,  3.9353,  4.7200,  5.6506,  5.4763, -0.5157,  2.9984])\n"
     ]
    }
   ],
   "source": [
    "for i in range(5):\n",
    "    def forward(): \n",
    "        pred = torch.tensor(to.xs.values) @ w\n",
    "        target = torch.tensor(to.ys.values).squeeze()\n",
    "        loss = ((pred - target)**2).mean()\n",
    "        return loss, pred\n",
    "    \n",
    "    print(pred[0:5])\n",
    "\n",
    "    # Calculate loss and gradients\n",
    "    loss, pred = forward()\n",
    "    loss.backward()\n",
    "    print(loss)\n",
    "\n",
    "    # Print the gradient\n",
    "    print(w.grad)\n",
    "\n",
    "    # Update parameters using gradient descent\n",
    "    with torch.no_grad():\n",
    "        w -= lr * w.grad\n",
    "        \n",
    "    # Zero gradients for next step\n",
    "    w.grad.zero_()"
   ]
  },
  {
   "cell_type": "code",
   "execution_count": null,
   "id": "43740a88",
   "metadata": {
    "input_tokens": 3,
    "output_tokens": 390
   },
   "outputs": [
    {
     "data": {
      "text/plain": [
       "((#147) [np.int64(70),np.int64(55),np.int64(169),np.int64(146),np.int64(172),np.int64(56),np.int64(80),np.int64(111),np.int64(125),np.int64(112),np.int64(15),np.int64(31),np.int64(23),np.int64(105),np.int64(93),np.int64(63),np.int64(75),np.int64(81),np.int64(38),np.int64(49)...],\n",
       " (#36) [np.int64(32),np.int64(77),np.int64(176),np.int64(122),np.int64(153),np.int64(113),np.int64(51),np.int64(163),np.int64(165),np.int64(96),np.int64(108),np.int64(114),np.int64(39),np.int64(52),np.int64(97),np.int64(84),np.int64(94),np.int64(101),np.int64(47),np.int64(2)...])"
      ]
     },
     "execution_count": null,
     "metadata": {},
     "output_type": "execute_result"
    }
   ],
   "source": [
    "splits"
   ]
  },
  {
   "cell_type": "code",
   "execution_count": null,
   "id": "74eb738c",
   "metadata": {
    "input_tokens": 6,
    "output_tokens": 4467
   },
   "outputs": [
    {
     "data": {
      "text/html": [
       "<div>\n",
       "<style scoped>\n",
       "    .dataframe tbody tr th:only-of-type {\n",
       "        vertical-align: middle;\n",
       "    }\n",
       "\n",
       "    .dataframe tbody tr th {\n",
       "        vertical-align: top;\n",
       "    }\n",
       "\n",
       "    .dataframe thead th {\n",
       "        text-align: right;\n",
       "    }\n",
       "</style>\n",
       "<table border=\"1\" class=\"dataframe\">\n",
       "  <thead>\n",
       "    <tr style=\"text-align: right;\">\n",
       "      <th></th>\n",
       "      <th>Pclass</th>\n",
       "      <th>Sex</th>\n",
       "      <th>SibSp</th>\n",
       "      <th>Parch</th>\n",
       "      <th>Embarked</th>\n",
       "      <th>Age</th>\n",
       "      <th>Fare</th>\n",
       "    </tr>\n",
       "  </thead>\n",
       "  <tbody>\n",
       "    <tr>\n",
       "      <th>194</th>\n",
       "      <td>1</td>\n",
       "      <td>1</td>\n",
       "      <td>1</td>\n",
       "      <td>1</td>\n",
       "      <td>1</td>\n",
       "      <td>0.554098</td>\n",
       "      <td>-0.727518</td>\n",
       "    </tr>\n",
       "    <tr>\n",
       "      <th>377</th>\n",
       "      <td>1</td>\n",
       "      <td>2</td>\n",
       "      <td>1</td>\n",
       "      <td>3</td>\n",
       "      <td>1</td>\n",
       "      <td>-0.501644</td>\n",
       "      <td>2.168166</td>\n",
       "    </tr>\n",
       "    <tr>\n",
       "      <th>862</th>\n",
       "      <td>1</td>\n",
       "      <td>1</td>\n",
       "      <td>1</td>\n",
       "      <td>1</td>\n",
       "      <td>3</td>\n",
       "      <td>0.802508</td>\n",
       "      <td>-0.755747</td>\n",
       "    </tr>\n",
       "    <tr>\n",
       "      <th>591</th>\n",
       "      <td>1</td>\n",
       "      <td>1</td>\n",
       "      <td>2</td>\n",
       "      <td>1</td>\n",
       "      <td>1</td>\n",
       "      <td>1.050918</td>\n",
       "      <td>0.068899</td>\n",
       "    </tr>\n",
       "    <tr>\n",
       "      <th>737</th>\n",
       "      <td>1</td>\n",
       "      <td>2</td>\n",
       "      <td>1</td>\n",
       "      <td>1</td>\n",
       "      <td>1</td>\n",
       "      <td>-0.004825</td>\n",
       "      <td>6.908129</td>\n",
       "    </tr>\n",
       "    <tr>\n",
       "      <th>556</th>\n",
       "      <td>1</td>\n",
       "      <td>1</td>\n",
       "      <td>2</td>\n",
       "      <td>1</td>\n",
       "      <td>1</td>\n",
       "      <td>0.802508</td>\n",
       "      <td>-0.540346</td>\n",
       "    </tr>\n",
       "    <tr>\n",
       "      <th>291</th>\n",
       "      <td>1</td>\n",
       "      <td>1</td>\n",
       "      <td>2</td>\n",
       "      <td>1</td>\n",
       "      <td>1</td>\n",
       "      <td>-0.998464</td>\n",
       "      <td>0.270777</td>\n",
       "    </tr>\n",
       "    <tr>\n",
       "      <th>779</th>\n",
       "      <td>1</td>\n",
       "      <td>1</td>\n",
       "      <td>1</td>\n",
       "      <td>2</td>\n",
       "      <td>3</td>\n",
       "      <td>0.491995</td>\n",
       "      <td>2.165606</td>\n",
       "    </tr>\n",
       "    <tr>\n",
       "      <th>782</th>\n",
       "      <td>1</td>\n",
       "      <td>2</td>\n",
       "      <td>1</td>\n",
       "      <td>1</td>\n",
       "      <td>3</td>\n",
       "      <td>-0.377439</td>\n",
       "      <td>-0.691607</td>\n",
       "    </tr>\n",
       "    <tr>\n",
       "      <th>486</th>\n",
       "      <td>1</td>\n",
       "      <td>1</td>\n",
       "      <td>2</td>\n",
       "      <td>1</td>\n",
       "      <td>3</td>\n",
       "      <td>-0.004825</td>\n",
       "      <td>0.253773</td>\n",
       "    </tr>\n",
       "    <tr>\n",
       "      <th>536</th>\n",
       "      <td>1</td>\n",
       "      <td>2</td>\n",
       "      <td>1</td>\n",
       "      <td>1</td>\n",
       "      <td>3</td>\n",
       "      <td>0.616200</td>\n",
       "      <td>-0.745966</td>\n",
       "    </tr>\n",
       "    <tr>\n",
       "      <th>558</th>\n",
       "      <td>1</td>\n",
       "      <td>1</td>\n",
       "      <td>2</td>\n",
       "      <td>2</td>\n",
       "      <td>3</td>\n",
       "      <td>0.243585</td>\n",
       "      <td>0.090695</td>\n",
       "    </tr>\n",
       "    <tr>\n",
       "      <th>230</th>\n",
       "      <td>1</td>\n",
       "      <td>1</td>\n",
       "      <td>2</td>\n",
       "      <td>1</td>\n",
       "      <td>3</td>\n",
       "      <td>-0.004825</td>\n",
       "      <td>0.150963</td>\n",
       "    </tr>\n",
       "    <tr>\n",
       "      <th>292</th>\n",
       "      <td>2</td>\n",
       "      <td>2</td>\n",
       "      <td>1</td>\n",
       "      <td>1</td>\n",
       "      <td>1</td>\n",
       "      <td>0.057278</td>\n",
       "      <td>-0.961434</td>\n",
       "    </tr>\n",
       "    <tr>\n",
       "      <th>487</th>\n",
       "      <td>1</td>\n",
       "      <td>2</td>\n",
       "      <td>1</td>\n",
       "      <td>1</td>\n",
       "      <td>1</td>\n",
       "      <td>1.423532</td>\n",
       "      <td>-0.696334</td>\n",
       "    </tr>\n",
       "    <tr>\n",
       "      <th>434</th>\n",
       "      <td>1</td>\n",
       "      <td>2</td>\n",
       "      <td>2</td>\n",
       "      <td>1</td>\n",
       "      <td>3</td>\n",
       "      <td>0.926713</td>\n",
       "      <td>-0.283518</td>\n",
       "    </tr>\n",
       "    <tr>\n",
       "      <th>473</th>\n",
       "      <td>2</td>\n",
       "      <td>1</td>\n",
       "      <td>1</td>\n",
       "      <td>1</td>\n",
       "      <td>1</td>\n",
       "      <td>-0.750054</td>\n",
       "      <td>-0.946990</td>\n",
       "    </tr>\n",
       "    <tr>\n",
       "      <th>504</th>\n",
       "      <td>1</td>\n",
       "      <td>1</td>\n",
       "      <td>1</td>\n",
       "      <td>1</td>\n",
       "      <td>3</td>\n",
       "      <td>-1.184772</td>\n",
       "      <td>0.198626</td>\n",
       "    </tr>\n",
       "    <tr>\n",
       "      <th>268</th>\n",
       "      <td>1</td>\n",
       "      <td>1</td>\n",
       "      <td>1</td>\n",
       "      <td>2</td>\n",
       "      <td>3</td>\n",
       "      <td>1.423532</td>\n",
       "      <td>1.253709</td>\n",
       "    </tr>\n",
       "    <tr>\n",
       "      <th>6</th>\n",
       "      <td>1</td>\n",
       "      <td>2</td>\n",
       "      <td>1</td>\n",
       "      <td>1</td>\n",
       "      <td>3</td>\n",
       "      <td>1.175123</td>\n",
       "      <td>-0.347134</td>\n",
       "    </tr>\n",
       "    <tr>\n",
       "      <th>209</th>\n",
       "      <td>1</td>\n",
       "      <td>2</td>\n",
       "      <td>1</td>\n",
       "      <td>1</td>\n",
       "      <td>1</td>\n",
       "      <td>0.305688</td>\n",
       "      <td>-0.675850</td>\n",
       "    </tr>\n",
       "    <tr>\n",
       "      <th>124</th>\n",
       "      <td>1</td>\n",
       "      <td>2</td>\n",
       "      <td>1</td>\n",
       "      <td>2</td>\n",
       "      <td>3</td>\n",
       "      <td>1.175123</td>\n",
       "      <td>0.053471</td>\n",
       "    </tr>\n",
       "    <tr>\n",
       "      <th>215</th>\n",
       "      <td>1</td>\n",
       "      <td>1</td>\n",
       "      <td>2</td>\n",
       "      <td>1</td>\n",
       "      <td>1</td>\n",
       "      <td>-0.253234</td>\n",
       "      <td>0.620501</td>\n",
       "    </tr>\n",
       "    <tr>\n",
       "      <th>498</th>\n",
       "      <td>1</td>\n",
       "      <td>1</td>\n",
       "      <td>2</td>\n",
       "      <td>3</td>\n",
       "      <td>3</td>\n",
       "      <td>-0.625849</td>\n",
       "      <td>1.223575</td>\n",
       "    </tr>\n",
       "    <tr>\n",
       "      <th>690</th>\n",
       "      <td>1</td>\n",
       "      <td>2</td>\n",
       "      <td>2</td>\n",
       "      <td>1</td>\n",
       "      <td>3</td>\n",
       "      <td>-0.253234</td>\n",
       "      <td>-0.266186</td>\n",
       "    </tr>\n",
       "    <tr>\n",
       "      <th>609</th>\n",
       "      <td>1</td>\n",
       "      <td>1</td>\n",
       "      <td>1</td>\n",
       "      <td>1</td>\n",
       "      <td>3</td>\n",
       "      <td>0.305688</td>\n",
       "      <td>1.253709</td>\n",
       "    </tr>\n",
       "    <tr>\n",
       "      <th>492</th>\n",
       "      <td>1</td>\n",
       "      <td>2</td>\n",
       "      <td>1</td>\n",
       "      <td>1</td>\n",
       "      <td>3</td>\n",
       "      <td>1.237225</td>\n",
       "      <td>-0.683728</td>\n",
       "    </tr>\n",
       "    <tr>\n",
       "      <th>571</th>\n",
       "      <td>1</td>\n",
       "      <td>1</td>\n",
       "      <td>3</td>\n",
       "      <td>1</td>\n",
       "      <td>3</td>\n",
       "      <td>1.113020</td>\n",
       "      <td>-0.353173</td>\n",
       "    </tr>\n",
       "    <tr>\n",
       "      <th>679</th>\n",
       "      <td>1</td>\n",
       "      <td>2</td>\n",
       "      <td>1</td>\n",
       "      <td>2</td>\n",
       "      <td>1</td>\n",
       "      <td>0.057278</td>\n",
       "      <td>6.908129</td>\n",
       "    </tr>\n",
       "    <tr>\n",
       "      <th>625</th>\n",
       "      <td>1</td>\n",
       "      <td>2</td>\n",
       "      <td>1</td>\n",
       "      <td>1</td>\n",
       "      <td>3</td>\n",
       "      <td>1.609840</td>\n",
       "      <td>-0.655039</td>\n",
       "    </tr>\n",
       "    <tr>\n",
       "      <th>151</th>\n",
       "      <td>1</td>\n",
       "      <td>1</td>\n",
       "      <td>2</td>\n",
       "      <td>1</td>\n",
       "      <td>3</td>\n",
       "      <td>-0.812157</td>\n",
       "      <td>-0.114925</td>\n",
       "    </tr>\n",
       "    <tr>\n",
       "      <th>621</th>\n",
       "      <td>1</td>\n",
       "      <td>2</td>\n",
       "      <td>2</td>\n",
       "      <td>1</td>\n",
       "      <td>3</td>\n",
       "      <td>0.429893</td>\n",
       "      <td>-0.336235</td>\n",
       "    </tr>\n",
       "    <tr>\n",
       "      <th>802</th>\n",
       "      <td>1</td>\n",
       "      <td>2</td>\n",
       "      <td>2</td>\n",
       "      <td>3</td>\n",
       "      <td>3</td>\n",
       "      <td>-1.495284</td>\n",
       "      <td>0.726463</td>\n",
       "    </tr>\n",
       "    <tr>\n",
       "      <th>336</th>\n",
       "      <td>1</td>\n",
       "      <td>2</td>\n",
       "      <td>2</td>\n",
       "      <td>1</td>\n",
       "      <td>3</td>\n",
       "      <td>-0.377439</td>\n",
       "      <td>-0.114925</td>\n",
       "    </tr>\n",
       "    <tr>\n",
       "      <th>671</th>\n",
       "      <td>1</td>\n",
       "      <td>2</td>\n",
       "      <td>2</td>\n",
       "      <td>1</td>\n",
       "      <td>3</td>\n",
       "      <td>-0.253234</td>\n",
       "      <td>-0.344967</td>\n",
       "    </tr>\n",
       "    <tr>\n",
       "      <th>781</th>\n",
       "      <td>1</td>\n",
       "      <td>1</td>\n",
       "      <td>2</td>\n",
       "      <td>1</td>\n",
       "      <td>3</td>\n",
       "      <td>-1.122669</td>\n",
       "      <td>-0.266186</td>\n",
       "    </tr>\n",
       "  </tbody>\n",
       "</table>\n",
       "</div>"
      ],
      "text/plain": [
       "     Pclass  Sex  SibSp  Parch  Embarked       Age      Fare\n",
       "194       1    1      1      1         1  0.554098 -0.727518\n",
       "377       1    2      1      3         1 -0.501644  2.168166\n",
       "862       1    1      1      1         3  0.802508 -0.755747\n",
       "591       1    1      2      1         1  1.050918  0.068899\n",
       "737       1    2      1      1         1 -0.004825  6.908129\n",
       "556       1    1      2      1         1  0.802508 -0.540346\n",
       "291       1    1      2      1         1 -0.998464  0.270777\n",
       "779       1    1      1      2         3  0.491995  2.165606\n",
       "782       1    2      1      1         3 -0.377439 -0.691607\n",
       "486       1    1      2      1         3 -0.004825  0.253773\n",
       "536       1    2      1      1         3  0.616200 -0.745966\n",
       "558       1    1      2      2         3  0.243585  0.090695\n",
       "230       1    1      2      1         3 -0.004825  0.150963\n",
       "292       2    2      1      1         1  0.057278 -0.961434\n",
       "487       1    2      1      1         1  1.423532 -0.696334\n",
       "434       1    2      2      1         3  0.926713 -0.283518\n",
       "473       2    1      1      1         1 -0.750054 -0.946990\n",
       "504       1    1      1      1         3 -1.184772  0.198626\n",
       "268       1    1      1      2         3  1.423532  1.253709\n",
       "6         1    2      1      1         3  1.175123 -0.347134\n",
       "209       1    2      1      1         1  0.305688 -0.675850\n",
       "124       1    2      1      2         3  1.175123  0.053471\n",
       "215       1    1      2      1         1 -0.253234  0.620501\n",
       "498       1    1      2      3         3 -0.625849  1.223575\n",
       "690       1    2      2      1         3 -0.253234 -0.266186\n",
       "609       1    1      1      1         3  0.305688  1.253709\n",
       "492       1    2      1      1         3  1.237225 -0.683728\n",
       "571       1    1      3      1         3  1.113020 -0.353173\n",
       "679       1    2      1      2         1  0.057278  6.908129\n",
       "625       1    2      1      1         3  1.609840 -0.655039\n",
       "151       1    1      2      1         3 -0.812157 -0.114925\n",
       "621       1    2      2      1         3  0.429893 -0.336235\n",
       "802       1    2      2      3         3 -1.495284  0.726463\n",
       "336       1    2      2      1         3 -0.377439 -0.114925\n",
       "671       1    2      2      1         3 -0.253234 -0.344967\n",
       "781       1    1      2      1         3 -1.122669 -0.266186"
      ]
     },
     "execution_count": null,
     "metadata": {},
     "output_type": "execute_result"
    }
   ],
   "source": [
    "to.valid.xs"
   ]
  },
  {
   "cell_type": "code",
   "execution_count": null,
   "id": "8c9ef62f",
   "metadata": {
    "input_tokens": 6,
    "output_tokens": 1537
   },
   "outputs": [
    {
     "data": {
      "text/html": [
       "<div>\n",
       "<style scoped>\n",
       "    .dataframe tbody tr th:only-of-type {\n",
       "        vertical-align: middle;\n",
       "    }\n",
       "\n",
       "    .dataframe tbody tr th {\n",
       "        vertical-align: top;\n",
       "    }\n",
       "\n",
       "    .dataframe thead th {\n",
       "        text-align: right;\n",
       "    }\n",
       "</style>\n",
       "<table border=\"1\" class=\"dataframe\">\n",
       "  <thead>\n",
       "    <tr style=\"text-align: right;\">\n",
       "      <th></th>\n",
       "      <th>Pclass</th>\n",
       "      <th>Sex</th>\n",
       "      <th>SibSp</th>\n",
       "      <th>Parch</th>\n",
       "      <th>Embarked</th>\n",
       "      <th>Age</th>\n",
       "      <th>Fare</th>\n",
       "    </tr>\n",
       "  </thead>\n",
       "  <tbody>\n",
       "    <tr>\n",
       "      <th>340</th>\n",
       "      <td>2</td>\n",
       "      <td>2</td>\n",
       "      <td>2</td>\n",
       "      <td>2</td>\n",
       "      <td>3</td>\n",
       "      <td>-2.054206</td>\n",
       "      <td>-0.754632</td>\n",
       "    </tr>\n",
       "    <tr>\n",
       "      <th>305</th>\n",
       "      <td>1</td>\n",
       "      <td>2</td>\n",
       "      <td>2</td>\n",
       "      <td>3</td>\n",
       "      <td>3</td>\n",
       "      <td>-2.121277</td>\n",
       "      <td>1.223575</td>\n",
       "    </tr>\n",
       "    <tr>\n",
       "      <th>806</th>\n",
       "      <td>1</td>\n",
       "      <td>2</td>\n",
       "      <td>1</td>\n",
       "      <td>1</td>\n",
       "      <td>3</td>\n",
       "      <td>0.243585</td>\n",
       "      <td>-1.164296</td>\n",
       "    </tr>\n",
       "    <tr>\n",
       "      <th>710</th>\n",
       "      <td>1</td>\n",
       "      <td>1</td>\n",
       "      <td>1</td>\n",
       "      <td>1</td>\n",
       "      <td>1</td>\n",
       "      <td>-0.687952</td>\n",
       "      <td>-0.384292</td>\n",
       "    </tr>\n",
       "    <tr>\n",
       "      <th>823</th>\n",
       "      <td>3</td>\n",
       "      <td>1</td>\n",
       "      <td>1</td>\n",
       "      <td>2</td>\n",
       "      <td>3</td>\n",
       "      <td>-0.501644</td>\n",
       "      <td>-0.967736</td>\n",
       "    </tr>\n",
       "    <tr>\n",
       "      <th>...</th>\n",
       "      <td>...</td>\n",
       "      <td>...</td>\n",
       "      <td>...</td>\n",
       "      <td>...</td>\n",
       "      <td>...</td>\n",
       "      <td>...</td>\n",
       "      <td>...</td>\n",
       "    </tr>\n",
       "    <tr>\n",
       "      <th>339</th>\n",
       "      <td>1</td>\n",
       "      <td>2</td>\n",
       "      <td>1</td>\n",
       "      <td>1</td>\n",
       "      <td>3</td>\n",
       "      <td>0.616200</td>\n",
       "      <td>-0.604947</td>\n",
       "    </tr>\n",
       "    <tr>\n",
       "      <th>581</th>\n",
       "      <td>1</td>\n",
       "      <td>1</td>\n",
       "      <td>2</td>\n",
       "      <td>2</td>\n",
       "      <td>1</td>\n",
       "      <td>0.243585</td>\n",
       "      <td>0.582817</td>\n",
       "    </tr>\n",
       "    <tr>\n",
       "      <th>75</th>\n",
       "      <td>3</td>\n",
       "      <td>2</td>\n",
       "      <td>1</td>\n",
       "      <td>1</td>\n",
       "      <td>3</td>\n",
       "      <td>-0.625849</td>\n",
       "      <td>-1.043761</td>\n",
       "    </tr>\n",
       "    <tr>\n",
       "      <th>62</th>\n",
       "      <td>1</td>\n",
       "      <td>2</td>\n",
       "      <td>2</td>\n",
       "      <td>1</td>\n",
       "      <td>3</td>\n",
       "      <td>0.616200</td>\n",
       "      <td>0.150963</td>\n",
       "    </tr>\n",
       "    <tr>\n",
       "      <th>715</th>\n",
       "      <td>3</td>\n",
       "      <td>2</td>\n",
       "      <td>1</td>\n",
       "      <td>1</td>\n",
       "      <td>3</td>\n",
       "      <td>-0.998464</td>\n",
       "      <td>-1.043761</td>\n",
       "    </tr>\n",
       "  </tbody>\n",
       "</table>\n",
       "<p>147 rows × 7 columns</p>\n",
       "</div>"
      ],
      "text/plain": [
       "     Pclass  Sex  SibSp  Parch  Embarked       Age      Fare\n",
       "340       2    2      2      2         3 -2.054206 -0.754632\n",
       "305       1    2      2      3         3 -2.121277  1.223575\n",
       "806       1    2      1      1         3  0.243585 -1.164296\n",
       "710       1    1      1      1         1 -0.687952 -0.384292\n",
       "823       3    1      1      2         3 -0.501644 -0.967736\n",
       "..      ...  ...    ...    ...       ...       ...       ...\n",
       "339       1    2      1      1         3  0.616200 -0.604947\n",
       "581       1    1      2      2         1  0.243585  0.582817\n",
       "75        3    2      1      1         3 -0.625849 -1.043761\n",
       "62        1    2      2      1         3  0.616200  0.150963\n",
       "715       3    2      1      1         3 -0.998464 -1.043761\n",
       "\n",
       "[147 rows x 7 columns]"
      ]
     },
     "execution_count": null,
     "metadata": {},
     "output_type": "execute_result"
    }
   ],
   "source": [
    "to.train.xs"
   ]
  },
  {
   "cell_type": "code",
   "execution_count": null,
   "id": "e52167ad",
   "metadata": {
    "input_tokens": 16,
    "output_tokens": 408
   },
   "outputs": [
    {
     "data": {
      "text/plain": [
       "tensor([ 0.3581,  4.8330,  0.2269,  1.0737,  3.5772,  0.9150,  1.6878,  2.8173,\n",
       "         0.8249,  1.3644,  0.5431,  2.6731,  1.3266, -0.7854,  0.4041,  1.1849,\n",
       "        -0.8309,  1.1014,  2.2365,  0.5426,  0.7061,  2.1240,  1.6201,  4.7529,\n",
       "         1.5022,  1.0969,  0.4024,  1.4002,  4.9949,  0.3148,  1.4415,  1.2964,\n",
       "         5.0626,  1.5905,  1.4732,  1.4677], grad_fn=<MvBackward0>)"
      ]
     },
     "execution_count": null,
     "metadata": {},
     "output_type": "execute_result"
    }
   ],
   "source": [
    "torch.tensor(to.valid.xs.values) @  w"
   ]
  },
  {
   "cell_type": "code",
   "execution_count": null,
   "id": "2c1904b2",
   "metadata": {
    "input_tokens": 1,
    "output_tokens": 91
   },
   "outputs": [
    {
     "data": {
      "text/plain": [
       "tensor([-1.4518,  0.2635,  0.5535,  1.4341, -0.0277, -0.2634,  0.3678],\n",
       "       requires_grad=True)"
      ]
     },
     "execution_count": null,
     "metadata": {},
     "output_type": "execute_result"
    }
   ],
   "source": [
    "w"
   ]
  },
  {
   "cell_type": "code",
   "execution_count": null,
   "id": "e127d6d0",
   "metadata": {
    "input_tokens": 21
   },
   "outputs": [],
   "source": [
    "preds =torch.tensor(to.valid.xs.values) @  w"
   ]
  },
  {
   "cell_type": "code",
   "execution_count": null,
   "id": "608a3b79",
   "metadata": {
    "input_tokens": 15,
    "output_tokens": 361
   },
   "outputs": [
    {
     "data": {
      "text/plain": [
       "tensor([0.3581, 1.0000, 0.2269, 1.0000, 1.0000, 0.9150, 1.0000, 1.0000, 0.8249,\n",
       "        1.0000, 0.5431, 1.0000, 1.0000, 0.0000, 0.4041, 1.0000, 0.0000, 1.0000,\n",
       "        1.0000, 0.5426, 0.7061, 1.0000, 1.0000, 1.0000, 1.0000, 1.0000, 0.4024,\n",
       "        1.0000, 1.0000, 0.3148, 1.0000, 1.0000, 1.0000, 1.0000, 1.0000, 1.0000],\n",
       "       grad_fn=<ClampBackward1>)"
      ]
     },
     "execution_count": null,
     "metadata": {},
     "output_type": "execute_result"
    }
   ],
   "source": [
    "preds.clip(min=0,max=1)"
   ]
  },
  {
   "cell_type": "code",
   "execution_count": null,
   "id": "96248040",
   "metadata": {
    "input_tokens": 7,
    "output_tokens": 235
   },
   "outputs": [
    {
     "data": {
      "text/plain": [
       "array([[1],\n",
       "       [0],\n",
       "       [1],\n",
       "       [1],\n",
       "       [1],\n",
       "       [1],\n",
       "       [1],\n",
       "       [1],\n",
       "       [0],\n",
       "       [1],\n",
       "       [0],\n",
       "       [1],\n",
       "       [1],\n",
       "       [0],\n",
       "       [0],\n",
       "       [0],\n",
       "       [1],\n",
       "       [1],\n",
       "       [1],\n",
       "       [0],\n",
       "       [1],\n",
       "       [0],\n",
       "       [1],\n",
       "       [0],\n",
       "       [1],\n",
       "       [1],\n",
       "       [0],\n",
       "       [1],\n",
       "       [1],\n",
       "       [0],\n",
       "       [1],\n",
       "       [1],\n",
       "       [1],\n",
       "       [0],\n",
       "       [0],\n",
       "       [1]], dtype=int8)"
      ]
     },
     "execution_count": null,
     "metadata": {},
     "output_type": "execute_result"
    }
   ],
   "source": [
    "to.valid.ys.values"
   ]
  },
  {
   "cell_type": "code",
   "execution_count": null,
   "id": "ae362217",
   "metadata": {
    "input_tokens": 25,
    "output_tokens": 231
   },
   "outputs": [
    {
     "data": {
      "text/plain": [
       "tensor([[True],\n",
       "        [True],\n",
       "        [True],\n",
       "        [True],\n",
       "        [True],\n",
       "        [True],\n",
       "        [True],\n",
       "        [True],\n",
       "        [True],\n",
       "        [True],\n",
       "        [True],\n",
       "        [True],\n",
       "        [True],\n",
       "        [True],\n",
       "        [True],\n",
       "        [True],\n",
       "        [True],\n",
       "        [True],\n",
       "        [True],\n",
       "        [True],\n",
       "        [True],\n",
       "        [True],\n",
       "        [True],\n",
       "        [True],\n",
       "        [True],\n",
       "        [True],\n",
       "        [True],\n",
       "        [True],\n",
       "        [True],\n",
       "        [True],\n",
       "        [True],\n",
       "        [True],\n",
       "        [True],\n",
       "        [True],\n",
       "        [True],\n",
       "        [True]])"
      ]
     },
     "execution_count": null,
     "metadata": {},
     "output_type": "execute_result"
    }
   ],
   "source": [
    "torch.tensor(to.valid.ys.values) == torch.tensor(to.valid.ys.values)\n",
    "\n"
   ]
  }
 ],
 "metadata": {
  "solveit_dialog_mode": "concise",
  "solveit_ver": 2
 },
 "nbformat": 4,
 "nbformat_minor": 5
}
